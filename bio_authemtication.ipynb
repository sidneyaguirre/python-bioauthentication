{
 "cells": [
  {
   "cell_type": "code",
   "execution_count": 1,
   "metadata": {
    "colab": {
     "base_uri": "https://localhost:8080/",
     "height": 72
    },
    "colab_type": "code",
    "id": "n91bGhxrvrw-",
    "outputId": "00c37dc5-625a-4fc1-d063-6bfd26b255a1"
   },
   "outputs": [],
   "source": [
    "from __future__ import division\n",
    "import math\n",
    "import matplotlib.pyplot as plt\n",
    "\n",
    "import pandas as pd # to import csv and for data manipulation\n",
    "import matplotlib.pyplot as plt # to plot graph\n",
    "import seaborn as sns # for intractve graphs\n",
    "import numpy as np # for linear algebra\n",
    "import datetime # to dela with date and time\n",
    "%matplotlib inline\n",
    "from sklearn.preprocessing import StandardScaler # for preprocessing the data\n",
    "from sklearn.ensemble import RandomForestClassifier # Random forest classifier\n",
    "from sklearn.tree import DecisionTreeClassifier # for Decision Tree classifier\n",
    "from sklearn.svm import SVC # for SVM classification\n",
    "from sklearn.linear_model import LogisticRegression\n",
    "from sklearn.model_selection import train_test_split # to split the data\n",
    "from sklearn.model_selection import KFold # For cross vbalidation\n",
    "from sklearn.model_selection import GridSearchCV # for tunnig hyper parameter it will use all combination of given parameters\n",
    "from sklearn.model_selection import RandomizedSearchCV # same for tunning hyper parameter but will use random combinations of parameters\n",
    "from sklearn.metrics import confusion_matrix,recall_score,precision_recall_curve,auc,roc_curve,roc_auc_score,classification_report\n",
    "import time\n",
    "\n",
    "import warnings\n",
    "warnings.filterwarnings('ignore')"
   ]
  },
  {
   "cell_type": "markdown",
   "metadata": {
    "colab_type": "text",
    "id": "XGnjIIoWLpw8"
   },
   "source": [
    "# Load data from Drive"
   ]
  },
  {
   "cell_type": "code",
   "execution_count": 2,
   "metadata": {
    "colab": {},
    "colab_type": "code",
    "id": "ftXMrVx6Rk8x"
   },
   "outputs": [],
   "source": [
    "#Data set csv files\n",
    "dataPin4 = pd.read_csv('DB/pins-Real-4.csv')\n",
    "dataPin6 = pd.read_csv('DB/pins-Real-6.csv')\n",
    "dataPin8 = pd.read_csv('DB/pins-Real-8.csv')\n",
    "dataPin4Impostor = pd.read_csv('DB/pins-Impostor-4.csv')\n",
    "dataPin6Impostor  = pd.read_csv('DB/pins-Impostor-6.csv')\n",
    "dataPin8Impostor  = pd.read_csv('DB/pins-Impostor-8.csv')"
   ]
  },
  {
   "cell_type": "code",
   "execution_count": 3,
   "metadata": {
    "colab": {},
    "colab_type": "code",
    "id": "buFLPJFlCR1C"
   },
   "outputs": [],
   "source": [
    "listUsers = [1,2,3,4,7,8,11,12,15,16,17,19,20,22,24,25,27,28,33,34,36,37,39,41,42,43]"
   ]
  },
  {
   "cell_type": "code",
   "execution_count": 9,
   "metadata": {
    "colab": {
     "base_uri": "https://localhost:8080/",
     "height": 35
    },
    "colab_type": "code",
    "id": "Mep6xWEebCVQ",
    "outputId": "5799e1e8-05bb-4ecd-bdec-39478ea65e7d"
   },
   "outputs": [
    {
     "data": {
      "text/plain": [
       "'pin-length-4'"
      ]
     },
     "execution_count": 9,
     "metadata": {
      "tags": []
     },
     "output_type": "execute_result"
    }
   ],
   "source": [
    "lengthDataSet = dataPin4['length']\n",
    "lengthDataSet = lengthDataSet[0]\n",
    "lengthDataSet"
   ]
  },
  {
   "cell_type": "code",
   "execution_count": 4,
   "metadata": {
    "colab": {
     "base_uri": "https://localhost:8080/",
     "height": 609
    },
    "colab_type": "code",
    "id": "2La2yzpw8b0R",
    "outputId": "20423a3b-c870-4632-e04c-ca1ea29812cb"
   },
   "outputs": [
    {
     "data": {
      "text/html": [
       "<div>\n",
       "<style scoped>\n",
       "    .dataframe tbody tr th:only-of-type {\n",
       "        vertical-align: middle;\n",
       "    }\n",
       "\n",
       "    .dataframe tbody tr th {\n",
       "        vertical-align: top;\n",
       "    }\n",
       "\n",
       "    .dataframe thead th {\n",
       "        text-align: right;\n",
       "    }\n",
       "</style>\n",
       "<table border=\"1\" class=\"dataframe\">\n",
       "  <thead>\n",
       "    <tr style=\"text-align: right;\">\n",
       "      <th></th>\n",
       "      <th>timeBetweenDown</th>\n",
       "      <th>timeBetweenUp</th>\n",
       "      <th>timeLapsePress</th>\n",
       "      <th>x</th>\n",
       "      <th>y</th>\n",
       "      <th>timeBetweenTouch</th>\n",
       "      <th>timeBetweenDown.1</th>\n",
       "      <th>timeBetweenUp.1</th>\n",
       "      <th>timeLapsePress.1</th>\n",
       "      <th>x.1</th>\n",
       "      <th>...</th>\n",
       "      <th>x.2</th>\n",
       "      <th>y.2</th>\n",
       "      <th>timeBetweenTouch.2</th>\n",
       "      <th>timeBetweenDown.3</th>\n",
       "      <th>timeBetweenUp.3</th>\n",
       "      <th>timeLapsePress.3</th>\n",
       "      <th>x.3</th>\n",
       "      <th>y.3</th>\n",
       "      <th>user</th>\n",
       "      <th>length</th>\n",
       "    </tr>\n",
       "  </thead>\n",
       "  <tbody>\n",
       "    <tr>\n",
       "      <th>0</th>\n",
       "      <td>274091077</td>\n",
       "      <td>274091131</td>\n",
       "      <td>54</td>\n",
       "      <td>90.0</td>\n",
       "      <td>111.0</td>\n",
       "      <td>356</td>\n",
       "      <td>274091487</td>\n",
       "      <td>274091531</td>\n",
       "      <td>44</td>\n",
       "      <td>125.0</td>\n",
       "      <td>...</td>\n",
       "      <td>77.0</td>\n",
       "      <td>116.0</td>\n",
       "      <td>161</td>\n",
       "      <td>274092343</td>\n",
       "      <td>274092431</td>\n",
       "      <td>88</td>\n",
       "      <td>86.0</td>\n",
       "      <td>75.0</td>\n",
       "      <td>1</td>\n",
       "      <td>pin-length-4</td>\n",
       "    </tr>\n",
       "    <tr>\n",
       "      <th>1</th>\n",
       "      <td>274100552</td>\n",
       "      <td>274100633</td>\n",
       "      <td>81</td>\n",
       "      <td>110.0</td>\n",
       "      <td>86.0</td>\n",
       "      <td>243</td>\n",
       "      <td>274100876</td>\n",
       "      <td>274100933</td>\n",
       "      <td>57</td>\n",
       "      <td>96.0</td>\n",
       "      <td>...</td>\n",
       "      <td>102.0</td>\n",
       "      <td>76.0</td>\n",
       "      <td>159</td>\n",
       "      <td>274101335</td>\n",
       "      <td>274101384</td>\n",
       "      <td>49</td>\n",
       "      <td>87.0</td>\n",
       "      <td>115.0</td>\n",
       "      <td>1</td>\n",
       "      <td>pin-length-4</td>\n",
       "    </tr>\n",
       "    <tr>\n",
       "      <th>2</th>\n",
       "      <td>274106548</td>\n",
       "      <td>274106610</td>\n",
       "      <td>62</td>\n",
       "      <td>82.0</td>\n",
       "      <td>120.0</td>\n",
       "      <td>202</td>\n",
       "      <td>274106812</td>\n",
       "      <td>274106855</td>\n",
       "      <td>43</td>\n",
       "      <td>88.0</td>\n",
       "      <td>...</td>\n",
       "      <td>91.0</td>\n",
       "      <td>51.0</td>\n",
       "      <td>121</td>\n",
       "      <td>274107231</td>\n",
       "      <td>274107311</td>\n",
       "      <td>80</td>\n",
       "      <td>91.0</td>\n",
       "      <td>87.0</td>\n",
       "      <td>1</td>\n",
       "      <td>pin-length-4</td>\n",
       "    </tr>\n",
       "    <tr>\n",
       "      <th>3</th>\n",
       "      <td>274112183</td>\n",
       "      <td>274112246</td>\n",
       "      <td>63</td>\n",
       "      <td>85.0</td>\n",
       "      <td>96.0</td>\n",
       "      <td>235</td>\n",
       "      <td>274112481</td>\n",
       "      <td>274112529</td>\n",
       "      <td>48</td>\n",
       "      <td>79.0</td>\n",
       "      <td>...</td>\n",
       "      <td>103.0</td>\n",
       "      <td>62.0</td>\n",
       "      <td>204</td>\n",
       "      <td>274112967</td>\n",
       "      <td>274113030</td>\n",
       "      <td>63</td>\n",
       "      <td>74.0</td>\n",
       "      <td>85.0</td>\n",
       "      <td>1</td>\n",
       "      <td>pin-length-4</td>\n",
       "    </tr>\n",
       "    <tr>\n",
       "      <th>4</th>\n",
       "      <td>274117902</td>\n",
       "      <td>274117981</td>\n",
       "      <td>79</td>\n",
       "      <td>93.0</td>\n",
       "      <td>92.0</td>\n",
       "      <td>549</td>\n",
       "      <td>274118530</td>\n",
       "      <td>274118590</td>\n",
       "      <td>60</td>\n",
       "      <td>114.0</td>\n",
       "      <td>...</td>\n",
       "      <td>75.0</td>\n",
       "      <td>78.0</td>\n",
       "      <td>184</td>\n",
       "      <td>274119174</td>\n",
       "      <td>274119247</td>\n",
       "      <td>73</td>\n",
       "      <td>55.0</td>\n",
       "      <td>79.0</td>\n",
       "      <td>1</td>\n",
       "      <td>pin-length-4</td>\n",
       "    </tr>\n",
       "    <tr>\n",
       "      <th>...</th>\n",
       "      <td>...</td>\n",
       "      <td>...</td>\n",
       "      <td>...</td>\n",
       "      <td>...</td>\n",
       "      <td>...</td>\n",
       "      <td>...</td>\n",
       "      <td>...</td>\n",
       "      <td>...</td>\n",
       "      <td>...</td>\n",
       "      <td>...</td>\n",
       "      <td>...</td>\n",
       "      <td>...</td>\n",
       "      <td>...</td>\n",
       "      <td>...</td>\n",
       "      <td>...</td>\n",
       "      <td>...</td>\n",
       "      <td>...</td>\n",
       "      <td>...</td>\n",
       "      <td>...</td>\n",
       "      <td>...</td>\n",
       "      <td>...</td>\n",
       "    </tr>\n",
       "    <tr>\n",
       "      <th>125</th>\n",
       "      <td>76675194</td>\n",
       "      <td>76675288</td>\n",
       "      <td>94</td>\n",
       "      <td>56.0</td>\n",
       "      <td>96.0</td>\n",
       "      <td>159</td>\n",
       "      <td>76675447</td>\n",
       "      <td>76675525</td>\n",
       "      <td>78</td>\n",
       "      <td>115.0</td>\n",
       "      <td>...</td>\n",
       "      <td>152.0</td>\n",
       "      <td>4.0</td>\n",
       "      <td>235</td>\n",
       "      <td>76676661</td>\n",
       "      <td>76676728</td>\n",
       "      <td>67</td>\n",
       "      <td>116.0</td>\n",
       "      <td>135.0</td>\n",
       "      <td>43</td>\n",
       "      <td>pin-length-4</td>\n",
       "    </tr>\n",
       "    <tr>\n",
       "      <th>126</th>\n",
       "      <td>76677747</td>\n",
       "      <td>76677840</td>\n",
       "      <td>93</td>\n",
       "      <td>107.0</td>\n",
       "      <td>111.0</td>\n",
       "      <td>226</td>\n",
       "      <td>76678066</td>\n",
       "      <td>76678152</td>\n",
       "      <td>86</td>\n",
       "      <td>117.0</td>\n",
       "      <td>...</td>\n",
       "      <td>111.0</td>\n",
       "      <td>98.0</td>\n",
       "      <td>169</td>\n",
       "      <td>76678831</td>\n",
       "      <td>76678899</td>\n",
       "      <td>68</td>\n",
       "      <td>89.0</td>\n",
       "      <td>121.0</td>\n",
       "      <td>43</td>\n",
       "      <td>pin-length-4</td>\n",
       "    </tr>\n",
       "    <tr>\n",
       "      <th>127</th>\n",
       "      <td>76679892</td>\n",
       "      <td>76679977</td>\n",
       "      <td>85</td>\n",
       "      <td>121.0</td>\n",
       "      <td>90.0</td>\n",
       "      <td>168</td>\n",
       "      <td>76680145</td>\n",
       "      <td>76680222</td>\n",
       "      <td>77</td>\n",
       "      <td>136.0</td>\n",
       "      <td>...</td>\n",
       "      <td>127.0</td>\n",
       "      <td>111.0</td>\n",
       "      <td>200</td>\n",
       "      <td>76680751</td>\n",
       "      <td>76680829</td>\n",
       "      <td>78</td>\n",
       "      <td>124.0</td>\n",
       "      <td>161.0</td>\n",
       "      <td>43</td>\n",
       "      <td>pin-length-4</td>\n",
       "    </tr>\n",
       "    <tr>\n",
       "      <th>128</th>\n",
       "      <td>76688076</td>\n",
       "      <td>76688161</td>\n",
       "      <td>85</td>\n",
       "      <td>90.0</td>\n",
       "      <td>90.0</td>\n",
       "      <td>302</td>\n",
       "      <td>76688463</td>\n",
       "      <td>76688522</td>\n",
       "      <td>59</td>\n",
       "      <td>137.0</td>\n",
       "      <td>...</td>\n",
       "      <td>105.0</td>\n",
       "      <td>105.0</td>\n",
       "      <td>175</td>\n",
       "      <td>76689000</td>\n",
       "      <td>76689077</td>\n",
       "      <td>77</td>\n",
       "      <td>165.0</td>\n",
       "      <td>183.0</td>\n",
       "      <td>43</td>\n",
       "      <td>pin-length-4</td>\n",
       "    </tr>\n",
       "    <tr>\n",
       "      <th>129</th>\n",
       "      <td>76690473</td>\n",
       "      <td>76690558</td>\n",
       "      <td>85</td>\n",
       "      <td>54.0</td>\n",
       "      <td>105.0</td>\n",
       "      <td>268</td>\n",
       "      <td>76690826</td>\n",
       "      <td>76690911</td>\n",
       "      <td>85</td>\n",
       "      <td>141.0</td>\n",
       "      <td>...</td>\n",
       "      <td>120.0</td>\n",
       "      <td>125.0</td>\n",
       "      <td>169</td>\n",
       "      <td>76691341</td>\n",
       "      <td>76691422</td>\n",
       "      <td>81</td>\n",
       "      <td>144.0</td>\n",
       "      <td>156.0</td>\n",
       "      <td>43</td>\n",
       "      <td>pin-length-4</td>\n",
       "    </tr>\n",
       "  </tbody>\n",
       "</table>\n",
       "<p>130 rows × 25 columns</p>\n",
       "</div>"
      ],
      "text/plain": [
       "     timeBetweenDown  timeBetweenUp  timeLapsePress      x      y  \\\n",
       "0          274091077      274091131              54   90.0  111.0   \n",
       "1          274100552      274100633              81  110.0   86.0   \n",
       "2          274106548      274106610              62   82.0  120.0   \n",
       "3          274112183      274112246              63   85.0   96.0   \n",
       "4          274117902      274117981              79   93.0   92.0   \n",
       "..               ...            ...             ...    ...    ...   \n",
       "125         76675194       76675288              94   56.0   96.0   \n",
       "126         76677747       76677840              93  107.0  111.0   \n",
       "127         76679892       76679977              85  121.0   90.0   \n",
       "128         76688076       76688161              85   90.0   90.0   \n",
       "129         76690473       76690558              85   54.0  105.0   \n",
       "\n",
       "     timeBetweenTouch  timeBetweenDown.1  timeBetweenUp.1  timeLapsePress.1  \\\n",
       "0                 356          274091487        274091531                44   \n",
       "1                 243          274100876        274100933                57   \n",
       "2                 202          274106812        274106855                43   \n",
       "3                 235          274112481        274112529                48   \n",
       "4                 549          274118530        274118590                60   \n",
       "..                ...                ...              ...               ...   \n",
       "125               159           76675447         76675525                78   \n",
       "126               226           76678066         76678152                86   \n",
       "127               168           76680145         76680222                77   \n",
       "128               302           76688463         76688522                59   \n",
       "129               268           76690826         76690911                85   \n",
       "\n",
       "       x.1  ...    x.2    y.2  timeBetweenTouch.2  timeBetweenDown.3  \\\n",
       "0    125.0  ...   77.0  116.0                 161          274092343   \n",
       "1     96.0  ...  102.0   76.0                 159          274101335   \n",
       "2     88.0  ...   91.0   51.0                 121          274107231   \n",
       "3     79.0  ...  103.0   62.0                 204          274112967   \n",
       "4    114.0  ...   75.0   78.0                 184          274119174   \n",
       "..     ...  ...    ...    ...                 ...                ...   \n",
       "125  115.0  ...  152.0    4.0                 235           76676661   \n",
       "126  117.0  ...  111.0   98.0                 169           76678831   \n",
       "127  136.0  ...  127.0  111.0                 200           76680751   \n",
       "128  137.0  ...  105.0  105.0                 175           76689000   \n",
       "129  141.0  ...  120.0  125.0                 169           76691341   \n",
       "\n",
       "     timeBetweenUp.3  timeLapsePress.3    x.3    y.3  user        length  \n",
       "0          274092431                88   86.0   75.0     1  pin-length-4  \n",
       "1          274101384                49   87.0  115.0     1  pin-length-4  \n",
       "2          274107311                80   91.0   87.0     1  pin-length-4  \n",
       "3          274113030                63   74.0   85.0     1  pin-length-4  \n",
       "4          274119247                73   55.0   79.0     1  pin-length-4  \n",
       "..               ...               ...    ...    ...   ...           ...  \n",
       "125         76676728                67  116.0  135.0    43  pin-length-4  \n",
       "126         76678899                68   89.0  121.0    43  pin-length-4  \n",
       "127         76680829                78  124.0  161.0    43  pin-length-4  \n",
       "128         76689077                77  165.0  183.0    43  pin-length-4  \n",
       "129         76691422                81  144.0  156.0    43  pin-length-4  \n",
       "\n",
       "[130 rows x 25 columns]"
      ]
     },
     "execution_count": 4,
     "metadata": {},
     "output_type": "execute_result"
    }
   ],
   "source": [
    "dataPin4Impostor"
   ]
  },
  {
   "cell_type": "markdown",
   "metadata": {
    "colab_type": "text",
    "id": "MShI7P-aLtMb"
   },
   "source": [
    "# Load data from local"
   ]
  },
  {
   "cell_type": "markdown",
   "metadata": {
    "colab_type": "text",
    "id": "KD0-Zlh_L3Pg"
   },
   "source": [
    "# Cleaning data"
   ]
  },
  {
   "cell_type": "markdown",
   "metadata": {
    "colab_type": "text",
    "id": "uUC_N7XHvrxH"
   },
   "source": [
    "Hence we can see there are 2911 rows and 72 columns"
   ]
  },
  {
   "cell_type": "code",
   "execution_count": 5,
   "metadata": {
    "colab": {},
    "colab_type": "code",
    "id": "LO5gk6fpXwKz"
   },
   "outputs": [],
   "source": [
    "#dataless-columns in dataPin are taken away\n",
    "clean_dataPin = dataPin8.dropna(axis = 0, how = 'all')\n",
    "# clean_dataPin = dataPin8Impostor.dropna(axis = 0, how = 'all')"
   ]
  },
  {
   "cell_type": "markdown",
   "metadata": {
    "colab_type": "text",
    "id": "874AbdpovrxN"
   },
   "source": [
    "data_new =data.dropna(axis=0,how='all')\n",
    "data_new.head()\n",
    "data_new.columns"
   ]
  },
  {
   "cell_type": "code",
   "execution_count": 6,
   "metadata": {
    "colab": {
     "base_uri": "https://localhost:8080/",
     "height": 35
    },
    "colab_type": "code",
    "id": "QV8YUKu_YVy1",
    "outputId": "b6dae9d7-ff8e-4c6b-d4c0-6a5528e18d78"
   },
   "outputs": [
    {
     "data": {
      "text/plain": [
       "26"
      ]
     },
     "execution_count": 6,
     "metadata": {},
     "output_type": "execute_result"
    }
   ],
   "source": [
    "#Create a list to concatenate the users from 0 to 10 -  DataPin\n",
    "users = list() \n",
    "\n",
    "for i in listUsers:\n",
    "    df_user = clean_dataPin[clean_dataPin['user'] == i]\n",
    "    df_user.drop(['user','length'],axis=1, inplace=True)\n",
    "    user = df_user.values\n",
    "    users.append(user)\n",
    "    \n",
    "len(users)"
   ]
  },
  {
   "cell_type": "code",
   "execution_count": 0,
   "metadata": {
    "colab": {},
    "colab_type": "code",
    "id": "buCgMR03vrxb"
   },
   "outputs": [],
   "source": [
    "#ROC Curve\n",
    "def plot_roc_curve(fpr, tpr, label=None):\n",
    "    plt.plot(fpr, tpr, linewidth=2, label=label)\n",
    "    plt.plot([0, 1], [0, 1], 'k--')\n",
    "    plt.axis([0, 1, 0, 1])\n",
    "    plt.xlabel('False Positive Rate')\n",
    "    plt.ylabel('True Positive Rate')"
   ]
  },
  {
   "cell_type": "code",
   "execution_count": 21,
   "metadata": {
    "colab": {},
    "colab_type": "code",
    "id": "ZQrgjHWNvrxk"
   },
   "outputs": [],
   "source": [
    "#Metrics: precision (precision_score), sensitivity (recall_score), \n",
    "from sklearn.metrics import confusion_matrix, precision_score, recall_score, accuracy_score\n",
    "def metrics(Ytrain,Yval,YPred):\n",
    "  #print('Getting metrics...')\n",
    "\n",
    "  accuracyTrain = np.mean(YPred.ravel() == Ytrain.ravel())\n",
    "\n",
    "  accuracyValid = np.mean(YPred.ravel() == Yval.ravel()) \n",
    "\n",
    "  stdTrain = np.std(accuracyTrain)\n",
    "\n",
    "  stdValid = np.std(accuracyValid)\n",
    " \n",
    "\n",
    "  return accuracyTrain, accuracyValid, stdTrain, stdValid           "
   ]
  },
  {
   "cell_type": "markdown",
   "metadata": {
    "colab_type": "text",
    "id": "F2xLcKR4eApq"
   },
   "source": [
    "## Get X and Y sets\n"
   ]
  },
  {
   "cell_type": "code",
   "execution_count": 0,
   "metadata": {
    "colab": {},
    "colab_type": "code",
    "id": "aebyhAJgb66k"
   },
   "outputs": [],
   "source": [
    "if lengthDataSet == 'pin-length-4':\n",
    "  s = 1\n",
    "  data = users[s]\n",
    "  X = data[:,0:23]\n",
    "  Y = np.ones((25,1))\n",
    "\n",
    "if lengthDataSet == 'pin-length-6':\n",
    "  s = 1\n",
    "  data = users[s]\n",
    "  X = data[:,0:35]\n",
    "  Y = np.ones((25,1))\n",
    "\n",
    "if lengthDataSet == 'pin-length-8':\n",
    "  s = 1\n",
    "  data = users[s]\n",
    "  X = data[:,0:47]\n",
    "  Y = np.ones((25,1))  \n"
   ]
  },
  {
   "cell_type": "code",
   "execution_count": 7,
   "metadata": {
    "colab": {},
    "colab_type": "code",
    "id": "ve2Nx5YahyeM"
   },
   "outputs": [],
   "source": [
    "s = 1\n",
    "data = users[s]\n",
    "X = data[:,0:23]\n",
    "Y = np.ones((25,1))"
   ]
  },
  {
   "cell_type": "markdown",
   "metadata": {
    "colab_type": "text",
    "id": "qS80_cetEBmV"
   },
   "source": [
    "# Models"
   ]
  },
  {
   "cell_type": "code",
   "execution_count": 8,
   "metadata": {
    "colab": {},
    "colab_type": "code",
    "id": "uKoF5gvWZwr7"
   },
   "outputs": [],
   "source": [
    "# MODELS\n",
    "from sklearn.ensemble import IsolationForest\n",
    "from sklearn import svm"
   ]
  },
  {
   "cell_type": "code",
   "execution_count": 9,
   "metadata": {
    "colab": {},
    "colab_type": "code",
    "id": "TUNyLrWTEA4U"
   },
   "outputs": [],
   "source": [
    "# modelIsoForest = IsolationForest(n_estimators=100, max_samples='auto', contamination='auto', max_features=1.0, bootstrap=False, n_jobs=-1)\n",
    "# modelSVM = svm.OneClassSVM(nu=0.5, kernel=\"sigmoid\", gamma='auto')"
   ]
  },
  {
   "cell_type": "code",
   "execution_count": 10,
   "metadata": {
    "colab": {},
    "colab_type": "code",
    "id": "Q6RiHXuroAhb"
   },
   "outputs": [],
   "source": [
    "modelIsoForest = IsolationForest()\n",
    "modelSVM = svm.OneClassSVM()"
   ]
  },
  {
   "cell_type": "markdown",
   "metadata": {
    "colab_type": "text",
    "id": "8CqKqvow2KNz"
   },
   "source": [
    "## Manual Grid Search"
   ]
  },
  {
   "cell_type": "code",
   "execution_count": 24,
   "metadata": {
    "colab": {},
    "colab_type": "code",
    "id": "u-b0V2Ge1M-T"
   },
   "outputs": [],
   "source": [
    "from sklearn.model_selection import ParameterGrid\n",
    "\n",
    "# gridSVM = {'nu' : np.linspace(0.001, 0.5, 100), 'gamma' : ['scale', 'auto'], 'kernel': ['linear', 'poly', 'rbf', 'sigmoid']}\n",
    "\n",
    "gridSVM = {'nu' : [0.00001, 0.0001, 0.001, 0.01, 0.1], 'gamma' : ['scale', 'auto'], 'kernel': ['linear', 'poly', 'rbf', 'sigmoid']}\n",
    "\n",
    "gridIsoForest = {'n_estimators': list(range(5, 20, 3)), \n",
    "                'max_samples': ['auto'], \n",
    "                'contamination': [0, 0.5], \n",
    "                'max_features': [10,20,23], \n",
    "                'bootstrap': [True, False], \n",
    "                'n_jobs': [-1]}"
   ]
  },
  {
   "cell_type": "code",
   "execution_count": 25,
   "metadata": {
    "colab": {},
    "colab_type": "code",
    "id": "ydCya9lrFLcR"
   },
   "outputs": [],
   "source": [
    "grid = gridSVM\n",
    "#grid = gridIsoForest"
   ]
  },
  {
   "cell_type": "code",
   "execution_count": 13,
   "metadata": {
    "colab": {
     "base_uri": "https://localhost:8080/",
     "height": 35
    },
    "colab_type": "code",
    "id": "9dlQSRQO6GDI",
    "outputId": "8e480caa-b8a9-4596-923e-7ef5207bd97d"
   },
   "outputs": [
    {
     "data": {
      "text/plain": [
       "40"
      ]
     },
     "execution_count": 13,
     "metadata": {},
     "output_type": "execute_result"
    }
   ],
   "source": [
    "list(ParameterGrid(gridSVM))\n",
    "len(list(ParameterGrid(gridSVM)))"
   ]
  },
  {
   "cell_type": "code",
   "execution_count": 14,
   "metadata": {
    "colab": {
     "base_uri": "https://localhost:8080/",
     "height": 35
    },
    "colab_type": "code",
    "id": "BVd02XpotYEp",
    "outputId": "8e7c5069-80f2-4bce-f269-5d92d106f6d9"
   },
   "outputs": [
    {
     "data": {
      "text/plain": [
       "60"
      ]
     },
     "execution_count": 14,
     "metadata": {},
     "output_type": "execute_result"
    }
   ],
   "source": [
    "list(ParameterGrid(gridIsoForest))\n",
    "len(list(ParameterGrid(gridIsoForest)))"
   ]
  },
  {
   "cell_type": "code",
   "execution_count": 15,
   "metadata": {
    "colab": {},
    "colab_type": "code",
    "id": "AeZ9OjuQmOZj"
   },
   "outputs": [],
   "source": [
    "#model = modelIsoForest\n",
    "model = modelSVM"
   ]
  },
  {
   "cell_type": "markdown",
   "metadata": {
    "colab_type": "text",
    "id": "_WsInlo_spaI"
   },
   "source": [
    "# GridSearch V1.1"
   ]
  },
  {
   "cell_type": "code",
   "execution_count": 16,
   "metadata": {
    "colab": {},
    "colab_type": "code",
    "id": "z-Sc5PBlsmiL"
   },
   "outputs": [],
   "source": [
    "modelsAndGrids = [('modelIsoForest ', modelIsoForest, gridIsoForest), ('modelSVM', modelSVM, gridSVM)]"
   ]
  },
  {
   "cell_type": "code",
   "execution_count": 17,
   "metadata": {
    "colab": {},
    "colab_type": "code",
    "id": "N3e85XrvogIT"
   },
   "outputs": [],
   "source": [
    "Xtrain_original, Xtest_original, Ytrain_original, Ytest_original = train_test_split(X, Y, test_size=0.30)"
   ]
  },
  {
   "cell_type": "code",
   "execution_count": 18,
   "metadata": {
    "colab": {},
    "colab_type": "code",
    "id": "Cg0GUty1s1Gb"
   },
   "outputs": [],
   "source": [
    "from sklearn.model_selection import KFold\n",
    "from sklearn import preprocessing\n",
    "from sklearn.model_selection import train_test_split"
   ]
  },
  {
   "cell_type": "code",
   "execution_count": 22,
   "metadata": {
    "colab": {},
    "colab_type": "code",
    "id": "y35UpmO93lTq"
   },
   "outputs": [],
   "source": [
    "def GridSearch(Xtrain_original,Ytrain_original,models):\n",
    "  # create lists to store final results\n",
    "  train_score = []\n",
    "  val_score = []\n",
    "  std_train= []\n",
    "  std_val=[]\n",
    "  best_params = []\n",
    "  models_results = []\n",
    "\n",
    "  Folds = 10\n",
    "  results = list()\n",
    "  gsAccuracy = 0\n",
    "  \n",
    "  kf = KFold(n_splits=Folds,shuffle=True)\n",
    "  for m in range(0,len(models)):\n",
    "    params = []\n",
    "    meanAccuracyValid = np.zeros((len(list(ParameterGrid(models[m][2]))),1))\n",
    "    meanAccuracyTrain = np.zeros((len(list(ParameterGrid(models[m][2]))),1))\n",
    "    meanStdValid = np.zeros((len(list(ParameterGrid(models[m][2]))),1))\n",
    "    meanStdTrain = np.zeros((len(list(ParameterGrid(models[m][2]))),1))\n",
    "    result = list()\n",
    "    k=0\n",
    "    for z in ParameterGrid(models[m][2]):\n",
    "      params.append(z)\n",
    "      accuracyTrainFolds = np.zeros((Folds,1))\n",
    "      accuracyValidFolds = np.zeros((Folds,1))\n",
    "      stdTrainFolds = np.zeros((Folds,1))\n",
    "      stdValidFolds = np.zeros((Folds,1))\n",
    "      j=0\n",
    "      \n",
    "      models[m][1].set_params(**z)\n",
    "\n",
    "      for train, valid in kf.split(Xtrain_original):\n",
    "        Xtrain = Xtrain_original[train,:]\n",
    "        Ytrain = Ytrain_original[train]\n",
    "        Xvalid = Xtrain_original[valid,:]\n",
    "        Yvalid = Ytrain_original[valid]\n",
    "\n",
    "        #Data Normalization\n",
    "        scaler = preprocessing.StandardScaler().fit(Xtrain)\n",
    "        Xtrain = scaler.transform(Xtrain)\n",
    "        Xvalid = scaler.transform(Xvalid)\n",
    "\n",
    "        models[m][1].fit(Xtrain)\n",
    "\n",
    "        #Validation\n",
    "        ypred = models[m][1].predict(Xvalid)\n",
    "        accuracyTrainFolds[j], accuracyValidFolds[j], stdTrainFolds[j], stdValidFolds[j] = metrics(Ytrain,Yvalid,ypred)\n",
    "        j+=1\n",
    "\n",
    "      meanAccuracyTrain[k], meanAccuracyValid[k], meanStdTrain[k], meanStdValid[k] = np.mean(accuracyTrainFolds), np.mean(accuracyValidFolds), np.mean(stdTrainFolds), np.mean(stdValidFolds)\n",
    "      k+=1\n",
    "    result.append([models[m][0], meanAccuracyValid[np.argmax(meanAccuracyValid)],meanStdValid[np.argmax(meanAccuracyValid)], params[np.argmax(meanAccuracyValid)]])\n",
    "\n",
    "    models_results.append(models[m][0])\n",
    "    train_score.append(meanAccuracyTrain[np.argmax(meanAccuracyValid)])\n",
    "    val_score.append(meanAccuracyValid[np.argmax(meanAccuracyValid)])\n",
    "    std_train.append(meanStdTrain[np.argmax(meanAccuracyValid)])\n",
    "    std_val.append(meanStdValid[np.argmax(meanAccuracyValid)])\n",
    "    best_params.append(params[np.argmax(meanAccuracyValid)])\n",
    "    \n",
    "    # data = {'model':models[m][0], 'mean_train_Accuracy':meanAccuracyTrain[np.argmax(meanAccuracyValid)],'std_train_Accuracy':np.std(meanAccuracyTrain),'mean_test_Accuracy':meanAccuracyValid[np.argmax(meanAccuracyValid)],'std_test_Accuracy':np.std(meanAccuracyTrain), 'Best_Params':}\n",
    "    # df_split_params = pd.DataFrame(data)\n",
    "    # params[np.argmax(meanAccuracyValid)]\n",
    "    results.append(result)\n",
    "  models_results= np.array(models_results)\n",
    "  train_score = np.array(train_score)\n",
    "  val_score = np.array(val_score)\n",
    "  std_train = np.array(std_train)\n",
    "  std_val = np.array(std_val)\n",
    "  best_params = np.array(best_params)\n",
    "\n",
    "  # data = {'model':models_results, 'mean_train_Accuracy':train_score,'std_train_Accuracy':std_train,'mean_test_Accuracy':val_score,'std_test_Accuracy':std_val, 'Best_Params':best_params}\n",
    "  # print(data)\n",
    "  # df_results = pd.DataFrame(data_final)\n",
    "  return results"
   ]
  },
  {
   "cell_type": "code",
   "execution_count": 26,
   "metadata": {
    "colab": {},
    "colab_type": "code",
    "id": "cTDP1iOxs5Hf"
   },
   "outputs": [
    {
     "ename": "ValueError",
     "evalue": "max_features must be in (0, n_features]",
     "output_type": "error",
     "traceback": [
      "\u001b[0;31m---------------------------------------------------------------------------\u001b[0m",
      "\u001b[0;31mValueError\u001b[0m                                Traceback (most recent call last)",
      "\u001b[0;32m<ipython-input-26-1710d6c8aa7a>\u001b[0m in \u001b[0;36m<module>\u001b[0;34m\u001b[0m\n\u001b[0;32m----> 1\u001b[0;31m \u001b[0mresults\u001b[0m \u001b[0;34m=\u001b[0m \u001b[0mGridSearch\u001b[0m\u001b[0;34m(\u001b[0m\u001b[0mXtrain_original\u001b[0m\u001b[0;34m,\u001b[0m\u001b[0mYtrain_original\u001b[0m\u001b[0;34m,\u001b[0m\u001b[0mmodelsAndGrids\u001b[0m\u001b[0;34m)\u001b[0m\u001b[0;34m\u001b[0m\u001b[0;34m\u001b[0m\u001b[0m\n\u001b[0m",
      "\u001b[0;32m<ipython-input-22-8671c03887b7>\u001b[0m in \u001b[0;36mGridSearch\u001b[0;34m(Xtrain_original, Ytrain_original, models)\u001b[0m\n\u001b[1;32m     42\u001b[0m         \u001b[0mXvalid\u001b[0m \u001b[0;34m=\u001b[0m \u001b[0mscaler\u001b[0m\u001b[0;34m.\u001b[0m\u001b[0mtransform\u001b[0m\u001b[0;34m(\u001b[0m\u001b[0mXvalid\u001b[0m\u001b[0;34m)\u001b[0m\u001b[0;34m\u001b[0m\u001b[0;34m\u001b[0m\u001b[0m\n\u001b[1;32m     43\u001b[0m \u001b[0;34m\u001b[0m\u001b[0m\n\u001b[0;32m---> 44\u001b[0;31m         \u001b[0mmodels\u001b[0m\u001b[0;34m[\u001b[0m\u001b[0mm\u001b[0m\u001b[0;34m]\u001b[0m\u001b[0;34m[\u001b[0m\u001b[0;36m1\u001b[0m\u001b[0;34m]\u001b[0m\u001b[0;34m.\u001b[0m\u001b[0mfit\u001b[0m\u001b[0;34m(\u001b[0m\u001b[0mXtrain\u001b[0m\u001b[0;34m)\u001b[0m\u001b[0;34m\u001b[0m\u001b[0;34m\u001b[0m\u001b[0m\n\u001b[0m\u001b[1;32m     45\u001b[0m \u001b[0;34m\u001b[0m\u001b[0m\n\u001b[1;32m     46\u001b[0m         \u001b[0;31m#Validation\u001b[0m\u001b[0;34m\u001b[0m\u001b[0;34m\u001b[0m\u001b[0;34m\u001b[0m\u001b[0m\n",
      "\u001b[0;32m~/anaconda3/lib/python3.7/site-packages/sklearn/ensemble/_iforest.py\u001b[0m in \u001b[0;36mfit\u001b[0;34m(self, X, y, sample_weight)\u001b[0m\n\u001b[1;32m    293\u001b[0m         super()._fit(X, y, max_samples,\n\u001b[1;32m    294\u001b[0m                      \u001b[0mmax_depth\u001b[0m\u001b[0;34m=\u001b[0m\u001b[0mmax_depth\u001b[0m\u001b[0;34m,\u001b[0m\u001b[0;34m\u001b[0m\u001b[0;34m\u001b[0m\u001b[0m\n\u001b[0;32m--> 295\u001b[0;31m                      sample_weight=sample_weight)\n\u001b[0m\u001b[1;32m    296\u001b[0m \u001b[0;34m\u001b[0m\u001b[0m\n\u001b[1;32m    297\u001b[0m         \u001b[0;32mif\u001b[0m \u001b[0mself\u001b[0m\u001b[0;34m.\u001b[0m\u001b[0mcontamination\u001b[0m \u001b[0;34m==\u001b[0m \u001b[0;34m\"auto\"\u001b[0m\u001b[0;34m:\u001b[0m\u001b[0;34m\u001b[0m\u001b[0;34m\u001b[0m\u001b[0m\n",
      "\u001b[0;32m~/anaconda3/lib/python3.7/site-packages/sklearn/ensemble/_bagging.py\u001b[0m in \u001b[0;36m_fit\u001b[0;34m(self, X, y, max_samples, max_depth, sample_weight)\u001b[0m\n\u001b[1;32m    318\u001b[0m \u001b[0;34m\u001b[0m\u001b[0m\n\u001b[1;32m    319\u001b[0m         \u001b[0;32mif\u001b[0m \u001b[0;32mnot\u001b[0m \u001b[0;34m(\u001b[0m\u001b[0;36m0\u001b[0m \u001b[0;34m<\u001b[0m \u001b[0mmax_features\u001b[0m \u001b[0;34m<=\u001b[0m \u001b[0mself\u001b[0m\u001b[0;34m.\u001b[0m\u001b[0mn_features_\u001b[0m\u001b[0;34m)\u001b[0m\u001b[0;34m:\u001b[0m\u001b[0;34m\u001b[0m\u001b[0;34m\u001b[0m\u001b[0m\n\u001b[0;32m--> 320\u001b[0;31m             \u001b[0;32mraise\u001b[0m \u001b[0mValueError\u001b[0m\u001b[0;34m(\u001b[0m\u001b[0;34m\"max_features must be in (0, n_features]\"\u001b[0m\u001b[0;34m)\u001b[0m\u001b[0;34m\u001b[0m\u001b[0;34m\u001b[0m\u001b[0m\n\u001b[0m\u001b[1;32m    321\u001b[0m \u001b[0;34m\u001b[0m\u001b[0m\n\u001b[1;32m    322\u001b[0m         \u001b[0mmax_features\u001b[0m \u001b[0;34m=\u001b[0m \u001b[0mmax\u001b[0m\u001b[0;34m(\u001b[0m\u001b[0;36m1\u001b[0m\u001b[0;34m,\u001b[0m \u001b[0mint\u001b[0m\u001b[0;34m(\u001b[0m\u001b[0mmax_features\u001b[0m\u001b[0;34m)\u001b[0m\u001b[0;34m)\u001b[0m\u001b[0;34m\u001b[0m\u001b[0;34m\u001b[0m\u001b[0m\n",
      "\u001b[0;31mValueError\u001b[0m: max_features must be in (0, n_features]"
     ]
    }
   ],
   "source": [
    "results = GridSearch(Xtrain_original,Ytrain_original,modelsAndGrids)"
   ]
  },
  {
   "cell_type": "code",
   "execution_count": 0,
   "metadata": {
    "colab": {},
    "colab_type": "code",
    "id": "9i25weTltn3W"
   },
   "outputs": [],
   "source": [
    "IF = results[0]\n",
    "OC = results[1]\n",
    "OCP = OC[0]\n",
    "IFP = IF[0]\n",
    "IFParams = IFP[3]\n",
    "SVMParams = OCP[3]"
   ]
  },
  {
   "cell_type": "code",
   "execution_count": 0,
   "metadata": {
    "colab": {
     "base_uri": "https://localhost:8080/",
     "height": 121
    },
    "colab_type": "code",
    "id": "qJRUkNC43DrV",
    "outputId": "ee398bb0-a56e-41a5-e626-fbc9b0080882"
   },
   "outputs": [
    {
     "data": {
      "text/plain": [
       "{'bootstrap': True,\n",
       " 'contamination': 0,\n",
       " 'max_features': 10,\n",
       " 'max_samples': 'auto',\n",
       " 'n_estimators': 5,\n",
       " 'n_jobs': -1}"
      ]
     },
     "execution_count": 28,
     "metadata": {
      "tags": []
     },
     "output_type": "execute_result"
    }
   ],
   "source": [
    "IFParams"
   ]
  },
  {
   "cell_type": "code",
   "execution_count": 0,
   "metadata": {
    "colab": {
     "base_uri": "https://localhost:8080/",
     "height": 35
    },
    "colab_type": "code",
    "id": "CJi2ct9w3D_b",
    "outputId": "cf17e54d-92e4-4308-d85b-a04c3bd076d1"
   },
   "outputs": [
    {
     "data": {
      "text/plain": [
       "{'gamma': 'scale', 'kernel': 'sigmoid', 'nu': 0.01}"
      ]
     },
     "execution_count": 29,
     "metadata": {
      "tags": []
     },
     "output_type": "execute_result"
    }
   ],
   "source": [
    "SVMParams"
   ]
  },
  {
   "cell_type": "code",
   "execution_count": 0,
   "metadata": {
    "colab": {},
    "colab_type": "code",
    "id": "vk1TG6tIzkp8"
   },
   "outputs": [],
   "source": [
    "columns=[\"models\",\"mean train Accuracy\",\"CI (+-)\", \"Best params\"]\n",
    "result0 = pd.DataFrame(results[0],columns=columns)\n",
    "result1 = pd.DataFrame(results[1],columns=columns)"
   ]
  },
  {
   "cell_type": "code",
   "execution_count": 0,
   "metadata": {
    "colab": {},
    "colab_type": "code",
    "id": "pBseeqLS46gz"
   },
   "outputs": [],
   "source": [
    "resultados_finales = result0.append(result1)"
   ]
  },
  {
   "cell_type": "code",
   "execution_count": 0,
   "metadata": {
    "colab": {
     "base_uri": "https://localhost:8080/",
     "height": 110
    },
    "colab_type": "code",
    "id": "dCgadmDSeYkp",
    "outputId": "2483e80f-b4f9-43f6-8e62-50ccc12accc2"
   },
   "outputs": [
    {
     "data": {
      "text/html": [
       "<div>\n",
       "<style scoped>\n",
       "    .dataframe tbody tr th:only-of-type {\n",
       "        vertical-align: middle;\n",
       "    }\n",
       "\n",
       "    .dataframe tbody tr th {\n",
       "        vertical-align: top;\n",
       "    }\n",
       "\n",
       "    .dataframe thead th {\n",
       "        text-align: right;\n",
       "    }\n",
       "</style>\n",
       "<table border=\"1\" class=\"dataframe\">\n",
       "  <thead>\n",
       "    <tr style=\"text-align: right;\">\n",
       "      <th></th>\n",
       "      <th>models</th>\n",
       "      <th>mean train Accuracy</th>\n",
       "      <th>CI (+-)</th>\n",
       "      <th>Best params</th>\n",
       "    </tr>\n",
       "  </thead>\n",
       "  <tbody>\n",
       "    <tr>\n",
       "      <th>0</th>\n",
       "      <td>modelIsoForest</td>\n",
       "      <td>[1.0]</td>\n",
       "      <td>[0.0]</td>\n",
       "      <td>{'bootstrap': True, 'contamination': 0, 'max_f...</td>\n",
       "    </tr>\n",
       "    <tr>\n",
       "      <th>0</th>\n",
       "      <td>modelSVM</td>\n",
       "      <td>[0.75]</td>\n",
       "      <td>[0.0]</td>\n",
       "      <td>{'gamma': 'scale', 'kernel': 'sigmoid', 'nu': ...</td>\n",
       "    </tr>\n",
       "  </tbody>\n",
       "</table>\n",
       "</div>"
      ],
      "text/plain": [
       "            models  ...                                        Best params\n",
       "0  modelIsoForest   ...  {'bootstrap': True, 'contamination': 0, 'max_f...\n",
       "0         modelSVM  ...  {'gamma': 'scale', 'kernel': 'sigmoid', 'nu': ...\n",
       "\n",
       "[2 rows x 4 columns]"
      ]
     },
     "execution_count": 32,
     "metadata": {
      "tags": []
     },
     "output_type": "execute_result"
    }
   ],
   "source": [
    "resultados_finales"
   ]
  },
  {
   "cell_type": "markdown",
   "metadata": {
    "colab_type": "text",
    "id": "lXZxC6C-vjQp"
   },
   "source": [
    "## Best model evaluation with the test set"
   ]
  },
  {
   "cell_type": "markdown",
   "metadata": {
    "colab_type": "text",
    "id": "Yo1KmfGnISU4"
   },
   "source": [
    "# ESTE"
   ]
  },
  {
   "cell_type": "code",
   "execution_count": 0,
   "metadata": {
    "colab": {
     "base_uri": "https://localhost:8080/",
     "height": 52
    },
    "colab_type": "code",
    "id": "8Zdzq3exIJYs",
    "outputId": "88b7492f-d4ee-4654-d5b3-1c6679d160cc"
   },
   "outputs": [
    {
     "name": "stdout",
     "output_type": "stream",
     "text": [
      "[[4 2]\n",
      " [1 3]]\n"
     ]
    }
   ],
   "source": [
    "# Example of a confusion matrix in Python\n",
    "from sklearn.metrics import confusion_matrix\n",
    "\n",
    "expected = [1, 1, -1, 1, -1, -1, 1, -1, -1, -1]\n",
    "predicted = [1, -1, -1, 1, -1, -1, 1, 1, 1, -1]\n",
    "results = confusion_matrix(expected, predicted)\n",
    "print(results)"
   ]
  },
  {
   "cell_type": "code",
   "execution_count": 0,
   "metadata": {
    "colab": {
     "base_uri": "https://localhost:8080/",
     "height": 287
    },
    "colab_type": "code",
    "id": "bLvrep2cIshl",
    "outputId": "af68271c-82d0-40c3-a7b6-66a36a803ba1"
   },
   "outputs": [
    {
     "data": {
      "text/plain": [
       "<matplotlib.axes._subplots.AxesSubplot at 0x7f0abf5ebcf8>"
      ]
     },
     "execution_count": 42,
     "metadata": {
      "tags": []
     },
     "output_type": "execute_result"
    },
    {
     "data": {
      "image/png": "[encoded data removed]",
      "text/plain": [
       "<Figure size 432x288 with 2 Axes>"
      ]
     },
     "metadata": {
      "needs_background": "light",
      "tags": []
     },
     "output_type": "display_data"
    }
   ],
   "source": [
    "import seaborn as sns\n",
    "sns.heatmap(results, annot=True)"
   ]
  },
  {
   "cell_type": "code",
   "execution_count": 0,
   "metadata": {
    "colab": {},
    "colab_type": "code",
    "id": "s0VVYRYawG1P"
   },
   "outputs": [],
   "source": [
    "def MetricsBestParams(model,X_train,X_test,Y_test):\n",
    "\n",
    "  #Data Normalization\n",
    "  scaler = preprocessing.StandardScaler().fit(X_train)\n",
    "  X_train = scaler.transform(X_train)\n",
    "  X_test = scaler.transform(X_test)\n",
    "  \n",
    "  model.fit(X_train)\n",
    "\n",
    "  y_predicted = model.predict(X_test)\n",
    "  print('y_predicted', y_predicted)\n",
    "  print('Y_test', Y_test)\n",
    "\n",
    "  print('Accuracy: ', accuracy_score(Y_test, y_predicted), '\\n')\n",
    "  report = classification_report(Y_test, y_predicted)\n",
    "  print(\"\\nclassification report :\\n\",report )\n",
    " \n",
    "  # Confusion matrix\n",
    "  cm = confusion_matrix(Y_test, y_predicted)\n",
    "  # Normalize\n",
    "  cmn = cm.astype('float') / cm.sum(axis=1)[:, np.newaxis]\n",
    "  fig, ax = plt.subplots(figsize=(10,10))\n",
    "  print(cmn)  \n",
    "  sns.heatmap(cmn, annot=True, fmt='.2f')\n",
    "  plt.ylabel('Actual')\n",
    "  plt.xlabel('Predicted')\n",
    "  ax.set_ylim(sorted(ax.get_xlim(), reverse=True))\n",
    "  plt.show(block=False)\n",
    "      \n",
    "  return report"
   ]
  },
  {
   "cell_type": "markdown",
   "metadata": {
    "colab_type": "text",
    "id": "Q1lWX944wiup"
   },
   "source": [
    "## IsolationForest best parameters"
   ]
  },
  {
   "cell_type": "code",
   "execution_count": 0,
   "metadata": {
    "colab": {},
    "colab_type": "code",
    "id": "d2l3pBQIwiET"
   },
   "outputs": [],
   "source": [
    "IsolationForest_best_params = IFParams\n",
    "\n",
    "IsolationForest__best_estimator = modelsAndGrids[0][1].set_params(**IsolationForest_best_params)"
   ]
  },
  {
   "cell_type": "code",
   "execution_count": 0,
   "metadata": {
    "colab": {
     "base_uri": "https://localhost:8080/",
     "height": 1000
    },
    "colab_type": "code",
    "id": "J7OO_Ijs1B-T",
    "outputId": "84f6fed9-0f24-4282-f8a0-ade89bfdbdf9"
   },
   "outputs": [
    {
     "name": "stdout",
     "output_type": "stream",
     "text": [
      "y_predicted [-1  1  1  1  1  1  1  1]\n",
      "Y_test [[1.]\n",
      " [1.]\n",
      " [1.]\n",
      " [1.]\n",
      " [1.]\n",
      " [1.]\n",
      " [1.]\n",
      " [1.]]\n",
      "Accuracy:  0.875 \n",
      "\n",
      "\n",
      "classification report :\n",
      "               precision    recall  f1-score   support\n",
      "\n",
      "        -1.0       0.00      0.00      0.00         0\n",
      "         1.0       1.00      0.88      0.93         8\n",
      "\n",
      "    accuracy                           0.88         8\n",
      "   macro avg       0.50      0.44      0.47         8\n",
      "weighted avg       1.00      0.88      0.93         8\n",
      "\n",
      "[[  nan   nan]\n",
      " [0.125 0.875]]\n"
     ]
    },
    {
     "data": {
      "image/png": "[encoded data removed]",
      "text/plain": [
       "<Figure size 720x720 with 2 Axes>"
      ]
     },
     "metadata": {
      "needs_background": "light",
      "tags": []
     },
     "output_type": "display_data"
    }
   ],
   "source": [
    "metricsIF = MetricsBestParams(IsolationForest__best_estimator,Xtrain_original,Xtest_original,Ytest_original)"
   ]
  },
  {
   "cell_type": "markdown",
   "metadata": {
    "colab_type": "text",
    "id": "rLp4SHu3wnsc"
   },
   "source": [
    "OneClassSVM best parameters"
   ]
  },
  {
   "cell_type": "code",
   "execution_count": 0,
   "metadata": {
    "colab": {},
    "colab_type": "code",
    "id": "KxE2rh54yiZn"
   },
   "outputs": [],
   "source": [
    "# SVM_best_params = {'gamma': 'scale', 'kernel': 'sigmoid', 'nu': 0.01}\n",
    "SVM_best_params = SVMParams\n",
    "SVM__best_estimator = modelsAndGrids[1][1].set_params(**SVM_best_params)"
   ]
  },
  {
   "cell_type": "code",
   "execution_count": 0,
   "metadata": {
    "colab": {
     "base_uri": "https://localhost:8080/",
     "height": 883
    },
    "colab_type": "code",
    "id": "-AP7uASG_R19",
    "outputId": "f3621db8-af72-4584-a081-2efd8f0ea3ea"
   },
   "outputs": [
    {
     "name": "stdout",
     "output_type": "stream",
     "text": [
      "y_predicted [ 1  1  1  1  1 -1  1  1]\n",
      "Accuracy:  0.875 \n",
      "\n",
      "\n",
      "classification report :\n",
      "               precision    recall  f1-score   support\n",
      "\n",
      "        -1.0       0.00      0.00      0.00         0\n",
      "         1.0       1.00      0.88      0.93         8\n",
      "\n",
      "    accuracy                           0.88         8\n",
      "   macro avg       0.50      0.44      0.47         8\n",
      "weighted avg       1.00      0.88      0.93         8\n",
      "\n",
      "[[  nan   nan]\n",
      " [0.125 0.875]]\n"
     ]
    },
    {
     "data": {
      "image/png": "[encoded data removed]",
      "text/plain": [
       "<Figure size 720x720 with 2 Axes>"
      ]
     },
     "metadata": {
      "needs_background": "light",
      "tags": []
     },
     "output_type": "display_data"
    }
   ],
   "source": [
    "metricsSVM = MetricsBestParams(SVM__best_estimator,Xtrain_original,Xtest_original,Ytest_original)"
   ]
  },
  {
   "cell_type": "markdown",
   "metadata": {
    "colab_type": "text",
    "id": "hg7h4jK9YS26"
   },
   "source": [
    "### Builder model definition (TODO)"
   ]
  },
  {
   "cell_type": "code",
   "execution_count": 0,
   "metadata": {
    "colab": {},
    "colab_type": "code",
    "id": "vZRwEw05PyVn"
   },
   "outputs": [],
   "source": [
    "def build_model(model, parameters, train_size, X,Y):\n",
    "  # Xtrain_original, Xtest_original, Ytrain_original, Ytest_original = train_test_split(X, Y, train_size=20)\n",
    "  # Xtrain, Xtest, Ytrain, Ytest = train_test_split(X, Y, train_size=train_size)\n",
    "  #Data Normalization\n",
    "\n",
    "  Folds = 10\n",
    "  accuracyTrainFolds = np.zeros((Folds,1))\n",
    "  accuracyValidFolds = np.zeros((Folds,1))\n",
    "  stdTrainFolds = np.zeros((Folds,1))\n",
    "  stdValidFolds = np.zeros((Folds,1))\n",
    "  j=0\n",
    "\n",
    "  for i in range(Folds):\n",
    "    Xtrain, Xtest, Ytrain, Ytest = train_test_split(X, Y, train_size=train_size)\n",
    "\n",
    "    scaler = preprocessing.StandardScaler().fit(Xtrain)\n",
    "    Xtrain = scaler.transform(Xtrain)\n",
    "    Xtest = scaler.transform(Xtest)\n",
    "    model.fit(Xtrain)\n",
    "\n",
    "    ypred = model.predict(Xtest)\n",
    "    accuracyTrainFolds[i], accuracyValidFolds[i], stdTrainFolds[i], stdValidFolds[i] = metrics(Ytrain,Ytest,ypred)\n",
    "  \n",
    "  accuracyTrain, accuracyValid, stdTrain, stdValid = np.mean(accuracyTrainFolds), np.mean(accuracyValidFolds), np.mean(stdTrainFolds), np.mean(stdValidFolds)\n",
    "  # kf = KFold(n_splits=Folds,shuffle=True)\n",
    "  # model = GridSearchCV(model,parameters,scores,-1,refit='precision',return_train_score=True, cv=kf)\n",
    "  # model.fit(X,Y)\n",
    "  return accuracyTrain, accuracyValid, stdTrain, stdValid\n"
   ]
  },
  {
   "cell_type": "code",
   "execution_count": 0,
   "metadata": {
    "colab": {},
    "colab_type": "code",
    "id": "dtC8tquE5E-k"
   },
   "outputs": [],
   "source": [
    "accuracyTrain, accuracyValid, stdTrain, stdValid = build_model(SVM__best_estimator,SVM_best_params,1,X,Y)"
   ]
  },
  {
   "cell_type": "markdown",
   "metadata": {
    "colab_type": "text",
    "id": "8rtLG42DVasF"
   },
   "source": [
    "## 3. Learning Curve"
   ]
  },
  {
   "cell_type": "code",
   "execution_count": 0,
   "metadata": {
    "colab": {},
    "colab_type": "code",
    "id": "VpmYgkB9VYup"
   },
   "outputs": [],
   "source": [
    "def learning_curve(model,best_parameters ,X,Y, suptitle='', title='', xlabel='Training Set Size', ylabel='Acurracy'):\n",
    "    \"\"\"\n",
    "    Parameters\n",
    "    ----------\n",
    "    suptitle : str\n",
    "        Chart suptitle\n",
    "    title: str\n",
    "        Chart title\n",
    "    xlabel: str\n",
    "        Label for the X axis\n",
    "    ylabel: str\n",
    "        Label for the y axis\n",
    "    Returns\n",
    "    -------\n",
    "    Plot of learning curves\n",
    "    \"\"\"\n",
    "    \n",
    "    # create lists to store train and validation scores\n",
    "    train_score = []\n",
    "    val_score = []\n",
    "    std_train= []\n",
    "    std_val=[]\n",
    "\n",
    "    # create ten incremental training set sizes\n",
    "    training_set_sizes = np.linspace(5,24,19,dtype=int).tolist()\n",
    "    # for each one of those training set sizes\n",
    "    \n",
    "    for i in training_set_sizes:\n",
    "      EfficiencyTrain , EfficiencyVal , stdTrain, stdVal = build_model(model, best_parameters, i, X,Y)\n",
    "\n",
    "      # store the scores in their respective lists\n",
    "      train_score.append(EfficiencyTrain)\n",
    "      val_score.append(EfficiencyVal)\n",
    "      std_train.append(stdTrain)\n",
    "      std_val.append(stdVal)\n",
    "\n",
    "    train_score =np.array(train_score)\n",
    "    val_score =np.array(val_score)\n",
    "    std_train =np.array(std_train)\n",
    "    std_val =np.array(std_val)\n",
    "\n",
    "\n",
    "    # plot learning curves\n",
    "    fig, ax = plt.subplots(figsize=(14, 9))\n",
    "    ax.plot(training_set_sizes, train_score, c='gold')\n",
    "    ax.plot(training_set_sizes, val_score, c='steelblue')\n",
    "    \n",
    "    ax.fill_between(training_set_sizes,train_score+std_train,train_score-std_train,facecolor='gold',alpha=0.5)\n",
    "    ax.fill_between(training_set_sizes,val_score+std_val,val_score-std_val,facecolor='steelblue',alpha=0.5)\n",
    "\n",
    "    # format the chart to make it look nice\n",
    "    fig.suptitle(suptitle, fontweight='bold', fontsize='20')\n",
    "    ax.set_title(title, size=20)\n",
    "    ax.set_xlabel(xlabel, size=16)\n",
    "    ax.set_ylabel(ylabel, size=16)\n",
    "    ax.legend(['Train set', 'Test set'], fontsize=16)\n",
    "    ax.tick_params(axis='both', labelsize=12)\n",
    "    ax.set_ylim(0, 1)\n",
    "\n",
    "    def percentages(x, pos):\n",
    "        \"\"\"The two args are the value and tick position\"\"\"\n",
    "        if x < 1:\n",
    "            return '{:1.0f}'.format(x*100)\n",
    "        return '{:1.0f}%'.format(x*100)\n",
    "\n",
    "    def numbers(x, pos):\n",
    "        \"\"\"The two args are the value and tick position\"\"\"\n",
    "        if x >= 1000:\n",
    "            return '{:1,.0f}'.format(x)\n",
    "        return '{:1.0f}'.format(x)\n",
    "    data = {'Train_Size':training_set_sizes, 'mean_train_Accuracy':train_score,'mean_test_Accuracy':val_score,'std_train_Accuracy':std_train,'std_test_Accuracy':std_val}\n",
    "    df_split_params = pd.DataFrame(data)\n",
    "    return df_split_params"
   ]
  },
  {
   "cell_type": "code",
   "execution_count": 0,
   "metadata": {
    "colab": {
     "base_uri": "https://localhost:8080/",
     "height": 564
    },
    "colab_type": "code",
    "id": "F-0iMQzhwnwi",
    "outputId": "81eeccc9-4389-4bfe-d5c6-8c2ea77bae18"
   },
   "outputs": [
    {
     "data": {
      "image/png": "[encoded data removed]",
      "text/plain": [
       "<Figure size 1008x648 with 1 Axes>"
      ]
     },
     "metadata": {
      "needs_background": "light",
      "tags": []
     },
     "output_type": "display_data"
    }
   ],
   "source": [
    "df_split_params =learning_curve(model=SVM__best_estimator,best_parameters=SVM_best_params, X=X,Y=Y)"
   ]
  },
  {
   "cell_type": "code",
   "execution_count": 0,
   "metadata": {
    "colab": {
     "base_uri": "https://localhost:8080/",
     "height": 631
    },
    "colab_type": "code",
    "id": "ypEvO215x4GR",
    "outputId": "1dd0ab91-ea60-495d-c51a-b65c6cf56fa8"
   },
   "outputs": [
    {
     "data": {
      "text/html": [
       "<div>\n",
       "<style scoped>\n",
       "    .dataframe tbody tr th:only-of-type {\n",
       "        vertical-align: middle;\n",
       "    }\n",
       "\n",
       "    .dataframe tbody tr th {\n",
       "        vertical-align: top;\n",
       "    }\n",
       "\n",
       "    .dataframe thead th {\n",
       "        text-align: right;\n",
       "    }\n",
       "</style>\n",
       "<table border=\"1\" class=\"dataframe\">\n",
       "  <thead>\n",
       "    <tr style=\"text-align: right;\">\n",
       "      <th></th>\n",
       "      <th>Train_Size</th>\n",
       "      <th>mean_train_Accuracy</th>\n",
       "      <th>mean_test_Accuracy</th>\n",
       "      <th>std_train_Accuracy</th>\n",
       "      <th>std_test_Accuracy</th>\n",
       "    </tr>\n",
       "  </thead>\n",
       "  <tbody>\n",
       "    <tr>\n",
       "      <th>0</th>\n",
       "      <td>5</td>\n",
       "      <td>0.0</td>\n",
       "      <td>0.595000</td>\n",
       "      <td>0.0</td>\n",
       "      <td>0.0</td>\n",
       "    </tr>\n",
       "    <tr>\n",
       "      <th>1</th>\n",
       "      <td>6</td>\n",
       "      <td>0.0</td>\n",
       "      <td>0.700000</td>\n",
       "      <td>0.0</td>\n",
       "      <td>0.0</td>\n",
       "    </tr>\n",
       "    <tr>\n",
       "      <th>2</th>\n",
       "      <td>7</td>\n",
       "      <td>0.0</td>\n",
       "      <td>0.705556</td>\n",
       "      <td>0.0</td>\n",
       "      <td>0.0</td>\n",
       "    </tr>\n",
       "    <tr>\n",
       "      <th>3</th>\n",
       "      <td>8</td>\n",
       "      <td>0.0</td>\n",
       "      <td>0.688235</td>\n",
       "      <td>0.0</td>\n",
       "      <td>0.0</td>\n",
       "    </tr>\n",
       "    <tr>\n",
       "      <th>4</th>\n",
       "      <td>9</td>\n",
       "      <td>0.0</td>\n",
       "      <td>0.668750</td>\n",
       "      <td>0.0</td>\n",
       "      <td>0.0</td>\n",
       "    </tr>\n",
       "    <tr>\n",
       "      <th>5</th>\n",
       "      <td>10</td>\n",
       "      <td>0.0</td>\n",
       "      <td>0.613333</td>\n",
       "      <td>0.0</td>\n",
       "      <td>0.0</td>\n",
       "    </tr>\n",
       "    <tr>\n",
       "      <th>6</th>\n",
       "      <td>11</td>\n",
       "      <td>0.0</td>\n",
       "      <td>0.607143</td>\n",
       "      <td>0.0</td>\n",
       "      <td>0.0</td>\n",
       "    </tr>\n",
       "    <tr>\n",
       "      <th>7</th>\n",
       "      <td>12</td>\n",
       "      <td>0.0</td>\n",
       "      <td>0.692308</td>\n",
       "      <td>0.0</td>\n",
       "      <td>0.0</td>\n",
       "    </tr>\n",
       "    <tr>\n",
       "      <th>8</th>\n",
       "      <td>13</td>\n",
       "      <td>0.0</td>\n",
       "      <td>0.641667</td>\n",
       "      <td>0.0</td>\n",
       "      <td>0.0</td>\n",
       "    </tr>\n",
       "    <tr>\n",
       "      <th>9</th>\n",
       "      <td>14</td>\n",
       "      <td>0.0</td>\n",
       "      <td>0.654545</td>\n",
       "      <td>0.0</td>\n",
       "      <td>0.0</td>\n",
       "    </tr>\n",
       "    <tr>\n",
       "      <th>10</th>\n",
       "      <td>15</td>\n",
       "      <td>0.0</td>\n",
       "      <td>0.740000</td>\n",
       "      <td>0.0</td>\n",
       "      <td>0.0</td>\n",
       "    </tr>\n",
       "    <tr>\n",
       "      <th>11</th>\n",
       "      <td>16</td>\n",
       "      <td>0.0</td>\n",
       "      <td>0.677778</td>\n",
       "      <td>0.0</td>\n",
       "      <td>0.0</td>\n",
       "    </tr>\n",
       "    <tr>\n",
       "      <th>12</th>\n",
       "      <td>17</td>\n",
       "      <td>0.0</td>\n",
       "      <td>0.625000</td>\n",
       "      <td>0.0</td>\n",
       "      <td>0.0</td>\n",
       "    </tr>\n",
       "    <tr>\n",
       "      <th>13</th>\n",
       "      <td>18</td>\n",
       "      <td>0.0</td>\n",
       "      <td>0.600000</td>\n",
       "      <td>0.0</td>\n",
       "      <td>0.0</td>\n",
       "    </tr>\n",
       "    <tr>\n",
       "      <th>14</th>\n",
       "      <td>19</td>\n",
       "      <td>0.0</td>\n",
       "      <td>0.700000</td>\n",
       "      <td>0.0</td>\n",
       "      <td>0.0</td>\n",
       "    </tr>\n",
       "    <tr>\n",
       "      <th>15</th>\n",
       "      <td>20</td>\n",
       "      <td>0.0</td>\n",
       "      <td>0.700000</td>\n",
       "      <td>0.0</td>\n",
       "      <td>0.0</td>\n",
       "    </tr>\n",
       "    <tr>\n",
       "      <th>16</th>\n",
       "      <td>21</td>\n",
       "      <td>0.0</td>\n",
       "      <td>0.700000</td>\n",
       "      <td>0.0</td>\n",
       "      <td>0.0</td>\n",
       "    </tr>\n",
       "    <tr>\n",
       "      <th>17</th>\n",
       "      <td>22</td>\n",
       "      <td>0.0</td>\n",
       "      <td>0.733333</td>\n",
       "      <td>0.0</td>\n",
       "      <td>0.0</td>\n",
       "    </tr>\n",
       "    <tr>\n",
       "      <th>18</th>\n",
       "      <td>24</td>\n",
       "      <td>0.7</td>\n",
       "      <td>0.700000</td>\n",
       "      <td>0.0</td>\n",
       "      <td>0.0</td>\n",
       "    </tr>\n",
       "  </tbody>\n",
       "</table>\n",
       "</div>"
      ],
      "text/plain": [
       "    Train_Size  mean_train_Accuracy  ...  std_train_Accuracy  std_test_Accuracy\n",
       "0            5                  0.0  ...                 0.0                0.0\n",
       "1            6                  0.0  ...                 0.0                0.0\n",
       "2            7                  0.0  ...                 0.0                0.0\n",
       "3            8                  0.0  ...                 0.0                0.0\n",
       "4            9                  0.0  ...                 0.0                0.0\n",
       "5           10                  0.0  ...                 0.0                0.0\n",
       "6           11                  0.0  ...                 0.0                0.0\n",
       "7           12                  0.0  ...                 0.0                0.0\n",
       "8           13                  0.0  ...                 0.0                0.0\n",
       "9           14                  0.0  ...                 0.0                0.0\n",
       "10          15                  0.0  ...                 0.0                0.0\n",
       "11          16                  0.0  ...                 0.0                0.0\n",
       "12          17                  0.0  ...                 0.0                0.0\n",
       "13          18                  0.0  ...                 0.0                0.0\n",
       "14          19                  0.0  ...                 0.0                0.0\n",
       "15          20                  0.0  ...                 0.0                0.0\n",
       "16          21                  0.0  ...                 0.0                0.0\n",
       "17          22                  0.0  ...                 0.0                0.0\n",
       "18          24                  0.7  ...                 0.0                0.0\n",
       "\n",
       "[19 rows x 5 columns]"
      ]
     },
     "execution_count": 46,
     "metadata": {
      "tags": []
     },
     "output_type": "execute_result"
    }
   ],
   "source": [
    "df_split_params"
   ]
  },
  {
   "cell_type": "code",
   "execution_count": 0,
   "metadata": {
    "colab": {
     "base_uri": "https://localhost:8080/",
     "height": 564
    },
    "colab_type": "code",
    "id": "XaFK1_oayDb5",
    "outputId": "f540d3de-f3fd-4ee8-b2ba-725eb8f51f9c"
   },
   "outputs": [
    {
     "data": {
      "image/png": "[encoded data removed]",
      "text/plain": [
       "<Figure size 1008x648 with 1 Axes>"
      ]
     },
     "metadata": {
      "needs_background": "light",
      "tags": []
     },
     "output_type": "display_data"
    }
   ],
   "source": [
    "df_split_paramsIF =learning_curve(model=IsolationForest__best_estimator,best_parameters=IsolationForest_best_params, X=X,Y=Y)"
   ]
  },
  {
   "cell_type": "code",
   "execution_count": 0,
   "metadata": {
    "colab": {
     "base_uri": "https://localhost:8080/",
     "height": 631
    },
    "colab_type": "code",
    "id": "GIVfUk3WyXPq",
    "outputId": "535327d7-b985-4f0e-fa75-6a98009404c4"
   },
   "outputs": [
    {
     "data": {
      "text/html": [
       "<div>\n",
       "<style scoped>\n",
       "    .dataframe tbody tr th:only-of-type {\n",
       "        vertical-align: middle;\n",
       "    }\n",
       "\n",
       "    .dataframe tbody tr th {\n",
       "        vertical-align: top;\n",
       "    }\n",
       "\n",
       "    .dataframe thead th {\n",
       "        text-align: right;\n",
       "    }\n",
       "</style>\n",
       "<table border=\"1\" class=\"dataframe\">\n",
       "  <thead>\n",
       "    <tr style=\"text-align: right;\">\n",
       "      <th></th>\n",
       "      <th>Train_Size</th>\n",
       "      <th>mean_train_Accuracy</th>\n",
       "      <th>mean_test_Accuracy</th>\n",
       "      <th>std_train_Accuracy</th>\n",
       "      <th>std_test_Accuracy</th>\n",
       "    </tr>\n",
       "  </thead>\n",
       "  <tbody>\n",
       "    <tr>\n",
       "      <th>0</th>\n",
       "      <td>5</td>\n",
       "      <td>0.0</td>\n",
       "      <td>0.970000</td>\n",
       "      <td>0.0</td>\n",
       "      <td>0.0</td>\n",
       "    </tr>\n",
       "    <tr>\n",
       "      <th>1</th>\n",
       "      <td>6</td>\n",
       "      <td>0.0</td>\n",
       "      <td>0.978947</td>\n",
       "      <td>0.0</td>\n",
       "      <td>0.0</td>\n",
       "    </tr>\n",
       "    <tr>\n",
       "      <th>2</th>\n",
       "      <td>7</td>\n",
       "      <td>0.0</td>\n",
       "      <td>0.922222</td>\n",
       "      <td>0.0</td>\n",
       "      <td>0.0</td>\n",
       "    </tr>\n",
       "    <tr>\n",
       "      <th>3</th>\n",
       "      <td>8</td>\n",
       "      <td>0.0</td>\n",
       "      <td>0.964706</td>\n",
       "      <td>0.0</td>\n",
       "      <td>0.0</td>\n",
       "    </tr>\n",
       "    <tr>\n",
       "      <th>4</th>\n",
       "      <td>9</td>\n",
       "      <td>0.0</td>\n",
       "      <td>0.968750</td>\n",
       "      <td>0.0</td>\n",
       "      <td>0.0</td>\n",
       "    </tr>\n",
       "    <tr>\n",
       "      <th>5</th>\n",
       "      <td>10</td>\n",
       "      <td>0.0</td>\n",
       "      <td>0.980000</td>\n",
       "      <td>0.0</td>\n",
       "      <td>0.0</td>\n",
       "    </tr>\n",
       "    <tr>\n",
       "      <th>6</th>\n",
       "      <td>11</td>\n",
       "      <td>0.0</td>\n",
       "      <td>0.971429</td>\n",
       "      <td>0.0</td>\n",
       "      <td>0.0</td>\n",
       "    </tr>\n",
       "    <tr>\n",
       "      <th>7</th>\n",
       "      <td>12</td>\n",
       "      <td>0.0</td>\n",
       "      <td>0.976923</td>\n",
       "      <td>0.0</td>\n",
       "      <td>0.0</td>\n",
       "    </tr>\n",
       "    <tr>\n",
       "      <th>8</th>\n",
       "      <td>13</td>\n",
       "      <td>0.0</td>\n",
       "      <td>0.941667</td>\n",
       "      <td>0.0</td>\n",
       "      <td>0.0</td>\n",
       "    </tr>\n",
       "    <tr>\n",
       "      <th>9</th>\n",
       "      <td>14</td>\n",
       "      <td>0.0</td>\n",
       "      <td>0.954545</td>\n",
       "      <td>0.0</td>\n",
       "      <td>0.0</td>\n",
       "    </tr>\n",
       "    <tr>\n",
       "      <th>10</th>\n",
       "      <td>15</td>\n",
       "      <td>0.0</td>\n",
       "      <td>0.940000</td>\n",
       "      <td>0.0</td>\n",
       "      <td>0.0</td>\n",
       "    </tr>\n",
       "    <tr>\n",
       "      <th>11</th>\n",
       "      <td>16</td>\n",
       "      <td>0.0</td>\n",
       "      <td>0.966667</td>\n",
       "      <td>0.0</td>\n",
       "      <td>0.0</td>\n",
       "    </tr>\n",
       "    <tr>\n",
       "      <th>12</th>\n",
       "      <td>17</td>\n",
       "      <td>0.0</td>\n",
       "      <td>0.950000</td>\n",
       "      <td>0.0</td>\n",
       "      <td>0.0</td>\n",
       "    </tr>\n",
       "    <tr>\n",
       "      <th>13</th>\n",
       "      <td>18</td>\n",
       "      <td>0.0</td>\n",
       "      <td>0.985714</td>\n",
       "      <td>0.0</td>\n",
       "      <td>0.0</td>\n",
       "    </tr>\n",
       "    <tr>\n",
       "      <th>14</th>\n",
       "      <td>19</td>\n",
       "      <td>0.0</td>\n",
       "      <td>0.966667</td>\n",
       "      <td>0.0</td>\n",
       "      <td>0.0</td>\n",
       "    </tr>\n",
       "    <tr>\n",
       "      <th>15</th>\n",
       "      <td>20</td>\n",
       "      <td>0.0</td>\n",
       "      <td>1.000000</td>\n",
       "      <td>0.0</td>\n",
       "      <td>0.0</td>\n",
       "    </tr>\n",
       "    <tr>\n",
       "      <th>16</th>\n",
       "      <td>21</td>\n",
       "      <td>0.0</td>\n",
       "      <td>0.950000</td>\n",
       "      <td>0.0</td>\n",
       "      <td>0.0</td>\n",
       "    </tr>\n",
       "    <tr>\n",
       "      <th>17</th>\n",
       "      <td>22</td>\n",
       "      <td>0.0</td>\n",
       "      <td>0.966667</td>\n",
       "      <td>0.0</td>\n",
       "      <td>0.0</td>\n",
       "    </tr>\n",
       "    <tr>\n",
       "      <th>18</th>\n",
       "      <td>24</td>\n",
       "      <td>1.0</td>\n",
       "      <td>1.000000</td>\n",
       "      <td>0.0</td>\n",
       "      <td>0.0</td>\n",
       "    </tr>\n",
       "  </tbody>\n",
       "</table>\n",
       "</div>"
      ],
      "text/plain": [
       "    Train_Size  mean_train_Accuracy  ...  std_train_Accuracy  std_test_Accuracy\n",
       "0            5                  0.0  ...                 0.0                0.0\n",
       "1            6                  0.0  ...                 0.0                0.0\n",
       "2            7                  0.0  ...                 0.0                0.0\n",
       "3            8                  0.0  ...                 0.0                0.0\n",
       "4            9                  0.0  ...                 0.0                0.0\n",
       "5           10                  0.0  ...                 0.0                0.0\n",
       "6           11                  0.0  ...                 0.0                0.0\n",
       "7           12                  0.0  ...                 0.0                0.0\n",
       "8           13                  0.0  ...                 0.0                0.0\n",
       "9           14                  0.0  ...                 0.0                0.0\n",
       "10          15                  0.0  ...                 0.0                0.0\n",
       "11          16                  0.0  ...                 0.0                0.0\n",
       "12          17                  0.0  ...                 0.0                0.0\n",
       "13          18                  0.0  ...                 0.0                0.0\n",
       "14          19                  0.0  ...                 0.0                0.0\n",
       "15          20                  0.0  ...                 0.0                0.0\n",
       "16          21                  0.0  ...                 0.0                0.0\n",
       "17          22                  0.0  ...                 0.0                0.0\n",
       "18          24                  1.0  ...                 0.0                0.0\n",
       "\n",
       "[19 rows x 5 columns]"
      ]
     },
     "execution_count": 48,
     "metadata": {
      "tags": []
     },
     "output_type": "execute_result"
    }
   ],
   "source": [
    "df_split_paramsIF"
   ]
  }
 ],
 "metadata": {
  "colab": {
   "collapsed_sections": [],
   "name": "bio-authemtication.ipynb",
   "provenance": []
  },
  "kernelspec": {
   "display_name": "Python 3",
   "language": "python",
   "name": "python3"
  },
  "language_info": {
   "codemirror_mode": {
    "name": "ipython",
    "version": 3
   },
   "file_extension": ".py",
   "mimetype": "text/x-python",
   "name": "python",
   "nbconvert_exporter": "python",
   "pygments_lexer": "ipython3",
   "version": "3.7.6"
  }
 },
 "nbformat": 4,
 "nbformat_minor": 1
}
