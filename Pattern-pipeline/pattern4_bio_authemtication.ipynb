{
  "nbformat": 4,
  "nbformat_minor": 0,
  "metadata": {
    "kernelspec": {
      "display_name": "Python 3",
      "language": "python",
      "name": "python3"
    },
    "language_info": {
      "codemirror_mode": {
        "name": "ipython",
        "version": 3
      },
      "file_extension": ".py",
      "mimetype": "text/x-python",
      "name": "python",
      "nbconvert_exporter": "python",
      "pygments_lexer": "ipython3",
      "version": "3.7.0"
    },
    "colab": {
      "name": "pattern4- bio-authemtication.ipynb",
      "provenance": [],
      "collapsed_sections": [
        "8rtLG42DVasF"
      ],
      "toc_visible": true
    }
  },
  "cells": [
    {
      "cell_type": "code",
      "metadata": {
        "id": "n91bGhxrvrw-",
        "colab_type": "code",
        "outputId": "dad8713b-0f25-4b75-9029-cdd9747deb63",
        "colab": {
          "base_uri": "https://localhost:8080/",
          "height": 72
        }
      },
      "source": [
        "from __future__ import division\n",
        "import math\n",
        "import matplotlib.pyplot as plt\n",
        "\n",
        "import pandas as pd # to import csv and for data manipulation\n",
        "import matplotlib.pyplot as plt # to plot graph\n",
        "import seaborn as sns # for intractve graphs\n",
        "import numpy as np # for linear algebra\n",
        "import datetime # to dela with date and time\n",
        "%matplotlib inline\n",
        "from sklearn.preprocessing import StandardScaler # for preprocessing the data\n",
        "from sklearn.ensemble import RandomForestClassifier # Random forest classifier\n",
        "from sklearn.tree import DecisionTreeClassifier # for Decision Tree classifier\n",
        "from sklearn.svm import SVC # for SVM classification\n",
        "from sklearn.linear_model import LogisticRegression\n",
        "from sklearn.model_selection import train_test_split # to split the data\n",
        "from sklearn.model_selection import KFold # For cross vbalidation\n",
        "from sklearn.model_selection import GridSearchCV # for tunnig hyper parameter it will use all combination of given parameters\n",
        "from sklearn.model_selection import RandomizedSearchCV # same for tunning hyper parameter but will use random combinations of parameters\n",
        "from sklearn.metrics import confusion_matrix,recall_score,precision_recall_curve,auc,roc_curve,roc_auc_score,classification_report\n",
        "import time\n",
        "\n",
        "import warnings\n",
        "warnings.filterwarnings('ignore')"
      ],
      "execution_count": 0,
      "outputs": [
        {
          "output_type": "stream",
          "text": [
            "/usr/local/lib/python3.6/dist-packages/statsmodels/tools/_testing.py:19: FutureWarning: pandas.util.testing is deprecated. Use the functions in the public API at pandas.testing instead.\n",
            "  import pandas.util.testing as tm\n"
          ],
          "name": "stderr"
        }
      ]
    },
    {
      "cell_type": "markdown",
      "metadata": {
        "id": "XGnjIIoWLpw8",
        "colab_type": "text"
      },
      "source": [
        "# Load data from Drive"
      ]
    },
    {
      "cell_type": "code",
      "metadata": {
        "id": "Etgr1laOcq6P",
        "colab_type": "code",
        "outputId": "716216f6-045d-4ac1-b9eb-bb0e45da95f4",
        "colab": {
          "base_uri": "https://localhost:8080/",
          "height": 1000
        }
      },
      "source": [
        "! wget https://raw.githubusercontent.com/sidneyaguirre/python-bioauthentication/master/DB/patterns-Real-4.csv\n",
        "! wget https://raw.githubusercontent.com/sidneyaguirre/python-bioauthentication/master/DB/patterns-Real-6.csv\n",
        "! wget https://raw.githubusercontent.com/sidneyaguirre/python-bioauthentication/master/DB/patterns-Real-8.csv\n",
        "\n",
        "! wget https://raw.githubusercontent.com/sidneyaguirre/python-bioauthentication/master/DB/patterns-Impostor-4.csv\n",
        "! wget https://raw.githubusercontent.com/sidneyaguirre/python-bioauthentication/master/DB/patterns-Impostor-6.csv\n",
        "! wget https://raw.githubusercontent.com/sidneyaguirre/python-bioauthentication/master/DB/patterns-Impostor-8.csv"
      ],
      "execution_count": 0,
      "outputs": [
        {
          "output_type": "stream",
          "text": [
            "--2020-05-13 16:18:39--  https://raw.githubusercontent.com/sidneyaguirre/python-bioauthentication/master/DB/patterns-Real-4.csv\n",
            "Resolving raw.githubusercontent.com (raw.githubusercontent.com)... 151.101.0.133, 151.101.64.133, 151.101.128.133, ...\n",
            "Connecting to raw.githubusercontent.com (raw.githubusercontent.com)|151.101.0.133|:443... connected.\n",
            "HTTP request sent, awaiting response... 200 OK\n",
            "Length: 387284 (378K) [text/plain]\n",
            "Saving to: ‘patterns-Real-4.csv’\n",
            "\n",
            "\rpatterns-Real-4.csv   0%[                    ]       0  --.-KB/s               \rpatterns-Real-4.csv 100%[===================>] 378.21K  --.-KB/s    in 0.02s   \n",
            "\n",
            "2020-05-13 16:18:39 (18.1 MB/s) - ‘patterns-Real-4.csv’ saved [387284/387284]\n",
            "\n",
            "--2020-05-13 16:18:41--  https://raw.githubusercontent.com/sidneyaguirre/python-bioauthentication/master/DB/patterns-Real-6.csv\n",
            "Resolving raw.githubusercontent.com (raw.githubusercontent.com)... 151.101.0.133, 151.101.64.133, 151.101.128.133, ...\n",
            "Connecting to raw.githubusercontent.com (raw.githubusercontent.com)|151.101.0.133|:443... connected.\n",
            "HTTP request sent, awaiting response... 200 OK\n",
            "Length: 645598 (630K) [text/plain]\n",
            "Saving to: ‘patterns-Real-6.csv’\n",
            "\n",
            "patterns-Real-6.csv 100%[===================>] 630.47K  --.-KB/s    in 0.03s   \n",
            "\n",
            "2020-05-13 16:18:41 (19.1 MB/s) - ‘patterns-Real-6.csv’ saved [645598/645598]\n",
            "\n",
            "--2020-05-13 16:18:43--  https://raw.githubusercontent.com/sidneyaguirre/python-bioauthentication/master/DB/patterns-Real-8.csv\n",
            "Resolving raw.githubusercontent.com (raw.githubusercontent.com)... 151.101.0.133, 151.101.64.133, 151.101.128.133, ...\n",
            "Connecting to raw.githubusercontent.com (raw.githubusercontent.com)|151.101.0.133|:443... connected.\n",
            "HTTP request sent, awaiting response... 200 OK\n",
            "Length: 762903 (745K) [text/plain]\n",
            "Saving to: ‘patterns-Real-8.csv’\n",
            "\n",
            "patterns-Real-8.csv 100%[===================>] 745.02K  --.-KB/s    in 0.04s   \n",
            "\n",
            "2020-05-13 16:18:44 (20.3 MB/s) - ‘patterns-Real-8.csv’ saved [762903/762903]\n",
            "\n",
            "--2020-05-13 16:18:45--  https://raw.githubusercontent.com/sidneyaguirre/python-bioauthentication/master/DB/patterns-Impostor-4.csv\n",
            "Resolving raw.githubusercontent.com (raw.githubusercontent.com)... 151.101.0.133, 151.101.64.133, 151.101.128.133, ...\n",
            "Connecting to raw.githubusercontent.com (raw.githubusercontent.com)|151.101.0.133|:443... connected.\n",
            "HTTP request sent, awaiting response... 200 OK\n",
            "Length: 77735 (76K) [text/plain]\n",
            "Saving to: ‘patterns-Impostor-4.csv’\n",
            "\n",
            "patterns-Impostor-4 100%[===================>]  75.91K  --.-KB/s    in 0.009s  \n",
            "\n",
            "2020-05-13 16:18:45 (8.41 MB/s) - ‘patterns-Impostor-4.csv’ saved [77735/77735]\n",
            "\n",
            "--2020-05-13 16:18:47--  https://raw.githubusercontent.com/sidneyaguirre/python-bioauthentication/master/DB/patterns-Impostor-6.csv\n",
            "Resolving raw.githubusercontent.com (raw.githubusercontent.com)... 151.101.0.133, 151.101.64.133, 151.101.128.133, ...\n",
            "Connecting to raw.githubusercontent.com (raw.githubusercontent.com)|151.101.0.133|:443... connected.\n",
            "HTTP request sent, awaiting response... 200 OK\n",
            "Length: 115282 (113K) [text/plain]\n",
            "Saving to: ‘patterns-Impostor-6.csv’\n",
            "\n",
            "patterns-Impostor-6 100%[===================>] 112.58K  --.-KB/s    in 0.01s   \n",
            "\n",
            "2020-05-13 16:18:47 (9.96 MB/s) - ‘patterns-Impostor-6.csv’ saved [115282/115282]\n",
            "\n",
            "--2020-05-13 16:18:49--  https://raw.githubusercontent.com/sidneyaguirre/python-bioauthentication/master/DB/patterns-Impostor-8.csv\n",
            "Resolving raw.githubusercontent.com (raw.githubusercontent.com)... 151.101.0.133, 151.101.64.133, 151.101.128.133, ...\n",
            "Connecting to raw.githubusercontent.com (raw.githubusercontent.com)|151.101.0.133|:443... connected.\n",
            "HTTP request sent, awaiting response... 200 OK\n",
            "Length: 153557 (150K) [text/plain]\n",
            "Saving to: ‘patterns-Impostor-8.csv’\n",
            "\n",
            "patterns-Impostor-8 100%[===================>] 149.96K  --.-KB/s    in 0.01s   \n",
            "\n",
            "2020-05-13 16:18:49 (10.3 MB/s) - ‘patterns-Impostor-8.csv’ saved [153557/153557]\n",
            "\n"
          ],
          "name": "stdout"
        }
      ]
    },
    {
      "cell_type": "code",
      "metadata": {
        "id": "ftXMrVx6Rk8x",
        "colab_type": "code",
        "colab": {}
      },
      "source": [
        "#Data set csv files\n",
        "datapatterns4 = pd.read_csv('patterns-Real-4.csv')\n",
        "datapatterns6 = pd.read_csv('patterns-Real-6.csv')\n",
        "datapatterns8 = pd.read_csv('patterns-Real-8.csv')\n",
        "datapatterns4Impostor = pd.read_csv('patterns-Impostor-4.csv')\n",
        "datapatterns6Impostor  = pd.read_csv('patterns-Impostor-6.csv')\n",
        "datapatterns8Impostor  = pd.read_csv('patterns-Impostor-8.csv')"
      ],
      "execution_count": 0,
      "outputs": []
    },
    {
      "cell_type": "code",
      "metadata": {
        "id": "buFLPJFlCR1C",
        "colab_type": "code",
        "colab": {}
      },
      "source": [
        "listUsers = [1,2,3,4,7,8,11,12,15,16,17,19,20,22,24,25,27,28,33,34,36,37,39,41,42,43]"
      ],
      "execution_count": 0,
      "outputs": []
    },
    {
      "cell_type": "markdown",
      "metadata": {
        "id": "KD0-Zlh_L3Pg",
        "colab_type": "text"
      },
      "source": [
        "# Cleaning data"
      ]
    },
    {
      "cell_type": "markdown",
      "metadata": {
        "id": "uUC_N7XHvrxH",
        "colab_type": "text"
      },
      "source": [
        "Hence we can see there are 2911 rows and 72 columns"
      ]
    },
    {
      "cell_type": "code",
      "metadata": {
        "id": "LO5gk6fpXwKz",
        "colab_type": "code",
        "colab": {}
      },
      "source": [
        "#dataless-columns in dataPin are taken away\n",
        "def dataCleaning(data):\n",
        "  data = data.dropna(axis = 0, how = 'all')\n",
        "  return data"
      ],
      "execution_count": 0,
      "outputs": []
    },
    {
      "cell_type": "markdown",
      "metadata": {
        "id": "874AbdpovrxN",
        "colab_type": "text"
      },
      "source": [
        "data_new =data.dropna(axis=0,how='all')\n",
        "data_new.head()\n",
        "data_new.columns"
      ]
    },
    {
      "cell_type": "code",
      "metadata": {
        "id": "twa7MR3vl2CD",
        "colab_type": "code",
        "colab": {}
      },
      "source": [
        "def listUser(dataset, listUsers, target=1):\n",
        "\n",
        "  users = list() \n",
        "  cleaned_data = dataCleaning(dataset)\n",
        "  for i in listUsers:\n",
        "\n",
        "    df_user = cleaned_data[cleaned_data['user'] == i]\n",
        "    df_user['target'] = target\n",
        "    df_user.drop(['user','length'],axis=1, inplace=True)\n",
        "    user = df_user.values\n",
        "    users.append(user)\n",
        "      \n",
        "  return users"
      ],
      "execution_count": 0,
      "outputs": []
    },
    {
      "cell_type": "code",
      "metadata": {
        "id": "4xGtEjXe28fb",
        "colab_type": "code",
        "colab": {}
      },
      "source": [
        "listUserpatterns4 = listUser(datapatterns4, listUsers)\n",
        "listUserpatterns6 = listUser(datapatterns6, listUsers)\n",
        "listUserpatterns8 = listUser(datapatterns8, listUsers)\n",
        "\n",
        "listUserpatterns4Impostors = listUser(datapatterns4Impostor, listUsers, target = -1)\n",
        "listUserpatterns6Impostors = listUser(datapatterns6Impostor, listUsers, target = -1)\n",
        "listUserpatterns8Impostors =listUser(datapatterns8Impostor, listUsers, target = -1)"
      ],
      "execution_count": 0,
      "outputs": []
    },
    {
      "cell_type": "code",
      "metadata": {
        "id": "buCgMR03vrxb",
        "colab_type": "code",
        "colab": {}
      },
      "source": [
        "#ROC Curve\n",
        "def plot_roc_curve(fpr, tpr, label=None):\n",
        "    plt.plot(fpr, tpr, linewidth=2, label=label)\n",
        "    plt.plot([0, 1], [0, 1], 'k--')\n",
        "    plt.axis([0, 1, 0, 1])\n",
        "    plt.xlabel('False Positive Rate')\n",
        "    plt.ylabel('True Positive Rate')"
      ],
      "execution_count": 0,
      "outputs": []
    },
    {
      "cell_type": "code",
      "metadata": {
        "id": "ZQrgjHWNvrxk",
        "colab_type": "code",
        "colab": {}
      },
      "source": [
        "#Metrics: precision (precision_score), sensitivity (recall_score), \n",
        "from sklearn.metrics import confusion_matrix, precision_score, recall_score, accuracy_score\n",
        "def metrics(Ytrain,Yval,y_predict_train, y_predict_valid):\n",
        "  #print('Getting metrics...')\n",
        "\n",
        "  accuracyTrain = np.mean(y_predict_train.ravel() == Ytrain.ravel())\n",
        "\n",
        "  accuracyValid =np.mean(y_predict_valid.ravel() == Yval.ravel()) \n",
        " \n",
        "\n",
        "  return accuracyTrain, accuracyValid        "
      ],
      "execution_count": 0,
      "outputs": []
    },
    {
      "cell_type": "markdown",
      "metadata": {
        "id": "F2xLcKR4eApq",
        "colab_type": "text"
      },
      "source": [
        "## Get X and Y sets\n"
      ]
    },
    {
      "cell_type": "code",
      "metadata": {
        "id": "ve2Nx5YahyeM",
        "colab_type": "code",
        "colab": {}
      },
      "source": [
        "s = 1\n",
        "data = listUserpatterns4[s]\n",
        "Xtrain_original = data[:,0:31]\n",
        "Ytrain_original = data[:,32]\n",
        "Ytrain_original = Ytrain_original.astype(int)"
      ],
      "execution_count": 0,
      "outputs": []
    },
    {
      "cell_type": "code",
      "metadata": {
        "id": "nopWIdWNBICU",
        "colab_type": "code",
        "colab": {}
      },
      "source": [
        "s = 1\n",
        "dataI = listUserpatterns4Impostors[s]\n",
        "Xtest_original = dataI[:,0:31]\n",
        "Ytest_original = dataI[:,32]\n",
        "Ytest_original=Ytest_original.astype(int)"
      ],
      "execution_count": 0,
      "outputs": []
    },
    {
      "cell_type": "code",
      "metadata": {
        "id": "837HONm292WE",
        "colab_type": "code",
        "colab": {}
      },
      "source": [
        "# Xtrain_original, Xtest_original, Ytrain_original, Ytest_original = train_test_split(X, Y, train_size=20)"
      ],
      "execution_count": 0,
      "outputs": []
    },
    {
      "cell_type": "markdown",
      "metadata": {
        "id": "qS80_cetEBmV",
        "colab_type": "text"
      },
      "source": [
        "# Models"
      ]
    },
    {
      "cell_type": "code",
      "metadata": {
        "id": "uKoF5gvWZwr7",
        "colab_type": "code",
        "colab": {}
      },
      "source": [
        "# MODELS\n",
        "from sklearn.ensemble import IsolationForest\n",
        "from sklearn import svm"
      ],
      "execution_count": 0,
      "outputs": []
    },
    {
      "cell_type": "code",
      "metadata": {
        "id": "Q6RiHXuroAhb",
        "colab_type": "code",
        "colab": {}
      },
      "source": [
        "modelIsoForest = IsolationForest()\n",
        "modelSVM = svm.OneClassSVM()"
      ],
      "execution_count": 0,
      "outputs": []
    },
    {
      "cell_type": "markdown",
      "metadata": {
        "id": "8CqKqvow2KNz",
        "colab_type": "text"
      },
      "source": [
        "## Manual Grid Search"
      ]
    },
    {
      "cell_type": "code",
      "metadata": {
        "id": "u-b0V2Ge1M-T",
        "colab_type": "code",
        "colab": {}
      },
      "source": [
        "from sklearn.model_selection import ParameterGrid\n",
        "\n",
        "gridSVM = {'nu' : [0.00001, 0.0001, 0.001, 0.01, 0.1], 'gamma' : ['scale', 'auto'], 'kernel': ['linear', 'poly', 'rbf', 'sigmoid']}\n",
        "\n",
        "gridIsoForest = {'n_estimators': list(range(5, 25, 4)), \n",
        "                'max_samples': ['auto'], \n",
        "                'contamination': [0, 0.5], \n",
        "                'max_features': [10,20,30,31], \n",
        "                'bootstrap': [True, False], \n",
        "                'n_jobs': [-1]}"
      ],
      "execution_count": 0,
      "outputs": []
    },
    {
      "cell_type": "code",
      "metadata": {
        "id": "9dlQSRQO6GDI",
        "colab_type": "code",
        "outputId": "fb51b6e5-beca-4120-b86a-96067b9f2011",
        "colab": {
          "base_uri": "https://localhost:8080/",
          "height": 35
        }
      },
      "source": [
        "list(ParameterGrid(gridSVM))\n",
        "len(list(ParameterGrid(gridSVM)))"
      ],
      "execution_count": 0,
      "outputs": [
        {
          "output_type": "execute_result",
          "data": {
            "text/plain": [
              "40"
            ]
          },
          "metadata": {
            "tags": []
          },
          "execution_count": 16
        }
      ]
    },
    {
      "cell_type": "code",
      "metadata": {
        "id": "BVd02XpotYEp",
        "colab_type": "code",
        "outputId": "1391d414-4301-42a0-b0d4-3e59a82906d4",
        "colab": {
          "base_uri": "https://localhost:8080/",
          "height": 35
        }
      },
      "source": [
        "list(ParameterGrid(gridIsoForest))\n",
        "len(list(ParameterGrid(gridIsoForest)))"
      ],
      "execution_count": 0,
      "outputs": [
        {
          "output_type": "execute_result",
          "data": {
            "text/plain": [
              "80"
            ]
          },
          "metadata": {
            "tags": []
          },
          "execution_count": 17
        }
      ]
    },
    {
      "cell_type": "markdown",
      "metadata": {
        "id": "_WsInlo_spaI",
        "colab_type": "text"
      },
      "source": [
        "# GridSearch V1.1"
      ]
    },
    {
      "cell_type": "code",
      "metadata": {
        "id": "z-Sc5PBlsmiL",
        "colab_type": "code",
        "colab": {}
      },
      "source": [
        "modelsAndGrids = [('modelIsoForest ', modelIsoForest, gridIsoForest), ('modelSVM', modelSVM, gridSVM)]"
      ],
      "execution_count": 0,
      "outputs": []
    },
    {
      "cell_type": "code",
      "metadata": {
        "id": "N3e85XrvogIT",
        "colab_type": "code",
        "colab": {}
      },
      "source": [
        "# Xtrain_original, Xtest_original, Ytrain_original, Ytest_original = train_test_split(X, Y, train_size=20)"
      ],
      "execution_count": 0,
      "outputs": []
    },
    {
      "cell_type": "code",
      "metadata": {
        "id": "Cg0GUty1s1Gb",
        "colab_type": "code",
        "colab": {}
      },
      "source": [
        "from sklearn.model_selection import KFold\n",
        "from sklearn import preprocessing\n",
        "from sklearn.model_selection import train_test_split\n",
        "from numpy import random\n"
      ],
      "execution_count": 0,
      "outputs": []
    },
    {
      "cell_type": "code",
      "metadata": {
        "id": "y35UpmO93lTq",
        "colab_type": "code",
        "colab": {}
      },
      "source": [
        "def GridSearch(Xtrain_original,Ytrain_original,models):\n",
        "  # create lists to store final results\n",
        "  train_score = []\n",
        "  val_score = []\n",
        "  std_train= []\n",
        "  std_val=[]\n",
        "  best_params = []\n",
        "  models_results = []\n",
        "\n",
        "  Folds = 10\n",
        "  results = list()\n",
        "  gsAccuracy = 0\n",
        "  # random.seed(19680801)\n",
        "  #Data Normalization\n",
        "  scaler = preprocessing.StandardScaler().fit(Xtrain_original)\n",
        "  Xtrain_original = scaler.transform(Xtrain_original)\n",
        "  \n",
        "  kf = KFold(n_splits=Folds,shuffle=True)\n",
        "  for m in range(0,len(models)):\n",
        "    params = []\n",
        "    meanAccuracyValid = np.zeros((len(list(ParameterGrid(models[m][2]))),1))\n",
        "    meanAccuracyTrain = np.zeros((len(list(ParameterGrid(models[m][2]))),1))\n",
        "    meanStdValid = np.zeros((len(list(ParameterGrid(models[m][2]))),1))\n",
        "    meanStdTrain = np.zeros((len(list(ParameterGrid(models[m][2]))),1))\n",
        "    result = list()\n",
        "    k=0\n",
        "    for z in ParameterGrid(models[m][2]):\n",
        "      params.append(z)\n",
        "      accuracyTrainFolds = np.zeros((Folds,1))\n",
        "      accuracyValidFolds = np.zeros((Folds,1))\n",
        "      stdTrainFolds = np.zeros((Folds,1))\n",
        "      stdValidFolds = np.zeros((Folds,1))\n",
        "      j=0\n",
        "      \n",
        "      models[m][1].set_params(**z)\n",
        "\n",
        "      for train, valid in kf.split(Xtrain_original):\n",
        "        Xtrain = Xtrain_original[train,:]\n",
        "        Ytrain = Ytrain_original[train]\n",
        "        Xvalid = Xtrain_original[valid,:]\n",
        "        Yvalid = Ytrain_original[valid]\n",
        "\n",
        "        models[m][1].fit(Xtrain)\n",
        "\n",
        "        y_predict_train =  models[m][1].predict(Xtrain)\n",
        "        \n",
        "        #Validation\n",
        "        y_predict_valid = models[m][1].predict(Xvalid)\n",
        "\n",
        "\n",
        "\n",
        "        accuracyTrainFolds[j], accuracyValidFolds[j] = metrics(Ytrain,Yvalid,y_predict_train,y_predict_valid )\n",
        "        \n",
        "        j+=1\n",
        "\n",
        "      meanAccuracyTrain[k], meanAccuracyValid[k], meanStdTrain[k], meanStdValid[k] = np.mean(accuracyTrainFolds), np.mean(accuracyValidFolds), np.std(accuracyTrainFolds), np.std(accuracyValidFolds)\n",
        "      k+=1\n",
        "    result.append([models[m][0], meanAccuracyValid[np.argmax(meanAccuracyValid)],meanStdValid[np.argmax(meanAccuracyValid)], params[np.argmax(meanAccuracyValid)]])\n",
        "\n",
        "    results.append(result)\n",
        "\n",
        "  return results"
      ],
      "execution_count": 0,
      "outputs": []
    },
    {
      "cell_type": "code",
      "metadata": {
        "id": "cTDP1iOxs5Hf",
        "colab_type": "code",
        "colab": {}
      },
      "source": [
        "results = GridSearch(Xtrain_original,Ytrain_original,modelsAndGrids)"
      ],
      "execution_count": 0,
      "outputs": []
    },
    {
      "cell_type": "code",
      "metadata": {
        "id": "9i25weTltn3W",
        "colab_type": "code",
        "colab": {}
      },
      "source": [
        "IF = results[0]\n",
        "OC = results[1]\n",
        "OCP = OC[0]\n",
        "IFP = IF[0]\n",
        "IFParams = IFP[3]\n",
        "SVMParams = OCP[3]"
      ],
      "execution_count": 0,
      "outputs": []
    },
    {
      "cell_type": "code",
      "metadata": {
        "id": "J60o4qiGMNTB",
        "colab_type": "code",
        "outputId": "db905176-602e-47db-8e07-5852a0f041b0",
        "colab": {
          "base_uri": "https://localhost:8080/",
          "height": 121
        }
      },
      "source": [
        "IFParams"
      ],
      "execution_count": 0,
      "outputs": [
        {
          "output_type": "execute_result",
          "data": {
            "text/plain": [
              "{'bootstrap': True,\n",
              " 'contamination': 0,\n",
              " 'max_features': 10,\n",
              " 'max_samples': 'auto',\n",
              " 'n_estimators': 9,\n",
              " 'n_jobs': -1}"
            ]
          },
          "metadata": {
            "tags": []
          },
          "execution_count": 24
        }
      ]
    },
    {
      "cell_type": "code",
      "metadata": {
        "id": "qJRUkNC43DrV",
        "colab_type": "code",
        "colab": {}
      },
      "source": [
        "# IFParams = {'bootstrap': True,\n",
        "#  'contamination': 0,\n",
        "#  'max_features': 10,\n",
        "#  'max_samples': 'auto',\n",
        "#  'n_estimators': 5,\n",
        "#  'n_jobs': -1}"
      ],
      "execution_count": 0,
      "outputs": []
    },
    {
      "cell_type": "code",
      "metadata": {
        "id": "CJi2ct9w3D_b",
        "colab_type": "code",
        "outputId": "1027c4e5-9ab0-480f-f68f-9b1c2b276b45",
        "colab": {
          "base_uri": "https://localhost:8080/",
          "height": 35
        }
      },
      "source": [
        "SVMParams"
      ],
      "execution_count": 0,
      "outputs": [
        {
          "output_type": "execute_result",
          "data": {
            "text/plain": [
              "{'gamma': 'auto', 'kernel': 'sigmoid', 'nu': 0.001}"
            ]
          },
          "metadata": {
            "tags": []
          },
          "execution_count": 26
        }
      ]
    },
    {
      "cell_type": "code",
      "metadata": {
        "id": "vk1TG6tIzkp8",
        "colab_type": "code",
        "colab": {}
      },
      "source": [
        "columns=[\"models\",\"mean train Accuracy\",\"CI (+-)\", \"Best params\"]\n",
        "result0 = pd.DataFrame(results[0],columns=columns)\n",
        "result1 = pd.DataFrame(results[1],columns=columns)"
      ],
      "execution_count": 0,
      "outputs": []
    },
    {
      "cell_type": "code",
      "metadata": {
        "id": "pBseeqLS46gz",
        "colab_type": "code",
        "colab": {}
      },
      "source": [
        "resultados_finales = result0.append(result1)"
      ],
      "execution_count": 0,
      "outputs": []
    },
    {
      "cell_type": "code",
      "metadata": {
        "id": "dCgadmDSeYkp",
        "colab_type": "code",
        "outputId": "4ae1ffa5-3e7c-4239-b18d-6ae38a746a51",
        "colab": {
          "base_uri": "https://localhost:8080/",
          "height": 110
        }
      },
      "source": [
        "resultados_finales"
      ],
      "execution_count": 0,
      "outputs": [
        {
          "output_type": "execute_result",
          "data": {
            "text/html": [
              "<div>\n",
              "<style scoped>\n",
              "    .dataframe tbody tr th:only-of-type {\n",
              "        vertical-align: middle;\n",
              "    }\n",
              "\n",
              "    .dataframe tbody tr th {\n",
              "        vertical-align: top;\n",
              "    }\n",
              "\n",
              "    .dataframe thead th {\n",
              "        text-align: right;\n",
              "    }\n",
              "</style>\n",
              "<table border=\"1\" class=\"dataframe\">\n",
              "  <thead>\n",
              "    <tr style=\"text-align: right;\">\n",
              "      <th></th>\n",
              "      <th>models</th>\n",
              "      <th>mean train Accuracy</th>\n",
              "      <th>CI (+-)</th>\n",
              "      <th>Best params</th>\n",
              "    </tr>\n",
              "  </thead>\n",
              "  <tbody>\n",
              "    <tr>\n",
              "      <th>0</th>\n",
              "      <td>modelIsoForest</td>\n",
              "      <td>[1.0]</td>\n",
              "      <td>[0.0]</td>\n",
              "      <td>{'bootstrap': True, 'contamination': 0, 'max_f...</td>\n",
              "    </tr>\n",
              "    <tr>\n",
              "      <th>0</th>\n",
              "      <td>modelSVM</td>\n",
              "      <td>[0.8333333333333333]</td>\n",
              "      <td>[0.3073181485764296]</td>\n",
              "      <td>{'gamma': 'auto', 'kernel': 'sigmoid', 'nu': 0...</td>\n",
              "    </tr>\n",
              "  </tbody>\n",
              "</table>\n",
              "</div>"
            ],
            "text/plain": [
              "            models  ...                                        Best params\n",
              "0  modelIsoForest   ...  {'bootstrap': True, 'contamination': 0, 'max_f...\n",
              "0         modelSVM  ...  {'gamma': 'auto', 'kernel': 'sigmoid', 'nu': 0...\n",
              "\n",
              "[2 rows x 4 columns]"
            ]
          },
          "metadata": {
            "tags": []
          },
          "execution_count": 29
        }
      ]
    },
    {
      "cell_type": "markdown",
      "metadata": {
        "id": "lXZxC6C-vjQp",
        "colab_type": "text"
      },
      "source": [
        "## Best model evaluation with the test set"
      ]
    },
    {
      "cell_type": "code",
      "metadata": {
        "id": "s0VVYRYawG1P",
        "colab_type": "code",
        "colab": {}
      },
      "source": [
        "def MetricsBestParams(model,X_train,X_test,Y_test):\n",
        "\n",
        "  #Data Normalization\n",
        "  scaler = preprocessing.StandardScaler().fit(X_train)\n",
        "  X_train = scaler.transform(X_train)\n",
        "  X_test = scaler.transform(X_test)\n",
        "  \n",
        "  model.fit(X_train)\n",
        "\n",
        "  y_predicted = model.predict(X_test)\n",
        "\n",
        "  print('y_predicted', y_predicted)\n",
        "  print('Y_test', Y_test)\n",
        "\n",
        "  print('Accuracy: ', accuracy_score(Y_test, y_predicted), '\\n')\n",
        "  report = classification_report(Y_test, y_predicted)\n",
        "  print(\"\\nclassification report :\\n\",report )\n",
        " \n",
        "  # Confusion matrix\n",
        "  cm = confusion_matrix(Y_test, y_predicted)\n",
        "  # Normalize\n",
        "  cmn = cm.astype('float') / cm.sum(axis=1)[:, np.newaxis]\n",
        "  fig, ax = plt.subplots(figsize=(10,10))\n",
        "  print(cmn)  \n",
        "  sns.heatmap(cmn, annot=True, fmt='.2f')\n",
        "  plt.ylabel('Actual')\n",
        "  plt.xlabel('Predicted')\n",
        "  ax.set_ylim(sorted(ax.get_xlim(), reverse=True))\n",
        "  plt.show(block=False)\n",
        "      \n",
        "  return report"
      ],
      "execution_count": 0,
      "outputs": []
    },
    {
      "cell_type": "markdown",
      "metadata": {
        "id": "Q1lWX944wiup",
        "colab_type": "text"
      },
      "source": [
        "## IsolationForest best parameters"
      ]
    },
    {
      "cell_type": "code",
      "metadata": {
        "id": "d2l3pBQIwiET",
        "colab_type": "code",
        "colab": {}
      },
      "source": [
        "IsolationForest_best_params = IFParams\n",
        "\n",
        "IsolationForest__best_estimator = modelsAndGrids[0][1].set_params(**IsolationForest_best_params)"
      ],
      "execution_count": 0,
      "outputs": []
    },
    {
      "cell_type": "code",
      "metadata": {
        "id": "J7OO_Ijs1B-T",
        "colab_type": "code",
        "outputId": "cecdff7d-55f4-40d9-a020-27b127b2785e",
        "colab": {
          "base_uri": "https://localhost:8080/",
          "height": 904
        }
      },
      "source": [
        "metricsIF = MetricsBestParams(IsolationForest__best_estimator,Xtrain_original,Xtest_original,Ytest_original)"
      ],
      "execution_count": 0,
      "outputs": [
        {
          "output_type": "stream",
          "text": [
            "y_predicted [ 1  1  1  1 -1]\n",
            "Y_test [-1 -1 -1 -1 -1]\n",
            "Accuracy:  0.2 \n",
            "\n",
            "\n",
            "classification report :\n",
            "               precision    recall  f1-score   support\n",
            "\n",
            "          -1       1.00      0.20      0.33         5\n",
            "           1       0.00      0.00      0.00         0\n",
            "\n",
            "    accuracy                           0.20         5\n",
            "   macro avg       0.50      0.10      0.17         5\n",
            "weighted avg       1.00      0.20      0.33         5\n",
            "\n",
            "[[0.2 0.8]\n",
            " [nan nan]]\n"
          ],
          "name": "stdout"
        },
        {
          "output_type": "display_data",
          "data": {
            "image/png": "[encoded data removed]",
            "text/plain": [
              "<Figure size 720x720 with 2 Axes>"
            ]
          },
          "metadata": {
            "tags": [],
            "needs_background": "light"
          }
        }
      ]
    },
    {
      "cell_type": "markdown",
      "metadata": {
        "id": "rLp4SHu3wnsc",
        "colab_type": "text"
      },
      "source": [
        "OneClassSVM best parameters"
      ]
    },
    {
      "cell_type": "code",
      "metadata": {
        "id": "KxE2rh54yiZn",
        "colab_type": "code",
        "colab": {}
      },
      "source": [
        "# SVM_best_params = {'gamma': 'scale', 'kernel': 'sigmoid', 'nu': 0.01}\n",
        "SVM_best_params = SVMParams\n",
        "SVM__best_estimator = modelsAndGrids[1][1].set_params(**SVM_best_params)"
      ],
      "execution_count": 0,
      "outputs": []
    },
    {
      "cell_type": "code",
      "metadata": {
        "id": "-AP7uASG_R19",
        "colab_type": "code",
        "outputId": "e607383d-e7b2-411d-fbd4-ed0ab023e77d",
        "colab": {
          "base_uri": "https://localhost:8080/",
          "height": 905
        }
      },
      "source": [
        "metricsSVM = MetricsBestParams(SVM__best_estimator,Xtrain_original,Xtest_original,Ytest_original)"
      ],
      "execution_count": 0,
      "outputs": [
        {
          "output_type": "stream",
          "text": [
            "y_predicted [1 1 1 1 1]\n",
            "Y_test [-1 -1 -1 -1 -1]\n",
            "Accuracy:  0.0 \n",
            "\n",
            "\n",
            "classification report :\n",
            "               precision    recall  f1-score   support\n",
            "\n",
            "          -1       0.00      0.00      0.00       5.0\n",
            "           1       0.00      0.00      0.00       0.0\n",
            "\n",
            "    accuracy                           0.00       5.0\n",
            "   macro avg       0.00      0.00      0.00       5.0\n",
            "weighted avg       0.00      0.00      0.00       5.0\n",
            "\n",
            "[[ 0.  1.]\n",
            " [nan nan]]\n"
          ],
          "name": "stdout"
        },
        {
          "output_type": "display_data",
          "data": {
            "image/png": "[encoded data removed]",
            "text/plain": [
              "<Figure size 720x720 with 2 Axes>"
            ]
          },
          "metadata": {
            "tags": [],
            "needs_background": "light"
          }
        }
      ]
    },
    {
      "cell_type": "markdown",
      "metadata": {
        "id": "hg7h4jK9YS26",
        "colab_type": "text"
      },
      "source": [
        "### Builder model definition (TODO)"
      ]
    },
    {
      "cell_type": "code",
      "metadata": {
        "id": "vZRwEw05PyVn",
        "colab_type": "code",
        "colab": {}
      },
      "source": [
        "def build_model(model, parameters, train_size, X,Y):\n",
        "  # Xtrain_original, Xtest_original, Ytrain_original, Ytest_original = train_test_split(X, Y, train_size=20)\n",
        "  # Xtrain, Xtest, Ytrain, Ytest = train_test_split(X, Y, train_size=train_size)\n",
        "  #Data Normalization\n",
        "\n",
        "  Folds = 10\n",
        "  accuracyTrainFolds = np.zeros((Folds,1))\n",
        "  accuracyValidFolds = np.zeros((Folds,1))\n",
        "  stdTrainFolds = np.zeros((Folds,1))\n",
        "  stdValidFolds = np.zeros((Folds,1))\n",
        "  j=0\n",
        "\n",
        "  for i in range(Folds):\n",
        "    Xtrain, Xtest, Ytrain, Ytest = train_test_split(X, Y, train_size=train_size)\n",
        "\n",
        "    scaler = preprocessing.StandardScaler().fit(Xtrain)\n",
        "    Xtrain = scaler.transform(Xtrain)\n",
        "    Xtest = scaler.transform(Xtest)\n",
        "    model.fit(Xtrain)\n",
        "\n",
        "    ypred_train = model.predict(Xtrain)\n",
        "\n",
        "    ypred_valid = model.predict(Xtest)\n",
        "\n",
        "    # #Validation\n",
        "    #     y_predict_valid = models[m][1].predict(Xvalid)\n",
        "\n",
        "\n",
        "\n",
        "    #     accuracyTrainFolds[j], accuracyValidFolds[j] = metrics(Ytrain,Yvalid,y_predict_train,y_predict_valid )\n",
        "\n",
        "    accuracyTrainFolds[i], accuracyValidFolds[i] = metrics(Ytrain,Ytest,ypred_train,ypred_valid)\n",
        "  \n",
        "  accuracyTrain, accuracyValid, stdTrain, stdValid = np.mean(accuracyTrainFolds), np.mean(accuracyValidFolds), np.std(accuracyTrainFolds), np.std(accuracyValidFolds)\n",
        "  return accuracyTrain, accuracyValid, stdTrain, stdValid\n"
      ],
      "execution_count": 0,
      "outputs": []
    },
    {
      "cell_type": "markdown",
      "metadata": {
        "id": "8rtLG42DVasF",
        "colab_type": "text"
      },
      "source": [
        "## 3. Learning Curve"
      ]
    },
    {
      "cell_type": "code",
      "metadata": {
        "id": "VpmYgkB9VYup",
        "colab_type": "code",
        "colab": {}
      },
      "source": [
        "def learning_curve(model,best_parameters ,X,Y, suptitle='', title='', xlabel='Training Set Size', ylabel='Acurracy'):\n",
        "    \"\"\"\n",
        "    Parameters\n",
        "    ----------\n",
        "    suptitle : str\n",
        "        Chart suptitle\n",
        "    title: str\n",
        "        Chart title\n",
        "    xlabel: str\n",
        "        Label for the X axis\n",
        "    ylabel: str\n",
        "        Label for the y axis\n",
        "    Returns\n",
        "    -------\n",
        "    Plot of learning curves\n",
        "    \"\"\"\n",
        "    \n",
        "    # create lists to store train and validation scores\n",
        "    train_score = []\n",
        "    val_score = []\n",
        "    std_train= []\n",
        "    std_val=[]\n",
        "\n",
        "    # create ten incremental training set sizes\n",
        "    training_set_sizes = np.linspace(5,24,19,dtype=int).tolist()\n",
        "    # for each one of those training set sizes\n",
        "    \n",
        "    for i in training_set_sizes:\n",
        "      EfficiencyTrain , EfficiencyVal , stdTrain, stdVal = build_model(model, best_parameters, i, X,Y)\n",
        "\n",
        "      # store the scores in their respective lists\n",
        "      train_score.append(EfficiencyTrain)\n",
        "      val_score.append(EfficiencyVal)\n",
        "      std_train.append(stdTrain)\n",
        "      std_val.append(stdVal)\n",
        "\n",
        "    train_score =np.array(train_score)\n",
        "    val_score =np.array(val_score)\n",
        "    std_train =np.array(std_train)\n",
        "    std_val =np.array(std_val)\n",
        "\n",
        "\n",
        "    # plot learning curves\n",
        "    fig, ax = plt.subplots(figsize=(14, 9))\n",
        "    ax.plot(training_set_sizes, train_score, c='gold')\n",
        "    ax.plot(training_set_sizes, val_score, c='steelblue')\n",
        "    \n",
        "    ax.fill_between(training_set_sizes,train_score+std_train,train_score-std_train,facecolor='gold',alpha=0.5)\n",
        "    ax.fill_between(training_set_sizes,val_score+std_val,val_score-std_val,facecolor='steelblue',alpha=0.5)\n",
        "\n",
        "    # format the chart to make it look nice\n",
        "    fig.suptitle(suptitle, fontweight='bold', fontsize='20')\n",
        "    ax.set_title(title, size=20)\n",
        "    ax.set_xlabel(xlabel, size=16)\n",
        "    ax.set_ylabel(ylabel, size=16)\n",
        "    ax.legend(['Train set', 'Test set'], fontsize=16)\n",
        "    ax.tick_params(axis='both', labelsize=12)\n",
        "    ax.set_ylim(0, 1)\n",
        "\n",
        "    def percentages(x, pos):\n",
        "        \"\"\"The two args are the value and tick position\"\"\"\n",
        "        if x < 1:\n",
        "            return '{:1.0f}'.format(x*100)\n",
        "        return '{:1.0f}%'.format(x*100)\n",
        "\n",
        "    def numbers(x, pos):\n",
        "        \"\"\"The two args are the value and tick position\"\"\"\n",
        "        if x >= 1000:\n",
        "            return '{:1,.0f}'.format(x)\n",
        "        return '{:1.0f}'.format(x)\n",
        "    data = {'Train_Size':training_set_sizes, 'mean_train_Accuracy':train_score,'mean_test_Accuracy':val_score,'std_train_Accuracy':std_train,'std_test_Accuracy':std_val}\n",
        "    df_split_params = pd.DataFrame(data)\n",
        "    return df_split_params"
      ],
      "execution_count": 0,
      "outputs": []
    },
    {
      "cell_type": "code",
      "metadata": {
        "id": "XaFK1_oayDb5",
        "colab_type": "code",
        "outputId": "112a5ee4-bccb-4183-ce4d-e6c195052433",
        "colab": {
          "base_uri": "https://localhost:8080/"
        }
      },
      "source": [
        "df_split_paramsIF =learning_curve(model=IsolationForest__best_estimator,best_parameters=IsolationForest_best_params, X=Xtrain_original,Y=Ytrain_original)"
      ],
      "execution_count": 0,
      "outputs": [
        {
          "output_type": "display_data",
          "data": {
            "image/png": "[encoded data removed]",
            "text/plain": [
              "<Figure size 1008x648 with 1 Axes>"
            ]
          },
          "metadata": {
            "tags": [],
            "needs_background": "light"
          }
        }
      ]
    },
    {
      "cell_type": "code",
      "metadata": {
        "id": "GIVfUk3WyXPq",
        "colab_type": "code",
        "outputId": "584d75b9-7915-4531-84bd-e672980df890",
        "colab": {
          "base_uri": "https://localhost:8080/"
        }
      },
      "source": [
        "df_split_paramsIF"
      ],
      "execution_count": 0,
      "outputs": [
        {
          "output_type": "execute_result",
          "data": {
            "text/html": [
              "<div>\n",
              "<style scoped>\n",
              "    .dataframe tbody tr th:only-of-type {\n",
              "        vertical-align: middle;\n",
              "    }\n",
              "\n",
              "    .dataframe tbody tr th {\n",
              "        vertical-align: top;\n",
              "    }\n",
              "\n",
              "    .dataframe thead th {\n",
              "        text-align: right;\n",
              "    }\n",
              "</style>\n",
              "<table border=\"1\" class=\"dataframe\">\n",
              "  <thead>\n",
              "    <tr style=\"text-align: right;\">\n",
              "      <th></th>\n",
              "      <th>Train_Size</th>\n",
              "      <th>mean_train_Accuracy</th>\n",
              "      <th>mean_test_Accuracy</th>\n",
              "      <th>std_train_Accuracy</th>\n",
              "      <th>std_test_Accuracy</th>\n",
              "    </tr>\n",
              "  </thead>\n",
              "  <tbody>\n",
              "    <tr>\n",
              "      <th>0</th>\n",
              "      <td>5</td>\n",
              "      <td>1.0</td>\n",
              "      <td>0.865000</td>\n",
              "      <td>0.0</td>\n",
              "      <td>0.116297</td>\n",
              "    </tr>\n",
              "    <tr>\n",
              "      <th>1</th>\n",
              "      <td>6</td>\n",
              "      <td>1.0</td>\n",
              "      <td>0.968421</td>\n",
              "      <td>0.0</td>\n",
              "      <td>0.067401</td>\n",
              "    </tr>\n",
              "    <tr>\n",
              "      <th>2</th>\n",
              "      <td>7</td>\n",
              "      <td>1.0</td>\n",
              "      <td>0.977778</td>\n",
              "      <td>0.0</td>\n",
              "      <td>0.036851</td>\n",
              "    </tr>\n",
              "    <tr>\n",
              "      <th>3</th>\n",
              "      <td>8</td>\n",
              "      <td>1.0</td>\n",
              "      <td>0.900000</td>\n",
              "      <td>0.0</td>\n",
              "      <td>0.146587</td>\n",
              "    </tr>\n",
              "    <tr>\n",
              "      <th>4</th>\n",
              "      <td>9</td>\n",
              "      <td>1.0</td>\n",
              "      <td>0.981250</td>\n",
              "      <td>0.0</td>\n",
              "      <td>0.028641</td>\n",
              "    </tr>\n",
              "    <tr>\n",
              "      <th>5</th>\n",
              "      <td>10</td>\n",
              "      <td>1.0</td>\n",
              "      <td>0.940000</td>\n",
              "      <td>0.0</td>\n",
              "      <td>0.081377</td>\n",
              "    </tr>\n",
              "    <tr>\n",
              "      <th>6</th>\n",
              "      <td>11</td>\n",
              "      <td>1.0</td>\n",
              "      <td>0.971429</td>\n",
              "      <td>0.0</td>\n",
              "      <td>0.047380</td>\n",
              "    </tr>\n",
              "    <tr>\n",
              "      <th>7</th>\n",
              "      <td>12</td>\n",
              "      <td>1.0</td>\n",
              "      <td>0.861538</td>\n",
              "      <td>0.0</td>\n",
              "      <td>0.145138</td>\n",
              "    </tr>\n",
              "    <tr>\n",
              "      <th>8</th>\n",
              "      <td>13</td>\n",
              "      <td>1.0</td>\n",
              "      <td>0.916667</td>\n",
              "      <td>0.0</td>\n",
              "      <td>0.083333</td>\n",
              "    </tr>\n",
              "    <tr>\n",
              "      <th>9</th>\n",
              "      <td>14</td>\n",
              "      <td>1.0</td>\n",
              "      <td>0.936364</td>\n",
              "      <td>0.0</td>\n",
              "      <td>0.107949</td>\n",
              "    </tr>\n",
              "    <tr>\n",
              "      <th>10</th>\n",
              "      <td>15</td>\n",
              "      <td>1.0</td>\n",
              "      <td>0.910000</td>\n",
              "      <td>0.0</td>\n",
              "      <td>0.122066</td>\n",
              "    </tr>\n",
              "    <tr>\n",
              "      <th>11</th>\n",
              "      <td>16</td>\n",
              "      <td>1.0</td>\n",
              "      <td>0.966667</td>\n",
              "      <td>0.0</td>\n",
              "      <td>0.100000</td>\n",
              "    </tr>\n",
              "    <tr>\n",
              "      <th>12</th>\n",
              "      <td>17</td>\n",
              "      <td>1.0</td>\n",
              "      <td>0.950000</td>\n",
              "      <td>0.0</td>\n",
              "      <td>0.114564</td>\n",
              "    </tr>\n",
              "    <tr>\n",
              "      <th>13</th>\n",
              "      <td>18</td>\n",
              "      <td>1.0</td>\n",
              "      <td>0.971429</td>\n",
              "      <td>0.0</td>\n",
              "      <td>0.057143</td>\n",
              "    </tr>\n",
              "    <tr>\n",
              "      <th>14</th>\n",
              "      <td>19</td>\n",
              "      <td>1.0</td>\n",
              "      <td>0.983333</td>\n",
              "      <td>0.0</td>\n",
              "      <td>0.050000</td>\n",
              "    </tr>\n",
              "    <tr>\n",
              "      <th>15</th>\n",
              "      <td>20</td>\n",
              "      <td>1.0</td>\n",
              "      <td>0.960000</td>\n",
              "      <td>0.0</td>\n",
              "      <td>0.080000</td>\n",
              "    </tr>\n",
              "    <tr>\n",
              "      <th>16</th>\n",
              "      <td>21</td>\n",
              "      <td>1.0</td>\n",
              "      <td>1.000000</td>\n",
              "      <td>0.0</td>\n",
              "      <td>0.000000</td>\n",
              "    </tr>\n",
              "    <tr>\n",
              "      <th>17</th>\n",
              "      <td>22</td>\n",
              "      <td>1.0</td>\n",
              "      <td>0.933333</td>\n",
              "      <td>0.0</td>\n",
              "      <td>0.133333</td>\n",
              "    </tr>\n",
              "    <tr>\n",
              "      <th>18</th>\n",
              "      <td>24</td>\n",
              "      <td>1.0</td>\n",
              "      <td>1.000000</td>\n",
              "      <td>0.0</td>\n",
              "      <td>0.000000</td>\n",
              "    </tr>\n",
              "  </tbody>\n",
              "</table>\n",
              "</div>"
            ],
            "text/plain": [
              "    Train_Size  mean_train_Accuracy  ...  std_train_Accuracy  std_test_Accuracy\n",
              "0            5                  1.0  ...                 0.0           0.116297\n",
              "1            6                  1.0  ...                 0.0           0.067401\n",
              "2            7                  1.0  ...                 0.0           0.036851\n",
              "3            8                  1.0  ...                 0.0           0.146587\n",
              "4            9                  1.0  ...                 0.0           0.028641\n",
              "5           10                  1.0  ...                 0.0           0.081377\n",
              "6           11                  1.0  ...                 0.0           0.047380\n",
              "7           12                  1.0  ...                 0.0           0.145138\n",
              "8           13                  1.0  ...                 0.0           0.083333\n",
              "9           14                  1.0  ...                 0.0           0.107949\n",
              "10          15                  1.0  ...                 0.0           0.122066\n",
              "11          16                  1.0  ...                 0.0           0.100000\n",
              "12          17                  1.0  ...                 0.0           0.114564\n",
              "13          18                  1.0  ...                 0.0           0.057143\n",
              "14          19                  1.0  ...                 0.0           0.050000\n",
              "15          20                  1.0  ...                 0.0           0.080000\n",
              "16          21                  1.0  ...                 0.0           0.000000\n",
              "17          22                  1.0  ...                 0.0           0.133333\n",
              "18          24                  1.0  ...                 0.0           0.000000\n",
              "\n",
              "[19 rows x 5 columns]"
            ]
          },
          "metadata": {
            "tags": []
          },
          "execution_count": 38
        }
      ]
    },
    {
      "cell_type": "code",
      "metadata": {
        "id": "F-0iMQzhwnwi",
        "colab_type": "code",
        "outputId": "d1151365-392a-4850-fa6a-a19ec7c334b5",
        "colab": {
          "base_uri": "https://localhost:8080/"
        }
      },
      "source": [
        "df_split_params =learning_curve(model=SVM__best_estimator,best_parameters=SVM_best_params, X=Xtrain_original,Y=Ytrain_original)"
      ],
      "execution_count": 0,
      "outputs": [
        {
          "output_type": "display_data",
          "data": {
            "image/png": "[encoded data removed]",
            "text/plain": [
              "<Figure size 1008x648 with 1 Axes>"
            ]
          },
          "metadata": {
            "tags": [],
            "needs_background": "light"
          }
        }
      ]
    },
    {
      "cell_type": "code",
      "metadata": {
        "id": "ypEvO215x4GR",
        "colab_type": "code",
        "outputId": "7d547a1b-24ab-4e67-a41b-7557c12353ca",
        "colab": {
          "base_uri": "https://localhost:8080/"
        }
      },
      "source": [
        "df_split_params"
      ],
      "execution_count": 0,
      "outputs": [
        {
          "output_type": "execute_result",
          "data": {
            "text/html": [
              "<div>\n",
              "<style scoped>\n",
              "    .dataframe tbody tr th:only-of-type {\n",
              "        vertical-align: middle;\n",
              "    }\n",
              "\n",
              "    .dataframe tbody tr th {\n",
              "        vertical-align: top;\n",
              "    }\n",
              "\n",
              "    .dataframe thead th {\n",
              "        text-align: right;\n",
              "    }\n",
              "</style>\n",
              "<table border=\"1\" class=\"dataframe\">\n",
              "  <thead>\n",
              "    <tr style=\"text-align: right;\">\n",
              "      <th></th>\n",
              "      <th>Train_Size</th>\n",
              "      <th>mean_train_Accuracy</th>\n",
              "      <th>mean_test_Accuracy</th>\n",
              "      <th>std_train_Accuracy</th>\n",
              "      <th>std_test_Accuracy</th>\n",
              "    </tr>\n",
              "  </thead>\n",
              "  <tbody>\n",
              "    <tr>\n",
              "      <th>0</th>\n",
              "      <td>5</td>\n",
              "      <td>0.360000</td>\n",
              "      <td>0.590000</td>\n",
              "      <td>0.215407</td>\n",
              "      <td>0.217715</td>\n",
              "    </tr>\n",
              "    <tr>\n",
              "      <th>1</th>\n",
              "      <td>6</td>\n",
              "      <td>0.283333</td>\n",
              "      <td>0.578947</td>\n",
              "      <td>0.130171</td>\n",
              "      <td>0.228205</td>\n",
              "    </tr>\n",
              "    <tr>\n",
              "      <th>2</th>\n",
              "      <td>7</td>\n",
              "      <td>0.314286</td>\n",
              "      <td>0.650000</td>\n",
              "      <td>0.153862</td>\n",
              "      <td>0.207944</td>\n",
              "    </tr>\n",
              "    <tr>\n",
              "      <th>3</th>\n",
              "      <td>8</td>\n",
              "      <td>0.362500</td>\n",
              "      <td>0.623529</td>\n",
              "      <td>0.141973</td>\n",
              "      <td>0.198959</td>\n",
              "    </tr>\n",
              "    <tr>\n",
              "      <th>4</th>\n",
              "      <td>9</td>\n",
              "      <td>0.344444</td>\n",
              "      <td>0.543750</td>\n",
              "      <td>0.092296</td>\n",
              "      <td>0.183393</td>\n",
              "    </tr>\n",
              "    <tr>\n",
              "      <th>5</th>\n",
              "      <td>10</td>\n",
              "      <td>0.490000</td>\n",
              "      <td>0.766667</td>\n",
              "      <td>0.113578</td>\n",
              "      <td>0.137437</td>\n",
              "    </tr>\n",
              "    <tr>\n",
              "      <th>6</th>\n",
              "      <td>11</td>\n",
              "      <td>0.472727</td>\n",
              "      <td>0.678571</td>\n",
              "      <td>0.133609</td>\n",
              "      <td>0.091752</td>\n",
              "    </tr>\n",
              "    <tr>\n",
              "      <th>7</th>\n",
              "      <td>12</td>\n",
              "      <td>0.491667</td>\n",
              "      <td>0.600000</td>\n",
              "      <td>0.160078</td>\n",
              "      <td>0.193993</td>\n",
              "    </tr>\n",
              "    <tr>\n",
              "      <th>8</th>\n",
              "      <td>13</td>\n",
              "      <td>0.561538</td>\n",
              "      <td>0.675000</td>\n",
              "      <td>0.137819</td>\n",
              "      <td>0.131498</td>\n",
              "    </tr>\n",
              "    <tr>\n",
              "      <th>9</th>\n",
              "      <td>14</td>\n",
              "      <td>0.564286</td>\n",
              "      <td>0.672727</td>\n",
              "      <td>0.112712</td>\n",
              "      <td>0.173443</td>\n",
              "    </tr>\n",
              "    <tr>\n",
              "      <th>10</th>\n",
              "      <td>15</td>\n",
              "      <td>0.640000</td>\n",
              "      <td>0.770000</td>\n",
              "      <td>0.130639</td>\n",
              "      <td>0.190000</td>\n",
              "    </tr>\n",
              "    <tr>\n",
              "      <th>11</th>\n",
              "      <td>16</td>\n",
              "      <td>0.668750</td>\n",
              "      <td>0.733333</td>\n",
              "      <td>0.111978</td>\n",
              "      <td>0.211986</td>\n",
              "    </tr>\n",
              "    <tr>\n",
              "      <th>12</th>\n",
              "      <td>17</td>\n",
              "      <td>0.652941</td>\n",
              "      <td>0.712500</td>\n",
              "      <td>0.096478</td>\n",
              "      <td>0.223956</td>\n",
              "    </tr>\n",
              "    <tr>\n",
              "      <th>13</th>\n",
              "      <td>18</td>\n",
              "      <td>0.688889</td>\n",
              "      <td>0.742857</td>\n",
              "      <td>0.079349</td>\n",
              "      <td>0.153862</td>\n",
              "    </tr>\n",
              "    <tr>\n",
              "      <th>14</th>\n",
              "      <td>19</td>\n",
              "      <td>0.705263</td>\n",
              "      <td>0.633333</td>\n",
              "      <td>0.103136</td>\n",
              "      <td>0.233333</td>\n",
              "    </tr>\n",
              "    <tr>\n",
              "      <th>15</th>\n",
              "      <td>20</td>\n",
              "      <td>0.730000</td>\n",
              "      <td>0.820000</td>\n",
              "      <td>0.107703</td>\n",
              "      <td>0.244131</td>\n",
              "    </tr>\n",
              "    <tr>\n",
              "      <th>16</th>\n",
              "      <td>21</td>\n",
              "      <td>0.771429</td>\n",
              "      <td>0.900000</td>\n",
              "      <td>0.092337</td>\n",
              "      <td>0.165831</td>\n",
              "    </tr>\n",
              "    <tr>\n",
              "      <th>17</th>\n",
              "      <td>22</td>\n",
              "      <td>0.718182</td>\n",
              "      <td>0.833333</td>\n",
              "      <td>0.083320</td>\n",
              "      <td>0.223607</td>\n",
              "    </tr>\n",
              "    <tr>\n",
              "      <th>18</th>\n",
              "      <td>24</td>\n",
              "      <td>0.750000</td>\n",
              "      <td>0.900000</td>\n",
              "      <td>0.096825</td>\n",
              "      <td>0.300000</td>\n",
              "    </tr>\n",
              "  </tbody>\n",
              "</table>\n",
              "</div>"
            ],
            "text/plain": [
              "    Train_Size  mean_train_Accuracy  ...  std_train_Accuracy  std_test_Accuracy\n",
              "0            5             0.360000  ...            0.215407           0.217715\n",
              "1            6             0.283333  ...            0.130171           0.228205\n",
              "2            7             0.314286  ...            0.153862           0.207944\n",
              "3            8             0.362500  ...            0.141973           0.198959\n",
              "4            9             0.344444  ...            0.092296           0.183393\n",
              "5           10             0.490000  ...            0.113578           0.137437\n",
              "6           11             0.472727  ...            0.133609           0.091752\n",
              "7           12             0.491667  ...            0.160078           0.193993\n",
              "8           13             0.561538  ...            0.137819           0.131498\n",
              "9           14             0.564286  ...            0.112712           0.173443\n",
              "10          15             0.640000  ...            0.130639           0.190000\n",
              "11          16             0.668750  ...            0.111978           0.211986\n",
              "12          17             0.652941  ...            0.096478           0.223956\n",
              "13          18             0.688889  ...            0.079349           0.153862\n",
              "14          19             0.705263  ...            0.103136           0.233333\n",
              "15          20             0.730000  ...            0.107703           0.244131\n",
              "16          21             0.771429  ...            0.092337           0.165831\n",
              "17          22             0.718182  ...            0.083320           0.223607\n",
              "18          24             0.750000  ...            0.096825           0.300000\n",
              "\n",
              "[19 rows x 5 columns]"
            ]
          },
          "metadata": {
            "tags": []
          },
          "execution_count": 40
        }
      ]
    },
    {
      "cell_type": "code",
      "metadata": {
        "id": "XvGIbNb9I29V",
        "colab_type": "code",
        "outputId": "8f6e3cfe-5f0b-468f-bb8b-9edb4b5cdb6e",
        "colab": {
          "base_uri": "https://localhost:8080/"
        }
      },
      "source": [
        "for u in range(0,len(listUserpatterns8)):\n",
        "  user = listUserpatterns4[u]\n",
        "  print(user.shape)"
      ],
      "execution_count": 0,
      "outputs": [
        {
          "output_type": "stream",
          "text": [
            "(25, 33)\n",
            "(25, 33)\n",
            "(25, 33)\n",
            "(25, 33)\n",
            "(25, 33)\n",
            "(25, 33)\n",
            "(25, 33)\n",
            "(25, 33)\n",
            "(25, 33)\n",
            "(25, 33)\n",
            "(25, 33)\n",
            "(25, 33)\n",
            "(25, 33)\n",
            "(25, 33)\n",
            "(25, 33)\n",
            "(25, 33)\n",
            "(25, 33)\n",
            "(25, 33)\n",
            "(25, 33)\n",
            "(25, 33)\n",
            "(25, 33)\n",
            "(25, 33)\n",
            "(25, 33)\n",
            "(25, 33)\n",
            "(25, 33)\n",
            "(25, 33)\n"
          ],
          "name": "stdout"
        }
      ]
    },
    {
      "cell_type": "markdown",
      "metadata": {
        "id": "XTPwylXb-ghs",
        "colab_type": "text"
      },
      "source": [
        "# All users"
      ]
    },
    {
      "cell_type": "code",
      "metadata": {
        "id": "XN_8g8rJ-iv2",
        "colab_type": "code",
        "colab": {}
      },
      "source": [
        "def learning_curve_all_users( model, best_parameters , users, impostors, suptitle='', title='', xlabel='Training Set Size', ylabel='Acurracy'):\n",
        "\n",
        "  \"\"\"\n",
        "  Parameters\n",
        "  ----------\n",
        "  suptitle : str\n",
        "      Chart suptitle\n",
        "  title: str\n",
        "      Chart title\n",
        "  xlabel: str\n",
        "      Label for the X axis\n",
        "  ylabel: str\n",
        "      Label for the y axis\n",
        "  Returns\n",
        "  -------\n",
        "  Plot of learning curves\n",
        "  \"\"\"\n",
        "\n",
        "  # create lists to store train and validation scores\n",
        "  train_score = []\n",
        "  val_score = []\n",
        "  std_train= []\n",
        "  std_val=[]\n",
        "\n",
        "  training_set_sizes = np.linspace(5,24,19,dtype=int).tolist()\n",
        "\n",
        "  for i in training_set_sizes:\n",
        "    meanAccuracyValid = np.zeros((len(users),1))\n",
        "    meanAccuracyTrain = np.zeros((len(users),1))\n",
        "    meanStdValid = np.zeros((len(users),1))\n",
        "    meanStdTrain = np.zeros((len(users),1))\n",
        "\n",
        "    for u in range(0,len(users)):\n",
        "      data = users[u]\n",
        "      Xtrain_original = data[:,0:31]\n",
        "      Ytrain_original = data[:,32]\n",
        "      Ytrain_original = Ytrain_original.astype(int)\n",
        "\n",
        "      dataI = impostors[u]\n",
        "      Xtest_original = dataI[:,0:31]\n",
        "      Ytest_original = dataI[:,32]\n",
        "      Ytest_original=Ytest_original.astype(int)\n",
        "\n",
        "      X=Xtrain_original\n",
        "      Y=Ytrain_original\n",
        "        \n",
        "      meanAccuracyTrain[u] , meanAccuracyValid[u] , meanStdTrain[u], meanStdValid[u] = build_model(model, best_parameters, i, X,Y)\n",
        "    EfficiencyTrain, EfficiencyVal, stdTrain, stdVal = np.mean(meanAccuracyTrain), np.mean(meanAccuracyValid), np.mean(meanStdTrain), np.mean(meanStdValid)\n",
        "\n",
        "    # store the scores in their respective lists\n",
        "    train_score.append(EfficiencyTrain)\n",
        "    val_score.append(EfficiencyVal)\n",
        "    std_train.append(stdTrain)\n",
        "    std_val.append(stdVal)\n",
        "\n",
        "  train_score =np.array(train_score)\n",
        "  val_score =np.array(val_score)\n",
        "  std_train =np.array(std_train)\n",
        "  std_val =np.array(std_val)\n",
        "\n",
        "\n",
        "  # plot learning curves\n",
        "  fig, ax = plt.subplots(figsize=(14, 9))\n",
        "  ax.plot(training_set_sizes, train_score, c='gold')\n",
        "  ax.plot(training_set_sizes, val_score, c='steelblue')\n",
        "  \n",
        "  ax.fill_between(training_set_sizes,train_score+std_train,train_score-std_train,facecolor='gold',alpha=0.5)\n",
        "  ax.fill_between(training_set_sizes,val_score+std_val,val_score-std_val,facecolor='steelblue',alpha=0.5)\n",
        "\n",
        "  # format the chart to make it look nice\n",
        "  fig.suptitle(suptitle, fontweight='bold', fontsize='20')\n",
        "  ax.set_title(title, size=20)\n",
        "  ax.set_xlabel(xlabel, size=16)\n",
        "  ax.set_ylabel(ylabel, size=16)\n",
        "  ax.legend(['Train set', 'Test set'], fontsize=16)\n",
        "  ax.tick_params(axis='both', labelsize=12)\n",
        "  ax.set_ylim(0, 1)\n",
        "\n",
        "  def percentages(x, pos):\n",
        "      \"\"\"The two args are the value and tick position\"\"\"\n",
        "      if x < 1:\n",
        "          return '{:1.0f}'.format(x*100)\n",
        "      return '{:1.0f}%'.format(x*100)\n",
        "\n",
        "  def numbers(x, pos):\n",
        "      \"\"\"The two args are the value and tick position\"\"\"\n",
        "      if x >= 1000:\n",
        "          return '{:1,.0f}'.format(x)\n",
        "      return '{:1.0f}'.format(x)\n",
        "  data = {'Train_Size':training_set_sizes, 'mean_train_Accuracy':train_score,'mean_test_Accuracy':val_score,'std_train_Accuracy':std_train,'std_test_Accuracy':std_val}\n",
        "  df_split_params = pd.DataFrame(data)\n",
        "  return df_split_params"
      ],
      "execution_count": 0,
      "outputs": []
    },
    {
      "cell_type": "code",
      "metadata": {
        "id": "ph5_XBPR-vg1",
        "colab_type": "code",
        "outputId": "7d4f5c6c-9359-4d2f-c3f5-6a20bca02e93",
        "colab": {
          "base_uri": "https://localhost:8080/",
          "height": 564
        }
      },
      "source": [
        "df_split_all_users_IF = learning_curve_all_users(model=IsolationForest__best_estimator,best_parameters=IsolationForest_best_params, users=listUserpatterns4,impostors=listUserpatterns4Impostors)"
      ],
      "execution_count": 0,
      "outputs": [
        {
          "output_type": "display_data",
          "data": {
            "image/png": "[encoded data removed]",
            "text/plain": [
              "<Figure size 1008x648 with 1 Axes>"
            ]
          },
          "metadata": {
            "tags": [],
            "needs_background": "light"
          }
        }
      ]
    },
    {
      "cell_type": "code",
      "metadata": {
        "id": "KNmaDyJU-vol",
        "colab_type": "code",
        "outputId": "03b99b77-81af-4daa-fe9d-a40e36357d23",
        "colab": {
          "base_uri": "https://localhost:8080/",
          "height": 631
        }
      },
      "source": [
        "df_split_all_users_IF"
      ],
      "execution_count": 0,
      "outputs": [
        {
          "output_type": "execute_result",
          "data": {
            "text/html": [
              "<div>\n",
              "<style scoped>\n",
              "    .dataframe tbody tr th:only-of-type {\n",
              "        vertical-align: middle;\n",
              "    }\n",
              "\n",
              "    .dataframe tbody tr th {\n",
              "        vertical-align: top;\n",
              "    }\n",
              "\n",
              "    .dataframe thead th {\n",
              "        text-align: right;\n",
              "    }\n",
              "</style>\n",
              "<table border=\"1\" class=\"dataframe\">\n",
              "  <thead>\n",
              "    <tr style=\"text-align: right;\">\n",
              "      <th></th>\n",
              "      <th>Train_Size</th>\n",
              "      <th>mean_train_Accuracy</th>\n",
              "      <th>mean_test_Accuracy</th>\n",
              "      <th>std_train_Accuracy</th>\n",
              "      <th>std_test_Accuracy</th>\n",
              "    </tr>\n",
              "  </thead>\n",
              "  <tbody>\n",
              "    <tr>\n",
              "      <th>0</th>\n",
              "      <td>5</td>\n",
              "      <td>1.0</td>\n",
              "      <td>0.909423</td>\n",
              "      <td>0.0</td>\n",
              "      <td>0.108302</td>\n",
              "    </tr>\n",
              "    <tr>\n",
              "      <th>1</th>\n",
              "      <td>6</td>\n",
              "      <td>1.0</td>\n",
              "      <td>0.923887</td>\n",
              "      <td>0.0</td>\n",
              "      <td>0.095382</td>\n",
              "    </tr>\n",
              "    <tr>\n",
              "      <th>2</th>\n",
              "      <td>7</td>\n",
              "      <td>1.0</td>\n",
              "      <td>0.934829</td>\n",
              "      <td>0.0</td>\n",
              "      <td>0.083951</td>\n",
              "    </tr>\n",
              "    <tr>\n",
              "      <th>3</th>\n",
              "      <td>8</td>\n",
              "      <td>1.0</td>\n",
              "      <td>0.938009</td>\n",
              "      <td>0.0</td>\n",
              "      <td>0.084882</td>\n",
              "    </tr>\n",
              "    <tr>\n",
              "      <th>4</th>\n",
              "      <td>9</td>\n",
              "      <td>1.0</td>\n",
              "      <td>0.945673</td>\n",
              "      <td>0.0</td>\n",
              "      <td>0.077719</td>\n",
              "    </tr>\n",
              "    <tr>\n",
              "      <th>5</th>\n",
              "      <td>10</td>\n",
              "      <td>1.0</td>\n",
              "      <td>0.953077</td>\n",
              "      <td>0.0</td>\n",
              "      <td>0.068296</td>\n",
              "    </tr>\n",
              "    <tr>\n",
              "      <th>6</th>\n",
              "      <td>11</td>\n",
              "      <td>1.0</td>\n",
              "      <td>0.948077</td>\n",
              "      <td>0.0</td>\n",
              "      <td>0.073204</td>\n",
              "    </tr>\n",
              "    <tr>\n",
              "      <th>7</th>\n",
              "      <td>12</td>\n",
              "      <td>1.0</td>\n",
              "      <td>0.956509</td>\n",
              "      <td>0.0</td>\n",
              "      <td>0.066116</td>\n",
              "    </tr>\n",
              "    <tr>\n",
              "      <th>8</th>\n",
              "      <td>13</td>\n",
              "      <td>1.0</td>\n",
              "      <td>0.953846</td>\n",
              "      <td>0.0</td>\n",
              "      <td>0.072462</td>\n",
              "    </tr>\n",
              "    <tr>\n",
              "      <th>9</th>\n",
              "      <td>14</td>\n",
              "      <td>1.0</td>\n",
              "      <td>0.957343</td>\n",
              "      <td>0.0</td>\n",
              "      <td>0.072853</td>\n",
              "    </tr>\n",
              "    <tr>\n",
              "      <th>10</th>\n",
              "      <td>15</td>\n",
              "      <td>1.0</td>\n",
              "      <td>0.949615</td>\n",
              "      <td>0.0</td>\n",
              "      <td>0.076891</td>\n",
              "    </tr>\n",
              "    <tr>\n",
              "      <th>11</th>\n",
              "      <td>16</td>\n",
              "      <td>1.0</td>\n",
              "      <td>0.955128</td>\n",
              "      <td>0.0</td>\n",
              "      <td>0.079181</td>\n",
              "    </tr>\n",
              "    <tr>\n",
              "      <th>12</th>\n",
              "      <td>17</td>\n",
              "      <td>1.0</td>\n",
              "      <td>0.962019</td>\n",
              "      <td>0.0</td>\n",
              "      <td>0.077579</td>\n",
              "    </tr>\n",
              "    <tr>\n",
              "      <th>13</th>\n",
              "      <td>18</td>\n",
              "      <td>1.0</td>\n",
              "      <td>0.963736</td>\n",
              "      <td>0.0</td>\n",
              "      <td>0.064185</td>\n",
              "    </tr>\n",
              "    <tr>\n",
              "      <th>14</th>\n",
              "      <td>19</td>\n",
              "      <td>1.0</td>\n",
              "      <td>0.959615</td>\n",
              "      <td>0.0</td>\n",
              "      <td>0.076091</td>\n",
              "    </tr>\n",
              "    <tr>\n",
              "      <th>15</th>\n",
              "      <td>20</td>\n",
              "      <td>1.0</td>\n",
              "      <td>0.976923</td>\n",
              "      <td>0.0</td>\n",
              "      <td>0.058002</td>\n",
              "    </tr>\n",
              "    <tr>\n",
              "      <th>16</th>\n",
              "      <td>21</td>\n",
              "      <td>1.0</td>\n",
              "      <td>0.959615</td>\n",
              "      <td>0.0</td>\n",
              "      <td>0.086456</td>\n",
              "    </tr>\n",
              "    <tr>\n",
              "      <th>17</th>\n",
              "      <td>22</td>\n",
              "      <td>1.0</td>\n",
              "      <td>0.975641</td>\n",
              "      <td>0.0</td>\n",
              "      <td>0.059491</td>\n",
              "    </tr>\n",
              "    <tr>\n",
              "      <th>18</th>\n",
              "      <td>24</td>\n",
              "      <td>1.0</td>\n",
              "      <td>0.950000</td>\n",
              "      <td>0.0</td>\n",
              "      <td>0.134615</td>\n",
              "    </tr>\n",
              "  </tbody>\n",
              "</table>\n",
              "</div>"
            ],
            "text/plain": [
              "    Train_Size  mean_train_Accuracy  ...  std_train_Accuracy  std_test_Accuracy\n",
              "0            5                  1.0  ...                 0.0           0.108302\n",
              "1            6                  1.0  ...                 0.0           0.095382\n",
              "2            7                  1.0  ...                 0.0           0.083951\n",
              "3            8                  1.0  ...                 0.0           0.084882\n",
              "4            9                  1.0  ...                 0.0           0.077719\n",
              "5           10                  1.0  ...                 0.0           0.068296\n",
              "6           11                  1.0  ...                 0.0           0.073204\n",
              "7           12                  1.0  ...                 0.0           0.066116\n",
              "8           13                  1.0  ...                 0.0           0.072462\n",
              "9           14                  1.0  ...                 0.0           0.072853\n",
              "10          15                  1.0  ...                 0.0           0.076891\n",
              "11          16                  1.0  ...                 0.0           0.079181\n",
              "12          17                  1.0  ...                 0.0           0.077579\n",
              "13          18                  1.0  ...                 0.0           0.064185\n",
              "14          19                  1.0  ...                 0.0           0.076091\n",
              "15          20                  1.0  ...                 0.0           0.058002\n",
              "16          21                  1.0  ...                 0.0           0.086456\n",
              "17          22                  1.0  ...                 0.0           0.059491\n",
              "18          24                  1.0  ...                 0.0           0.134615\n",
              "\n",
              "[19 rows x 5 columns]"
            ]
          },
          "metadata": {
            "tags": []
          },
          "execution_count": 44
        }
      ]
    },
    {
      "cell_type": "code",
      "metadata": {
        "id": "LBr2qj4B-vrj",
        "colab_type": "code",
        "outputId": "826bca1b-0bf0-45c0-8405-6361d0d60c09",
        "colab": {
          "base_uri": "https://localhost:8080/",
          "height": 564
        }
      },
      "source": [
        "df_split_all_users_SVM = learning_curve_all_users(model=SVM__best_estimator,best_parameters=SVM_best_params, users=listUserpatterns4,impostors=listUserpatterns4Impostors)"
      ],
      "execution_count": 0,
      "outputs": [
        {
          "output_type": "display_data",
          "data": {
            "image/png": "[encoded data removed]",
            "text/plain": [
              "<Figure size 1008x648 with 1 Axes>"
            ]
          },
          "metadata": {
            "tags": [],
            "needs_background": "light"
          }
        }
      ]
    },
    {
      "cell_type": "code",
      "metadata": {
        "id": "FPanzFvc-vut",
        "colab_type": "code",
        "outputId": "a062d235-d6d7-4bd6-c649-0b03518479da",
        "colab": {
          "base_uri": "https://localhost:8080/",
          "height": 631
        }
      },
      "source": [
        "df_split_all_users_SVM"
      ],
      "execution_count": 0,
      "outputs": [
        {
          "output_type": "execute_result",
          "data": {
            "text/html": [
              "<div>\n",
              "<style scoped>\n",
              "    .dataframe tbody tr th:only-of-type {\n",
              "        vertical-align: middle;\n",
              "    }\n",
              "\n",
              "    .dataframe tbody tr th {\n",
              "        vertical-align: top;\n",
              "    }\n",
              "\n",
              "    .dataframe thead th {\n",
              "        text-align: right;\n",
              "    }\n",
              "</style>\n",
              "<table border=\"1\" class=\"dataframe\">\n",
              "  <thead>\n",
              "    <tr style=\"text-align: right;\">\n",
              "      <th></th>\n",
              "      <th>Train_Size</th>\n",
              "      <th>mean_train_Accuracy</th>\n",
              "      <th>mean_test_Accuracy</th>\n",
              "      <th>std_train_Accuracy</th>\n",
              "      <th>std_test_Accuracy</th>\n",
              "    </tr>\n",
              "  </thead>\n",
              "  <tbody>\n",
              "    <tr>\n",
              "      <th>0</th>\n",
              "      <td>5</td>\n",
              "      <td>0.379231</td>\n",
              "      <td>0.640577</td>\n",
              "      <td>0.145036</td>\n",
              "      <td>0.188382</td>\n",
              "    </tr>\n",
              "    <tr>\n",
              "      <th>1</th>\n",
              "      <td>6</td>\n",
              "      <td>0.373077</td>\n",
              "      <td>0.596356</td>\n",
              "      <td>0.139488</td>\n",
              "      <td>0.186952</td>\n",
              "    </tr>\n",
              "    <tr>\n",
              "      <th>2</th>\n",
              "      <td>7</td>\n",
              "      <td>0.375824</td>\n",
              "      <td>0.617308</td>\n",
              "      <td>0.142072</td>\n",
              "      <td>0.186541</td>\n",
              "    </tr>\n",
              "    <tr>\n",
              "      <th>3</th>\n",
              "      <td>8</td>\n",
              "      <td>0.397115</td>\n",
              "      <td>0.630090</td>\n",
              "      <td>0.133767</td>\n",
              "      <td>0.172528</td>\n",
              "    </tr>\n",
              "    <tr>\n",
              "      <th>4</th>\n",
              "      <td>9</td>\n",
              "      <td>0.425214</td>\n",
              "      <td>0.655048</td>\n",
              "      <td>0.132187</td>\n",
              "      <td>0.175820</td>\n",
              "    </tr>\n",
              "    <tr>\n",
              "      <th>5</th>\n",
              "      <td>10</td>\n",
              "      <td>0.461154</td>\n",
              "      <td>0.667692</td>\n",
              "      <td>0.137942</td>\n",
              "      <td>0.175708</td>\n",
              "    </tr>\n",
              "    <tr>\n",
              "      <th>6</th>\n",
              "      <td>11</td>\n",
              "      <td>0.493357</td>\n",
              "      <td>0.661538</td>\n",
              "      <td>0.140954</td>\n",
              "      <td>0.176280</td>\n",
              "    </tr>\n",
              "    <tr>\n",
              "      <th>7</th>\n",
              "      <td>12</td>\n",
              "      <td>0.512179</td>\n",
              "      <td>0.665385</td>\n",
              "      <td>0.119466</td>\n",
              "      <td>0.168560</td>\n",
              "    </tr>\n",
              "    <tr>\n",
              "      <th>8</th>\n",
              "      <td>13</td>\n",
              "      <td>0.544083</td>\n",
              "      <td>0.687500</td>\n",
              "      <td>0.131955</td>\n",
              "      <td>0.158298</td>\n",
              "    </tr>\n",
              "    <tr>\n",
              "      <th>9</th>\n",
              "      <td>14</td>\n",
              "      <td>0.568956</td>\n",
              "      <td>0.692657</td>\n",
              "      <td>0.132410</td>\n",
              "      <td>0.177170</td>\n",
              "    </tr>\n",
              "    <tr>\n",
              "      <th>10</th>\n",
              "      <td>15</td>\n",
              "      <td>0.588462</td>\n",
              "      <td>0.712308</td>\n",
              "      <td>0.121968</td>\n",
              "      <td>0.172069</td>\n",
              "    </tr>\n",
              "    <tr>\n",
              "      <th>11</th>\n",
              "      <td>16</td>\n",
              "      <td>0.615144</td>\n",
              "      <td>0.711966</td>\n",
              "      <td>0.117977</td>\n",
              "      <td>0.183985</td>\n",
              "    </tr>\n",
              "    <tr>\n",
              "      <th>12</th>\n",
              "      <td>17</td>\n",
              "      <td>0.636425</td>\n",
              "      <td>0.737500</td>\n",
              "      <td>0.107475</td>\n",
              "      <td>0.180448</td>\n",
              "    </tr>\n",
              "    <tr>\n",
              "      <th>13</th>\n",
              "      <td>18</td>\n",
              "      <td>0.666026</td>\n",
              "      <td>0.750000</td>\n",
              "      <td>0.110119</td>\n",
              "      <td>0.168281</td>\n",
              "    </tr>\n",
              "    <tr>\n",
              "      <th>14</th>\n",
              "      <td>19</td>\n",
              "      <td>0.670243</td>\n",
              "      <td>0.763462</td>\n",
              "      <td>0.100117</td>\n",
              "      <td>0.183323</td>\n",
              "    </tr>\n",
              "    <tr>\n",
              "      <th>15</th>\n",
              "      <td>20</td>\n",
              "      <td>0.693269</td>\n",
              "      <td>0.769231</td>\n",
              "      <td>0.087575</td>\n",
              "      <td>0.184391</td>\n",
              "    </tr>\n",
              "    <tr>\n",
              "      <th>16</th>\n",
              "      <td>21</td>\n",
              "      <td>0.703846</td>\n",
              "      <td>0.788462</td>\n",
              "      <td>0.084286</td>\n",
              "      <td>0.198054</td>\n",
              "    </tr>\n",
              "    <tr>\n",
              "      <th>17</th>\n",
              "      <td>22</td>\n",
              "      <td>0.713986</td>\n",
              "      <td>0.784615</td>\n",
              "      <td>0.087450</td>\n",
              "      <td>0.224797</td>\n",
              "    </tr>\n",
              "    <tr>\n",
              "      <th>18</th>\n",
              "      <td>24</td>\n",
              "      <td>0.743590</td>\n",
              "      <td>0.819231</td>\n",
              "      <td>0.076175</td>\n",
              "      <td>0.328440</td>\n",
              "    </tr>\n",
              "  </tbody>\n",
              "</table>\n",
              "</div>"
            ],
            "text/plain": [
              "    Train_Size  mean_train_Accuracy  ...  std_train_Accuracy  std_test_Accuracy\n",
              "0            5             0.379231  ...            0.145036           0.188382\n",
              "1            6             0.373077  ...            0.139488           0.186952\n",
              "2            7             0.375824  ...            0.142072           0.186541\n",
              "3            8             0.397115  ...            0.133767           0.172528\n",
              "4            9             0.425214  ...            0.132187           0.175820\n",
              "5           10             0.461154  ...            0.137942           0.175708\n",
              "6           11             0.493357  ...            0.140954           0.176280\n",
              "7           12             0.512179  ...            0.119466           0.168560\n",
              "8           13             0.544083  ...            0.131955           0.158298\n",
              "9           14             0.568956  ...            0.132410           0.177170\n",
              "10          15             0.588462  ...            0.121968           0.172069\n",
              "11          16             0.615144  ...            0.117977           0.183985\n",
              "12          17             0.636425  ...            0.107475           0.180448\n",
              "13          18             0.666026  ...            0.110119           0.168281\n",
              "14          19             0.670243  ...            0.100117           0.183323\n",
              "15          20             0.693269  ...            0.087575           0.184391\n",
              "16          21             0.703846  ...            0.084286           0.198054\n",
              "17          22             0.713986  ...            0.087450           0.224797\n",
              "18          24             0.743590  ...            0.076175           0.328440\n",
              "\n",
              "[19 rows x 5 columns]"
            ]
          },
          "metadata": {
            "tags": []
          },
          "execution_count": 46
        }
      ]
    }
  ]
}