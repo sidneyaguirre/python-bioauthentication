{
  "nbformat": 4,
  "nbformat_minor": 0,
  "metadata": {
    "kernelspec": {
      "display_name": "Python 3",
      "language": "python",
      "name": "python3"
    },
    "language_info": {
      "codemirror_mode": {
        "name": "ipython",
        "version": 3
      },
      "file_extension": ".py",
      "mimetype": "text/x-python",
      "name": "python",
      "nbconvert_exporter": "python",
      "pygments_lexer": "ipython3",
      "version": "3.7.0"
    },
    "colab": {
      "name": "pattern6- bio-authemtication.ipynb",
      "provenance": [],
      "collapsed_sections": [
        "8rtLG42DVasF"
      ],
      "toc_visible": true
    }
  },
  "cells": [
    {
      "cell_type": "code",
      "metadata": {
        "id": "n91bGhxrvrw-",
        "colab_type": "code",
        "colab": {}
      },
      "source": [
        "from __future__ import division\n",
        "import math\n",
        "import matplotlib.pyplot as plt\n",
        "\n",
        "import pandas as pd # to import csv and for data manipulation\n",
        "import matplotlib.pyplot as plt # to plot graph\n",
        "import seaborn as sns # for intractve graphs\n",
        "import numpy as np # for linear algebra\n",
        "import datetime # to dela with date and time\n",
        "%matplotlib inline\n",
        "from sklearn.preprocessing import StandardScaler # for preprocessing the data\n",
        "from sklearn.ensemble import RandomForestClassifier # Random forest classifier\n",
        "from sklearn.tree import DecisionTreeClassifier # for Decision Tree classifier\n",
        "from sklearn.svm import SVC # for SVM classification\n",
        "from sklearn.linear_model import LogisticRegression\n",
        "from sklearn.model_selection import train_test_split # to split the data\n",
        "from sklearn.model_selection import KFold # For cross vbalidation\n",
        "from sklearn.model_selection import GridSearchCV # for tunnig hyper parameter it will use all combination of given parameters\n",
        "from sklearn.model_selection import RandomizedSearchCV # same for tunning hyper parameter but will use random combinations of parameters\n",
        "from sklearn.metrics import confusion_matrix,recall_score,precision_recall_curve,auc,roc_curve,roc_auc_score,classification_report\n",
        "import time\n",
        "\n",
        "import warnings\n",
        "warnings.filterwarnings('ignore')"
      ],
      "execution_count": 0,
      "outputs": []
    },
    {
      "cell_type": "markdown",
      "metadata": {
        "id": "XGnjIIoWLpw8",
        "colab_type": "text"
      },
      "source": [
        "# Load data from Drive"
      ]
    },
    {
      "cell_type": "code",
      "metadata": {
        "id": "Etgr1laOcq6P",
        "colab_type": "code",
        "outputId": "58f5b8f8-5a91-48a1-c8f4-fb84ceb5b801",
        "colab": {
          "base_uri": "https://localhost:8080/",
          "height": 1000
        }
      },
      "source": [
        "# ! wget https://raw.githubusercontent.com/sidneyaguirre/python-bioauthentication/master/DB/patterns-Real-4.csv\n",
        "# ! wget https://raw.githubusercontent.com/sidneyaguirre/python-bioauthentication/master/DB/patterns-Real-6.csv\n",
        "# ! wget https://raw.githubusercontent.com/sidneyaguirre/python-bioauthentication/master/DB/patterns-Real-8.csv\n",
        "\n",
        "# ! wget https://raw.githubusercontent.com/sidneyaguirre/python-bioauthentication/master/DB/patterns-Impostor-4.csv\n",
        "# ! wget https://raw.githubusercontent.com/sidneyaguirre/python-bioauthentication/master/DB/patterns-Impostor-6.csv\n",
        "# ! wget https://raw.githubusercontent.com/sidneyaguirre/python-bioauthentication/master/DB/patterns-Impostor-8.csv"
      ],
      "execution_count": 0,
      "outputs": [
        {
          "output_type": "stream",
          "text": [
            "--2020-05-08 14:52:53--  https://raw.githubusercontent.com/sidneyaguirre/python-bioauthentication/master/DB/patterns-Real-4.csv\n",
            "Resolving raw.githubusercontent.com (raw.githubusercontent.com)... 151.101.0.133, 151.101.64.133, 151.101.128.133, ...\n",
            "Connecting to raw.githubusercontent.com (raw.githubusercontent.com)|151.101.0.133|:443... connected.\n",
            "HTTP request sent, awaiting response... 200 OK\n",
            "Length: 435060 (425K) [text/plain]\n",
            "Saving to: ‘patterns-Real-4.csv’\n",
            "\n",
            "\rpatterns-Real-4.csv   0%[                    ]       0  --.-KB/s               \rpatterns-Real-4.csv 100%[===================>] 424.86K  --.-KB/s    in 0.07s   \n",
            "\n",
            "2020-05-08 14:52:53 (5.81 MB/s) - ‘patterns-Real-4.csv’ saved [435060/435060]\n",
            "\n",
            "--2020-05-08 14:52:54--  https://raw.githubusercontent.com/sidneyaguirre/python-bioauthentication/master/DB/patterns-Real-6.csv\n",
            "Resolving raw.githubusercontent.com (raw.githubusercontent.com)... 151.101.0.133, 151.101.64.133, 151.101.128.133, ...\n",
            "Connecting to raw.githubusercontent.com (raw.githubusercontent.com)|151.101.0.133|:443... connected.\n",
            "HTTP request sent, awaiting response... 200 OK\n",
            "Length: 574083 (561K) [text/plain]\n",
            "Saving to: ‘patterns-Real-6.csv’\n",
            "\n",
            "patterns-Real-6.csv 100%[===================>] 560.63K  --.-KB/s    in 0.07s   \n",
            "\n",
            "2020-05-08 14:52:54 (8.25 MB/s) - ‘patterns-Real-6.csv’ saved [574083/574083]\n",
            "\n",
            "--2020-05-08 14:52:55--  https://raw.githubusercontent.com/sidneyaguirre/python-bioauthentication/master/DB/patterns-Real-8.csv\n",
            "Resolving raw.githubusercontent.com (raw.githubusercontent.com)... 151.101.0.133, 151.101.64.133, 151.101.128.133, ...\n",
            "Connecting to raw.githubusercontent.com (raw.githubusercontent.com)|151.101.0.133|:443... connected.\n",
            "HTTP request sent, awaiting response... 200 OK\n",
            "Length: 762928 (745K) [text/plain]\n",
            "Saving to: ‘patterns-Real-8.csv’\n",
            "\n",
            "patterns-Real-8.csv 100%[===================>] 745.05K  --.-KB/s    in 0.08s   \n",
            "\n",
            "2020-05-08 14:52:55 (9.17 MB/s) - ‘patterns-Real-8.csv’ saved [762928/762928]\n",
            "\n",
            "--2020-05-08 14:52:56--  https://raw.githubusercontent.com/sidneyaguirre/python-bioauthentication/master/DB/patterns-Impostor-4.csv\n",
            "Resolving raw.githubusercontent.com (raw.githubusercontent.com)... 151.101.0.133, 151.101.64.133, 151.101.128.133, ...\n",
            "Connecting to raw.githubusercontent.com (raw.githubusercontent.com)|151.101.0.133|:443... connected.\n",
            "HTTP request sent, awaiting response... 200 OK\n",
            "Length: 77736 (76K) [text/plain]\n",
            "Saving to: ‘patterns-Impostor-4.csv’\n",
            "\n",
            "patterns-Impostor-4 100%[===================>]  75.91K  --.-KB/s    in 0.03s   \n",
            "\n",
            "2020-05-08 14:52:56 (2.63 MB/s) - ‘patterns-Impostor-4.csv’ saved [77736/77736]\n",
            "\n",
            "--2020-05-08 14:52:57--  https://raw.githubusercontent.com/sidneyaguirre/python-bioauthentication/master/DB/patterns-Impostor-6.csv\n",
            "Resolving raw.githubusercontent.com (raw.githubusercontent.com)... 151.101.0.133, 151.101.64.133, 151.101.128.133, ...\n",
            "Connecting to raw.githubusercontent.com (raw.githubusercontent.com)|151.101.0.133|:443... connected.\n",
            "HTTP request sent, awaiting response... 200 OK\n",
            "Length: 115291 (113K) [text/plain]\n",
            "Saving to: ‘patterns-Impostor-6.csv’\n",
            "\n",
            "patterns-Impostor-6 100%[===================>] 112.59K  --.-KB/s    in 0.04s   \n",
            "\n",
            "2020-05-08 14:52:57 (2.93 MB/s) - ‘patterns-Impostor-6.csv’ saved [115291/115291]\n",
            "\n",
            "--2020-05-08 14:52:58--  https://raw.githubusercontent.com/sidneyaguirre/python-bioauthentication/master/DB/patterns-Impostor-8.csv\n",
            "Resolving raw.githubusercontent.com (raw.githubusercontent.com)... 151.101.0.133, 151.101.64.133, 151.101.128.133, ...\n",
            "Connecting to raw.githubusercontent.com (raw.githubusercontent.com)|151.101.0.133|:443... connected.\n",
            "HTTP request sent, awaiting response... 200 OK\n",
            "Length: 153565 (150K) [text/plain]\n",
            "Saving to: ‘patterns-Impostor-8.csv’\n",
            "\n",
            "patterns-Impostor-8 100%[===================>] 149.97K  --.-KB/s    in 0.04s   \n",
            "\n",
            "2020-05-08 14:52:58 (3.61 MB/s) - ‘patterns-Impostor-8.csv’ saved [153565/153565]\n",
            "\n"
          ],
          "name": "stdout"
        }
      ]
    },
    {
      "cell_type": "code",
      "metadata": {
        "id": "1ZLb5cLKcbQp",
        "colab_type": "code",
        "colab": {}
      },
      "source": [
        ""
      ],
      "execution_count": 0,
      "outputs": []
    },
    {
      "cell_type": "code",
      "metadata": {
        "id": "ftXMrVx6Rk8x",
        "colab_type": "code",
        "colab": {}
      },
      "source": [
        "#Data set csv files\n",
        "datapatterns4 = pd.read_csv('patterns-Real-4.csv')\n",
        "datapatterns6 = pd.read_csv('patterns-Real-6.csv')\n",
        "datapatterns8 = pd.read_csv('patterns-Real-8.csv')\n",
        "datapatterns4Impostor = pd.read_csv('patterns-Impostor-4.csv')\n",
        "datapatterns6Impostor  = pd.read_csv('patterns-Impostor-6.csv')\n",
        "datapatterns8Impostor  = pd.read_csv('patterns-Impostor-8.csv')"
      ],
      "execution_count": 0,
      "outputs": []
    },
    {
      "cell_type": "code",
      "metadata": {
        "id": "buFLPJFlCR1C",
        "colab_type": "code",
        "colab": {}
      },
      "source": [
        "listUsers = [1,2,3,4,7,8,11,12,15,16,17,19,20,22,24,25,27,28,33,34,36,37,39,41,42,43]"
      ],
      "execution_count": 0,
      "outputs": []
    },
    {
      "cell_type": "code",
      "metadata": {
        "id": "Mep6xWEebCVQ",
        "colab_type": "code",
        "colab": {}
      },
      "source": [
        "# lengthDataSet = dataPin4['length']\n",
        "# lengthDataSet = lengthDataSet[0]\n",
        "# lengthDataSet"
      ],
      "execution_count": 0,
      "outputs": []
    },
    {
      "cell_type": "markdown",
      "metadata": {
        "id": "KD0-Zlh_L3Pg",
        "colab_type": "text"
      },
      "source": [
        "# Cleaning data"
      ]
    },
    {
      "cell_type": "markdown",
      "metadata": {
        "id": "uUC_N7XHvrxH",
        "colab_type": "text"
      },
      "source": [
        "Hence we can see there are 2911 rows and 72 columns"
      ]
    },
    {
      "cell_type": "code",
      "metadata": {
        "id": "LO5gk6fpXwKz",
        "colab_type": "code",
        "colab": {}
      },
      "source": [
        "#dataless-columns in dataPin are taken away\n",
        "def dataCleaning(data):\n",
        "  data = data.dropna(axis = 0, how = 'all')\n",
        "  return data"
      ],
      "execution_count": 0,
      "outputs": []
    },
    {
      "cell_type": "markdown",
      "metadata": {
        "id": "874AbdpovrxN",
        "colab_type": "text"
      },
      "source": [
        "data_new =data.dropna(axis=0,how='all')\n",
        "data_new.head()\n",
        "data_new.columns"
      ]
    },
    {
      "cell_type": "code",
      "metadata": {
        "id": "twa7MR3vl2CD",
        "colab_type": "code",
        "colab": {}
      },
      "source": [
        "def listUser(dataset, listUsers, target=1):\n",
        "\n",
        "  users = list() \n",
        "  cleaned_data = dataCleaning(dataset)\n",
        "  for i in listUsers:\n",
        "\n",
        "    df_user = cleaned_data[cleaned_data['user'] == i]\n",
        "    df_user['target'] = target\n",
        "    df_user.drop(['user','length'],axis=1, inplace=True)\n",
        "    user = df_user.values\n",
        "    users.append(user)\n",
        "      \n",
        "  return users"
      ],
      "execution_count": 0,
      "outputs": []
    },
    {
      "cell_type": "code",
      "metadata": {
        "id": "4xGtEjXe28fb",
        "colab_type": "code",
        "colab": {}
      },
      "source": [
        "listUserpatterns4 = listUser(datapatterns4, listUsers)\n",
        "listUserpatterns6 = listUser(datapatterns6, listUsers)\n",
        "listUserpatterns8 = listUser(datapatterns8, listUsers)\n",
        "\n",
        "listUserpatterns4Impostors = listUser(datapatterns4Impostor, listUsers, target = -1)\n",
        "listUserpatterns6Impostors = listUser(datapatterns6Impostor, listUsers, target = -1)\n",
        "listUserpatterns8Impostors =listUser(datapatterns8Impostor, listUsers, target = -1)"
      ],
      "execution_count": 0,
      "outputs": []
    },
    {
      "cell_type": "code",
      "metadata": {
        "id": "buCgMR03vrxb",
        "colab_type": "code",
        "colab": {}
      },
      "source": [
        "#ROC Curve\n",
        "def plot_roc_curve(fpr, tpr, label=None):\n",
        "    plt.plot(fpr, tpr, linewidth=2, label=label)\n",
        "    plt.plot([0, 1], [0, 1], 'k--')\n",
        "    plt.axis([0, 1, 0, 1])\n",
        "    plt.xlabel('False Positive Rate')\n",
        "    plt.ylabel('True Positive Rate')"
      ],
      "execution_count": 0,
      "outputs": []
    },
    {
      "cell_type": "code",
      "metadata": {
        "id": "ZQrgjHWNvrxk",
        "colab_type": "code",
        "colab": {}
      },
      "source": [
        "#Metrics: precision (precision_score), sensitivity (recall_score), \n",
        "from sklearn.metrics import confusion_matrix, precision_score, recall_score, accuracy_score\n",
        "def metrics(Ytrain,Yval,y_predict_train, y_predict_valid):\n",
        "  #print('Getting metrics...')\n",
        "\n",
        "  accuracyTrain = np.mean(y_predict_train.ravel() == Ytrain.ravel())\n",
        "\n",
        "  accuracyValid =np.mean(y_predict_valid.ravel() == Yval.ravel()) \n",
        " \n",
        "\n",
        "  return accuracyTrain, accuracyValid        "
      ],
      "execution_count": 0,
      "outputs": []
    },
    {
      "cell_type": "markdown",
      "metadata": {
        "id": "F2xLcKR4eApq",
        "colab_type": "text"
      },
      "source": [
        "## Get X and Y sets\n"
      ]
    },
    {
      "cell_type": "code",
      "metadata": {
        "id": "ve2Nx5YahyeM",
        "colab_type": "code",
        "colab": {}
      },
      "source": [
        "s = 1\n",
        "data = listUserpatterns6[s]\n",
        "Xtrain_original = data[:,0:47]\n",
        "Ytrain_original = data[:,48]\n",
        "Ytrain_original = Ytrain_original.astype(int)"
      ],
      "execution_count": 0,
      "outputs": []
    },
    {
      "cell_type": "code",
      "metadata": {
        "id": "nopWIdWNBICU",
        "colab_type": "code",
        "colab": {}
      },
      "source": [
        "s = 1\n",
        "dataI = listUserpatterns6Impostors[s]\n",
        "Xtest_original = dataI[:,0:47]\n",
        "Ytest_original = dataI[:,48]\n",
        "Ytest_original=Ytest_original.astype(int)"
      ],
      "execution_count": 0,
      "outputs": []
    },
    {
      "cell_type": "markdown",
      "metadata": {
        "id": "qS80_cetEBmV",
        "colab_type": "text"
      },
      "source": [
        "# Models"
      ]
    },
    {
      "cell_type": "code",
      "metadata": {
        "id": "uKoF5gvWZwr7",
        "colab_type": "code",
        "colab": {}
      },
      "source": [
        "# MODELS\n",
        "from sklearn.ensemble import IsolationForest\n",
        "from sklearn import svm"
      ],
      "execution_count": 0,
      "outputs": []
    },
    {
      "cell_type": "code",
      "metadata": {
        "id": "Q6RiHXuroAhb",
        "colab_type": "code",
        "colab": {}
      },
      "source": [
        "modelIsoForest = IsolationForest()\n",
        "modelSVM = svm.OneClassSVM()"
      ],
      "execution_count": 0,
      "outputs": []
    },
    {
      "cell_type": "markdown",
      "metadata": {
        "id": "8CqKqvow2KNz",
        "colab_type": "text"
      },
      "source": [
        "## Manual Grid Search"
      ]
    },
    {
      "cell_type": "code",
      "metadata": {
        "id": "u-b0V2Ge1M-T",
        "colab_type": "code",
        "colab": {}
      },
      "source": [
        "from sklearn.model_selection import ParameterGrid\n",
        "\n",
        "gridSVM = {'nu' : [0.00001, 0.0001, 0.001, 0.01, 0.1], 'gamma' : ['scale', 'auto'], 'kernel': ['linear', 'poly', 'rbf', 'sigmoid']}\n",
        "\n",
        "gridIsoForest = {'n_estimators': list(range(5, 25, 4)), \n",
        "                'max_samples': ['auto'], \n",
        "                'contamination': [0, 0.5], \n",
        "                'max_features': [10,20,30,40,47], \n",
        "                'bootstrap': [True, False], \n",
        "                'n_jobs': [-1]}"
      ],
      "execution_count": 0,
      "outputs": []
    },
    {
      "cell_type": "code",
      "metadata": {
        "id": "9dlQSRQO6GDI",
        "colab_type": "code",
        "outputId": "929d3426-197f-457a-b3c3-2e7379e3d6dd",
        "colab": {
          "base_uri": "https://localhost:8080/",
          "height": 35
        }
      },
      "source": [
        "list(ParameterGrid(gridSVM))\n",
        "len(list(ParameterGrid(gridSVM)))"
      ],
      "execution_count": 0,
      "outputs": [
        {
          "output_type": "execute_result",
          "data": {
            "text/plain": [
              "40"
            ]
          },
          "metadata": {
            "tags": []
          },
          "execution_count": 117
        }
      ]
    },
    {
      "cell_type": "code",
      "metadata": {
        "id": "BVd02XpotYEp",
        "colab_type": "code",
        "outputId": "ea3463b0-a1ff-4ec7-ad69-3aede3d114de",
        "colab": {
          "base_uri": "https://localhost:8080/",
          "height": 35
        }
      },
      "source": [
        "list(ParameterGrid(gridIsoForest))\n",
        "len(list(ParameterGrid(gridIsoForest)))"
      ],
      "execution_count": 0,
      "outputs": [
        {
          "output_type": "execute_result",
          "data": {
            "text/plain": [
              "100"
            ]
          },
          "metadata": {
            "tags": []
          },
          "execution_count": 118
        }
      ]
    },
    {
      "cell_type": "markdown",
      "metadata": {
        "id": "_WsInlo_spaI",
        "colab_type": "text"
      },
      "source": [
        "# GridSearch V1.1"
      ]
    },
    {
      "cell_type": "code",
      "metadata": {
        "id": "z-Sc5PBlsmiL",
        "colab_type": "code",
        "colab": {}
      },
      "source": [
        "modelsAndGrids = [('modelIsoForest ', modelIsoForest, gridIsoForest), ('modelSVM', modelSVM, gridSVM)]"
      ],
      "execution_count": 0,
      "outputs": []
    },
    {
      "cell_type": "code",
      "metadata": {
        "id": "N3e85XrvogIT",
        "colab_type": "code",
        "colab": {}
      },
      "source": [
        "# Xtrain_original, Xtest_original, Ytrain_original, Ytest_original = train_test_split(X, Y, train_size=20)"
      ],
      "execution_count": 0,
      "outputs": []
    },
    {
      "cell_type": "code",
      "metadata": {
        "id": "Cg0GUty1s1Gb",
        "colab_type": "code",
        "colab": {}
      },
      "source": [
        "from sklearn.model_selection import KFold\n",
        "from sklearn import preprocessing\n",
        "from sklearn.model_selection import train_test_split\n",
        "from numpy import random\n"
      ],
      "execution_count": 0,
      "outputs": []
    },
    {
      "cell_type": "code",
      "metadata": {
        "id": "y35UpmO93lTq",
        "colab_type": "code",
        "colab": {}
      },
      "source": [
        "def GridSearch(Xtrain_original,Ytrain_original,models):\n",
        "  # create lists to store final results\n",
        "  train_score = []\n",
        "  val_score = []\n",
        "  std_train= []\n",
        "  std_val=[]\n",
        "  best_params = []\n",
        "  models_results = []\n",
        "\n",
        "  Folds = 10\n",
        "  results = list()\n",
        "  gsAccuracy = 0\n",
        "  # random.seed(19680801)\n",
        "  #Data Normalization\n",
        "  scaler = preprocessing.StandardScaler().fit(Xtrain_original)\n",
        "  Xtrain_original = scaler.transform(Xtrain_original)\n",
        "  \n",
        "  kf = KFold(n_splits=Folds,shuffle=True)\n",
        "  for m in range(0,len(models)):\n",
        "    params = []\n",
        "    meanAccuracyValid = np.zeros((len(list(ParameterGrid(models[m][2]))),1))\n",
        "    meanAccuracyTrain = np.zeros((len(list(ParameterGrid(models[m][2]))),1))\n",
        "    meanStdValid = np.zeros((len(list(ParameterGrid(models[m][2]))),1))\n",
        "    meanStdTrain = np.zeros((len(list(ParameterGrid(models[m][2]))),1))\n",
        "    result = list()\n",
        "    k=0\n",
        "    for z in ParameterGrid(models[m][2]):\n",
        "      params.append(z)\n",
        "      accuracyTrainFolds = np.zeros((Folds,1))\n",
        "      accuracyValidFolds = np.zeros((Folds,1))\n",
        "      stdTrainFolds = np.zeros((Folds,1))\n",
        "      stdValidFolds = np.zeros((Folds,1))\n",
        "      j=0\n",
        "      \n",
        "      models[m][1].set_params(**z)\n",
        "\n",
        "      for train, valid in kf.split(Xtrain_original):\n",
        "        Xtrain = Xtrain_original[train,:]\n",
        "        Ytrain = Ytrain_original[train]\n",
        "        Xvalid = Xtrain_original[valid,:]\n",
        "        Yvalid = Ytrain_original[valid]\n",
        "\n",
        "        # #Data Normalization\n",
        "        # scaler = preprocessing.StandardScaler().fit(Xtrain)\n",
        "        # Xtrain = scaler.transform(Xtrain)\n",
        "        # Xvalid = scaler.transform(Xvalid)\n",
        "\n",
        "        models[m][1].fit(Xtrain)\n",
        "\n",
        "        y_predict_train =  models[m][1].predict(Xtrain)\n",
        "        \n",
        "        #Validation\n",
        "        y_predict_valid = models[m][1].predict(Xvalid)\n",
        "\n",
        "\n",
        "\n",
        "        accuracyTrainFolds[j], accuracyValidFolds[j] = metrics(Ytrain,Yvalid,y_predict_train,y_predict_valid )\n",
        "        \n",
        "        j+=1\n",
        "\n",
        "      meanAccuracyTrain[k], meanAccuracyValid[k], meanStdTrain[k], meanStdValid[k] = np.mean(accuracyTrainFolds), np.mean(accuracyValidFolds), np.std(accuracyTrainFolds), np.std(accuracyValidFolds)\n",
        "      k+=1\n",
        "    result.append([models[m][0], meanAccuracyValid[np.argmax(meanAccuracyValid)],meanStdValid[np.argmax(meanAccuracyValid)], params[np.argmax(meanAccuracyValid)]])\n",
        "\n",
        "    results.append(result)\n",
        "\n",
        "  return results"
      ],
      "execution_count": 0,
      "outputs": []
    },
    {
      "cell_type": "code",
      "metadata": {
        "id": "cTDP1iOxs5Hf",
        "colab_type": "code",
        "colab": {}
      },
      "source": [
        "results = GridSearch(Xtrain_original,Ytrain_original,modelsAndGrids)"
      ],
      "execution_count": 0,
      "outputs": []
    },
    {
      "cell_type": "code",
      "metadata": {
        "id": "9i25weTltn3W",
        "colab_type": "code",
        "colab": {}
      },
      "source": [
        "IF = results[0]\n",
        "OC = results[1]\n",
        "OCP = OC[0]\n",
        "IFP = IF[0]\n",
        "IFParams = IFP[3]\n",
        "SVMParams = OCP[3]"
      ],
      "execution_count": 0,
      "outputs": []
    },
    {
      "cell_type": "code",
      "metadata": {
        "id": "J60o4qiGMNTB",
        "colab_type": "code",
        "outputId": "be2b9ba4-2200-4bf1-f5e4-fe898dbf78dc",
        "colab": {
          "base_uri": "https://localhost:8080/",
          "height": 121
        }
      },
      "source": [
        "IFParams"
      ],
      "execution_count": 0,
      "outputs": [
        {
          "output_type": "execute_result",
          "data": {
            "text/plain": [
              "{'bootstrap': True,\n",
              " 'contamination': 0,\n",
              " 'max_features': 10,\n",
              " 'max_samples': 'auto',\n",
              " 'n_estimators': 13,\n",
              " 'n_jobs': -1}"
            ]
          },
          "metadata": {
            "tags": []
          },
          "execution_count": 125
        }
      ]
    },
    {
      "cell_type": "code",
      "metadata": {
        "id": "qJRUkNC43DrV",
        "colab_type": "code",
        "colab": {}
      },
      "source": [
        "# IFParams = {'bootstrap': True,\n",
        "#  'contamination': 0,\n",
        "#  'max_features': 10,\n",
        "#  'max_samples': 'auto',\n",
        "#  'n_estimators': 5,\n",
        "#  'n_jobs': -1}"
      ],
      "execution_count": 0,
      "outputs": []
    },
    {
      "cell_type": "code",
      "metadata": {
        "id": "CJi2ct9w3D_b",
        "colab_type": "code",
        "outputId": "31cef29a-0dcf-4680-c415-15ab25d86b63",
        "colab": {
          "base_uri": "https://localhost:8080/",
          "height": 35
        }
      },
      "source": [
        "SVMParams"
      ],
      "execution_count": 0,
      "outputs": [
        {
          "output_type": "execute_result",
          "data": {
            "text/plain": [
              "{'gamma': 'auto', 'kernel': 'sigmoid', 'nu': 0.1}"
            ]
          },
          "metadata": {
            "tags": []
          },
          "execution_count": 127
        }
      ]
    },
    {
      "cell_type": "code",
      "metadata": {
        "id": "vk1TG6tIzkp8",
        "colab_type": "code",
        "colab": {}
      },
      "source": [
        "columns=[\"models\",\"mean train Accuracy\",\"CI (+-)\", \"Best params\"]\n",
        "result0 = pd.DataFrame(results[0],columns=columns)\n",
        "result1 = pd.DataFrame(results[1],columns=columns)"
      ],
      "execution_count": 0,
      "outputs": []
    },
    {
      "cell_type": "code",
      "metadata": {
        "id": "pBseeqLS46gz",
        "colab_type": "code",
        "colab": {}
      },
      "source": [
        "resultados_finales = result0.append(result1)"
      ],
      "execution_count": 0,
      "outputs": []
    },
    {
      "cell_type": "code",
      "metadata": {
        "id": "dCgadmDSeYkp",
        "colab_type": "code",
        "outputId": "077da1b9-f790-4219-9bc2-1ec7644420b4",
        "colab": {
          "base_uri": "https://localhost:8080/",
          "height": 110
        }
      },
      "source": [
        "resultados_finales"
      ],
      "execution_count": 0,
      "outputs": [
        {
          "output_type": "execute_result",
          "data": {
            "text/html": [
              "<div>\n",
              "<style scoped>\n",
              "    .dataframe tbody tr th:only-of-type {\n",
              "        vertical-align: middle;\n",
              "    }\n",
              "\n",
              "    .dataframe tbody tr th {\n",
              "        vertical-align: top;\n",
              "    }\n",
              "\n",
              "    .dataframe thead th {\n",
              "        text-align: right;\n",
              "    }\n",
              "</style>\n",
              "<table border=\"1\" class=\"dataframe\">\n",
              "  <thead>\n",
              "    <tr style=\"text-align: right;\">\n",
              "      <th></th>\n",
              "      <th>models</th>\n",
              "      <th>mean train Accuracy</th>\n",
              "      <th>CI (+-)</th>\n",
              "      <th>Best params</th>\n",
              "    </tr>\n",
              "  </thead>\n",
              "  <tbody>\n",
              "    <tr>\n",
              "      <th>0</th>\n",
              "      <td>modelIsoForest</td>\n",
              "      <td>[1.0]</td>\n",
              "      <td>[0.0]</td>\n",
              "      <td>{'bootstrap': True, 'contamination': 0, 'max_f...</td>\n",
              "    </tr>\n",
              "    <tr>\n",
              "      <th>0</th>\n",
              "      <td>modelSVM</td>\n",
              "      <td>[0.7833333333333333]</td>\n",
              "      <td>[0.31666666666666665]</td>\n",
              "      <td>{'gamma': 'auto', 'kernel': 'sigmoid', 'nu': 0.1}</td>\n",
              "    </tr>\n",
              "  </tbody>\n",
              "</table>\n",
              "</div>"
            ],
            "text/plain": [
              "            models  ...                                        Best params\n",
              "0  modelIsoForest   ...  {'bootstrap': True, 'contamination': 0, 'max_f...\n",
              "0         modelSVM  ...  {'gamma': 'auto', 'kernel': 'sigmoid', 'nu': 0.1}\n",
              "\n",
              "[2 rows x 4 columns]"
            ]
          },
          "metadata": {
            "tags": []
          },
          "execution_count": 130
        }
      ]
    },
    {
      "cell_type": "markdown",
      "metadata": {
        "id": "lXZxC6C-vjQp",
        "colab_type": "text"
      },
      "source": [
        "## Best model evaluation with the test set"
      ]
    },
    {
      "cell_type": "code",
      "metadata": {
        "id": "s0VVYRYawG1P",
        "colab_type": "code",
        "colab": {}
      },
      "source": [
        "def MetricsBestParams(model,X_train,X_test,Y_test):\n",
        "\n",
        "  #Data Normalization\n",
        "  scaler = preprocessing.StandardScaler().fit(X_train)\n",
        "  X_train = scaler.transform(X_train)\n",
        "  X_test = scaler.transform(X_test)\n",
        "  \n",
        "  model.fit(X_train)\n",
        "\n",
        "  y_predicted = model.predict(X_test)\n",
        "\n",
        "  print('y_predicted', y_predicted)\n",
        "  print('Y_test', Y_test)\n",
        "\n",
        "  print('Accuracy: ', accuracy_score(Y_test, y_predicted), '\\n')\n",
        "  report = classification_report(Y_test, y_predicted)\n",
        "  print(\"\\nclassification report :\\n\",report )\n",
        " \n",
        "  # Confusion matrix\n",
        "  cm = confusion_matrix(Y_test, y_predicted)\n",
        "  # Normalize\n",
        "  cmn = cm.astype('float') / cm.sum(axis=1)[:, np.newaxis]\n",
        "  fig, ax = plt.subplots(figsize=(10,10))\n",
        "  print(cmn)  \n",
        "  sns.heatmap(cmn, annot=True, fmt='.2f')\n",
        "  plt.ylabel('Actual')\n",
        "  plt.xlabel('Predicted')\n",
        "  ax.set_ylim(sorted(ax.get_xlim(), reverse=True))\n",
        "  plt.show(block=False)\n",
        "      \n",
        "  return report"
      ],
      "execution_count": 0,
      "outputs": []
    },
    {
      "cell_type": "markdown",
      "metadata": {
        "id": "Q1lWX944wiup",
        "colab_type": "text"
      },
      "source": [
        "## IsolationForest best parameters"
      ]
    },
    {
      "cell_type": "code",
      "metadata": {
        "id": "d2l3pBQIwiET",
        "colab_type": "code",
        "colab": {}
      },
      "source": [
        "IsolationForest_best_params = IFParams\n",
        "\n",
        "IsolationForest__best_estimator = modelsAndGrids[0][1].set_params(**IsolationForest_best_params)"
      ],
      "execution_count": 0,
      "outputs": []
    },
    {
      "cell_type": "code",
      "metadata": {
        "id": "J7OO_Ijs1B-T",
        "colab_type": "code",
        "outputId": "145e8b73-4e54-4cb7-c608-33312b969ecb",
        "colab": {
          "base_uri": "https://localhost:8080/",
          "height": 904
        }
      },
      "source": [
        "metricsIF = MetricsBestParams(IsolationForest__best_estimator,Xtrain_original,Xtest_original,Ytest_original)"
      ],
      "execution_count": 0,
      "outputs": [
        {
          "output_type": "stream",
          "text": [
            "y_predicted [ 1 -1 -1 -1 -1]\n",
            "Y_test [-1 -1 -1 -1 -1]\n",
            "Accuracy:  0.8 \n",
            "\n",
            "\n",
            "classification report :\n",
            "               precision    recall  f1-score   support\n",
            "\n",
            "          -1       1.00      0.80      0.89         5\n",
            "           1       0.00      0.00      0.00         0\n",
            "\n",
            "    accuracy                           0.80         5\n",
            "   macro avg       0.50      0.40      0.44         5\n",
            "weighted avg       1.00      0.80      0.89         5\n",
            "\n",
            "[[0.8 0.2]\n",
            " [nan nan]]\n"
          ],
          "name": "stdout"
        },
        {
          "output_type": "display_data",
          "data": {
            "image/png": "[encoded data removed]",
            "text/plain": [
              "<Figure size 720x720 with 2 Axes>"
            ]
          },
          "metadata": {
            "tags": [],
            "needs_background": "light"
          }
        }
      ]
    },
    {
      "cell_type": "markdown",
      "metadata": {
        "id": "rLp4SHu3wnsc",
        "colab_type": "text"
      },
      "source": [
        "OneClassSVM best parameters"
      ]
    },
    {
      "cell_type": "code",
      "metadata": {
        "id": "KxE2rh54yiZn",
        "colab_type": "code",
        "colab": {}
      },
      "source": [
        "# SVM_best_params = {'gamma': 'scale', 'kernel': 'sigmoid', 'nu': 0.01}\n",
        "SVM_best_params = SVMParams\n",
        "SVM__best_estimator = modelsAndGrids[1][1].set_params(**SVM_best_params)"
      ],
      "execution_count": 0,
      "outputs": []
    },
    {
      "cell_type": "code",
      "metadata": {
        "id": "-AP7uASG_R19",
        "colab_type": "code",
        "outputId": "6ff5f6b7-125d-49f0-a01a-413045bf431f",
        "colab": {
          "base_uri": "https://localhost:8080/",
          "height": 904
        }
      },
      "source": [
        "metricsSVM = MetricsBestParams(SVM__best_estimator,Xtrain_original,Xtest_original,Ytest_original)"
      ],
      "execution_count": 0,
      "outputs": [
        {
          "output_type": "stream",
          "text": [
            "y_predicted [-1  1  1  1  1]\n",
            "Y_test [-1 -1 -1 -1 -1]\n",
            "Accuracy:  0.2 \n",
            "\n",
            "\n",
            "classification report :\n",
            "               precision    recall  f1-score   support\n",
            "\n",
            "          -1       1.00      0.20      0.33         5\n",
            "           1       0.00      0.00      0.00         0\n",
            "\n",
            "    accuracy                           0.20         5\n",
            "   macro avg       0.50      0.10      0.17         5\n",
            "weighted avg       1.00      0.20      0.33         5\n",
            "\n",
            "[[0.2 0.8]\n",
            " [nan nan]]\n"
          ],
          "name": "stdout"
        },
        {
          "output_type": "display_data",
          "data": {
            "image/png": "[encoded data removed]",
            "text/plain": [
              "<Figure size 720x720 with 2 Axes>"
            ]
          },
          "metadata": {
            "tags": [],
            "needs_background": "light"
          }
        }
      ]
    },
    {
      "cell_type": "markdown",
      "metadata": {
        "id": "hg7h4jK9YS26",
        "colab_type": "text"
      },
      "source": [
        "### Builder model definition (TODO)"
      ]
    },
    {
      "cell_type": "code",
      "metadata": {
        "id": "vZRwEw05PyVn",
        "colab_type": "code",
        "colab": {}
      },
      "source": [
        "def build_model(model, parameters, train_size, X,Y):\n",
        "  # Xtrain_original, Xtest_original, Ytrain_original, Ytest_original = train_test_split(X, Y, train_size=20)\n",
        "  # Xtrain, Xtest, Ytrain, Ytest = train_test_split(X, Y, train_size=train_size)\n",
        "  #Data Normalization\n",
        "\n",
        "  Folds = 10\n",
        "  accuracyTrainFolds = np.zeros((Folds,1))\n",
        "  accuracyValidFolds = np.zeros((Folds,1))\n",
        "  stdTrainFolds = np.zeros((Folds,1))\n",
        "  stdValidFolds = np.zeros((Folds,1))\n",
        "  j=0\n",
        "\n",
        "  for i in range(Folds):\n",
        "    Xtrain, Xtest, Ytrain, Ytest = train_test_split(X, Y, train_size=train_size)\n",
        "\n",
        "    scaler = preprocessing.StandardScaler().fit(Xtrain)\n",
        "    Xtrain = scaler.transform(Xtrain)\n",
        "    Xtest = scaler.transform(Xtest)\n",
        "    model.fit(Xtrain)\n",
        "\n",
        "    ypred_train = model.predict(Xtrain)\n",
        "\n",
        "    ypred_valid = model.predict(Xtest)\n",
        "\n",
        "    # #Validation\n",
        "    #     y_predict_valid = models[m][1].predict(Xvalid)\n",
        "\n",
        "\n",
        "\n",
        "    #     accuracyTrainFolds[j], accuracyValidFolds[j] = metrics(Ytrain,Yvalid,y_predict_train,y_predict_valid )\n",
        "\n",
        "    accuracyTrainFolds[i], accuracyValidFolds[i] = metrics(Ytrain,Ytest,ypred_train,ypred_valid)\n",
        "  \n",
        "  accuracyTrain, accuracyValid, stdTrain, stdValid = np.mean(accuracyTrainFolds), np.mean(accuracyValidFolds), np.std(accuracyTrainFolds), np.std(accuracyValidFolds)\n",
        "  return accuracyTrain, accuracyValid, stdTrain, stdValid\n"
      ],
      "execution_count": 0,
      "outputs": []
    },
    {
      "cell_type": "markdown",
      "metadata": {
        "id": "8rtLG42DVasF",
        "colab_type": "text"
      },
      "source": [
        "## 3. Learning Curve"
      ]
    },
    {
      "cell_type": "code",
      "metadata": {
        "id": "VpmYgkB9VYup",
        "colab_type": "code",
        "colab": {}
      },
      "source": [
        "def learning_curve(model,best_parameters ,X,Y, suptitle='', title='', xlabel='Training Set Size', ylabel='Acurracy'):\n",
        "    \"\"\"\n",
        "    Parameters\n",
        "    ----------\n",
        "    suptitle : str\n",
        "        Chart suptitle\n",
        "    title: str\n",
        "        Chart title\n",
        "    xlabel: str\n",
        "        Label for the X axis\n",
        "    ylabel: str\n",
        "        Label for the y axis\n",
        "    Returns\n",
        "    -------\n",
        "    Plot of learning curves\n",
        "    \"\"\"\n",
        "    \n",
        "    # create lists to store train and validation scores\n",
        "    train_score = []\n",
        "    val_score = []\n",
        "    std_train= []\n",
        "    std_val=[]\n",
        "\n",
        "    # create ten incremental training set sizes\n",
        "    training_set_sizes = np.linspace(5,24,19,dtype=int).tolist()\n",
        "    # for each one of those training set sizes\n",
        "    \n",
        "    for i in training_set_sizes:\n",
        "      EfficiencyTrain , EfficiencyVal , stdTrain, stdVal = build_model(model, best_parameters, i, X,Y)\n",
        "\n",
        "      # store the scores in their respective lists\n",
        "      train_score.append(EfficiencyTrain)\n",
        "      val_score.append(EfficiencyVal)\n",
        "      std_train.append(stdTrain)\n",
        "      std_val.append(stdVal)\n",
        "\n",
        "    train_score =np.array(train_score)\n",
        "    val_score =np.array(val_score)\n",
        "    std_train =np.array(std_train)\n",
        "    std_val =np.array(std_val)\n",
        "\n",
        "\n",
        "    # plot learning curves\n",
        "    fig, ax = plt.subplots(figsize=(14, 9))\n",
        "    ax.plot(training_set_sizes, train_score, c='gold')\n",
        "    ax.plot(training_set_sizes, val_score, c='steelblue')\n",
        "    \n",
        "    ax.fill_between(training_set_sizes,train_score+std_train,train_score-std_train,facecolor='gold',alpha=0.5)\n",
        "    ax.fill_between(training_set_sizes,val_score+std_val,val_score-std_val,facecolor='steelblue',alpha=0.5)\n",
        "\n",
        "    # format the chart to make it look nice\n",
        "    fig.suptitle(suptitle, fontweight='bold', fontsize='20')\n",
        "    ax.set_title(title, size=20)\n",
        "    ax.set_xlabel(xlabel, size=16)\n",
        "    ax.set_ylabel(ylabel, size=16)\n",
        "    ax.legend(['Train set', 'Test set'], fontsize=16)\n",
        "    ax.tick_params(axis='both', labelsize=12)\n",
        "    ax.set_ylim(0, 1)\n",
        "\n",
        "    def percentages(x, pos):\n",
        "        \"\"\"The two args are the value and tick position\"\"\"\n",
        "        if x < 1:\n",
        "            return '{:1.0f}'.format(x*100)\n",
        "        return '{:1.0f}%'.format(x*100)\n",
        "\n",
        "    def numbers(x, pos):\n",
        "        \"\"\"The two args are the value and tick position\"\"\"\n",
        "        if x >= 1000:\n",
        "            return '{:1,.0f}'.format(x)\n",
        "        return '{:1.0f}'.format(x)\n",
        "    data = {'Train_Size':training_set_sizes, 'mean_train_Accuracy':train_score,'mean_test_Accuracy':val_score,'std_train_Accuracy':std_train,'std_test_Accuracy':std_val}\n",
        "    df_split_params = pd.DataFrame(data)\n",
        "    return df_split_params"
      ],
      "execution_count": 0,
      "outputs": []
    },
    {
      "cell_type": "code",
      "metadata": {
        "id": "XaFK1_oayDb5",
        "colab_type": "code",
        "outputId": "f615f5b0-6b41-43bc-dbc7-d04a5bdb7fa7",
        "colab": {
          "base_uri": "https://localhost:8080/",
          "height": 564
        }
      },
      "source": [
        "df_split_paramsIF =learning_curve(model=IsolationForest__best_estimator,best_parameters=IsolationForest_best_params, X=Xtrain_original,Y=Ytrain_original)"
      ],
      "execution_count": 0,
      "outputs": [
        {
          "output_type": "display_data",
          "data": {
            "image/png": "[encoded data removed]",
            "text/plain": [
              "<Figure size 1008x648 with 1 Axes>"
            ]
          },
          "metadata": {
            "tags": [],
            "needs_background": "light"
          }
        }
      ]
    },
    {
      "cell_type": "code",
      "metadata": {
        "id": "GIVfUk3WyXPq",
        "colab_type": "code",
        "outputId": "26381871-eadf-4f84-a0fb-af900c3b500f",
        "colab": {
          "base_uri": "https://localhost:8080/",
          "height": 631
        }
      },
      "source": [
        "df_split_paramsIF"
      ],
      "execution_count": 0,
      "outputs": [
        {
          "output_type": "execute_result",
          "data": {
            "text/html": [
              "<div>\n",
              "<style scoped>\n",
              "    .dataframe tbody tr th:only-of-type {\n",
              "        vertical-align: middle;\n",
              "    }\n",
              "\n",
              "    .dataframe tbody tr th {\n",
              "        vertical-align: top;\n",
              "    }\n",
              "\n",
              "    .dataframe thead th {\n",
              "        text-align: right;\n",
              "    }\n",
              "</style>\n",
              "<table border=\"1\" class=\"dataframe\">\n",
              "  <thead>\n",
              "    <tr style=\"text-align: right;\">\n",
              "      <th></th>\n",
              "      <th>Train_Size</th>\n",
              "      <th>mean_train_Accuracy</th>\n",
              "      <th>mean_test_Accuracy</th>\n",
              "      <th>std_train_Accuracy</th>\n",
              "      <th>std_test_Accuracy</th>\n",
              "    </tr>\n",
              "  </thead>\n",
              "  <tbody>\n",
              "    <tr>\n",
              "      <th>0</th>\n",
              "      <td>5</td>\n",
              "      <td>1.0</td>\n",
              "      <td>0.900000</td>\n",
              "      <td>0.0</td>\n",
              "      <td>0.189737</td>\n",
              "    </tr>\n",
              "    <tr>\n",
              "      <th>1</th>\n",
              "      <td>6</td>\n",
              "      <td>1.0</td>\n",
              "      <td>0.915789</td>\n",
              "      <td>0.0</td>\n",
              "      <td>0.103136</td>\n",
              "    </tr>\n",
              "    <tr>\n",
              "      <th>2</th>\n",
              "      <td>7</td>\n",
              "      <td>1.0</td>\n",
              "      <td>0.877778</td>\n",
              "      <td>0.0</td>\n",
              "      <td>0.123728</td>\n",
              "    </tr>\n",
              "    <tr>\n",
              "      <th>3</th>\n",
              "      <td>8</td>\n",
              "      <td>1.0</td>\n",
              "      <td>0.905882</td>\n",
              "      <td>0.0</td>\n",
              "      <td>0.065503</td>\n",
              "    </tr>\n",
              "    <tr>\n",
              "      <th>4</th>\n",
              "      <td>9</td>\n",
              "      <td>1.0</td>\n",
              "      <td>0.937500</td>\n",
              "      <td>0.0</td>\n",
              "      <td>0.068465</td>\n",
              "    </tr>\n",
              "    <tr>\n",
              "      <th>5</th>\n",
              "      <td>10</td>\n",
              "      <td>1.0</td>\n",
              "      <td>0.913333</td>\n",
              "      <td>0.0</td>\n",
              "      <td>0.060000</td>\n",
              "    </tr>\n",
              "    <tr>\n",
              "      <th>6</th>\n",
              "      <td>11</td>\n",
              "      <td>1.0</td>\n",
              "      <td>0.942857</td>\n",
              "      <td>0.0</td>\n",
              "      <td>0.062270</td>\n",
              "    </tr>\n",
              "    <tr>\n",
              "      <th>7</th>\n",
              "      <td>12</td>\n",
              "      <td>1.0</td>\n",
              "      <td>0.876923</td>\n",
              "      <td>0.0</td>\n",
              "      <td>0.172692</td>\n",
              "    </tr>\n",
              "    <tr>\n",
              "      <th>8</th>\n",
              "      <td>13</td>\n",
              "      <td>1.0</td>\n",
              "      <td>0.983333</td>\n",
              "      <td>0.0</td>\n",
              "      <td>0.033333</td>\n",
              "    </tr>\n",
              "    <tr>\n",
              "      <th>9</th>\n",
              "      <td>14</td>\n",
              "      <td>1.0</td>\n",
              "      <td>0.972727</td>\n",
              "      <td>0.0</td>\n",
              "      <td>0.058210</td>\n",
              "    </tr>\n",
              "    <tr>\n",
              "      <th>10</th>\n",
              "      <td>15</td>\n",
              "      <td>1.0</td>\n",
              "      <td>0.950000</td>\n",
              "      <td>0.0</td>\n",
              "      <td>0.092195</td>\n",
              "    </tr>\n",
              "    <tr>\n",
              "      <th>11</th>\n",
              "      <td>16</td>\n",
              "      <td>1.0</td>\n",
              "      <td>0.922222</td>\n",
              "      <td>0.0</td>\n",
              "      <td>0.071146</td>\n",
              "    </tr>\n",
              "    <tr>\n",
              "      <th>12</th>\n",
              "      <td>17</td>\n",
              "      <td>1.0</td>\n",
              "      <td>0.925000</td>\n",
              "      <td>0.0</td>\n",
              "      <td>0.100000</td>\n",
              "    </tr>\n",
              "    <tr>\n",
              "      <th>13</th>\n",
              "      <td>18</td>\n",
              "      <td>1.0</td>\n",
              "      <td>0.971429</td>\n",
              "      <td>0.0</td>\n",
              "      <td>0.057143</td>\n",
              "    </tr>\n",
              "    <tr>\n",
              "      <th>14</th>\n",
              "      <td>19</td>\n",
              "      <td>1.0</td>\n",
              "      <td>0.983333</td>\n",
              "      <td>0.0</td>\n",
              "      <td>0.050000</td>\n",
              "    </tr>\n",
              "    <tr>\n",
              "      <th>15</th>\n",
              "      <td>20</td>\n",
              "      <td>1.0</td>\n",
              "      <td>0.980000</td>\n",
              "      <td>0.0</td>\n",
              "      <td>0.060000</td>\n",
              "    </tr>\n",
              "    <tr>\n",
              "      <th>16</th>\n",
              "      <td>21</td>\n",
              "      <td>1.0</td>\n",
              "      <td>0.950000</td>\n",
              "      <td>0.0</td>\n",
              "      <td>0.100000</td>\n",
              "    </tr>\n",
              "    <tr>\n",
              "      <th>17</th>\n",
              "      <td>22</td>\n",
              "      <td>1.0</td>\n",
              "      <td>1.000000</td>\n",
              "      <td>0.0</td>\n",
              "      <td>0.000000</td>\n",
              "    </tr>\n",
              "    <tr>\n",
              "      <th>18</th>\n",
              "      <td>24</td>\n",
              "      <td>1.0</td>\n",
              "      <td>0.900000</td>\n",
              "      <td>0.0</td>\n",
              "      <td>0.300000</td>\n",
              "    </tr>\n",
              "  </tbody>\n",
              "</table>\n",
              "</div>"
            ],
            "text/plain": [
              "    Train_Size  mean_train_Accuracy  ...  std_train_Accuracy  std_test_Accuracy\n",
              "0            5                  1.0  ...                 0.0           0.189737\n",
              "1            6                  1.0  ...                 0.0           0.103136\n",
              "2            7                  1.0  ...                 0.0           0.123728\n",
              "3            8                  1.0  ...                 0.0           0.065503\n",
              "4            9                  1.0  ...                 0.0           0.068465\n",
              "5           10                  1.0  ...                 0.0           0.060000\n",
              "6           11                  1.0  ...                 0.0           0.062270\n",
              "7           12                  1.0  ...                 0.0           0.172692\n",
              "8           13                  1.0  ...                 0.0           0.033333\n",
              "9           14                  1.0  ...                 0.0           0.058210\n",
              "10          15                  1.0  ...                 0.0           0.092195\n",
              "11          16                  1.0  ...                 0.0           0.071146\n",
              "12          17                  1.0  ...                 0.0           0.100000\n",
              "13          18                  1.0  ...                 0.0           0.057143\n",
              "14          19                  1.0  ...                 0.0           0.050000\n",
              "15          20                  1.0  ...                 0.0           0.060000\n",
              "16          21                  1.0  ...                 0.0           0.100000\n",
              "17          22                  1.0  ...                 0.0           0.000000\n",
              "18          24                  1.0  ...                 0.0           0.300000\n",
              "\n",
              "[19 rows x 5 columns]"
            ]
          },
          "metadata": {
            "tags": []
          },
          "execution_count": 139
        }
      ]
    },
    {
      "cell_type": "code",
      "metadata": {
        "id": "F-0iMQzhwnwi",
        "colab_type": "code",
        "outputId": "ee4c4fea-c2af-48bf-ab31-7ba8053b76c2",
        "colab": {
          "base_uri": "https://localhost:8080/",
          "height": 564
        }
      },
      "source": [
        "df_split_params =learning_curve(model=SVM__best_estimator,best_parameters=SVM_best_params, X=Xtrain_original,Y=Ytrain_original)"
      ],
      "execution_count": 0,
      "outputs": [
        {
          "output_type": "display_data",
          "data": {
            "image/png": "[encoded data removed]",
            "text/plain": [
              "<Figure size 1008x648 with 1 Axes>"
            ]
          },
          "metadata": {
            "tags": [],
            "needs_background": "light"
          }
        }
      ]
    },
    {
      "cell_type": "code",
      "metadata": {
        "id": "ypEvO215x4GR",
        "colab_type": "code",
        "outputId": "a08175d6-9271-415d-f73e-3ffa1e1e48f4",
        "colab": {
          "base_uri": "https://localhost:8080/",
          "height": 631
        }
      },
      "source": [
        "df_split_params"
      ],
      "execution_count": 0,
      "outputs": [
        {
          "output_type": "execute_result",
          "data": {
            "text/html": [
              "<div>\n",
              "<style scoped>\n",
              "    .dataframe tbody tr th:only-of-type {\n",
              "        vertical-align: middle;\n",
              "    }\n",
              "\n",
              "    .dataframe tbody tr th {\n",
              "        vertical-align: top;\n",
              "    }\n",
              "\n",
              "    .dataframe thead th {\n",
              "        text-align: right;\n",
              "    }\n",
              "</style>\n",
              "<table border=\"1\" class=\"dataframe\">\n",
              "  <thead>\n",
              "    <tr style=\"text-align: right;\">\n",
              "      <th></th>\n",
              "      <th>Train_Size</th>\n",
              "      <th>mean_train_Accuracy</th>\n",
              "      <th>mean_test_Accuracy</th>\n",
              "      <th>std_train_Accuracy</th>\n",
              "      <th>std_test_Accuracy</th>\n",
              "    </tr>\n",
              "  </thead>\n",
              "  <tbody>\n",
              "    <tr>\n",
              "      <th>0</th>\n",
              "      <td>5</td>\n",
              "      <td>0.560000</td>\n",
              "      <td>0.845000</td>\n",
              "      <td>0.149666</td>\n",
              "      <td>0.127377</td>\n",
              "    </tr>\n",
              "    <tr>\n",
              "      <th>1</th>\n",
              "      <td>6</td>\n",
              "      <td>0.516667</td>\n",
              "      <td>0.842105</td>\n",
              "      <td>0.189297</td>\n",
              "      <td>0.070613</td>\n",
              "    </tr>\n",
              "    <tr>\n",
              "      <th>2</th>\n",
              "      <td>7</td>\n",
              "      <td>0.500000</td>\n",
              "      <td>0.916667</td>\n",
              "      <td>0.131708</td>\n",
              "      <td>0.075564</td>\n",
              "    </tr>\n",
              "    <tr>\n",
              "      <th>3</th>\n",
              "      <td>8</td>\n",
              "      <td>0.587500</td>\n",
              "      <td>0.805882</td>\n",
              "      <td>0.148429</td>\n",
              "      <td>0.141788</td>\n",
              "    </tr>\n",
              "    <tr>\n",
              "      <th>4</th>\n",
              "      <td>9</td>\n",
              "      <td>0.555556</td>\n",
              "      <td>0.831250</td>\n",
              "      <td>0.140546</td>\n",
              "      <td>0.150650</td>\n",
              "    </tr>\n",
              "    <tr>\n",
              "      <th>5</th>\n",
              "      <td>10</td>\n",
              "      <td>0.710000</td>\n",
              "      <td>0.766667</td>\n",
              "      <td>0.094340</td>\n",
              "      <td>0.061464</td>\n",
              "    </tr>\n",
              "    <tr>\n",
              "      <th>6</th>\n",
              "      <td>11</td>\n",
              "      <td>0.700000</td>\n",
              "      <td>0.750000</td>\n",
              "      <td>0.091363</td>\n",
              "      <td>0.172763</td>\n",
              "    </tr>\n",
              "    <tr>\n",
              "      <th>7</th>\n",
              "      <td>12</td>\n",
              "      <td>0.666667</td>\n",
              "      <td>0.753846</td>\n",
              "      <td>0.091287</td>\n",
              "      <td>0.136741</td>\n",
              "    </tr>\n",
              "    <tr>\n",
              "      <th>8</th>\n",
              "      <td>13</td>\n",
              "      <td>0.707692</td>\n",
              "      <td>0.800000</td>\n",
              "      <td>0.082849</td>\n",
              "      <td>0.140436</td>\n",
              "    </tr>\n",
              "    <tr>\n",
              "      <th>9</th>\n",
              "      <td>14</td>\n",
              "      <td>0.735714</td>\n",
              "      <td>0.790909</td>\n",
              "      <td>0.084817</td>\n",
              "      <td>0.152391</td>\n",
              "    </tr>\n",
              "    <tr>\n",
              "      <th>10</th>\n",
              "      <td>15</td>\n",
              "      <td>0.753333</td>\n",
              "      <td>0.810000</td>\n",
              "      <td>0.084591</td>\n",
              "      <td>0.130000</td>\n",
              "    </tr>\n",
              "    <tr>\n",
              "      <th>11</th>\n",
              "      <td>16</td>\n",
              "      <td>0.718750</td>\n",
              "      <td>0.833333</td>\n",
              "      <td>0.075260</td>\n",
              "      <td>0.102439</td>\n",
              "    </tr>\n",
              "    <tr>\n",
              "      <th>12</th>\n",
              "      <td>17</td>\n",
              "      <td>0.758824</td>\n",
              "      <td>0.812500</td>\n",
              "      <td>0.071803</td>\n",
              "      <td>0.170018</td>\n",
              "    </tr>\n",
              "    <tr>\n",
              "      <th>13</th>\n",
              "      <td>18</td>\n",
              "      <td>0.766667</td>\n",
              "      <td>0.800000</td>\n",
              "      <td>0.077778</td>\n",
              "      <td>0.130931</td>\n",
              "    </tr>\n",
              "    <tr>\n",
              "      <th>14</th>\n",
              "      <td>19</td>\n",
              "      <td>0.847368</td>\n",
              "      <td>0.916667</td>\n",
              "      <td>0.036842</td>\n",
              "      <td>0.134371</td>\n",
              "    </tr>\n",
              "    <tr>\n",
              "      <th>15</th>\n",
              "      <td>20</td>\n",
              "      <td>0.845000</td>\n",
              "      <td>0.820000</td>\n",
              "      <td>0.047170</td>\n",
              "      <td>0.140000</td>\n",
              "    </tr>\n",
              "    <tr>\n",
              "      <th>16</th>\n",
              "      <td>21</td>\n",
              "      <td>0.804762</td>\n",
              "      <td>0.825000</td>\n",
              "      <td>0.086373</td>\n",
              "      <td>0.195256</td>\n",
              "    </tr>\n",
              "    <tr>\n",
              "      <th>17</th>\n",
              "      <td>22</td>\n",
              "      <td>0.859091</td>\n",
              "      <td>0.933333</td>\n",
              "      <td>0.084916</td>\n",
              "      <td>0.133333</td>\n",
              "    </tr>\n",
              "    <tr>\n",
              "      <th>18</th>\n",
              "      <td>24</td>\n",
              "      <td>0.841667</td>\n",
              "      <td>0.900000</td>\n",
              "      <td>0.066667</td>\n",
              "      <td>0.300000</td>\n",
              "    </tr>\n",
              "  </tbody>\n",
              "</table>\n",
              "</div>"
            ],
            "text/plain": [
              "    Train_Size  mean_train_Accuracy  ...  std_train_Accuracy  std_test_Accuracy\n",
              "0            5             0.560000  ...            0.149666           0.127377\n",
              "1            6             0.516667  ...            0.189297           0.070613\n",
              "2            7             0.500000  ...            0.131708           0.075564\n",
              "3            8             0.587500  ...            0.148429           0.141788\n",
              "4            9             0.555556  ...            0.140546           0.150650\n",
              "5           10             0.710000  ...            0.094340           0.061464\n",
              "6           11             0.700000  ...            0.091363           0.172763\n",
              "7           12             0.666667  ...            0.091287           0.136741\n",
              "8           13             0.707692  ...            0.082849           0.140436\n",
              "9           14             0.735714  ...            0.084817           0.152391\n",
              "10          15             0.753333  ...            0.084591           0.130000\n",
              "11          16             0.718750  ...            0.075260           0.102439\n",
              "12          17             0.758824  ...            0.071803           0.170018\n",
              "13          18             0.766667  ...            0.077778           0.130931\n",
              "14          19             0.847368  ...            0.036842           0.134371\n",
              "15          20             0.845000  ...            0.047170           0.140000\n",
              "16          21             0.804762  ...            0.086373           0.195256\n",
              "17          22             0.859091  ...            0.084916           0.133333\n",
              "18          24             0.841667  ...            0.066667           0.300000\n",
              "\n",
              "[19 rows x 5 columns]"
            ]
          },
          "metadata": {
            "tags": []
          },
          "execution_count": 141
        }
      ]
    }
  ]
}