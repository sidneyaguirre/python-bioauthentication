{
  "nbformat": 4,
  "nbformat_minor": 0,
  "metadata": {
    "kernelspec": {
      "display_name": "Python 3",
      "language": "python",
      "name": "python3"
    },
    "language_info": {
      "codemirror_mode": {
        "name": "ipython",
        "version": 3
      },
      "file_extension": ".py",
      "mimetype": "text/x-python",
      "name": "python",
      "nbconvert_exporter": "python",
      "pygments_lexer": "ipython3",
      "version": "3.7.0"
    },
    "colab": {
      "name": "pin8- bio-authemtication.ipynb",
      "provenance": [],
      "collapsed_sections": [
        "8rtLG42DVasF"
      ]
    }
  },
  "cells": [
    {
      "cell_type": "code",
      "metadata": {
        "id": "n91bGhxrvrw-",
        "colab_type": "code",
        "outputId": "c12c037f-479e-4b16-dfaf-0bdeb078b06e",
        "colab": {
          "base_uri": "https://localhost:8080/",
          "height": 72
        }
      },
      "source": [
        "from __future__ import division\n",
        "import math\n",
        "import matplotlib.pyplot as plt\n",
        "\n",
        "import pandas as pd # to import csv and for data manipulation\n",
        "import matplotlib.pyplot as plt # to plot graph\n",
        "import seaborn as sns # for intractve graphs\n",
        "import numpy as np # for linear algebra\n",
        "import datetime # to dela with date and time\n",
        "%matplotlib inline\n",
        "from sklearn.preprocessing import StandardScaler # for preprocessing the data\n",
        "from sklearn.ensemble import RandomForestClassifier # Random forest classifier\n",
        "from sklearn.tree import DecisionTreeClassifier # for Decision Tree classifier\n",
        "from sklearn.svm import SVC # for SVM classification\n",
        "from sklearn.linear_model import LogisticRegression\n",
        "from sklearn.model_selection import train_test_split # to split the data\n",
        "from sklearn.model_selection import KFold # For cross vbalidation\n",
        "from sklearn.model_selection import GridSearchCV # for tunnig hyper parameter it will use all combination of given parameters\n",
        "from sklearn.model_selection import RandomizedSearchCV # same for tunning hyper parameter but will use random combinations of parameters\n",
        "from sklearn.metrics import confusion_matrix,recall_score,precision_recall_curve,auc,roc_curve,roc_auc_score,classification_report\n",
        "import time\n",
        "\n",
        "import warnings\n",
        "warnings.filterwarnings('ignore')"
      ],
      "execution_count": 0,
      "outputs": [
        {
          "output_type": "stream",
          "text": [
            "/usr/local/lib/python3.6/dist-packages/statsmodels/tools/_testing.py:19: FutureWarning: pandas.util.testing is deprecated. Use the functions in the public API at pandas.testing instead.\n",
            "  import pandas.util.testing as tm\n"
          ],
          "name": "stderr"
        }
      ]
    },
    {
      "cell_type": "markdown",
      "metadata": {
        "id": "XGnjIIoWLpw8",
        "colab_type": "text"
      },
      "source": [
        "# Load data from Drive"
      ]
    },
    {
      "cell_type": "code",
      "metadata": {
        "id": "Etgr1laOcq6P",
        "colab_type": "code",
        "outputId": "c4f35dab-8769-496c-af6a-e94ce30fc549",
        "colab": {
          "base_uri": "https://localhost:8080/",
          "height": 1000
        }
      },
      "source": [
        "! wget https://raw.githubusercontent.com/sidneyaguirre/python-bioauthentication/master/DB/pins-Real-4.csv\n",
        "! wget https://raw.githubusercontent.com/sidneyaguirre/python-bioauthentication/master/DB/pins-Real-6.csv\n",
        "! wget https://raw.githubusercontent.com/sidneyaguirre/python-bioauthentication/master/DB/pins-Real-8.csv\n",
        "\n",
        "! wget https://raw.githubusercontent.com/sidneyaguirre/python-bioauthentication/master/DB/pins-Impostor-4.csv\n",
        "! wget https://raw.githubusercontent.com/sidneyaguirre/python-bioauthentication/master/DB/pins-Impostor-6.csv\n",
        "! wget https://raw.githubusercontent.com/sidneyaguirre/python-bioauthentication/master/DB/pins-Impostor-8.csv"
      ],
      "execution_count": 0,
      "outputs": [
        {
          "output_type": "stream",
          "text": [
            "--2020-05-12 17:36:17--  https://raw.githubusercontent.com/sidneyaguirre/python-bioauthentication/master/DB/pins-Real-4.csv\n",
            "Resolving raw.githubusercontent.com (raw.githubusercontent.com)... 151.101.0.133, 151.101.64.133, 151.101.128.133, ...\n",
            "Connecting to raw.githubusercontent.com (raw.githubusercontent.com)|151.101.0.133|:443... connected.\n",
            "HTTP request sent, awaiting response... 200 OK\n",
            "Length: 108611 (106K) [text/plain]\n",
            "Saving to: ‘pins-Real-4.csv’\n",
            "\n",
            "\rpins-Real-4.csv       0%[                    ]       0  --.-KB/s               \rpins-Real-4.csv     100%[===================>] 106.07K  --.-KB/s    in 0.01s   \n",
            "\n",
            "2020-05-12 17:36:17 (9.33 MB/s) - ‘pins-Real-4.csv’ saved [108611/108611]\n",
            "\n",
            "--2020-05-12 17:36:19--  https://raw.githubusercontent.com/sidneyaguirre/python-bioauthentication/master/DB/pins-Real-6.csv\n",
            "Resolving raw.githubusercontent.com (raw.githubusercontent.com)... 151.101.0.133, 151.101.64.133, 151.101.128.133, ...\n",
            "Connecting to raw.githubusercontent.com (raw.githubusercontent.com)|151.101.0.133|:443... connected.\n",
            "HTTP request sent, awaiting response... 200 OK\n",
            "Length: 159300 (156K) [text/plain]\n",
            "Saving to: ‘pins-Real-6.csv’\n",
            "\n",
            "pins-Real-6.csv     100%[===================>] 155.57K  --.-KB/s    in 0.03s   \n",
            "\n",
            "2020-05-12 17:36:19 (5.39 MB/s) - ‘pins-Real-6.csv’ saved [159300/159300]\n",
            "\n",
            "--2020-05-12 17:36:20--  https://raw.githubusercontent.com/sidneyaguirre/python-bioauthentication/master/DB/pins-Real-8.csv\n",
            "Resolving raw.githubusercontent.com (raw.githubusercontent.com)... 151.101.0.133, 151.101.64.133, 151.101.128.133, ...\n",
            "Connecting to raw.githubusercontent.com (raw.githubusercontent.com)|151.101.0.133|:443... connected.\n",
            "HTTP request sent, awaiting response... 200 OK\n",
            "Length: 210301 (205K) [text/plain]\n",
            "Saving to: ‘pins-Real-8.csv’\n",
            "\n",
            "pins-Real-8.csv     100%[===================>] 205.37K  --.-KB/s    in 0.02s   \n",
            "\n",
            "2020-05-12 17:36:21 (13.4 MB/s) - ‘pins-Real-8.csv’ saved [210301/210301]\n",
            "\n",
            "--2020-05-12 17:36:22--  https://raw.githubusercontent.com/sidneyaguirre/python-bioauthentication/master/DB/pins-Impostor-4.csv\n",
            "Resolving raw.githubusercontent.com (raw.githubusercontent.com)... 151.101.0.133, 151.101.64.133, 151.101.128.133, ...\n",
            "Connecting to raw.githubusercontent.com (raw.githubusercontent.com)|151.101.0.133|:443... connected.\n",
            "HTTP request sent, awaiting response... 200 OK\n",
            "Length: 21206 (21K) [text/plain]\n",
            "Saving to: ‘pins-Impostor-4.csv’\n",
            "\n",
            "pins-Impostor-4.csv 100%[===================>]  20.71K  --.-KB/s    in 0.003s  \n",
            "\n",
            "2020-05-12 17:36:22 (5.83 MB/s) - ‘pins-Impostor-4.csv’ saved [21206/21206]\n",
            "\n",
            "--2020-05-12 17:36:23--  https://raw.githubusercontent.com/sidneyaguirre/python-bioauthentication/master/DB/pins-Impostor-6.csv\n",
            "Resolving raw.githubusercontent.com (raw.githubusercontent.com)... 151.101.0.133, 151.101.64.133, 151.101.128.133, ...\n",
            "Connecting to raw.githubusercontent.com (raw.githubusercontent.com)|151.101.0.133|:443... connected.\n",
            "HTTP request sent, awaiting response... 200 OK\n",
            "Length: 31026 (30K) [text/plain]\n",
            "Saving to: ‘pins-Impostor-6.csv’\n",
            "\n",
            "pins-Impostor-6.csv 100%[===================>]  30.30K  --.-KB/s    in 0.01s   \n",
            "\n",
            "2020-05-12 17:36:23 (2.39 MB/s) - ‘pins-Impostor-6.csv’ saved [31026/31026]\n",
            "\n",
            "--2020-05-12 17:36:24--  https://raw.githubusercontent.com/sidneyaguirre/python-bioauthentication/master/DB/pins-Impostor-8.csv\n",
            "Resolving raw.githubusercontent.com (raw.githubusercontent.com)... 151.101.0.133, 151.101.64.133, 151.101.128.133, ...\n",
            "Connecting to raw.githubusercontent.com (raw.githubusercontent.com)|151.101.0.133|:443... connected.\n",
            "HTTP request sent, awaiting response... 200 OK\n",
            "Length: 41905 (41K) [text/plain]\n",
            "Saving to: ‘pins-Impostor-8.csv’\n",
            "\n",
            "pins-Impostor-8.csv 100%[===================>]  40.92K  --.-KB/s    in 0.007s  \n",
            "\n",
            "2020-05-12 17:36:24 (5.34 MB/s) - ‘pins-Impostor-8.csv’ saved [41905/41905]\n",
            "\n"
          ],
          "name": "stdout"
        }
      ]
    },
    {
      "cell_type": "code",
      "metadata": {
        "id": "1ZLb5cLKcbQp",
        "colab_type": "code",
        "colab": {}
      },
      "source": [
        ""
      ],
      "execution_count": 0,
      "outputs": []
    },
    {
      "cell_type": "code",
      "metadata": {
        "id": "ftXMrVx6Rk8x",
        "colab_type": "code",
        "colab": {}
      },
      "source": [
        "#Data set csv files\n",
        "dataPin4 = pd.read_csv('pins-Real-4.csv')\n",
        "dataPin6 = pd.read_csv('pins-Real-6.csv')\n",
        "dataPin8 = pd.read_csv('pins-Real-8.csv')\n",
        "dataPin4Impostor = pd.read_csv('pins-Impostor-4.csv')\n",
        "dataPin6Impostor  = pd.read_csv('pins-Impostor-6.csv')\n",
        "dataPin8Impostor  = pd.read_csv('pins-Impostor-8.csv')"
      ],
      "execution_count": 0,
      "outputs": []
    },
    {
      "cell_type": "code",
      "metadata": {
        "id": "buFLPJFlCR1C",
        "colab_type": "code",
        "colab": {}
      },
      "source": [
        "listUsers = [1,2,3,4,7,8,11,12,15,16,17,19,20,22,24,25,27,28,33,34,36,37,39,41,42,43]"
      ],
      "execution_count": 0,
      "outputs": []
    },
    {
      "cell_type": "markdown",
      "metadata": {
        "id": "KD0-Zlh_L3Pg",
        "colab_type": "text"
      },
      "source": [
        "# Cleaning data"
      ]
    },
    {
      "cell_type": "markdown",
      "metadata": {
        "id": "uUC_N7XHvrxH",
        "colab_type": "text"
      },
      "source": [
        "Hence we can see there are 2911 rows and 72 columns"
      ]
    },
    {
      "cell_type": "code",
      "metadata": {
        "id": "LO5gk6fpXwKz",
        "colab_type": "code",
        "colab": {}
      },
      "source": [
        "#dataless-columns in dataPin are taken away\n",
        "def dataCleaning(data):\n",
        "  data = data.dropna(axis = 0, how = 'all')\n",
        "  return data"
      ],
      "execution_count": 0,
      "outputs": []
    },
    {
      "cell_type": "markdown",
      "metadata": {
        "id": "874AbdpovrxN",
        "colab_type": "text"
      },
      "source": [
        "data_new =data.dropna(axis=0,how='all')\n",
        "data_new.head()\n",
        "data_new.columns"
      ]
    },
    {
      "cell_type": "code",
      "metadata": {
        "id": "QV8YUKu_YVy1",
        "colab_type": "code",
        "colab": {}
      },
      "source": [
        "#Create a list to concatenate the users from 0 to 10 -  DataPin\n",
        "# users = list() \n",
        "\n",
        "# for i in listUsers:\n",
        "#     df_user = clean_dataPin[clean_dataPin['user'] == i]\n",
        "#     df_user.drop(['user','length'],axis=1, inplace=True)\n",
        "#     user = df_user.values\n",
        "#     users.append(user)\n",
        "    \n",
        "# len(users)"
      ],
      "execution_count": 0,
      "outputs": []
    },
    {
      "cell_type": "code",
      "metadata": {
        "id": "twa7MR3vl2CD",
        "colab_type": "code",
        "colab": {}
      },
      "source": [
        "def listUser(dataset, listUsers, target=1):\n",
        "\n",
        "  users = list() \n",
        "  cleaned_data = dataCleaning(dataset)\n",
        "  for i in listUsers:\n",
        "\n",
        "    df_user = cleaned_data[cleaned_data['user'] == i]\n",
        "    df_user['target'] = target\n",
        "    df_user.drop(['user','length'],axis=1, inplace=True)\n",
        "    user = df_user.values\n",
        "    users.append(user)\n",
        "      \n",
        "  return users"
      ],
      "execution_count": 0,
      "outputs": []
    },
    {
      "cell_type": "code",
      "metadata": {
        "id": "4xGtEjXe28fb",
        "colab_type": "code",
        "colab": {}
      },
      "source": [
        "listUserPin4 = listUser(dataPin4, listUsers)\n",
        "listUserPin6 = listUser(dataPin6, listUsers)\n",
        "listUserPin8 = listUser(dataPin8, listUsers)\n",
        "\n",
        "listUserPin4Impostors = listUser(dataPin4Impostor, listUsers, target = -1)\n",
        "listUserPin6Impostors = listUser(dataPin6Impostor, listUsers, target = -1)\n",
        "listUserPin8Impostors =listUser(dataPin8Impostor, listUsers, target = -1)"
      ],
      "execution_count": 0,
      "outputs": []
    },
    {
      "cell_type": "code",
      "metadata": {
        "id": "buCgMR03vrxb",
        "colab_type": "code",
        "colab": {}
      },
      "source": [
        "#ROC Curve\n",
        "def plot_roc_curve(fpr, tpr, label=None):\n",
        "    plt.plot(fpr, tpr, linewidth=2, label=label)\n",
        "    plt.plot([0, 1], [0, 1], 'k--')\n",
        "    plt.axis([0, 1, 0, 1])\n",
        "    plt.xlabel('False Positive Rate')\n",
        "    plt.ylabel('True Positive Rate')"
      ],
      "execution_count": 0,
      "outputs": []
    },
    {
      "cell_type": "code",
      "metadata": {
        "id": "ZQrgjHWNvrxk",
        "colab_type": "code",
        "colab": {}
      },
      "source": [
        "#Metrics: precision (precision_score), sensitivity (recall_score), \n",
        "from sklearn.metrics import confusion_matrix, precision_score, recall_score, accuracy_score\n",
        "def metrics(Ytrain,Yval,y_predict_train, y_predict_valid):\n",
        "  #print('Getting metrics...')\n",
        "\n",
        "  accuracyTrain = np.mean(y_predict_train.ravel() == Ytrain.ravel())\n",
        "\n",
        "  accuracyValid =np.mean(y_predict_valid.ravel() == Yval.ravel()) \n",
        " \n",
        "\n",
        "  return accuracyTrain, accuracyValid        "
      ],
      "execution_count": 0,
      "outputs": []
    },
    {
      "cell_type": "markdown",
      "metadata": {
        "id": "F2xLcKR4eApq",
        "colab_type": "text"
      },
      "source": [
        "## Get X and Y sets\n"
      ]
    },
    {
      "cell_type": "code",
      "metadata": {
        "id": "aebyhAJgb66k",
        "colab_type": "code",
        "colab": {}
      },
      "source": [
        "# if lengthDataSet == 'pin-length-4':\n",
        "#   s = 1\n",
        "#   data = users[s]\n",
        "#   X = data[:,0:23]\n",
        "#   Y = np.ones((25,1))\n",
        "\n",
        "# if lengthDataSet == 'pin-length-6':\n",
        "#   s = 1\n",
        "#   data = users[s]\n",
        "#   X = data[:,0:35]\n",
        "#   Y = np.ones((25,1))\n",
        "\n",
        "# if lengthDataSet == 'pin-length-8':\n",
        "#   s = 1\n",
        "#   data = users[s]\n",
        "#   X = data[:,0:47]\n",
        "#   Y = np.ones((25,1))  \n"
      ],
      "execution_count": 0,
      "outputs": []
    },
    {
      "cell_type": "code",
      "metadata": {
        "id": "ve2Nx5YahyeM",
        "colab_type": "code",
        "colab": {}
      },
      "source": [
        "s = 1\n",
        "data = listUserPin8[s]\n",
        "Xtrain_original = data[:,0:46]\n",
        "Ytrain_original = data[:,47]\n",
        "Ytrain_original = Ytrain_original.astype(int)"
      ],
      "execution_count": 0,
      "outputs": []
    },
    {
      "cell_type": "code",
      "metadata": {
        "id": "nopWIdWNBICU",
        "colab_type": "code",
        "colab": {}
      },
      "source": [
        "s = 1\n",
        "dataI = listUserPin8Impostors[s]\n",
        "Xtest_original = dataI[:,0:46]\n",
        "Ytest_original = dataI[:,47]\n",
        "Ytest_original=Ytest_original.astype(int)"
      ],
      "execution_count": 0,
      "outputs": []
    },
    {
      "cell_type": "code",
      "metadata": {
        "id": "837HONm292WE",
        "colab_type": "code",
        "colab": {}
      },
      "source": [
        "# Xtrain_original, Xtest_original, Ytrain_original, Ytest_original = train_test_split(X, Y, train_size=20)"
      ],
      "execution_count": 0,
      "outputs": []
    },
    {
      "cell_type": "markdown",
      "metadata": {
        "id": "qS80_cetEBmV",
        "colab_type": "text"
      },
      "source": [
        "# Models"
      ]
    },
    {
      "cell_type": "code",
      "metadata": {
        "id": "uKoF5gvWZwr7",
        "colab_type": "code",
        "colab": {}
      },
      "source": [
        "# MODELS\n",
        "from sklearn.ensemble import IsolationForest\n",
        "from sklearn import svm"
      ],
      "execution_count": 0,
      "outputs": []
    },
    {
      "cell_type": "code",
      "metadata": {
        "id": "TUNyLrWTEA4U",
        "colab_type": "code",
        "colab": {}
      },
      "source": [
        "# modelIsoForest = IsolationForest(n_estimators=100, max_samples='auto', contamination='auto', max_features=1.0, bootstrap=False, n_jobs=-1)\n",
        "# modelSVM = svm.OneClassSVM(nu=0.5, kernel=\"sigmoid\", gamma='auto')"
      ],
      "execution_count": 0,
      "outputs": []
    },
    {
      "cell_type": "code",
      "metadata": {
        "id": "Q6RiHXuroAhb",
        "colab_type": "code",
        "colab": {}
      },
      "source": [
        "modelIsoForest = IsolationForest()\n",
        "modelSVM = svm.OneClassSVM()"
      ],
      "execution_count": 0,
      "outputs": []
    },
    {
      "cell_type": "markdown",
      "metadata": {
        "id": "8CqKqvow2KNz",
        "colab_type": "text"
      },
      "source": [
        "## Manual Grid Search"
      ]
    },
    {
      "cell_type": "code",
      "metadata": {
        "id": "u-b0V2Ge1M-T",
        "colab_type": "code",
        "colab": {}
      },
      "source": [
        "from sklearn.model_selection import ParameterGrid\n",
        "\n",
        "gridSVM = {'nu' : [0.00001, 0.0001, 0.001, 0.01, 0.1], 'gamma' : ['scale', 'auto'], 'kernel': ['linear', 'poly', 'rbf', 'sigmoid']}\n",
        "\n",
        "gridIsoForest = {'n_estimators': list(range(5, 25, 4)), \n",
        "                'max_samples': ['auto'], \n",
        "                'contamination': [0, 0.5], \n",
        "                'max_features': [10,20,30,40,46], \n",
        "                'bootstrap': [True, False], \n",
        "                'n_jobs': [-1]}"
      ],
      "execution_count": 0,
      "outputs": []
    },
    {
      "cell_type": "code",
      "metadata": {
        "id": "9dlQSRQO6GDI",
        "colab_type": "code",
        "outputId": "824f115b-8ab2-4911-82cb-d83a915a7afc",
        "colab": {
          "base_uri": "https://localhost:8080/",
          "height": 35
        }
      },
      "source": [
        "list(ParameterGrid(gridSVM))\n",
        "len(list(ParameterGrid(gridSVM)))"
      ],
      "execution_count": 0,
      "outputs": [
        {
          "output_type": "execute_result",
          "data": {
            "text/plain": [
              "40"
            ]
          },
          "metadata": {
            "tags": []
          },
          "execution_count": 19
        }
      ]
    },
    {
      "cell_type": "code",
      "metadata": {
        "id": "BVd02XpotYEp",
        "colab_type": "code",
        "outputId": "370e2c92-a73e-44d1-b646-9ee014c32ce0",
        "colab": {
          "base_uri": "https://localhost:8080/",
          "height": 35
        }
      },
      "source": [
        "list(ParameterGrid(gridIsoForest))\n",
        "len(list(ParameterGrid(gridIsoForest)))"
      ],
      "execution_count": 0,
      "outputs": [
        {
          "output_type": "execute_result",
          "data": {
            "text/plain": [
              "100"
            ]
          },
          "metadata": {
            "tags": []
          },
          "execution_count": 20
        }
      ]
    },
    {
      "cell_type": "markdown",
      "metadata": {
        "id": "_WsInlo_spaI",
        "colab_type": "text"
      },
      "source": [
        "# GridSearch V1.1"
      ]
    },
    {
      "cell_type": "code",
      "metadata": {
        "id": "z-Sc5PBlsmiL",
        "colab_type": "code",
        "colab": {}
      },
      "source": [
        "modelsAndGrids = [('modelIsoForest ', modelIsoForest, gridIsoForest), ('modelSVM', modelSVM, gridSVM)]"
      ],
      "execution_count": 0,
      "outputs": []
    },
    {
      "cell_type": "code",
      "metadata": {
        "id": "N3e85XrvogIT",
        "colab_type": "code",
        "colab": {}
      },
      "source": [
        "# Xtrain_original, Xtest_original, Ytrain_original, Ytest_original = train_test_split(X, Y, train_size=20)"
      ],
      "execution_count": 0,
      "outputs": []
    },
    {
      "cell_type": "code",
      "metadata": {
        "id": "Cg0GUty1s1Gb",
        "colab_type": "code",
        "colab": {}
      },
      "source": [
        "from sklearn.model_selection import KFold\n",
        "from sklearn import preprocessing\n",
        "from sklearn.model_selection import train_test_split\n",
        "from numpy import random\n"
      ],
      "execution_count": 0,
      "outputs": []
    },
    {
      "cell_type": "code",
      "metadata": {
        "id": "y35UpmO93lTq",
        "colab_type": "code",
        "colab": {}
      },
      "source": [
        "def GridSearch(Xtrain_original,Ytrain_original,models):\n",
        "  # create lists to store final results\n",
        "  train_score = []\n",
        "  val_score = []\n",
        "  std_train= []\n",
        "  std_val=[]\n",
        "  best_params = []\n",
        "  models_results = []\n",
        "\n",
        "  Folds = 10\n",
        "  results = list()\n",
        "  gsAccuracy = 0\n",
        "  # random.seed(19680801)\n",
        "  #Data Normalization\n",
        "  scaler = preprocessing.StandardScaler().fit(Xtrain_original)\n",
        "  Xtrain_original = scaler.transform(Xtrain_original)\n",
        "  \n",
        "  kf = KFold(n_splits=Folds,shuffle=True)\n",
        "  for m in range(0,len(models)):\n",
        "    params = []\n",
        "    meanAccuracyValid = np.zeros((len(list(ParameterGrid(models[m][2]))),1))\n",
        "    meanAccuracyTrain = np.zeros((len(list(ParameterGrid(models[m][2]))),1))\n",
        "    meanStdValid = np.zeros((len(list(ParameterGrid(models[m][2]))),1))\n",
        "    meanStdTrain = np.zeros((len(list(ParameterGrid(models[m][2]))),1))\n",
        "    result = list()\n",
        "    k=0\n",
        "    for z in ParameterGrid(models[m][2]):\n",
        "      params.append(z)\n",
        "      accuracyTrainFolds = np.zeros((Folds,1))\n",
        "      accuracyValidFolds = np.zeros((Folds,1))\n",
        "      stdTrainFolds = np.zeros((Folds,1))\n",
        "      stdValidFolds = np.zeros((Folds,1))\n",
        "      j=0\n",
        "      \n",
        "      models[m][1].set_params(**z)\n",
        "\n",
        "      for train, valid in kf.split(Xtrain_original):\n",
        "        Xtrain = Xtrain_original[train,:]\n",
        "        Ytrain = Ytrain_original[train]\n",
        "        Xvalid = Xtrain_original[valid,:]\n",
        "        Yvalid = Ytrain_original[valid]\n",
        "\n",
        "        # #Data Normalization\n",
        "        # scaler = preprocessing.StandardScaler().fit(Xtrain)\n",
        "        # Xtrain = scaler.transform(Xtrain)\n",
        "        # Xvalid = scaler.transform(Xvalid)\n",
        "\n",
        "        models[m][1].fit(Xtrain)\n",
        "\n",
        "        y_predict_train =  models[m][1].predict(Xtrain)\n",
        "        \n",
        "        #Validation\n",
        "        y_predict_valid = models[m][1].predict(Xvalid)\n",
        "\n",
        "\n",
        "\n",
        "        accuracyTrainFolds[j], accuracyValidFolds[j] = metrics(Ytrain,Yvalid,y_predict_train,y_predict_valid )\n",
        "        \n",
        "        j+=1\n",
        "\n",
        "      meanAccuracyTrain[k], meanAccuracyValid[k], meanStdTrain[k], meanStdValid[k] = np.mean(accuracyTrainFolds), np.mean(accuracyValidFolds), np.std(accuracyTrainFolds), np.std(accuracyValidFolds)\n",
        "      k+=1\n",
        "    result.append([models[m][0], meanAccuracyValid[np.argmax(meanAccuracyValid)],meanStdValid[np.argmax(meanAccuracyValid)], params[np.argmax(meanAccuracyValid)]])\n",
        "\n",
        "    results.append(result)\n",
        "\n",
        "  return results"
      ],
      "execution_count": 0,
      "outputs": []
    },
    {
      "cell_type": "code",
      "metadata": {
        "id": "cTDP1iOxs5Hf",
        "colab_type": "code",
        "colab": {}
      },
      "source": [
        "results = GridSearch(Xtrain_original,Ytrain_original,modelsAndGrids)"
      ],
      "execution_count": 0,
      "outputs": []
    },
    {
      "cell_type": "code",
      "metadata": {
        "id": "9i25weTltn3W",
        "colab_type": "code",
        "colab": {}
      },
      "source": [
        "IF = results[0]\n",
        "OC = results[1]\n",
        "OCP = OC[0]\n",
        "IFP = IF[0]\n",
        "IFParams = IFP[3]\n",
        "SVMParams = OCP[3]"
      ],
      "execution_count": 0,
      "outputs": []
    },
    {
      "cell_type": "code",
      "metadata": {
        "id": "QhP6cLOIKZIn",
        "colab_type": "code",
        "outputId": "ec0fc46f-72a2-4052-d531-93469869061a",
        "colab": {
          "base_uri": "https://localhost:8080/",
          "height": 121
        }
      },
      "source": [
        "IFParams"
      ],
      "execution_count": 0,
      "outputs": [
        {
          "output_type": "execute_result",
          "data": {
            "text/plain": [
              "{'bootstrap': True,\n",
              " 'contamination': 0,\n",
              " 'max_features': 10,\n",
              " 'max_samples': 'auto',\n",
              " 'n_estimators': 5,\n",
              " 'n_jobs': -1}"
            ]
          },
          "metadata": {
            "tags": []
          },
          "execution_count": 27
        }
      ]
    },
    {
      "cell_type": "code",
      "metadata": {
        "id": "qJRUkNC43DrV",
        "colab_type": "code",
        "colab": {}
      },
      "source": [
        "# IFParams = {'bootstrap': True,\n",
        "#  'contamination': 0,\n",
        "#  'max_features': 10,\n",
        "#  'max_samples': 'auto',\n",
        "#  'n_estimators': 5,\n",
        "#  'n_jobs': -1}"
      ],
      "execution_count": 0,
      "outputs": []
    },
    {
      "cell_type": "code",
      "metadata": {
        "id": "CJi2ct9w3D_b",
        "colab_type": "code",
        "outputId": "e2a24918-b3ff-499f-e62d-30c30a8e7189",
        "colab": {
          "base_uri": "https://localhost:8080/",
          "height": 35
        }
      },
      "source": [
        "SVMParams"
      ],
      "execution_count": 0,
      "outputs": [
        {
          "output_type": "execute_result",
          "data": {
            "text/plain": [
              "{'gamma': 'scale', 'kernel': 'sigmoid', 'nu': 0.01}"
            ]
          },
          "metadata": {
            "tags": []
          },
          "execution_count": 29
        }
      ]
    },
    {
      "cell_type": "code",
      "metadata": {
        "id": "vk1TG6tIzkp8",
        "colab_type": "code",
        "colab": {}
      },
      "source": [
        "columns=[\"models\",\"mean train Accuracy\",\"CI (+-)\", \"Best params\"]\n",
        "result0 = pd.DataFrame(results[0],columns=columns)\n",
        "result1 = pd.DataFrame(results[1],columns=columns)"
      ],
      "execution_count": 0,
      "outputs": []
    },
    {
      "cell_type": "code",
      "metadata": {
        "id": "pBseeqLS46gz",
        "colab_type": "code",
        "colab": {}
      },
      "source": [
        "resultados_finales = result0.append(result1)"
      ],
      "execution_count": 0,
      "outputs": []
    },
    {
      "cell_type": "code",
      "metadata": {
        "id": "dCgadmDSeYkp",
        "colab_type": "code",
        "outputId": "4df42cf0-8078-4011-d4ba-780ebc338074",
        "colab": {
          "base_uri": "https://localhost:8080/",
          "height": 110
        }
      },
      "source": [
        "resultados_finales"
      ],
      "execution_count": 0,
      "outputs": [
        {
          "output_type": "execute_result",
          "data": {
            "text/html": [
              "<div>\n",
              "<style scoped>\n",
              "    .dataframe tbody tr th:only-of-type {\n",
              "        vertical-align: middle;\n",
              "    }\n",
              "\n",
              "    .dataframe tbody tr th {\n",
              "        vertical-align: top;\n",
              "    }\n",
              "\n",
              "    .dataframe thead th {\n",
              "        text-align: right;\n",
              "    }\n",
              "</style>\n",
              "<table border=\"1\" class=\"dataframe\">\n",
              "  <thead>\n",
              "    <tr style=\"text-align: right;\">\n",
              "      <th></th>\n",
              "      <th>models</th>\n",
              "      <th>mean train Accuracy</th>\n",
              "      <th>CI (+-)</th>\n",
              "      <th>Best params</th>\n",
              "    </tr>\n",
              "  </thead>\n",
              "  <tbody>\n",
              "    <tr>\n",
              "      <th>0</th>\n",
              "      <td>modelIsoForest</td>\n",
              "      <td>[1.0]</td>\n",
              "      <td>[0.0]</td>\n",
              "      <td>{'bootstrap': True, 'contamination': 0, 'max_f...</td>\n",
              "    </tr>\n",
              "    <tr>\n",
              "      <th>0</th>\n",
              "      <td>modelSVM</td>\n",
              "      <td>[0.6833333333333333]</td>\n",
              "      <td>[0.27335365778094545]</td>\n",
              "      <td>{'gamma': 'scale', 'kernel': 'sigmoid', 'nu': ...</td>\n",
              "    </tr>\n",
              "  </tbody>\n",
              "</table>\n",
              "</div>"
            ],
            "text/plain": [
              "            models  ...                                        Best params\n",
              "0  modelIsoForest   ...  {'bootstrap': True, 'contamination': 0, 'max_f...\n",
              "0         modelSVM  ...  {'gamma': 'scale', 'kernel': 'sigmoid', 'nu': ...\n",
              "\n",
              "[2 rows x 4 columns]"
            ]
          },
          "metadata": {
            "tags": []
          },
          "execution_count": 32
        }
      ]
    },
    {
      "cell_type": "markdown",
      "metadata": {
        "id": "lXZxC6C-vjQp",
        "colab_type": "text"
      },
      "source": [
        "## Best model evaluation with the test set"
      ]
    },
    {
      "cell_type": "code",
      "metadata": {
        "id": "s0VVYRYawG1P",
        "colab_type": "code",
        "colab": {}
      },
      "source": [
        "def MetricsBestParams(model,X_train,X_test,Y_test):\n",
        "\n",
        "  #Data Normalization\n",
        "  scaler = preprocessing.StandardScaler().fit(X_train)\n",
        "  X_train = scaler.transform(X_train)\n",
        "  X_test = scaler.transform(X_test)\n",
        "  \n",
        "  model.fit(X_train)\n",
        "\n",
        "  y_predicted = model.predict(X_test)\n",
        "\n",
        "  print('y_predicted', y_predicted)\n",
        "  print('Y_test', Y_test)\n",
        "\n",
        "  print('Accuracy: ', accuracy_score(Y_test, y_predicted), '\\n')\n",
        "  report = classification_report(Y_test, y_predicted)\n",
        "  print(\"\\nclassification report :\\n\",report )\n",
        " \n",
        "  # Confusion matrix\n",
        "  cm = confusion_matrix(Y_test, y_predicted)\n",
        "  # Normalize\n",
        "  cmn = cm.astype('float') / cm.sum(axis=1)[:, np.newaxis]\n",
        "  fig, ax = plt.subplots(figsize=(10,10))\n",
        "  print(cmn)  \n",
        "  sns.heatmap(cmn, annot=True, fmt='.2f')\n",
        "  plt.ylabel('Actual')\n",
        "  plt.xlabel('Predicted')\n",
        "  ax.set_ylim(sorted(ax.get_xlim(), reverse=True))\n",
        "  plt.show(block=False)\n",
        "      \n",
        "  return report"
      ],
      "execution_count": 0,
      "outputs": []
    },
    {
      "cell_type": "markdown",
      "metadata": {
        "id": "Q1lWX944wiup",
        "colab_type": "text"
      },
      "source": [
        "## IsolationForest best parameters"
      ]
    },
    {
      "cell_type": "code",
      "metadata": {
        "id": "d2l3pBQIwiET",
        "colab_type": "code",
        "colab": {}
      },
      "source": [
        "IsolationForest_best_params = IFParams\n",
        "\n",
        "IsolationForest__best_estimator = modelsAndGrids[0][1].set_params(**IsolationForest_best_params)"
      ],
      "execution_count": 0,
      "outputs": []
    },
    {
      "cell_type": "code",
      "metadata": {
        "id": "J7OO_Ijs1B-T",
        "colab_type": "code",
        "outputId": "4dc594ef-f5dd-46d9-e2f8-70c1b6b44683",
        "colab": {
          "base_uri": "https://localhost:8080/",
          "height": 905
        }
      },
      "source": [
        "metricsIF = MetricsBestParams(IsolationForest__best_estimator,Xtrain_original,Xtest_original,Ytest_original)"
      ],
      "execution_count": 0,
      "outputs": [
        {
          "output_type": "stream",
          "text": [
            "y_predicted [1 1 1 1 1]\n",
            "Y_test [-1 -1 -1 -1 -1]\n",
            "Accuracy:  0.0 \n",
            "\n",
            "\n",
            "classification report :\n",
            "               precision    recall  f1-score   support\n",
            "\n",
            "          -1       0.00      0.00      0.00       5.0\n",
            "           1       0.00      0.00      0.00       0.0\n",
            "\n",
            "    accuracy                           0.00       5.0\n",
            "   macro avg       0.00      0.00      0.00       5.0\n",
            "weighted avg       0.00      0.00      0.00       5.0\n",
            "\n",
            "[[ 0.  1.]\n",
            " [nan nan]]\n"
          ],
          "name": "stdout"
        },
        {
          "output_type": "display_data",
          "data": {
            "image/png": "[encoded data removed]",
            "text/plain": [
              "<Figure size 720x720 with 2 Axes>"
            ]
          },
          "metadata": {
            "tags": [],
            "needs_background": "light"
          }
        }
      ]
    },
    {
      "cell_type": "markdown",
      "metadata": {
        "id": "rLp4SHu3wnsc",
        "colab_type": "text"
      },
      "source": [
        "OneClassSVM best parameters"
      ]
    },
    {
      "cell_type": "code",
      "metadata": {
        "id": "KxE2rh54yiZn",
        "colab_type": "code",
        "colab": {}
      },
      "source": [
        "# SVM_best_params = {'gamma': 'scale', 'kernel': 'sigmoid', 'nu': 0.01}\n",
        "SVM_best_params = SVMParams\n",
        "SVM__best_estimator = modelsAndGrids[1][1].set_params(**SVM_best_params)"
      ],
      "execution_count": 0,
      "outputs": []
    },
    {
      "cell_type": "code",
      "metadata": {
        "id": "-AP7uASG_R19",
        "colab_type": "code",
        "outputId": "9431edc1-ac54-4762-97cf-f3f31d8b7231",
        "colab": {
          "base_uri": "https://localhost:8080/",
          "height": 905
        }
      },
      "source": [
        "metricsSVM = MetricsBestParams(SVM__best_estimator,Xtrain_original,Xtest_original,Ytest_original)"
      ],
      "execution_count": 0,
      "outputs": [
        {
          "output_type": "stream",
          "text": [
            "y_predicted [1 1 1 1 1]\n",
            "Y_test [-1 -1 -1 -1 -1]\n",
            "Accuracy:  0.0 \n",
            "\n",
            "\n",
            "classification report :\n",
            "               precision    recall  f1-score   support\n",
            "\n",
            "          -1       0.00      0.00      0.00       5.0\n",
            "           1       0.00      0.00      0.00       0.0\n",
            "\n",
            "    accuracy                           0.00       5.0\n",
            "   macro avg       0.00      0.00      0.00       5.0\n",
            "weighted avg       0.00      0.00      0.00       5.0\n",
            "\n",
            "[[ 0.  1.]\n",
            " [nan nan]]\n"
          ],
          "name": "stdout"
        },
        {
          "output_type": "display_data",
          "data": {
            "image/png": "[encoded data removed]",
            "text/plain": [
              "<Figure size 720x720 with 2 Axes>"
            ]
          },
          "metadata": {
            "tags": [],
            "needs_background": "light"
          }
        }
      ]
    },
    {
      "cell_type": "markdown",
      "metadata": {
        "id": "hg7h4jK9YS26",
        "colab_type": "text"
      },
      "source": [
        "### Builder model definition (TODO)"
      ]
    },
    {
      "cell_type": "code",
      "metadata": {
        "id": "vZRwEw05PyVn",
        "colab_type": "code",
        "colab": {}
      },
      "source": [
        "def build_model(model, parameters, train_size, X,Y):\n",
        "  # Xtrain_original, Xtest_original, Ytrain_original, Ytest_original = train_test_split(X, Y, train_size=20)\n",
        "  # Xtrain, Xtest, Ytrain, Ytest = train_test_split(X, Y, train_size=train_size)\n",
        "  #Data Normalization\n",
        "\n",
        "  Folds = 10\n",
        "  accuracyTrainFolds = np.zeros((Folds,1))\n",
        "  accuracyValidFolds = np.zeros((Folds,1))\n",
        "  stdTrainFolds = np.zeros((Folds,1))\n",
        "  stdValidFolds = np.zeros((Folds,1))\n",
        "  j=0\n",
        "\n",
        "  for i in range(Folds):\n",
        "    Xtrain, Xtest, Ytrain, Ytest = train_test_split(X, Y, train_size=train_size)\n",
        "\n",
        "    scaler = preprocessing.StandardScaler().fit(Xtrain)\n",
        "    Xtrain = scaler.transform(Xtrain)\n",
        "    Xtest = scaler.transform(Xtest)\n",
        "    model.fit(Xtrain)\n",
        "\n",
        "    ypred_train = model.predict(Xtrain)\n",
        "\n",
        "    ypred_valid = model.predict(Xtest)\n",
        "\n",
        "    # #Validation\n",
        "    #     y_predict_valid = models[m][1].predict(Xvalid)\n",
        "\n",
        "\n",
        "\n",
        "    #     accuracyTrainFolds[j], accuracyValidFolds[j] = metrics(Ytrain,Yvalid,y_predict_train,y_predict_valid )\n",
        "\n",
        "    accuracyTrainFolds[i], accuracyValidFolds[i] = metrics(Ytrain,Ytest,ypred_train,ypred_valid)\n",
        "  \n",
        "  accuracyTrain, accuracyValid, stdTrain, stdValid = np.mean(accuracyTrainFolds), np.mean(accuracyValidFolds), np.std(accuracyTrainFolds), np.std(accuracyValidFolds)\n",
        "  return accuracyTrain, accuracyValid, stdTrain, stdValid\n"
      ],
      "execution_count": 0,
      "outputs": []
    },
    {
      "cell_type": "markdown",
      "metadata": {
        "id": "8rtLG42DVasF",
        "colab_type": "text"
      },
      "source": [
        "## 3. Learning Curve"
      ]
    },
    {
      "cell_type": "code",
      "metadata": {
        "id": "VpmYgkB9VYup",
        "colab_type": "code",
        "colab": {}
      },
      "source": [
        "def learning_curve(model,best_parameters ,X,Y, suptitle='', title='', xlabel='Training Set Size', ylabel='Acurracy'):\n",
        "    \"\"\"\n",
        "    Parameters\n",
        "    ----------\n",
        "    suptitle : str\n",
        "        Chart suptitle\n",
        "    title: str\n",
        "        Chart title\n",
        "    xlabel: str\n",
        "        Label for the X axis\n",
        "    ylabel: str\n",
        "        Label for the y axis\n",
        "    Returns\n",
        "    -------\n",
        "    Plot of learning curves\n",
        "    \"\"\"\n",
        "    \n",
        "    # create lists to store train and validation scores\n",
        "    train_score = []\n",
        "    val_score = []\n",
        "    std_train= []\n",
        "    std_val=[]\n",
        "\n",
        "    # create ten incremental training set sizes\n",
        "    training_set_sizes = np.linspace(5,24,19,dtype=int).tolist()\n",
        "    # for each one of those training set sizes\n",
        "    \n",
        "    for i in training_set_sizes:\n",
        "      EfficiencyTrain , EfficiencyVal , stdTrain, stdVal = build_model(model, best_parameters, i, X,Y)\n",
        "\n",
        "      # store the scores in their respective lists\n",
        "      train_score.append(EfficiencyTrain)\n",
        "      val_score.append(EfficiencyVal)\n",
        "      std_train.append(stdTrain)\n",
        "      std_val.append(stdVal)\n",
        "\n",
        "    train_score =np.array(train_score)\n",
        "    val_score =np.array(val_score)\n",
        "    std_train =np.array(std_train)\n",
        "    std_val =np.array(std_val)\n",
        "\n",
        "\n",
        "    # plot learning curves\n",
        "    fig, ax = plt.subplots(figsize=(14, 9))\n",
        "    ax.plot(training_set_sizes, train_score, c='gold')\n",
        "    ax.plot(training_set_sizes, val_score, c='steelblue')\n",
        "    \n",
        "    ax.fill_between(training_set_sizes,train_score+std_train,train_score-std_train,facecolor='gold',alpha=0.5)\n",
        "    ax.fill_between(training_set_sizes,val_score+std_val,val_score-std_val,facecolor='steelblue',alpha=0.5)\n",
        "\n",
        "    # format the chart to make it look nice\n",
        "    fig.suptitle(suptitle, fontweight='bold', fontsize='20')\n",
        "    ax.set_title(title, size=20)\n",
        "    ax.set_xlabel(xlabel, size=16)\n",
        "    ax.set_ylabel(ylabel, size=16)\n",
        "    ax.legend(['Train set', 'Test set'], fontsize=16)\n",
        "    ax.tick_params(axis='both', labelsize=12)\n",
        "    ax.set_ylim(0, 1)\n",
        "\n",
        "    def percentages(x, pos):\n",
        "        \"\"\"The two args are the value and tick position\"\"\"\n",
        "        if x < 1:\n",
        "            return '{:1.0f}'.format(x*100)\n",
        "        return '{:1.0f}%'.format(x*100)\n",
        "\n",
        "    def numbers(x, pos):\n",
        "        \"\"\"The two args are the value and tick position\"\"\"\n",
        "        if x >= 1000:\n",
        "            return '{:1,.0f}'.format(x)\n",
        "        return '{:1.0f}'.format(x)\n",
        "    data = {'Train_Size':training_set_sizes, 'mean_train_Accuracy':train_score,'mean_test_Accuracy':val_score,'std_train_Accuracy':std_train,'std_test_Accuracy':std_val}\n",
        "    df_split_params = pd.DataFrame(data)\n",
        "    return df_split_params"
      ],
      "execution_count": 0,
      "outputs": []
    },
    {
      "cell_type": "code",
      "metadata": {
        "id": "XaFK1_oayDb5",
        "colab_type": "code",
        "outputId": "0a350ee4-4572-4c0d-8a0d-c6d53795bfc8",
        "colab": {
          "base_uri": "https://localhost:8080/",
          "height": 564
        }
      },
      "source": [
        "df_split_paramsIF =learning_curve(model=IsolationForest__best_estimator,best_parameters=IsolationForest_best_params, X=Xtrain_original,Y=Ytrain_original)"
      ],
      "execution_count": 0,
      "outputs": [
        {
          "output_type": "display_data",
          "data": {
            "image/png": "[encoded data removed]",
            "text/plain": [
              "<Figure size 1008x648 with 1 Axes>"
            ]
          },
          "metadata": {
            "tags": [],
            "needs_background": "light"
          }
        }
      ]
    },
    {
      "cell_type": "code",
      "metadata": {
        "id": "GIVfUk3WyXPq",
        "colab_type": "code",
        "outputId": "2544c1ba-b7f4-4f19-8f94-be9e557ffa56",
        "colab": {
          "base_uri": "https://localhost:8080/",
          "height": 631
        }
      },
      "source": [
        "df_split_paramsIF"
      ],
      "execution_count": 0,
      "outputs": [
        {
          "output_type": "execute_result",
          "data": {
            "text/html": [
              "<div>\n",
              "<style scoped>\n",
              "    .dataframe tbody tr th:only-of-type {\n",
              "        vertical-align: middle;\n",
              "    }\n",
              "\n",
              "    .dataframe tbody tr th {\n",
              "        vertical-align: top;\n",
              "    }\n",
              "\n",
              "    .dataframe thead th {\n",
              "        text-align: right;\n",
              "    }\n",
              "</style>\n",
              "<table border=\"1\" class=\"dataframe\">\n",
              "  <thead>\n",
              "    <tr style=\"text-align: right;\">\n",
              "      <th></th>\n",
              "      <th>Train_Size</th>\n",
              "      <th>mean_train_Accuracy</th>\n",
              "      <th>mean_test_Accuracy</th>\n",
              "      <th>std_train_Accuracy</th>\n",
              "      <th>std_test_Accuracy</th>\n",
              "    </tr>\n",
              "  </thead>\n",
              "  <tbody>\n",
              "    <tr>\n",
              "      <th>0</th>\n",
              "      <td>5</td>\n",
              "      <td>1.0</td>\n",
              "      <td>0.950000</td>\n",
              "      <td>0.0</td>\n",
              "      <td>0.063246</td>\n",
              "    </tr>\n",
              "    <tr>\n",
              "      <th>1</th>\n",
              "      <td>6</td>\n",
              "      <td>1.0</td>\n",
              "      <td>0.905263</td>\n",
              "      <td>0.0</td>\n",
              "      <td>0.140833</td>\n",
              "    </tr>\n",
              "    <tr>\n",
              "      <th>2</th>\n",
              "      <td>7</td>\n",
              "      <td>1.0</td>\n",
              "      <td>0.955556</td>\n",
              "      <td>0.0</td>\n",
              "      <td>0.101835</td>\n",
              "    </tr>\n",
              "    <tr>\n",
              "      <th>3</th>\n",
              "      <td>8</td>\n",
              "      <td>1.0</td>\n",
              "      <td>0.988235</td>\n",
              "      <td>0.0</td>\n",
              "      <td>0.023529</td>\n",
              "    </tr>\n",
              "    <tr>\n",
              "      <th>4</th>\n",
              "      <td>9</td>\n",
              "      <td>1.0</td>\n",
              "      <td>0.950000</td>\n",
              "      <td>0.0</td>\n",
              "      <td>0.082916</td>\n",
              "    </tr>\n",
              "    <tr>\n",
              "      <th>5</th>\n",
              "      <td>10</td>\n",
              "      <td>1.0</td>\n",
              "      <td>0.933333</td>\n",
              "      <td>0.0</td>\n",
              "      <td>0.126491</td>\n",
              "    </tr>\n",
              "    <tr>\n",
              "      <th>6</th>\n",
              "      <td>11</td>\n",
              "      <td>1.0</td>\n",
              "      <td>0.985714</td>\n",
              "      <td>0.0</td>\n",
              "      <td>0.028571</td>\n",
              "    </tr>\n",
              "    <tr>\n",
              "      <th>7</th>\n",
              "      <td>12</td>\n",
              "      <td>1.0</td>\n",
              "      <td>0.969231</td>\n",
              "      <td>0.0</td>\n",
              "      <td>0.051025</td>\n",
              "    </tr>\n",
              "    <tr>\n",
              "      <th>8</th>\n",
              "      <td>13</td>\n",
              "      <td>1.0</td>\n",
              "      <td>0.975000</td>\n",
              "      <td>0.0</td>\n",
              "      <td>0.053359</td>\n",
              "    </tr>\n",
              "    <tr>\n",
              "      <th>9</th>\n",
              "      <td>14</td>\n",
              "      <td>1.0</td>\n",
              "      <td>0.972727</td>\n",
              "      <td>0.0</td>\n",
              "      <td>0.081818</td>\n",
              "    </tr>\n",
              "    <tr>\n",
              "      <th>10</th>\n",
              "      <td>15</td>\n",
              "      <td>1.0</td>\n",
              "      <td>0.960000</td>\n",
              "      <td>0.0</td>\n",
              "      <td>0.066332</td>\n",
              "    </tr>\n",
              "    <tr>\n",
              "      <th>11</th>\n",
              "      <td>16</td>\n",
              "      <td>1.0</td>\n",
              "      <td>0.966667</td>\n",
              "      <td>0.0</td>\n",
              "      <td>0.071146</td>\n",
              "    </tr>\n",
              "    <tr>\n",
              "      <th>12</th>\n",
              "      <td>17</td>\n",
              "      <td>1.0</td>\n",
              "      <td>0.937500</td>\n",
              "      <td>0.0</td>\n",
              "      <td>0.150520</td>\n",
              "    </tr>\n",
              "    <tr>\n",
              "      <th>13</th>\n",
              "      <td>18</td>\n",
              "      <td>1.0</td>\n",
              "      <td>0.928571</td>\n",
              "      <td>0.0</td>\n",
              "      <td>0.131708</td>\n",
              "    </tr>\n",
              "    <tr>\n",
              "      <th>14</th>\n",
              "      <td>19</td>\n",
              "      <td>1.0</td>\n",
              "      <td>0.983333</td>\n",
              "      <td>0.0</td>\n",
              "      <td>0.050000</td>\n",
              "    </tr>\n",
              "    <tr>\n",
              "      <th>15</th>\n",
              "      <td>20</td>\n",
              "      <td>1.0</td>\n",
              "      <td>1.000000</td>\n",
              "      <td>0.0</td>\n",
              "      <td>0.000000</td>\n",
              "    </tr>\n",
              "    <tr>\n",
              "      <th>16</th>\n",
              "      <td>21</td>\n",
              "      <td>1.0</td>\n",
              "      <td>0.975000</td>\n",
              "      <td>0.0</td>\n",
              "      <td>0.075000</td>\n",
              "    </tr>\n",
              "    <tr>\n",
              "      <th>17</th>\n",
              "      <td>22</td>\n",
              "      <td>1.0</td>\n",
              "      <td>0.933333</td>\n",
              "      <td>0.0</td>\n",
              "      <td>0.133333</td>\n",
              "    </tr>\n",
              "    <tr>\n",
              "      <th>18</th>\n",
              "      <td>24</td>\n",
              "      <td>1.0</td>\n",
              "      <td>1.000000</td>\n",
              "      <td>0.0</td>\n",
              "      <td>0.000000</td>\n",
              "    </tr>\n",
              "  </tbody>\n",
              "</table>\n",
              "</div>"
            ],
            "text/plain": [
              "    Train_Size  mean_train_Accuracy  ...  std_train_Accuracy  std_test_Accuracy\n",
              "0            5                  1.0  ...                 0.0           0.063246\n",
              "1            6                  1.0  ...                 0.0           0.140833\n",
              "2            7                  1.0  ...                 0.0           0.101835\n",
              "3            8                  1.0  ...                 0.0           0.023529\n",
              "4            9                  1.0  ...                 0.0           0.082916\n",
              "5           10                  1.0  ...                 0.0           0.126491\n",
              "6           11                  1.0  ...                 0.0           0.028571\n",
              "7           12                  1.0  ...                 0.0           0.051025\n",
              "8           13                  1.0  ...                 0.0           0.053359\n",
              "9           14                  1.0  ...                 0.0           0.081818\n",
              "10          15                  1.0  ...                 0.0           0.066332\n",
              "11          16                  1.0  ...                 0.0           0.071146\n",
              "12          17                  1.0  ...                 0.0           0.150520\n",
              "13          18                  1.0  ...                 0.0           0.131708\n",
              "14          19                  1.0  ...                 0.0           0.050000\n",
              "15          20                  1.0  ...                 0.0           0.000000\n",
              "16          21                  1.0  ...                 0.0           0.075000\n",
              "17          22                  1.0  ...                 0.0           0.133333\n",
              "18          24                  1.0  ...                 0.0           0.000000\n",
              "\n",
              "[19 rows x 5 columns]"
            ]
          },
          "metadata": {
            "tags": []
          },
          "execution_count": 41
        }
      ]
    },
    {
      "cell_type": "code",
      "metadata": {
        "id": "F-0iMQzhwnwi",
        "colab_type": "code",
        "outputId": "ce312bc3-a569-48c1-cbb8-bbf043004f29",
        "colab": {
          "base_uri": "https://localhost:8080/",
          "height": 564
        }
      },
      "source": [
        "df_split_params =learning_curve(model=SVM__best_estimator,best_parameters=SVM_best_params, X=Xtrain_original,Y=Ytrain_original)"
      ],
      "execution_count": 0,
      "outputs": [
        {
          "output_type": "display_data",
          "data": {
            "image/png": "[encoded data removed]",
            "text/plain": [
              "<Figure size 1008x648 with 1 Axes>"
            ]
          },
          "metadata": {
            "tags": [],
            "needs_background": "light"
          }
        }
      ]
    },
    {
      "cell_type": "code",
      "metadata": {
        "id": "ypEvO215x4GR",
        "colab_type": "code",
        "outputId": "238f1d58-8f44-4f48-c67d-ea7217848cbf",
        "colab": {
          "base_uri": "https://localhost:8080/",
          "height": 631
        }
      },
      "source": [
        "df_split_params"
      ],
      "execution_count": 0,
      "outputs": [
        {
          "output_type": "execute_result",
          "data": {
            "text/html": [
              "<div>\n",
              "<style scoped>\n",
              "    .dataframe tbody tr th:only-of-type {\n",
              "        vertical-align: middle;\n",
              "    }\n",
              "\n",
              "    .dataframe tbody tr th {\n",
              "        vertical-align: top;\n",
              "    }\n",
              "\n",
              "    .dataframe thead th {\n",
              "        text-align: right;\n",
              "    }\n",
              "</style>\n",
              "<table border=\"1\" class=\"dataframe\">\n",
              "  <thead>\n",
              "    <tr style=\"text-align: right;\">\n",
              "      <th></th>\n",
              "      <th>Train_Size</th>\n",
              "      <th>mean_train_Accuracy</th>\n",
              "      <th>mean_test_Accuracy</th>\n",
              "      <th>std_train_Accuracy</th>\n",
              "      <th>std_test_Accuracy</th>\n",
              "    </tr>\n",
              "  </thead>\n",
              "  <tbody>\n",
              "    <tr>\n",
              "      <th>0</th>\n",
              "      <td>5</td>\n",
              "      <td>0.540000</td>\n",
              "      <td>0.800000</td>\n",
              "      <td>0.091652</td>\n",
              "      <td>0.153297</td>\n",
              "    </tr>\n",
              "    <tr>\n",
              "      <th>1</th>\n",
              "      <td>6</td>\n",
              "      <td>0.416667</td>\n",
              "      <td>0.673684</td>\n",
              "      <td>0.111803</td>\n",
              "      <td>0.161022</td>\n",
              "    </tr>\n",
              "    <tr>\n",
              "      <th>2</th>\n",
              "      <td>7</td>\n",
              "      <td>0.514286</td>\n",
              "      <td>0.738889</td>\n",
              "      <td>0.094761</td>\n",
              "      <td>0.074742</td>\n",
              "    </tr>\n",
              "    <tr>\n",
              "      <th>3</th>\n",
              "      <td>8</td>\n",
              "      <td>0.500000</td>\n",
              "      <td>0.735294</td>\n",
              "      <td>0.125000</td>\n",
              "      <td>0.158387</td>\n",
              "    </tr>\n",
              "    <tr>\n",
              "      <th>4</th>\n",
              "      <td>9</td>\n",
              "      <td>0.533333</td>\n",
              "      <td>0.712500</td>\n",
              "      <td>0.119670</td>\n",
              "      <td>0.151038</td>\n",
              "    </tr>\n",
              "    <tr>\n",
              "      <th>5</th>\n",
              "      <td>10</td>\n",
              "      <td>0.570000</td>\n",
              "      <td>0.686667</td>\n",
              "      <td>0.090000</td>\n",
              "      <td>0.157903</td>\n",
              "    </tr>\n",
              "    <tr>\n",
              "      <th>6</th>\n",
              "      <td>11</td>\n",
              "      <td>0.563636</td>\n",
              "      <td>0.614286</td>\n",
              "      <td>0.054545</td>\n",
              "      <td>0.124540</td>\n",
              "    </tr>\n",
              "    <tr>\n",
              "      <th>7</th>\n",
              "      <td>12</td>\n",
              "      <td>0.641667</td>\n",
              "      <td>0.653846</td>\n",
              "      <td>0.065085</td>\n",
              "      <td>0.129861</td>\n",
              "    </tr>\n",
              "    <tr>\n",
              "      <th>8</th>\n",
              "      <td>13</td>\n",
              "      <td>0.638462</td>\n",
              "      <td>0.658333</td>\n",
              "      <td>0.091341</td>\n",
              "      <td>0.141667</td>\n",
              "    </tr>\n",
              "    <tr>\n",
              "      <th>9</th>\n",
              "      <td>14</td>\n",
              "      <td>0.600000</td>\n",
              "      <td>0.690909</td>\n",
              "      <td>0.096890</td>\n",
              "      <td>0.158505</td>\n",
              "    </tr>\n",
              "    <tr>\n",
              "      <th>10</th>\n",
              "      <td>15</td>\n",
              "      <td>0.640000</td>\n",
              "      <td>0.740000</td>\n",
              "      <td>0.074237</td>\n",
              "      <td>0.135647</td>\n",
              "    </tr>\n",
              "    <tr>\n",
              "      <th>11</th>\n",
              "      <td>16</td>\n",
              "      <td>0.600000</td>\n",
              "      <td>0.644444</td>\n",
              "      <td>0.075000</td>\n",
              "      <td>0.237268</td>\n",
              "    </tr>\n",
              "    <tr>\n",
              "      <th>12</th>\n",
              "      <td>17</td>\n",
              "      <td>0.641176</td>\n",
              "      <td>0.587500</td>\n",
              "      <td>0.080869</td>\n",
              "      <td>0.177218</td>\n",
              "    </tr>\n",
              "    <tr>\n",
              "      <th>13</th>\n",
              "      <td>18</td>\n",
              "      <td>0.683333</td>\n",
              "      <td>0.742857</td>\n",
              "      <td>0.065969</td>\n",
              "      <td>0.189521</td>\n",
              "    </tr>\n",
              "    <tr>\n",
              "      <th>14</th>\n",
              "      <td>19</td>\n",
              "      <td>0.705263</td>\n",
              "      <td>0.616667</td>\n",
              "      <td>0.075173</td>\n",
              "      <td>0.258736</td>\n",
              "    </tr>\n",
              "    <tr>\n",
              "      <th>15</th>\n",
              "      <td>20</td>\n",
              "      <td>0.705000</td>\n",
              "      <td>0.740000</td>\n",
              "      <td>0.078899</td>\n",
              "      <td>0.200998</td>\n",
              "    </tr>\n",
              "    <tr>\n",
              "      <th>16</th>\n",
              "      <td>21</td>\n",
              "      <td>0.657143</td>\n",
              "      <td>0.800000</td>\n",
              "      <td>0.066667</td>\n",
              "      <td>0.150000</td>\n",
              "    </tr>\n",
              "    <tr>\n",
              "      <th>17</th>\n",
              "      <td>22</td>\n",
              "      <td>0.695455</td>\n",
              "      <td>0.633333</td>\n",
              "      <td>0.083937</td>\n",
              "      <td>0.233333</td>\n",
              "    </tr>\n",
              "    <tr>\n",
              "      <th>18</th>\n",
              "      <td>24</td>\n",
              "      <td>0.695833</td>\n",
              "      <td>0.800000</td>\n",
              "      <td>0.069846</td>\n",
              "      <td>0.400000</td>\n",
              "    </tr>\n",
              "  </tbody>\n",
              "</table>\n",
              "</div>"
            ],
            "text/plain": [
              "    Train_Size  mean_train_Accuracy  ...  std_train_Accuracy  std_test_Accuracy\n",
              "0            5             0.540000  ...            0.091652           0.153297\n",
              "1            6             0.416667  ...            0.111803           0.161022\n",
              "2            7             0.514286  ...            0.094761           0.074742\n",
              "3            8             0.500000  ...            0.125000           0.158387\n",
              "4            9             0.533333  ...            0.119670           0.151038\n",
              "5           10             0.570000  ...            0.090000           0.157903\n",
              "6           11             0.563636  ...            0.054545           0.124540\n",
              "7           12             0.641667  ...            0.065085           0.129861\n",
              "8           13             0.638462  ...            0.091341           0.141667\n",
              "9           14             0.600000  ...            0.096890           0.158505\n",
              "10          15             0.640000  ...            0.074237           0.135647\n",
              "11          16             0.600000  ...            0.075000           0.237268\n",
              "12          17             0.641176  ...            0.080869           0.177218\n",
              "13          18             0.683333  ...            0.065969           0.189521\n",
              "14          19             0.705263  ...            0.075173           0.258736\n",
              "15          20             0.705000  ...            0.078899           0.200998\n",
              "16          21             0.657143  ...            0.066667           0.150000\n",
              "17          22             0.695455  ...            0.083937           0.233333\n",
              "18          24             0.695833  ...            0.069846           0.400000\n",
              "\n",
              "[19 rows x 5 columns]"
            ]
          },
          "metadata": {
            "tags": []
          },
          "execution_count": 43
        }
      ]
    },
    {
      "cell_type": "markdown",
      "metadata": {
        "id": "4vsGhAlA8KO9",
        "colab_type": "text"
      },
      "source": [
        "# All users"
      ]
    },
    {
      "cell_type": "code",
      "metadata": {
        "id": "fXV7dn2c8MqB",
        "colab_type": "code",
        "colab": {}
      },
      "source": [
        "def learning_curve_all_users( model, best_parameters , users, impostors, suptitle='', title='', xlabel='Training Set Size', ylabel='Acurracy'):\n",
        "\n",
        "  \"\"\"\n",
        "  Parameters\n",
        "  ----------\n",
        "  suptitle : str\n",
        "      Chart suptitle\n",
        "  title: str\n",
        "      Chart title\n",
        "  xlabel: str\n",
        "      Label for the X axis\n",
        "  ylabel: str\n",
        "      Label for the y axis\n",
        "  Returns\n",
        "  -------\n",
        "  Plot of learning curves\n",
        "  \"\"\"\n",
        "\n",
        "  # create lists to store train and validation scores\n",
        "  train_score = []\n",
        "  val_score = []\n",
        "  std_train= []\n",
        "  std_val=[]\n",
        "\n",
        "  training_set_sizes = np.linspace(5,24,19,dtype=int).tolist()\n",
        "\n",
        "  for i in training_set_sizes:\n",
        "    meanAccuracyValid = np.zeros((len(users),1))\n",
        "    meanAccuracyTrain = np.zeros((len(users),1))\n",
        "    meanStdValid = np.zeros((len(users),1))\n",
        "    meanStdTrain = np.zeros((len(users),1))\n",
        "\n",
        "    for u in range(0,len(users)):\n",
        "      data = users[u]\n",
        "      Xtrain_original = data[:,0:46]\n",
        "      Ytrain_original = data[:,47]\n",
        "      Ytrain_original = Ytrain_original.astype(int)\n",
        "\n",
        "      dataI = impostors[u]\n",
        "      Xtest_original = dataI[:,0:46]\n",
        "      Ytest_original = dataI[:,47]\n",
        "      Ytest_original=Ytest_original.astype(int)\n",
        "\n",
        "      X=Xtrain_original\n",
        "      Y=Ytrain_original\n",
        "        \n",
        "      meanAccuracyTrain[u] , meanAccuracyValid[u] , meanStdTrain[u], meanStdValid[u] = build_model(model, best_parameters, i, X,Y)\n",
        "    EfficiencyTrain, EfficiencyVal, stdTrain, stdVal = np.mean(meanAccuracyTrain), np.mean(meanAccuracyValid), np.mean(meanStdTrain), np.mean(meanStdValid)\n",
        "\n",
        "    # store the scores in their respective lists\n",
        "    train_score.append(EfficiencyTrain)\n",
        "    val_score.append(EfficiencyVal)\n",
        "    std_train.append(stdTrain)\n",
        "    std_val.append(stdVal)\n",
        "\n",
        "  train_score =np.array(train_score)\n",
        "  val_score =np.array(val_score)\n",
        "  std_train =np.array(std_train)\n",
        "  std_val =np.array(std_val)\n",
        "\n",
        "\n",
        "  # plot learning curves\n",
        "  fig, ax = plt.subplots(figsize=(14, 9))\n",
        "  ax.plot(training_set_sizes, train_score, c='gold')\n",
        "  ax.plot(training_set_sizes, val_score, c='steelblue')\n",
        "  \n",
        "  ax.fill_between(training_set_sizes,train_score+std_train,train_score-std_train,facecolor='gold',alpha=0.5)\n",
        "  ax.fill_between(training_set_sizes,val_score+std_val,val_score-std_val,facecolor='steelblue',alpha=0.5)\n",
        "\n",
        "  # format the chart to make it look nice\n",
        "  fig.suptitle(suptitle, fontweight='bold', fontsize='20')\n",
        "  ax.set_title(title, size=20)\n",
        "  ax.set_xlabel(xlabel, size=16)\n",
        "  ax.set_ylabel(ylabel, size=16)\n",
        "  ax.legend(['Train set', 'Test set'], fontsize=16)\n",
        "  ax.tick_params(axis='both', labelsize=12)\n",
        "  ax.set_ylim(0, 1)\n",
        "\n",
        "  def percentages(x, pos):\n",
        "      \"\"\"The two args are the value and tick position\"\"\"\n",
        "      if x < 1:\n",
        "          return '{:1.0f}'.format(x*100)\n",
        "      return '{:1.0f}%'.format(x*100)\n",
        "\n",
        "  def numbers(x, pos):\n",
        "      \"\"\"The two args are the value and tick position\"\"\"\n",
        "      if x >= 1000:\n",
        "          return '{:1,.0f}'.format(x)\n",
        "      return '{:1.0f}'.format(x)\n",
        "  data = {'Train_Size':training_set_sizes, 'mean_train_Accuracy':train_score,'mean_test_Accuracy':val_score,'std_train_Accuracy':std_train,'std_test_Accuracy':std_val}\n",
        "  df_split_params = pd.DataFrame(data)\n",
        "  return df_split_params"
      ],
      "execution_count": 0,
      "outputs": []
    },
    {
      "cell_type": "code",
      "metadata": {
        "id": "Mtie7OCg87qR",
        "colab_type": "code",
        "outputId": "7be16ac9-8322-4493-fd27-e716c9f8d80e",
        "colab": {
          "base_uri": "https://localhost:8080/",
          "height": 564
        }
      },
      "source": [
        "df_split_all_users_IF = learning_curve_all_users(model=IsolationForest__best_estimator,best_parameters=IsolationForest_best_params, users=listUserPin8,impostors=listUserPin8Impostors)"
      ],
      "execution_count": 0,
      "outputs": [
        {
          "output_type": "display_data",
          "data": {
            "image/png": "[encoded data removed]",
            "text/plain": [
              "<Figure size 1008x648 with 1 Axes>"
            ]
          },
          "metadata": {
            "tags": [],
            "needs_background": "light"
          }
        }
      ]
    },
    {
      "cell_type": "code",
      "metadata": {
        "id": "z9C9NSZ287xy",
        "colab_type": "code",
        "outputId": "ee5705f5-015a-41c1-fc22-84cd37be20b6",
        "colab": {
          "base_uri": "https://localhost:8080/"
        }
      },
      "source": [
        "df_split_all_users_IF"
      ],
      "execution_count": 0,
      "outputs": [
        {
          "output_type": "execute_result",
          "data": {
            "text/html": [
              "<div>\n",
              "<style scoped>\n",
              "    .dataframe tbody tr th:only-of-type {\n",
              "        vertical-align: middle;\n",
              "    }\n",
              "\n",
              "    .dataframe tbody tr th {\n",
              "        vertical-align: top;\n",
              "    }\n",
              "\n",
              "    .dataframe thead th {\n",
              "        text-align: right;\n",
              "    }\n",
              "</style>\n",
              "<table border=\"1\" class=\"dataframe\">\n",
              "  <thead>\n",
              "    <tr style=\"text-align: right;\">\n",
              "      <th></th>\n",
              "      <th>Train_Size</th>\n",
              "      <th>mean_train_Accuracy</th>\n",
              "      <th>mean_test_Accuracy</th>\n",
              "      <th>std_train_Accuracy</th>\n",
              "      <th>std_test_Accuracy</th>\n",
              "    </tr>\n",
              "  </thead>\n",
              "  <tbody>\n",
              "    <tr>\n",
              "      <th>0</th>\n",
              "      <td>5</td>\n",
              "      <td>1.0</td>\n",
              "      <td>0.915192</td>\n",
              "      <td>0.0</td>\n",
              "      <td>0.114393</td>\n",
              "    </tr>\n",
              "    <tr>\n",
              "      <th>1</th>\n",
              "      <td>6</td>\n",
              "      <td>1.0</td>\n",
              "      <td>0.937854</td>\n",
              "      <td>0.0</td>\n",
              "      <td>0.088970</td>\n",
              "    </tr>\n",
              "    <tr>\n",
              "      <th>2</th>\n",
              "      <td>7</td>\n",
              "      <td>1.0</td>\n",
              "      <td>0.928205</td>\n",
              "      <td>0.0</td>\n",
              "      <td>0.100785</td>\n",
              "    </tr>\n",
              "    <tr>\n",
              "      <th>3</th>\n",
              "      <td>8</td>\n",
              "      <td>1.0</td>\n",
              "      <td>0.950226</td>\n",
              "      <td>0.0</td>\n",
              "      <td>0.065632</td>\n",
              "    </tr>\n",
              "    <tr>\n",
              "      <th>4</th>\n",
              "      <td>9</td>\n",
              "      <td>1.0</td>\n",
              "      <td>0.947356</td>\n",
              "      <td>0.0</td>\n",
              "      <td>0.069984</td>\n",
              "    </tr>\n",
              "    <tr>\n",
              "      <th>5</th>\n",
              "      <td>10</td>\n",
              "      <td>1.0</td>\n",
              "      <td>0.962564</td>\n",
              "      <td>0.0</td>\n",
              "      <td>0.063871</td>\n",
              "    </tr>\n",
              "    <tr>\n",
              "      <th>6</th>\n",
              "      <td>11</td>\n",
              "      <td>1.0</td>\n",
              "      <td>0.957692</td>\n",
              "      <td>0.0</td>\n",
              "      <td>0.060297</td>\n",
              "    </tr>\n",
              "    <tr>\n",
              "      <th>7</th>\n",
              "      <td>12</td>\n",
              "      <td>1.0</td>\n",
              "      <td>0.955325</td>\n",
              "      <td>0.0</td>\n",
              "      <td>0.071846</td>\n",
              "    </tr>\n",
              "    <tr>\n",
              "      <th>8</th>\n",
              "      <td>13</td>\n",
              "      <td>1.0</td>\n",
              "      <td>0.960577</td>\n",
              "      <td>0.0</td>\n",
              "      <td>0.062281</td>\n",
              "    </tr>\n",
              "    <tr>\n",
              "      <th>9</th>\n",
              "      <td>14</td>\n",
              "      <td>1.0</td>\n",
              "      <td>0.954545</td>\n",
              "      <td>0.0</td>\n",
              "      <td>0.068720</td>\n",
              "    </tr>\n",
              "    <tr>\n",
              "      <th>10</th>\n",
              "      <td>15</td>\n",
              "      <td>1.0</td>\n",
              "      <td>0.956154</td>\n",
              "      <td>0.0</td>\n",
              "      <td>0.063613</td>\n",
              "    </tr>\n",
              "    <tr>\n",
              "      <th>11</th>\n",
              "      <td>16</td>\n",
              "      <td>1.0</td>\n",
              "      <td>0.970513</td>\n",
              "      <td>0.0</td>\n",
              "      <td>0.053798</td>\n",
              "    </tr>\n",
              "    <tr>\n",
              "      <th>12</th>\n",
              "      <td>17</td>\n",
              "      <td>1.0</td>\n",
              "      <td>0.960577</td>\n",
              "      <td>0.0</td>\n",
              "      <td>0.070369</td>\n",
              "    </tr>\n",
              "    <tr>\n",
              "      <th>13</th>\n",
              "      <td>18</td>\n",
              "      <td>1.0</td>\n",
              "      <td>0.965934</td>\n",
              "      <td>0.0</td>\n",
              "      <td>0.064999</td>\n",
              "    </tr>\n",
              "    <tr>\n",
              "      <th>14</th>\n",
              "      <td>19</td>\n",
              "      <td>1.0</td>\n",
              "      <td>0.966667</td>\n",
              "      <td>0.0</td>\n",
              "      <td>0.067783</td>\n",
              "    </tr>\n",
              "    <tr>\n",
              "      <th>15</th>\n",
              "      <td>20</td>\n",
              "      <td>1.0</td>\n",
              "      <td>0.970000</td>\n",
              "      <td>0.0</td>\n",
              "      <td>0.066330</td>\n",
              "    </tr>\n",
              "    <tr>\n",
              "      <th>16</th>\n",
              "      <td>21</td>\n",
              "      <td>1.0</td>\n",
              "      <td>0.987500</td>\n",
              "      <td>0.0</td>\n",
              "      <td>0.026681</td>\n",
              "    </tr>\n",
              "    <tr>\n",
              "      <th>17</th>\n",
              "      <td>22</td>\n",
              "      <td>1.0</td>\n",
              "      <td>0.973077</td>\n",
              "      <td>0.0</td>\n",
              "      <td>0.063973</td>\n",
              "    </tr>\n",
              "    <tr>\n",
              "      <th>18</th>\n",
              "      <td>24</td>\n",
              "      <td>1.0</td>\n",
              "      <td>0.965385</td>\n",
              "      <td>0.0</td>\n",
              "      <td>0.086856</td>\n",
              "    </tr>\n",
              "  </tbody>\n",
              "</table>\n",
              "</div>"
            ],
            "text/plain": [
              "    Train_Size  mean_train_Accuracy  ...  std_train_Accuracy  std_test_Accuracy\n",
              "0            5                  1.0  ...                 0.0           0.114393\n",
              "1            6                  1.0  ...                 0.0           0.088970\n",
              "2            7                  1.0  ...                 0.0           0.100785\n",
              "3            8                  1.0  ...                 0.0           0.065632\n",
              "4            9                  1.0  ...                 0.0           0.069984\n",
              "5           10                  1.0  ...                 0.0           0.063871\n",
              "6           11                  1.0  ...                 0.0           0.060297\n",
              "7           12                  1.0  ...                 0.0           0.071846\n",
              "8           13                  1.0  ...                 0.0           0.062281\n",
              "9           14                  1.0  ...                 0.0           0.068720\n",
              "10          15                  1.0  ...                 0.0           0.063613\n",
              "11          16                  1.0  ...                 0.0           0.053798\n",
              "12          17                  1.0  ...                 0.0           0.070369\n",
              "13          18                  1.0  ...                 0.0           0.064999\n",
              "14          19                  1.0  ...                 0.0           0.067783\n",
              "15          20                  1.0  ...                 0.0           0.066330\n",
              "16          21                  1.0  ...                 0.0           0.026681\n",
              "17          22                  1.0  ...                 0.0           0.063973\n",
              "18          24                  1.0  ...                 0.0           0.086856\n",
              "\n",
              "[19 rows x 5 columns]"
            ]
          },
          "metadata": {
            "tags": []
          },
          "execution_count": 46
        }
      ]
    },
    {
      "cell_type": "code",
      "metadata": {
        "id": "Evgjqgge871r",
        "colab_type": "code",
        "outputId": "278e4f3f-f055-4a8b-dd11-86bc08aedbbc",
        "colab": {
          "base_uri": "https://localhost:8080/",
          "height": 564
        }
      },
      "source": [
        "df_split_all_users_SVM = learning_curve_all_users(model=SVM__best_estimator,best_parameters=SVM_best_params, users=listUserPin8,impostors=listUserPin8Impostors)"
      ],
      "execution_count": 0,
      "outputs": [
        {
          "output_type": "display_data",
          "data": {
            "image/png": "[encoded data removed]",
            "text/plain": [
              "<Figure size 1008x648 with 1 Axes>"
            ]
          },
          "metadata": {
            "tags": [],
            "needs_background": "light"
          }
        }
      ]
    },
    {
      "cell_type": "code",
      "metadata": {
        "id": "7cHjrfpM874T",
        "colab_type": "code",
        "outputId": "7fba54d8-e782-4e93-f826-c689660e7ebc",
        "colab": {
          "base_uri": "https://localhost:8080/"
        }
      },
      "source": [
        "df_split_all_users_SVM"
      ],
      "execution_count": 0,
      "outputs": [
        {
          "output_type": "execute_result",
          "data": {
            "text/html": [
              "<div>\n",
              "<style scoped>\n",
              "    .dataframe tbody tr th:only-of-type {\n",
              "        vertical-align: middle;\n",
              "    }\n",
              "\n",
              "    .dataframe tbody tr th {\n",
              "        vertical-align: top;\n",
              "    }\n",
              "\n",
              "    .dataframe thead th {\n",
              "        text-align: right;\n",
              "    }\n",
              "</style>\n",
              "<table border=\"1\" class=\"dataframe\">\n",
              "  <thead>\n",
              "    <tr style=\"text-align: right;\">\n",
              "      <th></th>\n",
              "      <th>Train_Size</th>\n",
              "      <th>mean_train_Accuracy</th>\n",
              "      <th>mean_test_Accuracy</th>\n",
              "      <th>std_train_Accuracy</th>\n",
              "      <th>std_test_Accuracy</th>\n",
              "    </tr>\n",
              "  </thead>\n",
              "  <tbody>\n",
              "    <tr>\n",
              "      <th>0</th>\n",
              "      <td>5</td>\n",
              "      <td>0.486923</td>\n",
              "      <td>0.875000</td>\n",
              "      <td>0.151835</td>\n",
              "      <td>0.109568</td>\n",
              "    </tr>\n",
              "    <tr>\n",
              "      <th>1</th>\n",
              "      <td>6</td>\n",
              "      <td>0.497436</td>\n",
              "      <td>0.848785</td>\n",
              "      <td>0.143404</td>\n",
              "      <td>0.127188</td>\n",
              "    </tr>\n",
              "    <tr>\n",
              "      <th>2</th>\n",
              "      <td>7</td>\n",
              "      <td>0.504945</td>\n",
              "      <td>0.808761</td>\n",
              "      <td>0.126681</td>\n",
              "      <td>0.120204</td>\n",
              "    </tr>\n",
              "    <tr>\n",
              "      <th>3</th>\n",
              "      <td>8</td>\n",
              "      <td>0.514423</td>\n",
              "      <td>0.779864</td>\n",
              "      <td>0.120944</td>\n",
              "      <td>0.126937</td>\n",
              "    </tr>\n",
              "    <tr>\n",
              "      <th>4</th>\n",
              "      <td>9</td>\n",
              "      <td>0.525641</td>\n",
              "      <td>0.759856</td>\n",
              "      <td>0.108834</td>\n",
              "      <td>0.130670</td>\n",
              "    </tr>\n",
              "    <tr>\n",
              "      <th>5</th>\n",
              "      <td>10</td>\n",
              "      <td>0.540385</td>\n",
              "      <td>0.738718</td>\n",
              "      <td>0.115334</td>\n",
              "      <td>0.137673</td>\n",
              "    </tr>\n",
              "    <tr>\n",
              "      <th>6</th>\n",
              "      <td>11</td>\n",
              "      <td>0.553846</td>\n",
              "      <td>0.718956</td>\n",
              "      <td>0.095717</td>\n",
              "      <td>0.138899</td>\n",
              "    </tr>\n",
              "    <tr>\n",
              "      <th>7</th>\n",
              "      <td>12</td>\n",
              "      <td>0.565064</td>\n",
              "      <td>0.714497</td>\n",
              "      <td>0.092162</td>\n",
              "      <td>0.129903</td>\n",
              "    </tr>\n",
              "    <tr>\n",
              "      <th>8</th>\n",
              "      <td>13</td>\n",
              "      <td>0.592604</td>\n",
              "      <td>0.731410</td>\n",
              "      <td>0.094410</td>\n",
              "      <td>0.152493</td>\n",
              "    </tr>\n",
              "    <tr>\n",
              "      <th>9</th>\n",
              "      <td>14</td>\n",
              "      <td>0.612088</td>\n",
              "      <td>0.741958</td>\n",
              "      <td>0.086224</td>\n",
              "      <td>0.138598</td>\n",
              "    </tr>\n",
              "    <tr>\n",
              "      <th>10</th>\n",
              "      <td>15</td>\n",
              "      <td>0.636154</td>\n",
              "      <td>0.727692</td>\n",
              "      <td>0.077618</td>\n",
              "      <td>0.143510</td>\n",
              "    </tr>\n",
              "    <tr>\n",
              "      <th>11</th>\n",
              "      <td>16</td>\n",
              "      <td>0.644952</td>\n",
              "      <td>0.735897</td>\n",
              "      <td>0.071775</td>\n",
              "      <td>0.149811</td>\n",
              "    </tr>\n",
              "    <tr>\n",
              "      <th>12</th>\n",
              "      <td>17</td>\n",
              "      <td>0.651810</td>\n",
              "      <td>0.735577</td>\n",
              "      <td>0.074791</td>\n",
              "      <td>0.170158</td>\n",
              "    </tr>\n",
              "    <tr>\n",
              "      <th>13</th>\n",
              "      <td>18</td>\n",
              "      <td>0.673932</td>\n",
              "      <td>0.764835</td>\n",
              "      <td>0.070688</td>\n",
              "      <td>0.157304</td>\n",
              "    </tr>\n",
              "    <tr>\n",
              "      <th>14</th>\n",
              "      <td>19</td>\n",
              "      <td>0.690688</td>\n",
              "      <td>0.733333</td>\n",
              "      <td>0.067953</td>\n",
              "      <td>0.169631</td>\n",
              "    </tr>\n",
              "    <tr>\n",
              "      <th>15</th>\n",
              "      <td>20</td>\n",
              "      <td>0.698846</td>\n",
              "      <td>0.766923</td>\n",
              "      <td>0.061898</td>\n",
              "      <td>0.165136</td>\n",
              "    </tr>\n",
              "    <tr>\n",
              "      <th>16</th>\n",
              "      <td>21</td>\n",
              "      <td>0.715385</td>\n",
              "      <td>0.734615</td>\n",
              "      <td>0.061834</td>\n",
              "      <td>0.208516</td>\n",
              "    </tr>\n",
              "    <tr>\n",
              "      <th>17</th>\n",
              "      <td>22</td>\n",
              "      <td>0.726748</td>\n",
              "      <td>0.769231</td>\n",
              "      <td>0.061147</td>\n",
              "      <td>0.223638</td>\n",
              "    </tr>\n",
              "    <tr>\n",
              "      <th>18</th>\n",
              "      <td>24</td>\n",
              "      <td>0.742788</td>\n",
              "      <td>0.757692</td>\n",
              "      <td>0.053758</td>\n",
              "      <td>0.401375</td>\n",
              "    </tr>\n",
              "  </tbody>\n",
              "</table>\n",
              "</div>"
            ],
            "text/plain": [
              "    Train_Size  mean_train_Accuracy  ...  std_train_Accuracy  std_test_Accuracy\n",
              "0            5             0.486923  ...            0.151835           0.109568\n",
              "1            6             0.497436  ...            0.143404           0.127188\n",
              "2            7             0.504945  ...            0.126681           0.120204\n",
              "3            8             0.514423  ...            0.120944           0.126937\n",
              "4            9             0.525641  ...            0.108834           0.130670\n",
              "5           10             0.540385  ...            0.115334           0.137673\n",
              "6           11             0.553846  ...            0.095717           0.138899\n",
              "7           12             0.565064  ...            0.092162           0.129903\n",
              "8           13             0.592604  ...            0.094410           0.152493\n",
              "9           14             0.612088  ...            0.086224           0.138598\n",
              "10          15             0.636154  ...            0.077618           0.143510\n",
              "11          16             0.644952  ...            0.071775           0.149811\n",
              "12          17             0.651810  ...            0.074791           0.170158\n",
              "13          18             0.673932  ...            0.070688           0.157304\n",
              "14          19             0.690688  ...            0.067953           0.169631\n",
              "15          20             0.698846  ...            0.061898           0.165136\n",
              "16          21             0.715385  ...            0.061834           0.208516\n",
              "17          22             0.726748  ...            0.061147           0.223638\n",
              "18          24             0.742788  ...            0.053758           0.401375\n",
              "\n",
              "[19 rows x 5 columns]"
            ]
          },
          "metadata": {
            "tags": []
          },
          "execution_count": 48
        }
      ]
    }
  ]
}