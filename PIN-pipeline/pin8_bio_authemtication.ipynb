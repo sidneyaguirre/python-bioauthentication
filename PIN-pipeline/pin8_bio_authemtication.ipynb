{
  "nbformat": 4,
  "nbformat_minor": 0,
  "metadata": {
    "kernelspec": {
      "display_name": "Python 3",
      "language": "python",
      "name": "python3"
    },
    "language_info": {
      "codemirror_mode": {
        "name": "ipython",
        "version": 3
      },
      "file_extension": ".py",
      "mimetype": "text/x-python",
      "name": "python",
      "nbconvert_exporter": "python",
      "pygments_lexer": "ipython3",
      "version": "3.7.0"
    },
    "colab": {
      "name": "pin8- bio-authemtication.ipynb",
      "provenance": [],
      "collapsed_sections": [
        "8rtLG42DVasF"
      ],
      "toc_visible": true
    }
  },
  "cells": [
    {
      "cell_type": "code",
      "metadata": {
        "id": "n91bGhxrvrw-",
        "colab_type": "code",
        "colab": {}
      },
      "source": [
        "from __future__ import division\n",
        "import math\n",
        "import matplotlib.pyplot as plt\n",
        "\n",
        "import pandas as pd # to import csv and for data manipulation\n",
        "import matplotlib.pyplot as plt # to plot graph\n",
        "import seaborn as sns # for intractve graphs\n",
        "import numpy as np # for linear algebra\n",
        "import datetime # to dela with date and time\n",
        "%matplotlib inline\n",
        "from sklearn.preprocessing import StandardScaler # for preprocessing the data\n",
        "from sklearn.ensemble import RandomForestClassifier # Random forest classifier\n",
        "from sklearn.tree import DecisionTreeClassifier # for Decision Tree classifier\n",
        "from sklearn.svm import SVC # for SVM classification\n",
        "from sklearn.linear_model import LogisticRegression\n",
        "from sklearn.model_selection import train_test_split # to split the data\n",
        "from sklearn.model_selection import KFold # For cross vbalidation\n",
        "from sklearn.model_selection import GridSearchCV # for tunnig hyper parameter it will use all combination of given parameters\n",
        "from sklearn.model_selection import RandomizedSearchCV # same for tunning hyper parameter but will use random combinations of parameters\n",
        "from sklearn.metrics import confusion_matrix,recall_score,precision_recall_curve,auc,roc_curve,roc_auc_score,classification_report\n",
        "import time\n",
        "\n",
        "import warnings\n",
        "warnings.filterwarnings('ignore')"
      ],
      "execution_count": 0,
      "outputs": []
    },
    {
      "cell_type": "markdown",
      "metadata": {
        "id": "XGnjIIoWLpw8",
        "colab_type": "text"
      },
      "source": [
        "# Load data from Drive"
      ]
    },
    {
      "cell_type": "code",
      "metadata": {
        "id": "Etgr1laOcq6P",
        "colab_type": "code",
        "colab": {}
      },
      "source": [
        "# ! wget https://raw.githubusercontent.com/sidneyaguirre/python-bioauthentication/master/DB/pins-Real-4.csv\n",
        "# ! wget https://raw.githubusercontent.com/sidneyaguirre/python-bioauthentication/master/DB/pins-Real-6.csv\n",
        "# ! wget https://raw.githubusercontent.com/sidneyaguirre/python-bioauthentication/master/DB/pins-Real-8.csv\n",
        "\n",
        "# ! wget https://raw.githubusercontent.com/sidneyaguirre/python-bioauthentication/master/DB/pins-Impostor-4.csv\n",
        "# ! wget https://raw.githubusercontent.com/sidneyaguirre/python-bioauthentication/master/DB/pins-Impostor-6.csv\n",
        "# ! wget https://raw.githubusercontent.com/sidneyaguirre/python-bioauthentication/master/DB/pins-Impostor-8.csv"
      ],
      "execution_count": 0,
      "outputs": []
    },
    {
      "cell_type": "code",
      "metadata": {
        "id": "1ZLb5cLKcbQp",
        "colab_type": "code",
        "colab": {}
      },
      "source": [
        ""
      ],
      "execution_count": 0,
      "outputs": []
    },
    {
      "cell_type": "code",
      "metadata": {
        "id": "ftXMrVx6Rk8x",
        "colab_type": "code",
        "colab": {}
      },
      "source": [
        "#Data set csv files\n",
        "dataPin4 = pd.read_csv('pins-Real-4.csv')\n",
        "dataPin6 = pd.read_csv('pins-Real-6.csv')\n",
        "dataPin8 = pd.read_csv('pins-Real-8.csv')\n",
        "dataPin4Impostor = pd.read_csv('pins-Impostor-4.csv')\n",
        "dataPin6Impostor  = pd.read_csv('pins-Impostor-6.csv')\n",
        "dataPin8Impostor  = pd.read_csv('pins-Impostor-8.csv')"
      ],
      "execution_count": 0,
      "outputs": []
    },
    {
      "cell_type": "code",
      "metadata": {
        "id": "buFLPJFlCR1C",
        "colab_type": "code",
        "colab": {}
      },
      "source": [
        "listUsers = [1,2,3,4,7,8,11,12,15,16,17,19,20,22,24,25,27,28,33,34,36,37,39,41,42,43]"
      ],
      "execution_count": 0,
      "outputs": []
    },
    {
      "cell_type": "markdown",
      "metadata": {
        "id": "KD0-Zlh_L3Pg",
        "colab_type": "text"
      },
      "source": [
        "# Cleaning data"
      ]
    },
    {
      "cell_type": "markdown",
      "metadata": {
        "id": "uUC_N7XHvrxH",
        "colab_type": "text"
      },
      "source": [
        "Hence we can see there are 2911 rows and 72 columns"
      ]
    },
    {
      "cell_type": "code",
      "metadata": {
        "id": "LO5gk6fpXwKz",
        "colab_type": "code",
        "colab": {}
      },
      "source": [
        "#dataless-columns in dataPin are taken away\n",
        "def dataCleaning(data):\n",
        "  data = data.dropna(axis = 0, how = 'all')\n",
        "  return data"
      ],
      "execution_count": 0,
      "outputs": []
    },
    {
      "cell_type": "markdown",
      "metadata": {
        "id": "874AbdpovrxN",
        "colab_type": "text"
      },
      "source": [
        "data_new =data.dropna(axis=0,how='all')\n",
        "data_new.head()\n",
        "data_new.columns"
      ]
    },
    {
      "cell_type": "code",
      "metadata": {
        "id": "QV8YUKu_YVy1",
        "colab_type": "code",
        "colab": {}
      },
      "source": [
        "#Create a list to concatenate the users from 0 to 10 -  DataPin\n",
        "# users = list() \n",
        "\n",
        "# for i in listUsers:\n",
        "#     df_user = clean_dataPin[clean_dataPin['user'] == i]\n",
        "#     df_user.drop(['user','length'],axis=1, inplace=True)\n",
        "#     user = df_user.values\n",
        "#     users.append(user)\n",
        "    \n",
        "# len(users)"
      ],
      "execution_count": 0,
      "outputs": []
    },
    {
      "cell_type": "code",
      "metadata": {
        "id": "twa7MR3vl2CD",
        "colab_type": "code",
        "colab": {}
      },
      "source": [
        "def listUser(dataset, listUsers, target=1):\n",
        "\n",
        "  users = list() \n",
        "  cleaned_data = dataCleaning(dataset)\n",
        "  for i in listUsers:\n",
        "\n",
        "    df_user = cleaned_data[cleaned_data['user'] == i]\n",
        "    df_user['target'] = target\n",
        "    df_user.drop(['user','length'],axis=1, inplace=True)\n",
        "    user = df_user.values\n",
        "    users.append(user)\n",
        "      \n",
        "  return users"
      ],
      "execution_count": 0,
      "outputs": []
    },
    {
      "cell_type": "code",
      "metadata": {
        "id": "4xGtEjXe28fb",
        "colab_type": "code",
        "colab": {}
      },
      "source": [
        "listUserPin4 = listUser(dataPin4, listUsers)\n",
        "listUserPin6 = listUser(dataPin6, listUsers)\n",
        "listUserPin8 = listUser(dataPin8, listUsers)\n",
        "\n",
        "listUserPin4Impostors = listUser(dataPin4Impostor, listUsers, target = -1)\n",
        "listUserPin6Impostors = listUser(dataPin6Impostor, listUsers, target = -1)\n",
        "listUserPin8Impostors =listUser(dataPin8Impostor, listUsers, target = -1)"
      ],
      "execution_count": 0,
      "outputs": []
    },
    {
      "cell_type": "code",
      "metadata": {
        "id": "buCgMR03vrxb",
        "colab_type": "code",
        "colab": {}
      },
      "source": [
        "#ROC Curve\n",
        "def plot_roc_curve(fpr, tpr, label=None):\n",
        "    plt.plot(fpr, tpr, linewidth=2, label=label)\n",
        "    plt.plot([0, 1], [0, 1], 'k--')\n",
        "    plt.axis([0, 1, 0, 1])\n",
        "    plt.xlabel('False Positive Rate')\n",
        "    plt.ylabel('True Positive Rate')"
      ],
      "execution_count": 0,
      "outputs": []
    },
    {
      "cell_type": "code",
      "metadata": {
        "id": "ZQrgjHWNvrxk",
        "colab_type": "code",
        "colab": {}
      },
      "source": [
        "#Metrics: precision (precision_score), sensitivity (recall_score), \n",
        "from sklearn.metrics import confusion_matrix, precision_score, recall_score, accuracy_score\n",
        "def metrics(Ytrain,Yval,y_predict_train, y_predict_valid):\n",
        "  #print('Getting metrics...')\n",
        "\n",
        "  accuracyTrain = np.mean(y_predict_train.ravel() == Ytrain.ravel())\n",
        "\n",
        "  accuracyValid =np.mean(y_predict_valid.ravel() == Yval.ravel()) \n",
        " \n",
        "\n",
        "  return accuracyTrain, accuracyValid        "
      ],
      "execution_count": 0,
      "outputs": []
    },
    {
      "cell_type": "markdown",
      "metadata": {
        "id": "F2xLcKR4eApq",
        "colab_type": "text"
      },
      "source": [
        "## Get X and Y sets\n"
      ]
    },
    {
      "cell_type": "code",
      "metadata": {
        "id": "aebyhAJgb66k",
        "colab_type": "code",
        "colab": {}
      },
      "source": [
        "# if lengthDataSet == 'pin-length-4':\n",
        "#   s = 1\n",
        "#   data = users[s]\n",
        "#   X = data[:,0:23]\n",
        "#   Y = np.ones((25,1))\n",
        "\n",
        "# if lengthDataSet == 'pin-length-6':\n",
        "#   s = 1\n",
        "#   data = users[s]\n",
        "#   X = data[:,0:35]\n",
        "#   Y = np.ones((25,1))\n",
        "\n",
        "# if lengthDataSet == 'pin-length-8':\n",
        "#   s = 1\n",
        "#   data = users[s]\n",
        "#   X = data[:,0:47]\n",
        "#   Y = np.ones((25,1))  \n"
      ],
      "execution_count": 0,
      "outputs": []
    },
    {
      "cell_type": "code",
      "metadata": {
        "id": "ve2Nx5YahyeM",
        "colab_type": "code",
        "colab": {}
      },
      "source": [
        "s = 1\n",
        "data = listUserPin8[s]\n",
        "Xtrain_original = data[:,0:46]\n",
        "Ytrain_original = data[:,47]\n",
        "Ytrain_original = Ytrain_original.astype(int)"
      ],
      "execution_count": 0,
      "outputs": []
    },
    {
      "cell_type": "code",
      "metadata": {
        "id": "nopWIdWNBICU",
        "colab_type": "code",
        "colab": {}
      },
      "source": [
        "s = 1\n",
        "dataI = listUserPin8Impostors[s]\n",
        "Xtest_original = dataI[:,0:46]\n",
        "Ytest_original = dataI[:,47]\n",
        "Ytest_original=Ytest_original.astype(int)"
      ],
      "execution_count": 0,
      "outputs": []
    },
    {
      "cell_type": "code",
      "metadata": {
        "id": "837HONm292WE",
        "colab_type": "code",
        "colab": {}
      },
      "source": [
        "# Xtrain_original, Xtest_original, Ytrain_original, Ytest_original = train_test_split(X, Y, train_size=20)"
      ],
      "execution_count": 0,
      "outputs": []
    },
    {
      "cell_type": "markdown",
      "metadata": {
        "id": "qS80_cetEBmV",
        "colab_type": "text"
      },
      "source": [
        "# Models"
      ]
    },
    {
      "cell_type": "code",
      "metadata": {
        "id": "uKoF5gvWZwr7",
        "colab_type": "code",
        "colab": {}
      },
      "source": [
        "# MODELS\n",
        "from sklearn.ensemble import IsolationForest\n",
        "from sklearn import svm"
      ],
      "execution_count": 0,
      "outputs": []
    },
    {
      "cell_type": "code",
      "metadata": {
        "id": "TUNyLrWTEA4U",
        "colab_type": "code",
        "colab": {}
      },
      "source": [
        "# modelIsoForest = IsolationForest(n_estimators=100, max_samples='auto', contamination='auto', max_features=1.0, bootstrap=False, n_jobs=-1)\n",
        "# modelSVM = svm.OneClassSVM(nu=0.5, kernel=\"sigmoid\", gamma='auto')"
      ],
      "execution_count": 0,
      "outputs": []
    },
    {
      "cell_type": "code",
      "metadata": {
        "id": "Q6RiHXuroAhb",
        "colab_type": "code",
        "colab": {}
      },
      "source": [
        "modelIsoForest = IsolationForest()\n",
        "modelSVM = svm.OneClassSVM()"
      ],
      "execution_count": 0,
      "outputs": []
    },
    {
      "cell_type": "markdown",
      "metadata": {
        "id": "8CqKqvow2KNz",
        "colab_type": "text"
      },
      "source": [
        "## Manual Grid Search"
      ]
    },
    {
      "cell_type": "code",
      "metadata": {
        "id": "u-b0V2Ge1M-T",
        "colab_type": "code",
        "colab": {}
      },
      "source": [
        "from sklearn.model_selection import ParameterGrid\n",
        "\n",
        "gridSVM = {'nu' : [0.00001, 0.0001, 0.001, 0.01, 0.1], 'gamma' : ['scale', 'auto'], 'kernel': ['linear', 'poly', 'rbf', 'sigmoid']}\n",
        "\n",
        "gridIsoForest = {'n_estimators': list(range(5, 25, 4)), \n",
        "                'max_samples': ['auto'], \n",
        "                'contamination': [0, 0.5], \n",
        "                'max_features': [10,20,30,40,46], \n",
        "                'bootstrap': [True, False], \n",
        "                'n_jobs': [-1]}"
      ],
      "execution_count": 0,
      "outputs": []
    },
    {
      "cell_type": "code",
      "metadata": {
        "id": "9dlQSRQO6GDI",
        "colab_type": "code",
        "outputId": "570b8796-b24f-4508-e279-7b86d0b7c576",
        "colab": {
          "base_uri": "https://localhost:8080/",
          "height": 35
        }
      },
      "source": [
        "list(ParameterGrid(gridSVM))\n",
        "len(list(ParameterGrid(gridSVM)))"
      ],
      "execution_count": 0,
      "outputs": [
        {
          "output_type": "execute_result",
          "data": {
            "text/plain": [
              "40"
            ]
          },
          "metadata": {
            "tags": []
          },
          "execution_count": 187
        }
      ]
    },
    {
      "cell_type": "code",
      "metadata": {
        "id": "BVd02XpotYEp",
        "colab_type": "code",
        "outputId": "95cfc6f5-7c64-4b6d-a030-b0ed8cdf409b",
        "colab": {
          "base_uri": "https://localhost:8080/",
          "height": 35
        }
      },
      "source": [
        "list(ParameterGrid(gridIsoForest))\n",
        "len(list(ParameterGrid(gridIsoForest)))"
      ],
      "execution_count": 0,
      "outputs": [
        {
          "output_type": "execute_result",
          "data": {
            "text/plain": [
              "100"
            ]
          },
          "metadata": {
            "tags": []
          },
          "execution_count": 188
        }
      ]
    },
    {
      "cell_type": "markdown",
      "metadata": {
        "id": "_WsInlo_spaI",
        "colab_type": "text"
      },
      "source": [
        "# GridSearch V1.1"
      ]
    },
    {
      "cell_type": "code",
      "metadata": {
        "id": "z-Sc5PBlsmiL",
        "colab_type": "code",
        "colab": {}
      },
      "source": [
        "modelsAndGrids = [('modelIsoForest ', modelIsoForest, gridIsoForest), ('modelSVM', modelSVM, gridSVM)]"
      ],
      "execution_count": 0,
      "outputs": []
    },
    {
      "cell_type": "code",
      "metadata": {
        "id": "N3e85XrvogIT",
        "colab_type": "code",
        "colab": {}
      },
      "source": [
        "# Xtrain_original, Xtest_original, Ytrain_original, Ytest_original = train_test_split(X, Y, train_size=20)"
      ],
      "execution_count": 0,
      "outputs": []
    },
    {
      "cell_type": "code",
      "metadata": {
        "id": "Cg0GUty1s1Gb",
        "colab_type": "code",
        "colab": {}
      },
      "source": [
        "from sklearn.model_selection import KFold\n",
        "from sklearn import preprocessing\n",
        "from sklearn.model_selection import train_test_split\n",
        "from numpy import random\n"
      ],
      "execution_count": 0,
      "outputs": []
    },
    {
      "cell_type": "code",
      "metadata": {
        "id": "y35UpmO93lTq",
        "colab_type": "code",
        "colab": {}
      },
      "source": [
        "def GridSearch(Xtrain_original,Ytrain_original,models):\n",
        "  # create lists to store final results\n",
        "  train_score = []\n",
        "  val_score = []\n",
        "  std_train= []\n",
        "  std_val=[]\n",
        "  best_params = []\n",
        "  models_results = []\n",
        "\n",
        "  Folds = 10\n",
        "  results = list()\n",
        "  gsAccuracy = 0\n",
        "  # random.seed(19680801)\n",
        "  #Data Normalization\n",
        "  scaler = preprocessing.StandardScaler().fit(Xtrain_original)\n",
        "  Xtrain_original = scaler.transform(Xtrain_original)\n",
        "  \n",
        "  kf = KFold(n_splits=Folds,shuffle=True)\n",
        "  for m in range(0,len(models)):\n",
        "    params = []\n",
        "    meanAccuracyValid = np.zeros((len(list(ParameterGrid(models[m][2]))),1))\n",
        "    meanAccuracyTrain = np.zeros((len(list(ParameterGrid(models[m][2]))),1))\n",
        "    meanStdValid = np.zeros((len(list(ParameterGrid(models[m][2]))),1))\n",
        "    meanStdTrain = np.zeros((len(list(ParameterGrid(models[m][2]))),1))\n",
        "    result = list()\n",
        "    k=0\n",
        "    for z in ParameterGrid(models[m][2]):\n",
        "      params.append(z)\n",
        "      accuracyTrainFolds = np.zeros((Folds,1))\n",
        "      accuracyValidFolds = np.zeros((Folds,1))\n",
        "      stdTrainFolds = np.zeros((Folds,1))\n",
        "      stdValidFolds = np.zeros((Folds,1))\n",
        "      j=0\n",
        "      \n",
        "      models[m][1].set_params(**z)\n",
        "\n",
        "      for train, valid in kf.split(Xtrain_original):\n",
        "        Xtrain = Xtrain_original[train,:]\n",
        "        Ytrain = Ytrain_original[train]\n",
        "        Xvalid = Xtrain_original[valid,:]\n",
        "        Yvalid = Ytrain_original[valid]\n",
        "\n",
        "        # #Data Normalization\n",
        "        # scaler = preprocessing.StandardScaler().fit(Xtrain)\n",
        "        # Xtrain = scaler.transform(Xtrain)\n",
        "        # Xvalid = scaler.transform(Xvalid)\n",
        "\n",
        "        models[m][1].fit(Xtrain)\n",
        "\n",
        "        y_predict_train =  models[m][1].predict(Xtrain)\n",
        "        \n",
        "        #Validation\n",
        "        y_predict_valid = models[m][1].predict(Xvalid)\n",
        "\n",
        "\n",
        "\n",
        "        accuracyTrainFolds[j], accuracyValidFolds[j] = metrics(Ytrain,Yvalid,y_predict_train,y_predict_valid )\n",
        "        \n",
        "        j+=1\n",
        "\n",
        "      meanAccuracyTrain[k], meanAccuracyValid[k], meanStdTrain[k], meanStdValid[k] = np.mean(accuracyTrainFolds), np.mean(accuracyValidFolds), np.std(accuracyTrainFolds), np.std(accuracyValidFolds)\n",
        "      k+=1\n",
        "    result.append([models[m][0], meanAccuracyValid[np.argmax(meanAccuracyValid)],meanStdValid[np.argmax(meanAccuracyValid)], params[np.argmax(meanAccuracyValid)]])\n",
        "\n",
        "    results.append(result)\n",
        "\n",
        "  return results"
      ],
      "execution_count": 0,
      "outputs": []
    },
    {
      "cell_type": "code",
      "metadata": {
        "id": "cTDP1iOxs5Hf",
        "colab_type": "code",
        "colab": {}
      },
      "source": [
        "results = GridSearch(Xtrain_original,Ytrain_original,modelsAndGrids)"
      ],
      "execution_count": 0,
      "outputs": []
    },
    {
      "cell_type": "code",
      "metadata": {
        "id": "9i25weTltn3W",
        "colab_type": "code",
        "colab": {}
      },
      "source": [
        "IF = results[0]\n",
        "OC = results[1]\n",
        "OCP = OC[0]\n",
        "IFP = IF[0]\n",
        "IFParams = IFP[3]\n",
        "SVMParams = OCP[3]"
      ],
      "execution_count": 0,
      "outputs": []
    },
    {
      "cell_type": "code",
      "metadata": {
        "id": "QhP6cLOIKZIn",
        "colab_type": "code",
        "outputId": "25fac7a1-3b8f-4324-872b-03594762829e",
        "colab": {
          "base_uri": "https://localhost:8080/",
          "height": 121
        }
      },
      "source": [
        "IFParams"
      ],
      "execution_count": 0,
      "outputs": [
        {
          "output_type": "execute_result",
          "data": {
            "text/plain": [
              "{'bootstrap': True,\n",
              " 'contamination': 0,\n",
              " 'max_features': 10,\n",
              " 'max_samples': 'auto',\n",
              " 'n_estimators': 5,\n",
              " 'n_jobs': -1}"
            ]
          },
          "metadata": {
            "tags": []
          },
          "execution_count": 195
        }
      ]
    },
    {
      "cell_type": "code",
      "metadata": {
        "id": "qJRUkNC43DrV",
        "colab_type": "code",
        "colab": {}
      },
      "source": [
        "# IFParams = {'bootstrap': True,\n",
        "#  'contamination': 0,\n",
        "#  'max_features': 10,\n",
        "#  'max_samples': 'auto',\n",
        "#  'n_estimators': 5,\n",
        "#  'n_jobs': -1}"
      ],
      "execution_count": 0,
      "outputs": []
    },
    {
      "cell_type": "code",
      "metadata": {
        "id": "CJi2ct9w3D_b",
        "colab_type": "code",
        "outputId": "910da091-b3a8-4404-8dd6-614988835605",
        "colab": {
          "base_uri": "https://localhost:8080/",
          "height": 35
        }
      },
      "source": [
        "SVMParams"
      ],
      "execution_count": 0,
      "outputs": [
        {
          "output_type": "execute_result",
          "data": {
            "text/plain": [
              "{'gamma': 'auto', 'kernel': 'sigmoid', 'nu': 0.01}"
            ]
          },
          "metadata": {
            "tags": []
          },
          "execution_count": 197
        }
      ]
    },
    {
      "cell_type": "code",
      "metadata": {
        "id": "vk1TG6tIzkp8",
        "colab_type": "code",
        "colab": {}
      },
      "source": [
        "columns=[\"models\",\"mean train Accuracy\",\"CI (+-)\", \"Best params\"]\n",
        "result0 = pd.DataFrame(results[0],columns=columns)\n",
        "result1 = pd.DataFrame(results[1],columns=columns)"
      ],
      "execution_count": 0,
      "outputs": []
    },
    {
      "cell_type": "code",
      "metadata": {
        "id": "pBseeqLS46gz",
        "colab_type": "code",
        "colab": {}
      },
      "source": [
        "resultados_finales = result0.append(result1)"
      ],
      "execution_count": 0,
      "outputs": []
    },
    {
      "cell_type": "code",
      "metadata": {
        "id": "dCgadmDSeYkp",
        "colab_type": "code",
        "outputId": "ba570118-f945-481e-c9b9-c4a17d975418",
        "colab": {
          "base_uri": "https://localhost:8080/",
          "height": 110
        }
      },
      "source": [
        "resultados_finales"
      ],
      "execution_count": 0,
      "outputs": [
        {
          "output_type": "execute_result",
          "data": {
            "text/html": [
              "<div>\n",
              "<style scoped>\n",
              "    .dataframe tbody tr th:only-of-type {\n",
              "        vertical-align: middle;\n",
              "    }\n",
              "\n",
              "    .dataframe tbody tr th {\n",
              "        vertical-align: top;\n",
              "    }\n",
              "\n",
              "    .dataframe thead th {\n",
              "        text-align: right;\n",
              "    }\n",
              "</style>\n",
              "<table border=\"1\" class=\"dataframe\">\n",
              "  <thead>\n",
              "    <tr style=\"text-align: right;\">\n",
              "      <th></th>\n",
              "      <th>models</th>\n",
              "      <th>mean train Accuracy</th>\n",
              "      <th>CI (+-)</th>\n",
              "      <th>Best params</th>\n",
              "    </tr>\n",
              "  </thead>\n",
              "  <tbody>\n",
              "    <tr>\n",
              "      <th>0</th>\n",
              "      <td>modelIsoForest</td>\n",
              "      <td>[1.0]</td>\n",
              "      <td>[0.0]</td>\n",
              "      <td>{'bootstrap': True, 'contamination': 0, 'max_f...</td>\n",
              "    </tr>\n",
              "    <tr>\n",
              "      <th>0</th>\n",
              "      <td>modelSVM</td>\n",
              "      <td>[0.75]</td>\n",
              "      <td>[0.30956959368344517]</td>\n",
              "      <td>{'gamma': 'auto', 'kernel': 'sigmoid', 'nu': 0...</td>\n",
              "    </tr>\n",
              "  </tbody>\n",
              "</table>\n",
              "</div>"
            ],
            "text/plain": [
              "            models  ...                                        Best params\n",
              "0  modelIsoForest   ...  {'bootstrap': True, 'contamination': 0, 'max_f...\n",
              "0         modelSVM  ...  {'gamma': 'auto', 'kernel': 'sigmoid', 'nu': 0...\n",
              "\n",
              "[2 rows x 4 columns]"
            ]
          },
          "metadata": {
            "tags": []
          },
          "execution_count": 200
        }
      ]
    },
    {
      "cell_type": "markdown",
      "metadata": {
        "id": "lXZxC6C-vjQp",
        "colab_type": "text"
      },
      "source": [
        "## Best model evaluation with the test set"
      ]
    },
    {
      "cell_type": "code",
      "metadata": {
        "id": "s0VVYRYawG1P",
        "colab_type": "code",
        "colab": {}
      },
      "source": [
        "def MetricsBestParams(model,X_train,X_test,Y_test):\n",
        "\n",
        "  #Data Normalization\n",
        "  scaler = preprocessing.StandardScaler().fit(X_train)\n",
        "  X_train = scaler.transform(X_train)\n",
        "  X_test = scaler.transform(X_test)\n",
        "  \n",
        "  model.fit(X_train)\n",
        "\n",
        "  y_predicted = model.predict(X_test)\n",
        "\n",
        "  print('y_predicted', y_predicted)\n",
        "  print('Y_test', Y_test)\n",
        "\n",
        "  print('Accuracy: ', accuracy_score(Y_test, y_predicted), '\\n')\n",
        "  report = classification_report(Y_test, y_predicted)\n",
        "  print(\"\\nclassification report :\\n\",report )\n",
        " \n",
        "  # Confusion matrix\n",
        "  cm = confusion_matrix(Y_test, y_predicted)\n",
        "  # Normalize\n",
        "  cmn = cm.astype('float') / cm.sum(axis=1)[:, np.newaxis]\n",
        "  fig, ax = plt.subplots(figsize=(10,10))\n",
        "  print(cmn)  \n",
        "  sns.heatmap(cmn, annot=True, fmt='.2f')\n",
        "  plt.ylabel('Actual')\n",
        "  plt.xlabel('Predicted')\n",
        "  ax.set_ylim(sorted(ax.get_xlim(), reverse=True))\n",
        "  plt.show(block=False)\n",
        "      \n",
        "  return report"
      ],
      "execution_count": 0,
      "outputs": []
    },
    {
      "cell_type": "markdown",
      "metadata": {
        "id": "Q1lWX944wiup",
        "colab_type": "text"
      },
      "source": [
        "## IsolationForest best parameters"
      ]
    },
    {
      "cell_type": "code",
      "metadata": {
        "id": "d2l3pBQIwiET",
        "colab_type": "code",
        "colab": {}
      },
      "source": [
        "IsolationForest_best_params = IFParams\n",
        "\n",
        "IsolationForest__best_estimator = modelsAndGrids[0][1].set_params(**IsolationForest_best_params)"
      ],
      "execution_count": 0,
      "outputs": []
    },
    {
      "cell_type": "code",
      "metadata": {
        "id": "J7OO_Ijs1B-T",
        "colab_type": "code",
        "outputId": "b69dcc0b-9d65-4ddc-f1d8-e16c8d8afb6d",
        "colab": {
          "base_uri": "https://localhost:8080/",
          "height": 870
        }
      },
      "source": [
        "metricsIF = MetricsBestParams(IsolationForest__best_estimator,Xtrain_original,Xtest_original,Ytest_original)"
      ],
      "execution_count": 0,
      "outputs": [
        {
          "output_type": "stream",
          "text": [
            "y_predicted [-1 -1 -1 -1 -1]\n",
            "Y_test [-1 -1 -1 -1 -1]\n",
            "Accuracy:  1.0 \n",
            "\n",
            "\n",
            "classification report :\n",
            "               precision    recall  f1-score   support\n",
            "\n",
            "          -1       1.00      1.00      1.00         5\n",
            "\n",
            "    accuracy                           1.00         5\n",
            "   macro avg       1.00      1.00      1.00         5\n",
            "weighted avg       1.00      1.00      1.00         5\n",
            "\n",
            "[[1.]]\n"
          ],
          "name": "stdout"
        },
        {
          "output_type": "display_data",
          "data": {
            "image/png": "[encoded data removed]",
            "text/plain": [
              "<Figure size 720x720 with 2 Axes>"
            ]
          },
          "metadata": {
            "tags": [],
            "needs_background": "light"
          }
        }
      ]
    },
    {
      "cell_type": "markdown",
      "metadata": {
        "id": "rLp4SHu3wnsc",
        "colab_type": "text"
      },
      "source": [
        "OneClassSVM best parameters"
      ]
    },
    {
      "cell_type": "code",
      "metadata": {
        "id": "KxE2rh54yiZn",
        "colab_type": "code",
        "colab": {}
      },
      "source": [
        "# SVM_best_params = {'gamma': 'scale', 'kernel': 'sigmoid', 'nu': 0.01}\n",
        "SVM_best_params = SVMParams\n",
        "SVM__best_estimator = modelsAndGrids[1][1].set_params(**SVM_best_params)"
      ],
      "execution_count": 0,
      "outputs": []
    },
    {
      "cell_type": "code",
      "metadata": {
        "id": "-AP7uASG_R19",
        "colab_type": "code",
        "outputId": "2310c32c-d1d3-4aac-abc7-98310ab89a73",
        "colab": {
          "base_uri": "https://localhost:8080/",
          "height": 905
        }
      },
      "source": [
        "metricsSVM = MetricsBestParams(SVM__best_estimator,Xtrain_original,Xtest_original,Ytest_original)"
      ],
      "execution_count": 0,
      "outputs": [
        {
          "output_type": "stream",
          "text": [
            "y_predicted [1 1 1 1 1]\n",
            "Y_test [-1 -1 -1 -1 -1]\n",
            "Accuracy:  0.0 \n",
            "\n",
            "\n",
            "classification report :\n",
            "               precision    recall  f1-score   support\n",
            "\n",
            "          -1       0.00      0.00      0.00       5.0\n",
            "           1       0.00      0.00      0.00       0.0\n",
            "\n",
            "    accuracy                           0.00       5.0\n",
            "   macro avg       0.00      0.00      0.00       5.0\n",
            "weighted avg       0.00      0.00      0.00       5.0\n",
            "\n",
            "[[ 0.  1.]\n",
            " [nan nan]]\n"
          ],
          "name": "stdout"
        },
        {
          "output_type": "display_data",
          "data": {
            "image/png": "[encoded data removed]",
            "text/plain": [
              "<Figure size 720x720 with 2 Axes>"
            ]
          },
          "metadata": {
            "tags": [],
            "needs_background": "light"
          }
        }
      ]
    },
    {
      "cell_type": "markdown",
      "metadata": {
        "id": "hg7h4jK9YS26",
        "colab_type": "text"
      },
      "source": [
        "### Builder model definition (TODO)"
      ]
    },
    {
      "cell_type": "code",
      "metadata": {
        "id": "vZRwEw05PyVn",
        "colab_type": "code",
        "colab": {}
      },
      "source": [
        "def build_model(model, parameters, train_size, X,Y):\n",
        "  # Xtrain_original, Xtest_original, Ytrain_original, Ytest_original = train_test_split(X, Y, train_size=20)\n",
        "  # Xtrain, Xtest, Ytrain, Ytest = train_test_split(X, Y, train_size=train_size)\n",
        "  #Data Normalization\n",
        "\n",
        "  Folds = 10\n",
        "  accuracyTrainFolds = np.zeros((Folds,1))\n",
        "  accuracyValidFolds = np.zeros((Folds,1))\n",
        "  stdTrainFolds = np.zeros((Folds,1))\n",
        "  stdValidFolds = np.zeros((Folds,1))\n",
        "  j=0\n",
        "\n",
        "  for i in range(Folds):\n",
        "    Xtrain, Xtest, Ytrain, Ytest = train_test_split(X, Y, train_size=train_size)\n",
        "\n",
        "    scaler = preprocessing.StandardScaler().fit(Xtrain)\n",
        "    Xtrain = scaler.transform(Xtrain)\n",
        "    Xtest = scaler.transform(Xtest)\n",
        "    model.fit(Xtrain)\n",
        "\n",
        "    ypred_train = model.predict(Xtrain)\n",
        "\n",
        "    ypred_valid = model.predict(Xtest)\n",
        "\n",
        "    # #Validation\n",
        "    #     y_predict_valid = models[m][1].predict(Xvalid)\n",
        "\n",
        "\n",
        "\n",
        "    #     accuracyTrainFolds[j], accuracyValidFolds[j] = metrics(Ytrain,Yvalid,y_predict_train,y_predict_valid )\n",
        "\n",
        "    accuracyTrainFolds[i], accuracyValidFolds[i] = metrics(Ytrain,Ytest,ypred_train,ypred_valid)\n",
        "  \n",
        "  accuracyTrain, accuracyValid, stdTrain, stdValid = np.mean(accuracyTrainFolds), np.mean(accuracyValidFolds), np.std(accuracyTrainFolds), np.std(accuracyValidFolds)\n",
        "  return accuracyTrain, accuracyValid, stdTrain, stdValid\n"
      ],
      "execution_count": 0,
      "outputs": []
    },
    {
      "cell_type": "markdown",
      "metadata": {
        "id": "8rtLG42DVasF",
        "colab_type": "text"
      },
      "source": [
        "## 3. Learning Curve"
      ]
    },
    {
      "cell_type": "code",
      "metadata": {
        "id": "VpmYgkB9VYup",
        "colab_type": "code",
        "colab": {}
      },
      "source": [
        "def learning_curve(model,best_parameters ,X,Y, suptitle='', title='', xlabel='Training Set Size', ylabel='Acurracy'):\n",
        "    \"\"\"\n",
        "    Parameters\n",
        "    ----------\n",
        "    suptitle : str\n",
        "        Chart suptitle\n",
        "    title: str\n",
        "        Chart title\n",
        "    xlabel: str\n",
        "        Label for the X axis\n",
        "    ylabel: str\n",
        "        Label for the y axis\n",
        "    Returns\n",
        "    -------\n",
        "    Plot of learning curves\n",
        "    \"\"\"\n",
        "    \n",
        "    # create lists to store train and validation scores\n",
        "    train_score = []\n",
        "    val_score = []\n",
        "    std_train= []\n",
        "    std_val=[]\n",
        "\n",
        "    # create ten incremental training set sizes\n",
        "    training_set_sizes = np.linspace(5,24,19,dtype=int).tolist()\n",
        "    # for each one of those training set sizes\n",
        "    \n",
        "    for i in training_set_sizes:\n",
        "      EfficiencyTrain , EfficiencyVal , stdTrain, stdVal = build_model(model, best_parameters, i, X,Y)\n",
        "\n",
        "      # store the scores in their respective lists\n",
        "      train_score.append(EfficiencyTrain)\n",
        "      val_score.append(EfficiencyVal)\n",
        "      std_train.append(stdTrain)\n",
        "      std_val.append(stdVal)\n",
        "\n",
        "    train_score =np.array(train_score)\n",
        "    val_score =np.array(val_score)\n",
        "    std_train =np.array(std_train)\n",
        "    std_val =np.array(std_val)\n",
        "\n",
        "\n",
        "    # plot learning curves\n",
        "    fig, ax = plt.subplots(figsize=(14, 9))\n",
        "    ax.plot(training_set_sizes, train_score, c='gold')\n",
        "    ax.plot(training_set_sizes, val_score, c='steelblue')\n",
        "    \n",
        "    ax.fill_between(training_set_sizes,train_score+std_train,train_score-std_train,facecolor='gold',alpha=0.5)\n",
        "    ax.fill_between(training_set_sizes,val_score+std_val,val_score-std_val,facecolor='steelblue',alpha=0.5)\n",
        "\n",
        "    # format the chart to make it look nice\n",
        "    fig.suptitle(suptitle, fontweight='bold', fontsize='20')\n",
        "    ax.set_title(title, size=20)\n",
        "    ax.set_xlabel(xlabel, size=16)\n",
        "    ax.set_ylabel(ylabel, size=16)\n",
        "    ax.legend(['Train set', 'Test set'], fontsize=16)\n",
        "    ax.tick_params(axis='both', labelsize=12)\n",
        "    ax.set_ylim(0, 1)\n",
        "\n",
        "    def percentages(x, pos):\n",
        "        \"\"\"The two args are the value and tick position\"\"\"\n",
        "        if x < 1:\n",
        "            return '{:1.0f}'.format(x*100)\n",
        "        return '{:1.0f}%'.format(x*100)\n",
        "\n",
        "    def numbers(x, pos):\n",
        "        \"\"\"The two args are the value and tick position\"\"\"\n",
        "        if x >= 1000:\n",
        "            return '{:1,.0f}'.format(x)\n",
        "        return '{:1.0f}'.format(x)\n",
        "    data = {'Train_Size':training_set_sizes, 'mean_train_Accuracy':train_score,'mean_test_Accuracy':val_score,'std_train_Accuracy':std_train,'std_test_Accuracy':std_val}\n",
        "    df_split_params = pd.DataFrame(data)\n",
        "    return df_split_params"
      ],
      "execution_count": 0,
      "outputs": []
    },
    {
      "cell_type": "code",
      "metadata": {
        "id": "XaFK1_oayDb5",
        "colab_type": "code",
        "outputId": "c2c946e6-d332-4066-844a-6c648441f1de",
        "colab": {
          "base_uri": "https://localhost:8080/",
          "height": 564
        }
      },
      "source": [
        "df_split_paramsIF =learning_curve(model=IsolationForest__best_estimator,best_parameters=IsolationForest_best_params, X=Xtrain_original,Y=Ytrain_original)"
      ],
      "execution_count": 0,
      "outputs": [
        {
          "output_type": "display_data",
          "data": {
            "image/png": "[encoded data removed]",
            "text/plain": [
              "<Figure size 1008x648 with 1 Axes>"
            ]
          },
          "metadata": {
            "tags": [],
            "needs_background": "light"
          }
        }
      ]
    },
    {
      "cell_type": "code",
      "metadata": {
        "id": "GIVfUk3WyXPq",
        "colab_type": "code",
        "outputId": "0c7a5802-d1ee-4f5f-e2bc-7663f310761a",
        "colab": {
          "base_uri": "https://localhost:8080/",
          "height": 631
        }
      },
      "source": [
        "df_split_paramsIF"
      ],
      "execution_count": 0,
      "outputs": [
        {
          "output_type": "execute_result",
          "data": {
            "text/html": [
              "<div>\n",
              "<style scoped>\n",
              "    .dataframe tbody tr th:only-of-type {\n",
              "        vertical-align: middle;\n",
              "    }\n",
              "\n",
              "    .dataframe tbody tr th {\n",
              "        vertical-align: top;\n",
              "    }\n",
              "\n",
              "    .dataframe thead th {\n",
              "        text-align: right;\n",
              "    }\n",
              "</style>\n",
              "<table border=\"1\" class=\"dataframe\">\n",
              "  <thead>\n",
              "    <tr style=\"text-align: right;\">\n",
              "      <th></th>\n",
              "      <th>Train_Size</th>\n",
              "      <th>mean_train_Accuracy</th>\n",
              "      <th>mean_test_Accuracy</th>\n",
              "      <th>std_train_Accuracy</th>\n",
              "      <th>std_test_Accuracy</th>\n",
              "    </tr>\n",
              "  </thead>\n",
              "  <tbody>\n",
              "    <tr>\n",
              "      <th>0</th>\n",
              "      <td>5</td>\n",
              "      <td>1.0</td>\n",
              "      <td>0.995000</td>\n",
              "      <td>0.0</td>\n",
              "      <td>0.015000</td>\n",
              "    </tr>\n",
              "    <tr>\n",
              "      <th>1</th>\n",
              "      <td>6</td>\n",
              "      <td>1.0</td>\n",
              "      <td>0.915789</td>\n",
              "      <td>0.0</td>\n",
              "      <td>0.143560</td>\n",
              "    </tr>\n",
              "    <tr>\n",
              "      <th>2</th>\n",
              "      <td>7</td>\n",
              "      <td>1.0</td>\n",
              "      <td>0.977778</td>\n",
              "      <td>0.0</td>\n",
              "      <td>0.066667</td>\n",
              "    </tr>\n",
              "    <tr>\n",
              "      <th>3</th>\n",
              "      <td>8</td>\n",
              "      <td>1.0</td>\n",
              "      <td>0.952941</td>\n",
              "      <td>0.0</td>\n",
              "      <td>0.104567</td>\n",
              "    </tr>\n",
              "    <tr>\n",
              "      <th>4</th>\n",
              "      <td>9</td>\n",
              "      <td>1.0</td>\n",
              "      <td>0.962500</td>\n",
              "      <td>0.0</td>\n",
              "      <td>0.075000</td>\n",
              "    </tr>\n",
              "    <tr>\n",
              "      <th>5</th>\n",
              "      <td>10</td>\n",
              "      <td>1.0</td>\n",
              "      <td>0.926667</td>\n",
              "      <td>0.0</td>\n",
              "      <td>0.091652</td>\n",
              "    </tr>\n",
              "    <tr>\n",
              "      <th>6</th>\n",
              "      <td>11</td>\n",
              "      <td>1.0</td>\n",
              "      <td>0.942857</td>\n",
              "      <td>0.0</td>\n",
              "      <td>0.069985</td>\n",
              "    </tr>\n",
              "    <tr>\n",
              "      <th>7</th>\n",
              "      <td>12</td>\n",
              "      <td>1.0</td>\n",
              "      <td>0.923077</td>\n",
              "      <td>0.0</td>\n",
              "      <td>0.161355</td>\n",
              "    </tr>\n",
              "    <tr>\n",
              "      <th>8</th>\n",
              "      <td>13</td>\n",
              "      <td>1.0</td>\n",
              "      <td>0.991667</td>\n",
              "      <td>0.0</td>\n",
              "      <td>0.025000</td>\n",
              "    </tr>\n",
              "    <tr>\n",
              "      <th>9</th>\n",
              "      <td>14</td>\n",
              "      <td>1.0</td>\n",
              "      <td>0.963636</td>\n",
              "      <td>0.0</td>\n",
              "      <td>0.060302</td>\n",
              "    </tr>\n",
              "    <tr>\n",
              "      <th>10</th>\n",
              "      <td>15</td>\n",
              "      <td>1.0</td>\n",
              "      <td>1.000000</td>\n",
              "      <td>0.0</td>\n",
              "      <td>0.000000</td>\n",
              "    </tr>\n",
              "    <tr>\n",
              "      <th>11</th>\n",
              "      <td>16</td>\n",
              "      <td>1.0</td>\n",
              "      <td>0.888889</td>\n",
              "      <td>0.0</td>\n",
              "      <td>0.164804</td>\n",
              "    </tr>\n",
              "    <tr>\n",
              "      <th>12</th>\n",
              "      <td>17</td>\n",
              "      <td>1.0</td>\n",
              "      <td>0.962500</td>\n",
              "      <td>0.0</td>\n",
              "      <td>0.080039</td>\n",
              "    </tr>\n",
              "    <tr>\n",
              "      <th>13</th>\n",
              "      <td>18</td>\n",
              "      <td>1.0</td>\n",
              "      <td>1.000000</td>\n",
              "      <td>0.0</td>\n",
              "      <td>0.000000</td>\n",
              "    </tr>\n",
              "    <tr>\n",
              "      <th>14</th>\n",
              "      <td>19</td>\n",
              "      <td>1.0</td>\n",
              "      <td>0.966667</td>\n",
              "      <td>0.0</td>\n",
              "      <td>0.100000</td>\n",
              "    </tr>\n",
              "    <tr>\n",
              "      <th>15</th>\n",
              "      <td>20</td>\n",
              "      <td>1.0</td>\n",
              "      <td>0.980000</td>\n",
              "      <td>0.0</td>\n",
              "      <td>0.060000</td>\n",
              "    </tr>\n",
              "    <tr>\n",
              "      <th>16</th>\n",
              "      <td>21</td>\n",
              "      <td>1.0</td>\n",
              "      <td>1.000000</td>\n",
              "      <td>0.0</td>\n",
              "      <td>0.000000</td>\n",
              "    </tr>\n",
              "    <tr>\n",
              "      <th>17</th>\n",
              "      <td>22</td>\n",
              "      <td>1.0</td>\n",
              "      <td>0.966667</td>\n",
              "      <td>0.0</td>\n",
              "      <td>0.100000</td>\n",
              "    </tr>\n",
              "    <tr>\n",
              "      <th>18</th>\n",
              "      <td>24</td>\n",
              "      <td>1.0</td>\n",
              "      <td>1.000000</td>\n",
              "      <td>0.0</td>\n",
              "      <td>0.000000</td>\n",
              "    </tr>\n",
              "  </tbody>\n",
              "</table>\n",
              "</div>"
            ],
            "text/plain": [
              "    Train_Size  mean_train_Accuracy  ...  std_train_Accuracy  std_test_Accuracy\n",
              "0            5                  1.0  ...                 0.0           0.015000\n",
              "1            6                  1.0  ...                 0.0           0.143560\n",
              "2            7                  1.0  ...                 0.0           0.066667\n",
              "3            8                  1.0  ...                 0.0           0.104567\n",
              "4            9                  1.0  ...                 0.0           0.075000\n",
              "5           10                  1.0  ...                 0.0           0.091652\n",
              "6           11                  1.0  ...                 0.0           0.069985\n",
              "7           12                  1.0  ...                 0.0           0.161355\n",
              "8           13                  1.0  ...                 0.0           0.025000\n",
              "9           14                  1.0  ...                 0.0           0.060302\n",
              "10          15                  1.0  ...                 0.0           0.000000\n",
              "11          16                  1.0  ...                 0.0           0.164804\n",
              "12          17                  1.0  ...                 0.0           0.080039\n",
              "13          18                  1.0  ...                 0.0           0.000000\n",
              "14          19                  1.0  ...                 0.0           0.100000\n",
              "15          20                  1.0  ...                 0.0           0.060000\n",
              "16          21                  1.0  ...                 0.0           0.000000\n",
              "17          22                  1.0  ...                 0.0           0.100000\n",
              "18          24                  1.0  ...                 0.0           0.000000\n",
              "\n",
              "[19 rows x 5 columns]"
            ]
          },
          "metadata": {
            "tags": []
          },
          "execution_count": 209
        }
      ]
    },
    {
      "cell_type": "code",
      "metadata": {
        "id": "F-0iMQzhwnwi",
        "colab_type": "code",
        "outputId": "08e5e9c2-25cf-4870-ad94-73aeb5a6f287",
        "colab": {
          "base_uri": "https://localhost:8080/",
          "height": 564
        }
      },
      "source": [
        "df_split_params =learning_curve(model=SVM__best_estimator,best_parameters=SVM_best_params, X=Xtrain_original,Y=Ytrain_original)"
      ],
      "execution_count": 0,
      "outputs": [
        {
          "output_type": "display_data",
          "data": {
            "image/png": "[encoded data removed]",
            "text/plain": [
              "<Figure size 1008x648 with 1 Axes>"
            ]
          },
          "metadata": {
            "tags": [],
            "needs_background": "light"
          }
        }
      ]
    },
    {
      "cell_type": "code",
      "metadata": {
        "id": "ypEvO215x4GR",
        "colab_type": "code",
        "outputId": "e3d90bb8-a011-4c18-c524-5a01ceffbae9",
        "colab": {
          "base_uri": "https://localhost:8080/",
          "height": 631
        }
      },
      "source": [
        "df_split_params"
      ],
      "execution_count": 0,
      "outputs": [
        {
          "output_type": "execute_result",
          "data": {
            "text/html": [
              "<div>\n",
              "<style scoped>\n",
              "    .dataframe tbody tr th:only-of-type {\n",
              "        vertical-align: middle;\n",
              "    }\n",
              "\n",
              "    .dataframe tbody tr th {\n",
              "        vertical-align: top;\n",
              "    }\n",
              "\n",
              "    .dataframe thead th {\n",
              "        text-align: right;\n",
              "    }\n",
              "</style>\n",
              "<table border=\"1\" class=\"dataframe\">\n",
              "  <thead>\n",
              "    <tr style=\"text-align: right;\">\n",
              "      <th></th>\n",
              "      <th>Train_Size</th>\n",
              "      <th>mean_train_Accuracy</th>\n",
              "      <th>mean_test_Accuracy</th>\n",
              "      <th>std_train_Accuracy</th>\n",
              "      <th>std_test_Accuracy</th>\n",
              "    </tr>\n",
              "  </thead>\n",
              "  <tbody>\n",
              "    <tr>\n",
              "      <th>0</th>\n",
              "      <td>5</td>\n",
              "      <td>0.460000</td>\n",
              "      <td>0.770000</td>\n",
              "      <td>0.128062</td>\n",
              "      <td>0.097980</td>\n",
              "    </tr>\n",
              "    <tr>\n",
              "      <th>1</th>\n",
              "      <td>6</td>\n",
              "      <td>0.516667</td>\n",
              "      <td>0.768421</td>\n",
              "      <td>0.189297</td>\n",
              "      <td>0.161708</td>\n",
              "    </tr>\n",
              "    <tr>\n",
              "      <th>2</th>\n",
              "      <td>7</td>\n",
              "      <td>0.442857</td>\n",
              "      <td>0.688889</td>\n",
              "      <td>0.134771</td>\n",
              "      <td>0.155556</td>\n",
              "    </tr>\n",
              "    <tr>\n",
              "      <th>3</th>\n",
              "      <td>8</td>\n",
              "      <td>0.525000</td>\n",
              "      <td>0.711765</td>\n",
              "      <td>0.134629</td>\n",
              "      <td>0.140316</td>\n",
              "    </tr>\n",
              "    <tr>\n",
              "      <th>4</th>\n",
              "      <td>9</td>\n",
              "      <td>0.533333</td>\n",
              "      <td>0.706250</td>\n",
              "      <td>0.096864</td>\n",
              "      <td>0.142659</td>\n",
              "    </tr>\n",
              "    <tr>\n",
              "      <th>5</th>\n",
              "      <td>10</td>\n",
              "      <td>0.560000</td>\n",
              "      <td>0.733333</td>\n",
              "      <td>0.101980</td>\n",
              "      <td>0.119257</td>\n",
              "    </tr>\n",
              "    <tr>\n",
              "      <th>6</th>\n",
              "      <td>11</td>\n",
              "      <td>0.527273</td>\n",
              "      <td>0.657143</td>\n",
              "      <td>0.068030</td>\n",
              "      <td>0.159079</td>\n",
              "    </tr>\n",
              "    <tr>\n",
              "      <th>7</th>\n",
              "      <td>12</td>\n",
              "      <td>0.600000</td>\n",
              "      <td>0.723077</td>\n",
              "      <td>0.116667</td>\n",
              "      <td>0.104344</td>\n",
              "    </tr>\n",
              "    <tr>\n",
              "      <th>8</th>\n",
              "      <td>13</td>\n",
              "      <td>0.669231</td>\n",
              "      <td>0.691667</td>\n",
              "      <td>0.091341</td>\n",
              "      <td>0.186525</td>\n",
              "    </tr>\n",
              "    <tr>\n",
              "      <th>9</th>\n",
              "      <td>14</td>\n",
              "      <td>0.614286</td>\n",
              "      <td>0.763636</td>\n",
              "      <td>0.106904</td>\n",
              "      <td>0.158505</td>\n",
              "    </tr>\n",
              "    <tr>\n",
              "      <th>10</th>\n",
              "      <td>15</td>\n",
              "      <td>0.660000</td>\n",
              "      <td>0.670000</td>\n",
              "      <td>0.069602</td>\n",
              "      <td>0.134536</td>\n",
              "    </tr>\n",
              "    <tr>\n",
              "      <th>11</th>\n",
              "      <td>16</td>\n",
              "      <td>0.650000</td>\n",
              "      <td>0.655556</td>\n",
              "      <td>0.063738</td>\n",
              "      <td>0.126198</td>\n",
              "    </tr>\n",
              "    <tr>\n",
              "      <th>12</th>\n",
              "      <td>17</td>\n",
              "      <td>0.623529</td>\n",
              "      <td>0.762500</td>\n",
              "      <td>0.065503</td>\n",
              "      <td>0.152582</td>\n",
              "    </tr>\n",
              "    <tr>\n",
              "      <th>13</th>\n",
              "      <td>18</td>\n",
              "      <td>0.688889</td>\n",
              "      <td>0.714286</td>\n",
              "      <td>0.093624</td>\n",
              "      <td>0.169031</td>\n",
              "    </tr>\n",
              "    <tr>\n",
              "      <th>14</th>\n",
              "      <td>19</td>\n",
              "      <td>0.647368</td>\n",
              "      <td>0.700000</td>\n",
              "      <td>0.107991</td>\n",
              "      <td>0.233333</td>\n",
              "    </tr>\n",
              "    <tr>\n",
              "      <th>15</th>\n",
              "      <td>20</td>\n",
              "      <td>0.720000</td>\n",
              "      <td>0.640000</td>\n",
              "      <td>0.074833</td>\n",
              "      <td>0.120000</td>\n",
              "    </tr>\n",
              "    <tr>\n",
              "      <th>16</th>\n",
              "      <td>21</td>\n",
              "      <td>0.723810</td>\n",
              "      <td>0.800000</td>\n",
              "      <td>0.069985</td>\n",
              "      <td>0.187083</td>\n",
              "    </tr>\n",
              "    <tr>\n",
              "      <th>17</th>\n",
              "      <td>22</td>\n",
              "      <td>0.663636</td>\n",
              "      <td>0.633333</td>\n",
              "      <td>0.095779</td>\n",
              "      <td>0.314466</td>\n",
              "    </tr>\n",
              "    <tr>\n",
              "      <th>18</th>\n",
              "      <td>24</td>\n",
              "      <td>0.687500</td>\n",
              "      <td>0.900000</td>\n",
              "      <td>0.072768</td>\n",
              "      <td>0.300000</td>\n",
              "    </tr>\n",
              "  </tbody>\n",
              "</table>\n",
              "</div>"
            ],
            "text/plain": [
              "    Train_Size  mean_train_Accuracy  ...  std_train_Accuracy  std_test_Accuracy\n",
              "0            5             0.460000  ...            0.128062           0.097980\n",
              "1            6             0.516667  ...            0.189297           0.161708\n",
              "2            7             0.442857  ...            0.134771           0.155556\n",
              "3            8             0.525000  ...            0.134629           0.140316\n",
              "4            9             0.533333  ...            0.096864           0.142659\n",
              "5           10             0.560000  ...            0.101980           0.119257\n",
              "6           11             0.527273  ...            0.068030           0.159079\n",
              "7           12             0.600000  ...            0.116667           0.104344\n",
              "8           13             0.669231  ...            0.091341           0.186525\n",
              "9           14             0.614286  ...            0.106904           0.158505\n",
              "10          15             0.660000  ...            0.069602           0.134536\n",
              "11          16             0.650000  ...            0.063738           0.126198\n",
              "12          17             0.623529  ...            0.065503           0.152582\n",
              "13          18             0.688889  ...            0.093624           0.169031\n",
              "14          19             0.647368  ...            0.107991           0.233333\n",
              "15          20             0.720000  ...            0.074833           0.120000\n",
              "16          21             0.723810  ...            0.069985           0.187083\n",
              "17          22             0.663636  ...            0.095779           0.314466\n",
              "18          24             0.687500  ...            0.072768           0.300000\n",
              "\n",
              "[19 rows x 5 columns]"
            ]
          },
          "metadata": {
            "tags": []
          },
          "execution_count": 211
        }
      ]
    }
  ]
}