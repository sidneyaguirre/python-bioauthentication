{
  "nbformat": 4,
  "nbformat_minor": 0,
  "metadata": {
    "kernelspec": {
      "display_name": "Python 3",
      "language": "python",
      "name": "python3"
    },
    "language_info": {
      "codemirror_mode": {
        "name": "ipython",
        "version": 3
      },
      "file_extension": ".py",
      "mimetype": "text/x-python",
      "name": "python",
      "nbconvert_exporter": "python",
      "pygments_lexer": "ipython3",
      "version": "3.7.0"
    },
    "colab": {
      "name": "pin4 bio-authemtication.ipynb",
      "provenance": [],
      "collapsed_sections": [],
      "toc_visible": true
    }
  },
  "cells": [
    {
      "cell_type": "code",
      "metadata": {
        "id": "n91bGhxrvrw-",
        "colab_type": "code",
        "outputId": "5217bdf8-3787-48de-bc1c-a812290d4b56",
        "colab": {
          "base_uri": "https://localhost:8080/",
          "height": 72
        }
      },
      "source": [
        "from __future__ import division\n",
        "import math\n",
        "import matplotlib.pyplot as plt\n",
        "\n",
        "import pandas as pd # to import csv and for data manipulation\n",
        "import matplotlib.pyplot as plt # to plot graph\n",
        "import seaborn as sns # for intractve graphs\n",
        "import numpy as np # for linear algebra\n",
        "import datetime # to dela with date and time\n",
        "%matplotlib inline\n",
        "from sklearn.preprocessing import StandardScaler # for preprocessing the data\n",
        "from sklearn.ensemble import RandomForestClassifier # Random forest classifier\n",
        "from sklearn.tree import DecisionTreeClassifier # for Decision Tree classifier\n",
        "from sklearn.svm import SVC # for SVM classification\n",
        "from sklearn.linear_model import LogisticRegression\n",
        "from sklearn.model_selection import train_test_split # to split the data\n",
        "from sklearn.model_selection import KFold # For cross vbalidation\n",
        "from sklearn.model_selection import GridSearchCV # for tunnig hyper parameter it will use all combination of given parameters\n",
        "from sklearn.model_selection import RandomizedSearchCV # same for tunning hyper parameter but will use random combinations of parameters\n",
        "from sklearn.metrics import confusion_matrix,recall_score,precision_recall_curve,auc,roc_curve,roc_auc_score,classification_report\n",
        "import time\n",
        "\n",
        "import warnings\n",
        "warnings.filterwarnings('ignore')"
      ],
      "execution_count": 0,
      "outputs": [
        {
          "output_type": "stream",
          "text": [
            "/usr/local/lib/python3.6/dist-packages/statsmodels/tools/_testing.py:19: FutureWarning: pandas.util.testing is deprecated. Use the functions in the public API at pandas.testing instead.\n",
            "  import pandas.util.testing as tm\n"
          ],
          "name": "stderr"
        }
      ]
    },
    {
      "cell_type": "markdown",
      "metadata": {
        "id": "XGnjIIoWLpw8",
        "colab_type": "text"
      },
      "source": [
        "# Load data from Drive"
      ]
    },
    {
      "cell_type": "code",
      "metadata": {
        "id": "Etgr1laOcq6P",
        "colab_type": "code",
        "outputId": "c9e15e83-93a7-4173-ffac-b13ad9852be1",
        "colab": {
          "base_uri": "https://localhost:8080/",
          "height": 1000
        }
      },
      "source": [
        "! wget https://raw.githubusercontent.com/sidneyaguirre/python-bioauthentication/master/DB/pins-Real-4.csv\n",
        "! wget https://raw.githubusercontent.com/sidneyaguirre/python-bioauthentication/master/DB/pins-Real-6.csv\n",
        "! wget https://raw.githubusercontent.com/sidneyaguirre/python-bioauthentication/master/DB/pins-Real-8.csv\n",
        "\n",
        "! wget https://raw.githubusercontent.com/sidneyaguirre/python-bioauthentication/master/DB/pins-Impostor-4.csv\n",
        "! wget https://raw.githubusercontent.com/sidneyaguirre/python-bioauthentication/master/DB/pins-Impostor-6.csv\n",
        "! wget https://raw.githubusercontent.com/sidneyaguirre/python-bioauthentication/master/DB/pins-Impostor-8.csv"
      ],
      "execution_count": 0,
      "outputs": [
        {
          "output_type": "stream",
          "text": [
            "--2020-05-13 16:16:13--  https://raw.githubusercontent.com/sidneyaguirre/python-bioauthentication/master/DB/pins-Real-4.csv\n",
            "Resolving raw.githubusercontent.com (raw.githubusercontent.com)... 151.101.0.133, 151.101.64.133, 151.101.128.133, ...\n",
            "Connecting to raw.githubusercontent.com (raw.githubusercontent.com)|151.101.0.133|:443... connected.\n",
            "HTTP request sent, awaiting response... 200 OK\n",
            "Length: 108611 (106K) [text/plain]\n",
            "Saving to: ‘pins-Real-4.csv’\n",
            "\n",
            "\rpins-Real-4.csv       0%[                    ]       0  --.-KB/s               \rpins-Real-4.csv     100%[===================>] 106.07K  --.-KB/s    in 0.04s   \n",
            "\n",
            "2020-05-13 16:16:14 (2.79 MB/s) - ‘pins-Real-4.csv’ saved [108611/108611]\n",
            "\n",
            "--2020-05-13 16:16:15--  https://raw.githubusercontent.com/sidneyaguirre/python-bioauthentication/master/DB/pins-Real-6.csv\n",
            "Resolving raw.githubusercontent.com (raw.githubusercontent.com)... 151.101.0.133, 151.101.64.133, 151.101.128.133, ...\n",
            "Connecting to raw.githubusercontent.com (raw.githubusercontent.com)|151.101.0.133|:443... connected.\n",
            "HTTP request sent, awaiting response... 200 OK\n",
            "Length: 159300 (156K) [text/plain]\n",
            "Saving to: ‘pins-Real-6.csv’\n",
            "\n",
            "pins-Real-6.csv     100%[===================>] 155.57K  --.-KB/s    in 0.04s   \n",
            "\n",
            "2020-05-13 16:16:16 (3.58 MB/s) - ‘pins-Real-6.csv’ saved [159300/159300]\n",
            "\n",
            "--2020-05-13 16:16:18--  https://raw.githubusercontent.com/sidneyaguirre/python-bioauthentication/master/DB/pins-Real-8.csv\n",
            "Resolving raw.githubusercontent.com (raw.githubusercontent.com)... 151.101.0.133, 151.101.64.133, 151.101.128.133, ...\n",
            "Connecting to raw.githubusercontent.com (raw.githubusercontent.com)|151.101.0.133|:443... connected.\n",
            "HTTP request sent, awaiting response... 200 OK\n",
            "Length: 210301 (205K) [text/plain]\n",
            "Saving to: ‘pins-Real-8.csv’\n",
            "\n",
            "pins-Real-8.csv     100%[===================>] 205.37K  --.-KB/s    in 0.05s   \n",
            "\n",
            "2020-05-13 16:16:18 (3.94 MB/s) - ‘pins-Real-8.csv’ saved [210301/210301]\n",
            "\n",
            "--2020-05-13 16:16:19--  https://raw.githubusercontent.com/sidneyaguirre/python-bioauthentication/master/DB/pins-Impostor-4.csv\n",
            "Resolving raw.githubusercontent.com (raw.githubusercontent.com)... 151.101.0.133, 151.101.64.133, 151.101.128.133, ...\n",
            "Connecting to raw.githubusercontent.com (raw.githubusercontent.com)|151.101.0.133|:443... connected.\n",
            "HTTP request sent, awaiting response... 200 OK\n",
            "Length: 21206 (21K) [text/plain]\n",
            "Saving to: ‘pins-Impostor-4.csv’\n",
            "\n",
            "pins-Impostor-4.csv 100%[===================>]  20.71K  --.-KB/s    in 0.01s   \n",
            "\n",
            "2020-05-13 16:16:20 (1.62 MB/s) - ‘pins-Impostor-4.csv’ saved [21206/21206]\n",
            "\n",
            "--2020-05-13 16:16:21--  https://raw.githubusercontent.com/sidneyaguirre/python-bioauthentication/master/DB/pins-Impostor-6.csv\n",
            "Resolving raw.githubusercontent.com (raw.githubusercontent.com)... 151.101.0.133, 151.101.64.133, 151.101.128.133, ...\n",
            "Connecting to raw.githubusercontent.com (raw.githubusercontent.com)|151.101.0.133|:443... connected.\n",
            "HTTP request sent, awaiting response... 200 OK\n",
            "Length: 31026 (30K) [text/plain]\n",
            "Saving to: ‘pins-Impostor-6.csv’\n",
            "\n",
            "pins-Impostor-6.csv 100%[===================>]  30.30K  --.-KB/s    in 0.01s   \n",
            "\n",
            "2020-05-13 16:16:21 (2.26 MB/s) - ‘pins-Impostor-6.csv’ saved [31026/31026]\n",
            "\n",
            "--2020-05-13 16:16:23--  https://raw.githubusercontent.com/sidneyaguirre/python-bioauthentication/master/DB/pins-Impostor-8.csv\n",
            "Resolving raw.githubusercontent.com (raw.githubusercontent.com)... 151.101.0.133, 151.101.64.133, 151.101.128.133, ...\n",
            "Connecting to raw.githubusercontent.com (raw.githubusercontent.com)|151.101.0.133|:443... connected.\n",
            "HTTP request sent, awaiting response... 200 OK\n",
            "Length: 41905 (41K) [text/plain]\n",
            "Saving to: ‘pins-Impostor-8.csv’\n",
            "\n",
            "pins-Impostor-8.csv 100%[===================>]  40.92K  --.-KB/s    in 0.02s   \n",
            "\n",
            "2020-05-13 16:16:23 (1.64 MB/s) - ‘pins-Impostor-8.csv’ saved [41905/41905]\n",
            "\n"
          ],
          "name": "stdout"
        }
      ]
    },
    {
      "cell_type": "code",
      "metadata": {
        "id": "ftXMrVx6Rk8x",
        "colab_type": "code",
        "colab": {}
      },
      "source": [
        "#Data set csv files\n",
        "dataPin4 = pd.read_csv('pins-Real-4.csv')\n",
        "dataPin6 = pd.read_csv('pins-Real-6.csv')\n",
        "dataPin8 = pd.read_csv('pins-Real-8.csv')\n",
        "dataPin4Impostor = pd.read_csv('pins-Impostor-4.csv')\n",
        "dataPin6Impostor  = pd.read_csv('pins-Impostor-6.csv')\n",
        "dataPin8Impostor  = pd.read_csv('pins-Impostor-8.csv')"
      ],
      "execution_count": 0,
      "outputs": []
    },
    {
      "cell_type": "code",
      "metadata": {
        "id": "buFLPJFlCR1C",
        "colab_type": "code",
        "colab": {}
      },
      "source": [
        "listUsers = [1,2,3,4,7,8,11,12,15,16,17,19,20,22,24,25,27,28,33,34,36,37,39,41,42,43]"
      ],
      "execution_count": 0,
      "outputs": []
    },
    {
      "cell_type": "markdown",
      "metadata": {
        "id": "KD0-Zlh_L3Pg",
        "colab_type": "text"
      },
      "source": [
        "# Cleaning data"
      ]
    },
    {
      "cell_type": "markdown",
      "metadata": {
        "id": "uUC_N7XHvrxH",
        "colab_type": "text"
      },
      "source": [
        "Hence we can see there are 2911 rows and 72 columns"
      ]
    },
    {
      "cell_type": "code",
      "metadata": {
        "id": "LO5gk6fpXwKz",
        "colab_type": "code",
        "colab": {}
      },
      "source": [
        "#dataless-columns in dataPin are taken away\n",
        "def dataCleaning(data):\n",
        "  data = data.dropna(axis = 0, how = 'all')\n",
        "  return data"
      ],
      "execution_count": 0,
      "outputs": []
    },
    {
      "cell_type": "markdown",
      "metadata": {
        "id": "874AbdpovrxN",
        "colab_type": "text"
      },
      "source": [
        "data_new =data.dropna(axis=0,how='all')\n",
        "data_new.head()\n",
        "data_new.columns"
      ]
    },
    {
      "cell_type": "code",
      "metadata": {
        "id": "twa7MR3vl2CD",
        "colab_type": "code",
        "colab": {}
      },
      "source": [
        "def listUser(dataset, listUsers, target=1):\n",
        "\n",
        "  users = list() \n",
        "  cleaned_data = dataCleaning(dataset)\n",
        "  for i in listUsers:\n",
        "\n",
        "    df_user = cleaned_data[cleaned_data['user'] == i]\n",
        "    df_user['target'] = target\n",
        "    df_user.drop(['user','length'],axis=1, inplace=True)\n",
        "    user = df_user.values\n",
        "    users.append(user)\n",
        "      \n",
        "  return users"
      ],
      "execution_count": 0,
      "outputs": []
    },
    {
      "cell_type": "code",
      "metadata": {
        "id": "4xGtEjXe28fb",
        "colab_type": "code",
        "colab": {}
      },
      "source": [
        "listUserPin4 = listUser(dataPin4, listUsers)\n",
        "listUserPin6 = listUser(dataPin6, listUsers)\n",
        "listUserPin8 = listUser(dataPin8, listUsers)\n",
        "\n",
        "listUserPin4Impostors = listUser(dataPin4Impostor, listUsers, target = -1)\n",
        "listUserPin6Impostors = listUser(dataPin6Impostor, listUsers, target = -1)\n",
        "listUserPin8Impostors =listUser(dataPin8Impostor, listUsers, target = -1)"
      ],
      "execution_count": 0,
      "outputs": []
    },
    {
      "cell_type": "code",
      "metadata": {
        "id": "buCgMR03vrxb",
        "colab_type": "code",
        "colab": {}
      },
      "source": [
        "#ROC Curve\n",
        "def plot_roc_curve(fpr, tpr, label=None):\n",
        "    plt.plot(fpr, tpr, linewidth=2, label=label)\n",
        "    plt.plot([0, 1], [0, 1], 'k--')\n",
        "    plt.axis([0, 1, 0, 1])\n",
        "    plt.xlabel('False Positive Rate')\n",
        "    plt.ylabel('True Positive Rate')"
      ],
      "execution_count": 0,
      "outputs": []
    },
    {
      "cell_type": "code",
      "metadata": {
        "id": "ZQrgjHWNvrxk",
        "colab_type": "code",
        "colab": {}
      },
      "source": [
        "#Metrics: precision (precision_score), sensitivity (recall_score), \n",
        "from sklearn.metrics import confusion_matrix, precision_score, recall_score, accuracy_score\n",
        "def metrics(Ytrain,Yval,y_predict_train, y_predict_valid):\n",
        "  #print('Getting metrics...')\n",
        "\n",
        "  accuracyTrain = np.mean(y_predict_train.ravel() == Ytrain.ravel())\n",
        "\n",
        "  accuracyValid =np.mean(y_predict_valid.ravel() == Yval.ravel()) \n",
        "\n",
        "  #TPR\n",
        "  #FPR\n",
        " \n",
        "\n",
        "  return accuracyTrain, accuracyValid        "
      ],
      "execution_count": 0,
      "outputs": []
    },
    {
      "cell_type": "markdown",
      "metadata": {
        "id": "F2xLcKR4eApq",
        "colab_type": "text"
      },
      "source": [
        "## Get X and Y sets\n"
      ]
    },
    {
      "cell_type": "code",
      "metadata": {
        "id": "ve2Nx5YahyeM",
        "colab_type": "code",
        "colab": {}
      },
      "source": [
        "s = 1\n",
        "data = listUserPin4[s]\n",
        "Xtrain_original = data[:,0:22]\n",
        "Ytrain_original = data[:,23]\n",
        "Ytrain_original = Ytrain_original.astype(int)"
      ],
      "execution_count": 0,
      "outputs": []
    },
    {
      "cell_type": "code",
      "metadata": {
        "id": "nopWIdWNBICU",
        "colab_type": "code",
        "colab": {}
      },
      "source": [
        "s = 1\n",
        "dataI = listUserPin4Impostors[s]\n",
        "Xtest_original = dataI[:,0:22]\n",
        "Ytest_original = dataI[:,23]\n",
        "Ytest_original=Ytest_original.astype(int)"
      ],
      "execution_count": 0,
      "outputs": []
    },
    {
      "cell_type": "code",
      "metadata": {
        "id": "837HONm292WE",
        "colab_type": "code",
        "colab": {}
      },
      "source": [
        "# Xtrain_original, Xtest_original, Ytrain_original, Ytest_original = train_test_split(X, Y, train_size=20)"
      ],
      "execution_count": 0,
      "outputs": []
    },
    {
      "cell_type": "markdown",
      "metadata": {
        "id": "qS80_cetEBmV",
        "colab_type": "text"
      },
      "source": [
        "# Models"
      ]
    },
    {
      "cell_type": "code",
      "metadata": {
        "id": "uKoF5gvWZwr7",
        "colab_type": "code",
        "colab": {}
      },
      "source": [
        "# MODELS\n",
        "from sklearn.ensemble import IsolationForest\n",
        "from sklearn import svm"
      ],
      "execution_count": 0,
      "outputs": []
    },
    {
      "cell_type": "code",
      "metadata": {
        "id": "Q6RiHXuroAhb",
        "colab_type": "code",
        "colab": {}
      },
      "source": [
        "modelIsoForest = IsolationForest()\n",
        "modelSVM = svm.OneClassSVM()"
      ],
      "execution_count": 0,
      "outputs": []
    },
    {
      "cell_type": "markdown",
      "metadata": {
        "id": "8CqKqvow2KNz",
        "colab_type": "text"
      },
      "source": [
        "## Manual Grid Search"
      ]
    },
    {
      "cell_type": "code",
      "metadata": {
        "id": "u-b0V2Ge1M-T",
        "colab_type": "code",
        "colab": {}
      },
      "source": [
        "from sklearn.model_selection import ParameterGrid\n",
        "\n",
        "gridSVM = {'nu' : [0.00001, 0.0001, 0.001, 0.01, 0.1], 'gamma' : ['scale', 'auto'], 'kernel': ['linear', 'poly', 'rbf', 'sigmoid']}\n",
        "\n",
        "gridIsoForest = {'n_estimators': list(range(5, 25, 4)), \n",
        "                'max_samples': ['auto'], \n",
        "                'contamination': [0, 0.5], \n",
        "                'max_features': [5,10,15,20,22], \n",
        "                'bootstrap': [True,False], \n",
        "                'n_jobs': [-1]}"
      ],
      "execution_count": 0,
      "outputs": []
    },
    {
      "cell_type": "code",
      "metadata": {
        "id": "9dlQSRQO6GDI",
        "colab_type": "code",
        "outputId": "ed6d02ec-da83-4327-84fe-a3a9a253fe34",
        "colab": {
          "base_uri": "https://localhost:8080/",
          "height": 35
        }
      },
      "source": [
        "list(ParameterGrid(gridSVM))\n",
        "len(list(ParameterGrid(gridSVM)))"
      ],
      "execution_count": 0,
      "outputs": [
        {
          "output_type": "execute_result",
          "data": {
            "text/plain": [
              "40"
            ]
          },
          "metadata": {
            "tags": []
          },
          "execution_count": 16
        }
      ]
    },
    {
      "cell_type": "code",
      "metadata": {
        "id": "BVd02XpotYEp",
        "colab_type": "code",
        "outputId": "bc238526-dd41-4c39-91c1-2c6f43150cfa",
        "colab": {
          "base_uri": "https://localhost:8080/",
          "height": 35
        }
      },
      "source": [
        "list(ParameterGrid(gridIsoForest))\n",
        "len(list(ParameterGrid(gridIsoForest)))"
      ],
      "execution_count": 0,
      "outputs": [
        {
          "output_type": "execute_result",
          "data": {
            "text/plain": [
              "100"
            ]
          },
          "metadata": {
            "tags": []
          },
          "execution_count": 17
        }
      ]
    },
    {
      "cell_type": "markdown",
      "metadata": {
        "id": "_WsInlo_spaI",
        "colab_type": "text"
      },
      "source": [
        "# GridSearch V1.1"
      ]
    },
    {
      "cell_type": "code",
      "metadata": {
        "id": "z-Sc5PBlsmiL",
        "colab_type": "code",
        "colab": {}
      },
      "source": [
        "modelsAndGrids = [('modelIsoForest ', modelIsoForest, gridIsoForest), ('modelSVM', modelSVM, gridSVM)]"
      ],
      "execution_count": 0,
      "outputs": []
    },
    {
      "cell_type": "code",
      "metadata": {
        "id": "Cg0GUty1s1Gb",
        "colab_type": "code",
        "colab": {}
      },
      "source": [
        "from sklearn.model_selection import KFold\n",
        "from sklearn import preprocessing\n",
        "from sklearn.model_selection import train_test_split\n",
        "from numpy import random\n"
      ],
      "execution_count": 0,
      "outputs": []
    },
    {
      "cell_type": "code",
      "metadata": {
        "id": "y35UpmO93lTq",
        "colab_type": "code",
        "colab": {}
      },
      "source": [
        "def GridSearch(Xtrain_original,Ytrain_original,models):\n",
        "  # create lists to store final results\n",
        "  train_score = []\n",
        "  val_score = []\n",
        "  std_train= []\n",
        "  std_val=[]\n",
        "  best_params = []\n",
        "  models_results = []\n",
        "\n",
        "  Folds = 10\n",
        "  results = list()\n",
        "  gsAccuracy = 0\n",
        "  # random.seed(19680801)\n",
        "  #Data Normalization\n",
        "  scaler = preprocessing.StandardScaler().fit(Xtrain_original)\n",
        "  Xtrain_original = scaler.transform(Xtrain_original)\n",
        "  \n",
        "  kf = KFold(n_splits=Folds,shuffle=True)\n",
        "  for m in range(0,len(models)):\n",
        "    params = []\n",
        "    meanAccuracyValid = np.zeros((len(list(ParameterGrid(models[m][2]))),1))\n",
        "    meanAccuracyTrain = np.zeros((len(list(ParameterGrid(models[m][2]))),1))\n",
        "    meanStdValid = np.zeros((len(list(ParameterGrid(models[m][2]))),1))\n",
        "    meanStdTrain = np.zeros((len(list(ParameterGrid(models[m][2]))),1))\n",
        "    result = list()\n",
        "    k=0\n",
        "    for z in ParameterGrid(models[m][2]):\n",
        "      params.append(z)\n",
        "      accuracyTrainFolds = np.zeros((Folds,1))\n",
        "      accuracyValidFolds = np.zeros((Folds,1))\n",
        "      stdTrainFolds = np.zeros((Folds,1))\n",
        "      stdValidFolds = np.zeros((Folds,1))\n",
        "      j=0\n",
        "      \n",
        "      models[m][1].set_params(**z)\n",
        "\n",
        "      for train, valid in kf.split(Xtrain_original):\n",
        "        Xtrain = Xtrain_original[train,:]\n",
        "        Ytrain = Ytrain_original[train]\n",
        "        Xvalid = Xtrain_original[valid,:]\n",
        "        Yvalid = Ytrain_original[valid]\n",
        "\n",
        "        models[m][1].fit(Xtrain)\n",
        "\n",
        "        y_predict_train =  models[m][1].predict(Xtrain)\n",
        "        \n",
        "        #Validation\n",
        "        y_predict_valid = models[m][1].predict(Xvalid)\n",
        "\n",
        "\n",
        "\n",
        "        accuracyTrainFolds[j], accuracyValidFolds[j] = metrics(Ytrain,Yvalid,y_predict_train,y_predict_valid )\n",
        "        \n",
        "        j+=1\n",
        "\n",
        "      meanAccuracyTrain[k], meanAccuracyValid[k], meanStdTrain[k], meanStdValid[k] = np.mean(accuracyTrainFolds), np.mean(accuracyValidFolds), np.std(accuracyTrainFolds), np.std(accuracyValidFolds)\n",
        "      k+=1\n",
        "    result.append([models[m][0], meanAccuracyValid[np.argmax(meanAccuracyValid)],meanStdValid[np.argmax(meanAccuracyValid)], params[np.argmax(meanAccuracyValid)]])\n",
        "\n",
        "    results.append(result)\n",
        "\n",
        "  return results"
      ],
      "execution_count": 0,
      "outputs": []
    },
    {
      "cell_type": "code",
      "metadata": {
        "id": "cTDP1iOxs5Hf",
        "colab_type": "code",
        "colab": {}
      },
      "source": [
        "results = GridSearch(Xtrain_original,Ytrain_original,modelsAndGrids)"
      ],
      "execution_count": 0,
      "outputs": []
    },
    {
      "cell_type": "code",
      "metadata": {
        "id": "9i25weTltn3W",
        "colab_type": "code",
        "colab": {}
      },
      "source": [
        "IF = results[0]\n",
        "OC = results[1]\n",
        "OCP = OC[0]\n",
        "IFP = IF[0]\n",
        "IFParams = IFP[3]\n",
        "SVMParams = OCP[3]"
      ],
      "execution_count": 0,
      "outputs": []
    },
    {
      "cell_type": "code",
      "metadata": {
        "id": "Q7wrGF_pZTF1",
        "colab_type": "code",
        "outputId": "b5b3cb84-e721-4b1e-a57d-68b363c3f979",
        "colab": {
          "base_uri": "https://localhost:8080/",
          "height": 121
        }
      },
      "source": [
        "IFParams"
      ],
      "execution_count": 0,
      "outputs": [
        {
          "output_type": "execute_result",
          "data": {
            "text/plain": [
              "{'bootstrap': True,\n",
              " 'contamination': 0,\n",
              " 'max_features': 5,\n",
              " 'max_samples': 'auto',\n",
              " 'n_estimators': 5,\n",
              " 'n_jobs': -1}"
            ]
          },
          "metadata": {
            "tags": []
          },
          "execution_count": 23
        }
      ]
    },
    {
      "cell_type": "code",
      "metadata": {
        "id": "qJRUkNC43DrV",
        "colab_type": "code",
        "colab": {}
      },
      "source": [
        "# IFParams = {'bootstrap': True,\n",
        "#  'contamination': 0,\n",
        "#  'max_features': 10,\n",
        "#  'max_samples': 'auto',\n",
        "#  'n_estimators': 5,\n",
        "#  'n_jobs': -1}"
      ],
      "execution_count": 0,
      "outputs": []
    },
    {
      "cell_type": "code",
      "metadata": {
        "id": "CJi2ct9w3D_b",
        "colab_type": "code",
        "outputId": "86cb8661-3e77-47ae-e4c5-6eff07d0a6aa",
        "colab": {
          "base_uri": "https://localhost:8080/",
          "height": 35
        }
      },
      "source": [
        "SVMParams"
      ],
      "execution_count": 0,
      "outputs": [
        {
          "output_type": "execute_result",
          "data": {
            "text/plain": [
              "{'gamma': 'auto', 'kernel': 'sigmoid', 'nu': 0.001}"
            ]
          },
          "metadata": {
            "tags": []
          },
          "execution_count": 25
        }
      ]
    },
    {
      "cell_type": "code",
      "metadata": {
        "id": "vk1TG6tIzkp8",
        "colab_type": "code",
        "colab": {}
      },
      "source": [
        "columns=[\"models\",\"mean train Accuracy\",\"CI (+-)\", \"Best params\"]\n",
        "result0 = pd.DataFrame(results[0],columns=columns)\n",
        "result1 = pd.DataFrame(results[1],columns=columns)"
      ],
      "execution_count": 0,
      "outputs": []
    },
    {
      "cell_type": "code",
      "metadata": {
        "id": "pBseeqLS46gz",
        "colab_type": "code",
        "colab": {}
      },
      "source": [
        "resultados_finales = result0.append(result1)"
      ],
      "execution_count": 0,
      "outputs": []
    },
    {
      "cell_type": "code",
      "metadata": {
        "id": "dCgadmDSeYkp",
        "colab_type": "code",
        "outputId": "12e44232-acb1-4b2a-d06d-5dec6b3c940b",
        "colab": {
          "base_uri": "https://localhost:8080/",
          "height": 110
        }
      },
      "source": [
        "resultados_finales"
      ],
      "execution_count": 0,
      "outputs": [
        {
          "output_type": "execute_result",
          "data": {
            "text/html": [
              "<div>\n",
              "<style scoped>\n",
              "    .dataframe tbody tr th:only-of-type {\n",
              "        vertical-align: middle;\n",
              "    }\n",
              "\n",
              "    .dataframe tbody tr th {\n",
              "        vertical-align: top;\n",
              "    }\n",
              "\n",
              "    .dataframe thead th {\n",
              "        text-align: right;\n",
              "    }\n",
              "</style>\n",
              "<table border=\"1\" class=\"dataframe\">\n",
              "  <thead>\n",
              "    <tr style=\"text-align: right;\">\n",
              "      <th></th>\n",
              "      <th>models</th>\n",
              "      <th>mean train Accuracy</th>\n",
              "      <th>CI (+-)</th>\n",
              "      <th>Best params</th>\n",
              "    </tr>\n",
              "  </thead>\n",
              "  <tbody>\n",
              "    <tr>\n",
              "      <th>0</th>\n",
              "      <td>modelIsoForest</td>\n",
              "      <td>[1.0]</td>\n",
              "      <td>[0.0]</td>\n",
              "      <td>{'bootstrap': True, 'contamination': 0, 'max_f...</td>\n",
              "    </tr>\n",
              "    <tr>\n",
              "      <th>0</th>\n",
              "      <td>modelSVM</td>\n",
              "      <td>[0.7833333333333333]</td>\n",
              "      <td>[0.31666666666666665]</td>\n",
              "      <td>{'gamma': 'auto', 'kernel': 'sigmoid', 'nu': 0...</td>\n",
              "    </tr>\n",
              "  </tbody>\n",
              "</table>\n",
              "</div>"
            ],
            "text/plain": [
              "            models  ...                                        Best params\n",
              "0  modelIsoForest   ...  {'bootstrap': True, 'contamination': 0, 'max_f...\n",
              "0         modelSVM  ...  {'gamma': 'auto', 'kernel': 'sigmoid', 'nu': 0...\n",
              "\n",
              "[2 rows x 4 columns]"
            ]
          },
          "metadata": {
            "tags": []
          },
          "execution_count": 28
        }
      ]
    },
    {
      "cell_type": "markdown",
      "metadata": {
        "id": "lXZxC6C-vjQp",
        "colab_type": "text"
      },
      "source": [
        "## Best model evaluation with the test set"
      ]
    },
    {
      "cell_type": "code",
      "metadata": {
        "id": "s0VVYRYawG1P",
        "colab_type": "code",
        "colab": {}
      },
      "source": [
        "def MetricsBestParams(model,X_train,X_test,Y_test):\n",
        "\n",
        "  #Data Normalization\n",
        "  scaler = preprocessing.StandardScaler().fit(X_train)\n",
        "  X_train = scaler.transform(X_train)\n",
        "  X_test = scaler.transform(X_test)\n",
        "  \n",
        "  model.fit(X_train)\n",
        "\n",
        "  y_predicted = model.predict(X_test)\n",
        "\n",
        "  print('y_predicted', y_predicted)\n",
        "  print('Y_test', Y_test)\n",
        "\n",
        "  print('Accuracy: ', accuracy_score(Y_test, y_predicted), '\\n')\n",
        "  report = classification_report(Y_test, y_predicted)\n",
        "  print(\"\\nclassification report :\\n\",report )\n",
        " \n",
        "  # Confusion matrix\n",
        "  cm = confusion_matrix(Y_test, y_predicted)\n",
        "  # Normalize\n",
        "  cmn = cm.astype('float') / cm.sum(axis=1)[:, np.newaxis]\n",
        "  fig, ax = plt.subplots(figsize=(10,10))\n",
        "  print(cmn)  \n",
        "  sns.heatmap(cmn, annot=True, fmt='.2f')\n",
        "  plt.ylabel('Actual')\n",
        "  plt.xlabel('Predicted')\n",
        "  ax.set_ylim(sorted(ax.get_xlim(), reverse=True))\n",
        "  plt.show(block=False)\n",
        "      \n",
        "  return report"
      ],
      "execution_count": 0,
      "outputs": []
    },
    {
      "cell_type": "markdown",
      "metadata": {
        "id": "Q1lWX944wiup",
        "colab_type": "text"
      },
      "source": [
        "## IsolationForest best parameters"
      ]
    },
    {
      "cell_type": "code",
      "metadata": {
        "id": "d2l3pBQIwiET",
        "colab_type": "code",
        "colab": {}
      },
      "source": [
        "IsolationForest_best_params = IFParams\n",
        "\n",
        "IsolationForest__best_estimator = modelsAndGrids[0][1].set_params(**IsolationForest_best_params)"
      ],
      "execution_count": 0,
      "outputs": []
    },
    {
      "cell_type": "code",
      "metadata": {
        "id": "J7OO_Ijs1B-T",
        "colab_type": "code",
        "outputId": "8f053801-afa8-4af4-fb86-af3b80aa3e1d",
        "colab": {
          "base_uri": "https://localhost:8080/",
          "height": 905
        }
      },
      "source": [
        "metricsIF = MetricsBestParams(IsolationForest__best_estimator,Xtrain_original,Xtest_original,Ytest_original)"
      ],
      "execution_count": 0,
      "outputs": [
        {
          "output_type": "stream",
          "text": [
            "y_predicted [1 1 1 1 1]\n",
            "Y_test [-1 -1 -1 -1 -1]\n",
            "Accuracy:  0.0 \n",
            "\n",
            "\n",
            "classification report :\n",
            "               precision    recall  f1-score   support\n",
            "\n",
            "          -1       0.00      0.00      0.00       5.0\n",
            "           1       0.00      0.00      0.00       0.0\n",
            "\n",
            "    accuracy                           0.00       5.0\n",
            "   macro avg       0.00      0.00      0.00       5.0\n",
            "weighted avg       0.00      0.00      0.00       5.0\n",
            "\n",
            "[[ 0.  1.]\n",
            " [nan nan]]\n"
          ],
          "name": "stdout"
        },
        {
          "output_type": "display_data",
          "data": {
            "image/png": "[encoded data removed]",
            "text/plain": [
              "<Figure size 720x720 with 2 Axes>"
            ]
          },
          "metadata": {
            "tags": [],
            "needs_background": "light"
          }
        }
      ]
    },
    {
      "cell_type": "markdown",
      "metadata": {
        "id": "rLp4SHu3wnsc",
        "colab_type": "text"
      },
      "source": [
        "OneClassSVM best parameters"
      ]
    },
    {
      "cell_type": "code",
      "metadata": {
        "id": "KxE2rh54yiZn",
        "colab_type": "code",
        "colab": {}
      },
      "source": [
        "# SVM_best_params = {'gamma': 'scale', 'kernel': 'sigmoid', 'nu': 0.01}\n",
        "SVM_best_params = SVMParams\n",
        "SVM__best_estimator = modelsAndGrids[1][1].set_params(**SVM_best_params)"
      ],
      "execution_count": 0,
      "outputs": []
    },
    {
      "cell_type": "code",
      "metadata": {
        "id": "-AP7uASG_R19",
        "colab_type": "code",
        "outputId": "7f1222ac-79e7-4bbb-8ec4-9864e854f14a",
        "colab": {
          "base_uri": "https://localhost:8080/",
          "height": 905
        }
      },
      "source": [
        "metricsSVM = MetricsBestParams(SVM__best_estimator,Xtrain_original,Xtest_original,Ytest_original)"
      ],
      "execution_count": 0,
      "outputs": [
        {
          "output_type": "stream",
          "text": [
            "y_predicted [1 1 1 1 1]\n",
            "Y_test [-1 -1 -1 -1 -1]\n",
            "Accuracy:  0.0 \n",
            "\n",
            "\n",
            "classification report :\n",
            "               precision    recall  f1-score   support\n",
            "\n",
            "          -1       0.00      0.00      0.00       5.0\n",
            "           1       0.00      0.00      0.00       0.0\n",
            "\n",
            "    accuracy                           0.00       5.0\n",
            "   macro avg       0.00      0.00      0.00       5.0\n",
            "weighted avg       0.00      0.00      0.00       5.0\n",
            "\n",
            "[[ 0.  1.]\n",
            " [nan nan]]\n"
          ],
          "name": "stdout"
        },
        {
          "output_type": "display_data",
          "data": {
            "image/png": "[encoded data removed]",
            "text/plain": [
              "<Figure size 720x720 with 2 Axes>"
            ]
          },
          "metadata": {
            "tags": [],
            "needs_background": "light"
          }
        }
      ]
    },
    {
      "cell_type": "markdown",
      "metadata": {
        "id": "hg7h4jK9YS26",
        "colab_type": "text"
      },
      "source": [
        "### Builder model definition (TODO)"
      ]
    },
    {
      "cell_type": "code",
      "metadata": {
        "id": "vZRwEw05PyVn",
        "colab_type": "code",
        "colab": {}
      },
      "source": [
        "def build_model(model, parameters, train_size, X,Y):\n",
        "  # Xtrain_original, Xtest_original, Ytrain_original, Ytest_original = train_test_split(X, Y, train_size=20)\n",
        "  # Xtrain, Xtest, Ytrain, Ytest = train_test_split(X, Y, train_size=train_size)\n",
        "  #Data Normalization\n",
        "\n",
        "  Folds = 10\n",
        "  accuracyTrainFolds = np.zeros((Folds,1))\n",
        "  accuracyValidFolds = np.zeros((Folds,1))\n",
        "  stdTrainFolds = np.zeros((Folds,1))\n",
        "  stdValidFolds = np.zeros((Folds,1))\n",
        "  j=0\n",
        "\n",
        "  for i in range(Folds):\n",
        "    Xtrain, Xtest, Ytrain, Ytest = train_test_split(X, Y, train_size=train_size)\n",
        "\n",
        "    scaler = preprocessing.StandardScaler().fit(Xtrain)\n",
        "    Xtrain = scaler.transform(Xtrain)\n",
        "    Xtest = scaler.transform(Xtest)\n",
        "    model.fit(Xtrain)\n",
        "\n",
        "    ypred_train = model.predict(Xtrain)\n",
        "\n",
        "    ypred_valid = model.predict(Xtest)\n",
        "\n",
        "\n",
        "    accuracyTrainFolds[i], accuracyValidFolds[i] = metrics(Ytrain,Ytest,ypred_train,ypred_valid)\n",
        "  \n",
        "  accuracyTrain, accuracyValid, stdTrain, stdValid = np.mean(accuracyTrainFolds), np.mean(accuracyValidFolds), np.std(accuracyTrainFolds), np.std(accuracyValidFolds)\n",
        "  return accuracyTrain, accuracyValid, stdTrain, stdValid\n"
      ],
      "execution_count": 0,
      "outputs": []
    },
    {
      "cell_type": "markdown",
      "metadata": {
        "id": "8rtLG42DVasF",
        "colab_type": "text"
      },
      "source": [
        "## 3. Learning Curve"
      ]
    },
    {
      "cell_type": "code",
      "metadata": {
        "id": "VpmYgkB9VYup",
        "colab_type": "code",
        "colab": {}
      },
      "source": [
        "def learning_curve(model,best_parameters ,X,Y, suptitle='', title='', xlabel='Training Set Size', ylabel='Acurracy'):\n",
        "    \"\"\"\n",
        "    Parameters\n",
        "    ----------\n",
        "    suptitle : str\n",
        "        Chart suptitle\n",
        "    title: str\n",
        "        Chart title\n",
        "    xlabel: str\n",
        "        Label for the X axis\n",
        "    ylabel: strarray\n",
        "        Label for the y axis\n",
        "    Returns\n",
        "    -------\n",
        "    Plot of learning curves\n",
        "    \"\"\"\n",
        "    \n",
        "    # create lists to store train and validation scores\n",
        "    train_score = []\n",
        "    val_score = []\n",
        "    std_train= []\n",
        "    std_val=[]\n",
        "\n",
        "    # create ten incremental training set sizes\n",
        "    training_set_sizes = np.linspace(5,24,19,dtype=int).tolist()\n",
        "    # for each one of those training set sizes\n",
        "    \n",
        "    for i in training_set_sizes:\n",
        "      EfficiencyTrain , EfficiencyVal , stdTrain, stdVal = build_model(model, best_parameters, i, X,Y)\n",
        "\n",
        "      # store the scores in their respective lists\n",
        "      train_score.append(EfficiencyTrain)\n",
        "      val_score.append(EfficiencyVal)\n",
        "      std_train.append(stdTrain)\n",
        "      std_val.append(stdVal)\n",
        "\n",
        "    train_score =np.array(train_score)\n",
        "    val_score =np.array(val_score)\n",
        "    std_train =np.array(std_train)\n",
        "    std_val =np.array(std_val)\n",
        "\n",
        "\n",
        "    # plot learning curves\n",
        "    fig, ax = plt.subplots(figsize=(14, 9))\n",
        "    ax.plot(training_set_sizes, train_score, c='gold')\n",
        "    ax.plot(training_set_sizes, val_score, c='steelblue')\n",
        "    \n",
        "    ax.fill_between(training_set_sizes,train_score+std_train,train_score-std_train,facecolor='gold',alpha=0.5)\n",
        "    ax.fill_between(training_set_sizes,val_score+std_val,val_score-std_val,facecolor='steelblue',alpha=0.5)\n",
        "\n",
        "    # format the chart to make it look nice\n",
        "    fig.suptitle(suptitle, fontweight='bold', fontsize='20')\n",
        "    ax.set_title(title, size=20)\n",
        "    ax.set_xlabel(xlabel, size=16)\n",
        "    ax.set_ylabel(ylabel, size=16)\n",
        "    ax.legend(['Train set', 'Test set'], fontsize=16)\n",
        "    ax.tick_params(axis='both', labelsize=12)\n",
        "    ax.set_ylim(0, 1)\n",
        "\n",
        "    def percentages(x, pos):\n",
        "        \"\"\"The two args are the value and tick position\"\"\"\n",
        "        if x < 1:\n",
        "            return '{:1.0f}'.format(x*100)\n",
        "        return '{:1.0f}%'.format(x*100)\n",
        "\n",
        "    def numbers(x, pos):\n",
        "        \"\"\"The two args are the value and tick position\"\"\"\n",
        "        if x >= 1000:\n",
        "            return '{:1,.0f}'.format(x)\n",
        "        return '{:1.0f}'.format(x)\n",
        "    data = {'Train_Size':training_set_sizes, 'mean_train_Accuracy':train_score,'mean_test_Accuracy':val_score,'std_train_Accuracy':std_train,'std_test_Accuracy':std_val}\n",
        "    df_split_params = pd.DataFrame(data)\n",
        "    return df_split_params"
      ],
      "execution_count": 0,
      "outputs": []
    },
    {
      "cell_type": "code",
      "metadata": {
        "id": "XaFK1_oayDb5",
        "colab_type": "code",
        "outputId": "69602390-f110-432f-b83c-66b8c0df4485",
        "colab": {
          "base_uri": "https://localhost:8080/",
          "height": 564
        }
      },
      "source": [
        "df_split_paramsIF =learning_curve(model=IsolationForest__best_estimator,best_parameters=IsolationForest_best_params, X=Xtrain_original,Y=Ytrain_original)"
      ],
      "execution_count": 0,
      "outputs": [
        {
          "output_type": "display_data",
          "data": {
            "image/png": "[encoded data removed]",
            "text/plain": [
              "<Figure size 1008x648 with 1 Axes>"
            ]
          },
          "metadata": {
            "tags": [],
            "needs_background": "light"
          }
        }
      ]
    },
    {
      "cell_type": "code",
      "metadata": {
        "id": "GIVfUk3WyXPq",
        "colab_type": "code",
        "outputId": "695dd16f-d1ba-403f-edc0-7ac64b7818bb",
        "colab": {
          "base_uri": "https://localhost:8080/",
          "height": 631
        }
      },
      "source": [
        "df_split_paramsIF"
      ],
      "execution_count": 0,
      "outputs": [
        {
          "output_type": "execute_result",
          "data": {
            "text/html": [
              "<div>\n",
              "<style scoped>\n",
              "    .dataframe tbody tr th:only-of-type {\n",
              "        vertical-align: middle;\n",
              "    }\n",
              "\n",
              "    .dataframe tbody tr th {\n",
              "        vertical-align: top;\n",
              "    }\n",
              "\n",
              "    .dataframe thead th {\n",
              "        text-align: right;\n",
              "    }\n",
              "</style>\n",
              "<table border=\"1\" class=\"dataframe\">\n",
              "  <thead>\n",
              "    <tr style=\"text-align: right;\">\n",
              "      <th></th>\n",
              "      <th>Train_Size</th>\n",
              "      <th>mean_train_Accuracy</th>\n",
              "      <th>mean_test_Accuracy</th>\n",
              "      <th>std_train_Accuracy</th>\n",
              "      <th>std_test_Accuracy</th>\n",
              "    </tr>\n",
              "  </thead>\n",
              "  <tbody>\n",
              "    <tr>\n",
              "      <th>0</th>\n",
              "      <td>5</td>\n",
              "      <td>1.0</td>\n",
              "      <td>0.855000</td>\n",
              "      <td>0.0</td>\n",
              "      <td>0.194229</td>\n",
              "    </tr>\n",
              "    <tr>\n",
              "      <th>1</th>\n",
              "      <td>6</td>\n",
              "      <td>1.0</td>\n",
              "      <td>0.989474</td>\n",
              "      <td>0.0</td>\n",
              "      <td>0.031579</td>\n",
              "    </tr>\n",
              "    <tr>\n",
              "      <th>2</th>\n",
              "      <td>7</td>\n",
              "      <td>1.0</td>\n",
              "      <td>0.955556</td>\n",
              "      <td>0.0</td>\n",
              "      <td>0.081650</td>\n",
              "    </tr>\n",
              "    <tr>\n",
              "      <th>3</th>\n",
              "      <td>8</td>\n",
              "      <td>1.0</td>\n",
              "      <td>0.976471</td>\n",
              "      <td>0.0</td>\n",
              "      <td>0.047059</td>\n",
              "    </tr>\n",
              "    <tr>\n",
              "      <th>4</th>\n",
              "      <td>9</td>\n",
              "      <td>1.0</td>\n",
              "      <td>0.906250</td>\n",
              "      <td>0.0</td>\n",
              "      <td>0.112673</td>\n",
              "    </tr>\n",
              "    <tr>\n",
              "      <th>5</th>\n",
              "      <td>10</td>\n",
              "      <td>1.0</td>\n",
              "      <td>0.986667</td>\n",
              "      <td>0.0</td>\n",
              "      <td>0.040000</td>\n",
              "    </tr>\n",
              "    <tr>\n",
              "      <th>6</th>\n",
              "      <td>11</td>\n",
              "      <td>1.0</td>\n",
              "      <td>0.978571</td>\n",
              "      <td>0.0</td>\n",
              "      <td>0.064286</td>\n",
              "    </tr>\n",
              "    <tr>\n",
              "      <th>7</th>\n",
              "      <td>12</td>\n",
              "      <td>1.0</td>\n",
              "      <td>0.984615</td>\n",
              "      <td>0.0</td>\n",
              "      <td>0.046154</td>\n",
              "    </tr>\n",
              "    <tr>\n",
              "      <th>8</th>\n",
              "      <td>13</td>\n",
              "      <td>1.0</td>\n",
              "      <td>0.991667</td>\n",
              "      <td>0.0</td>\n",
              "      <td>0.025000</td>\n",
              "    </tr>\n",
              "    <tr>\n",
              "      <th>9</th>\n",
              "      <td>14</td>\n",
              "      <td>1.0</td>\n",
              "      <td>0.972727</td>\n",
              "      <td>0.0</td>\n",
              "      <td>0.058210</td>\n",
              "    </tr>\n",
              "    <tr>\n",
              "      <th>10</th>\n",
              "      <td>15</td>\n",
              "      <td>1.0</td>\n",
              "      <td>0.990000</td>\n",
              "      <td>0.0</td>\n",
              "      <td>0.030000</td>\n",
              "    </tr>\n",
              "    <tr>\n",
              "      <th>11</th>\n",
              "      <td>16</td>\n",
              "      <td>1.0</td>\n",
              "      <td>0.955556</td>\n",
              "      <td>0.0</td>\n",
              "      <td>0.073703</td>\n",
              "    </tr>\n",
              "    <tr>\n",
              "      <th>12</th>\n",
              "      <td>17</td>\n",
              "      <td>1.0</td>\n",
              "      <td>0.937500</td>\n",
              "      <td>0.0</td>\n",
              "      <td>0.100778</td>\n",
              "    </tr>\n",
              "    <tr>\n",
              "      <th>13</th>\n",
              "      <td>18</td>\n",
              "      <td>1.0</td>\n",
              "      <td>0.985714</td>\n",
              "      <td>0.0</td>\n",
              "      <td>0.042857</td>\n",
              "    </tr>\n",
              "    <tr>\n",
              "      <th>14</th>\n",
              "      <td>19</td>\n",
              "      <td>1.0</td>\n",
              "      <td>0.983333</td>\n",
              "      <td>0.0</td>\n",
              "      <td>0.050000</td>\n",
              "    </tr>\n",
              "    <tr>\n",
              "      <th>15</th>\n",
              "      <td>20</td>\n",
              "      <td>1.0</td>\n",
              "      <td>1.000000</td>\n",
              "      <td>0.0</td>\n",
              "      <td>0.000000</td>\n",
              "    </tr>\n",
              "    <tr>\n",
              "      <th>16</th>\n",
              "      <td>21</td>\n",
              "      <td>1.0</td>\n",
              "      <td>0.950000</td>\n",
              "      <td>0.0</td>\n",
              "      <td>0.100000</td>\n",
              "    </tr>\n",
              "    <tr>\n",
              "      <th>17</th>\n",
              "      <td>22</td>\n",
              "      <td>1.0</td>\n",
              "      <td>1.000000</td>\n",
              "      <td>0.0</td>\n",
              "      <td>0.000000</td>\n",
              "    </tr>\n",
              "    <tr>\n",
              "      <th>18</th>\n",
              "      <td>24</td>\n",
              "      <td>1.0</td>\n",
              "      <td>0.900000</td>\n",
              "      <td>0.0</td>\n",
              "      <td>0.300000</td>\n",
              "    </tr>\n",
              "  </tbody>\n",
              "</table>\n",
              "</div>"
            ],
            "text/plain": [
              "    Train_Size  mean_train_Accuracy  ...  std_train_Accuracy  std_test_Accuracy\n",
              "0            5                  1.0  ...                 0.0           0.194229\n",
              "1            6                  1.0  ...                 0.0           0.031579\n",
              "2            7                  1.0  ...                 0.0           0.081650\n",
              "3            8                  1.0  ...                 0.0           0.047059\n",
              "4            9                  1.0  ...                 0.0           0.112673\n",
              "5           10                  1.0  ...                 0.0           0.040000\n",
              "6           11                  1.0  ...                 0.0           0.064286\n",
              "7           12                  1.0  ...                 0.0           0.046154\n",
              "8           13                  1.0  ...                 0.0           0.025000\n",
              "9           14                  1.0  ...                 0.0           0.058210\n",
              "10          15                  1.0  ...                 0.0           0.030000\n",
              "11          16                  1.0  ...                 0.0           0.073703\n",
              "12          17                  1.0  ...                 0.0           0.100778\n",
              "13          18                  1.0  ...                 0.0           0.042857\n",
              "14          19                  1.0  ...                 0.0           0.050000\n",
              "15          20                  1.0  ...                 0.0           0.000000\n",
              "16          21                  1.0  ...                 0.0           0.100000\n",
              "17          22                  1.0  ...                 0.0           0.000000\n",
              "18          24                  1.0  ...                 0.0           0.300000\n",
              "\n",
              "[19 rows x 5 columns]"
            ]
          },
          "metadata": {
            "tags": []
          },
          "execution_count": 37
        }
      ]
    },
    {
      "cell_type": "code",
      "metadata": {
        "id": "F-0iMQzhwnwi",
        "colab_type": "code",
        "outputId": "6914ca8a-b78d-4b85-9bba-2f2356ba5828",
        "colab": {
          "base_uri": "https://localhost:8080/",
          "height": 564
        }
      },
      "source": [
        "df_split_params =learning_curve(model=SVM__best_estimator,best_parameters=SVM_best_params, X=Xtrain_original,Y=Ytrain_original)"
      ],
      "execution_count": 0,
      "outputs": [
        {
          "output_type": "display_data",
          "data": {
            "image/png": "[encoded data removed]",
            "text/plain": [
              "<Figure size 1008x648 with 1 Axes>"
            ]
          },
          "metadata": {
            "tags": [],
            "needs_background": "light"
          }
        }
      ]
    },
    {
      "cell_type": "code",
      "metadata": {
        "id": "ypEvO215x4GR",
        "colab_type": "code",
        "outputId": "bfbd599a-ba1f-4c5e-8681-445bd0c218af",
        "colab": {
          "base_uri": "https://localhost:8080/",
          "height": 631
        }
      },
      "source": [
        "df_split_params"
      ],
      "execution_count": 0,
      "outputs": [
        {
          "output_type": "execute_result",
          "data": {
            "text/html": [
              "<div>\n",
              "<style scoped>\n",
              "    .dataframe tbody tr th:only-of-type {\n",
              "        vertical-align: middle;\n",
              "    }\n",
              "\n",
              "    .dataframe tbody tr th {\n",
              "        vertical-align: top;\n",
              "    }\n",
              "\n",
              "    .dataframe thead th {\n",
              "        text-align: right;\n",
              "    }\n",
              "</style>\n",
              "<table border=\"1\" class=\"dataframe\">\n",
              "  <thead>\n",
              "    <tr style=\"text-align: right;\">\n",
              "      <th></th>\n",
              "      <th>Train_Size</th>\n",
              "      <th>mean_train_Accuracy</th>\n",
              "      <th>mean_test_Accuracy</th>\n",
              "      <th>std_train_Accuracy</th>\n",
              "      <th>std_test_Accuracy</th>\n",
              "    </tr>\n",
              "  </thead>\n",
              "  <tbody>\n",
              "    <tr>\n",
              "      <th>0</th>\n",
              "      <td>5</td>\n",
              "      <td>0.240000</td>\n",
              "      <td>0.325000</td>\n",
              "      <td>0.120000</td>\n",
              "      <td>0.230489</td>\n",
              "    </tr>\n",
              "    <tr>\n",
              "      <th>1</th>\n",
              "      <td>6</td>\n",
              "      <td>0.333333</td>\n",
              "      <td>0.347368</td>\n",
              "      <td>0.129099</td>\n",
              "      <td>0.194381</td>\n",
              "    </tr>\n",
              "    <tr>\n",
              "      <th>2</th>\n",
              "      <td>7</td>\n",
              "      <td>0.371429</td>\n",
              "      <td>0.522222</td>\n",
              "      <td>0.182946</td>\n",
              "      <td>0.276887</td>\n",
              "    </tr>\n",
              "    <tr>\n",
              "      <th>3</th>\n",
              "      <td>8</td>\n",
              "      <td>0.412500</td>\n",
              "      <td>0.552941</td>\n",
              "      <td>0.185826</td>\n",
              "      <td>0.205798</td>\n",
              "    </tr>\n",
              "    <tr>\n",
              "      <th>4</th>\n",
              "      <td>9</td>\n",
              "      <td>0.400000</td>\n",
              "      <td>0.393750</td>\n",
              "      <td>0.166296</td>\n",
              "      <td>0.207383</td>\n",
              "    </tr>\n",
              "    <tr>\n",
              "      <th>5</th>\n",
              "      <td>10</td>\n",
              "      <td>0.460000</td>\n",
              "      <td>0.593333</td>\n",
              "      <td>0.200998</td>\n",
              "      <td>0.224004</td>\n",
              "    </tr>\n",
              "    <tr>\n",
              "      <th>6</th>\n",
              "      <td>11</td>\n",
              "      <td>0.418182</td>\n",
              "      <td>0.321429</td>\n",
              "      <td>0.116420</td>\n",
              "      <td>0.178571</td>\n",
              "    </tr>\n",
              "    <tr>\n",
              "      <th>7</th>\n",
              "      <td>12</td>\n",
              "      <td>0.516667</td>\n",
              "      <td>0.576923</td>\n",
              "      <td>0.089753</td>\n",
              "      <td>0.223607</td>\n",
              "    </tr>\n",
              "    <tr>\n",
              "      <th>8</th>\n",
              "      <td>13</td>\n",
              "      <td>0.492308</td>\n",
              "      <td>0.533333</td>\n",
              "      <td>0.124985</td>\n",
              "      <td>0.217945</td>\n",
              "    </tr>\n",
              "    <tr>\n",
              "      <th>9</th>\n",
              "      <td>14</td>\n",
              "      <td>0.514286</td>\n",
              "      <td>0.390909</td>\n",
              "      <td>0.126974</td>\n",
              "      <td>0.157721</td>\n",
              "    </tr>\n",
              "    <tr>\n",
              "      <th>10</th>\n",
              "      <td>15</td>\n",
              "      <td>0.540000</td>\n",
              "      <td>0.530000</td>\n",
              "      <td>0.096379</td>\n",
              "      <td>0.200250</td>\n",
              "    </tr>\n",
              "    <tr>\n",
              "      <th>11</th>\n",
              "      <td>16</td>\n",
              "      <td>0.600000</td>\n",
              "      <td>0.577778</td>\n",
              "      <td>0.112500</td>\n",
              "      <td>0.197515</td>\n",
              "    </tr>\n",
              "    <tr>\n",
              "      <th>12</th>\n",
              "      <td>17</td>\n",
              "      <td>0.523529</td>\n",
              "      <td>0.587500</td>\n",
              "      <td>0.147529</td>\n",
              "      <td>0.216867</td>\n",
              "    </tr>\n",
              "    <tr>\n",
              "      <th>13</th>\n",
              "      <td>18</td>\n",
              "      <td>0.605556</td>\n",
              "      <td>0.628571</td>\n",
              "      <td>0.094444</td>\n",
              "      <td>0.159079</td>\n",
              "    </tr>\n",
              "    <tr>\n",
              "      <th>14</th>\n",
              "      <td>19</td>\n",
              "      <td>0.552632</td>\n",
              "      <td>0.616667</td>\n",
              "      <td>0.100552</td>\n",
              "      <td>0.183333</td>\n",
              "    </tr>\n",
              "    <tr>\n",
              "      <th>15</th>\n",
              "      <td>20</td>\n",
              "      <td>0.605000</td>\n",
              "      <td>0.600000</td>\n",
              "      <td>0.098615</td>\n",
              "      <td>0.219089</td>\n",
              "    </tr>\n",
              "    <tr>\n",
              "      <th>16</th>\n",
              "      <td>21</td>\n",
              "      <td>0.595238</td>\n",
              "      <td>0.725000</td>\n",
              "      <td>0.098169</td>\n",
              "      <td>0.235850</td>\n",
              "    </tr>\n",
              "    <tr>\n",
              "      <th>17</th>\n",
              "      <td>22</td>\n",
              "      <td>0.681818</td>\n",
              "      <td>0.633333</td>\n",
              "      <td>0.105627</td>\n",
              "      <td>0.233333</td>\n",
              "    </tr>\n",
              "    <tr>\n",
              "      <th>18</th>\n",
              "      <td>24</td>\n",
              "      <td>0.650000</td>\n",
              "      <td>0.500000</td>\n",
              "      <td>0.123884</td>\n",
              "      <td>0.500000</td>\n",
              "    </tr>\n",
              "  </tbody>\n",
              "</table>\n",
              "</div>"
            ],
            "text/plain": [
              "    Train_Size  mean_train_Accuracy  ...  std_train_Accuracy  std_test_Accuracy\n",
              "0            5             0.240000  ...            0.120000           0.230489\n",
              "1            6             0.333333  ...            0.129099           0.194381\n",
              "2            7             0.371429  ...            0.182946           0.276887\n",
              "3            8             0.412500  ...            0.185826           0.205798\n",
              "4            9             0.400000  ...            0.166296           0.207383\n",
              "5           10             0.460000  ...            0.200998           0.224004\n",
              "6           11             0.418182  ...            0.116420           0.178571\n",
              "7           12             0.516667  ...            0.089753           0.223607\n",
              "8           13             0.492308  ...            0.124985           0.217945\n",
              "9           14             0.514286  ...            0.126974           0.157721\n",
              "10          15             0.540000  ...            0.096379           0.200250\n",
              "11          16             0.600000  ...            0.112500           0.197515\n",
              "12          17             0.523529  ...            0.147529           0.216867\n",
              "13          18             0.605556  ...            0.094444           0.159079\n",
              "14          19             0.552632  ...            0.100552           0.183333\n",
              "15          20             0.605000  ...            0.098615           0.219089\n",
              "16          21             0.595238  ...            0.098169           0.235850\n",
              "17          22             0.681818  ...            0.105627           0.233333\n",
              "18          24             0.650000  ...            0.123884           0.500000\n",
              "\n",
              "[19 rows x 5 columns]"
            ]
          },
          "metadata": {
            "tags": []
          },
          "execution_count": 39
        }
      ]
    },
    {
      "cell_type": "markdown",
      "metadata": {
        "id": "SDTqLllAbwFc",
        "colab_type": "text"
      },
      "source": [
        "# All users"
      ]
    },
    {
      "cell_type": "code",
      "metadata": {
        "id": "v-bTQ8FPCfy9",
        "colab_type": "code",
        "colab": {}
      },
      "source": [
        "def learning_curve_all_users( model, best_parameters , users, impostors, suptitle='', title='', xlabel='Training Set Size', ylabel='Acurracy'):\n",
        "\n",
        "  \"\"\"\n",
        "  Parameters\n",
        "  ----------\n",
        "  suptitle : str\n",
        "      Chart suptitle\n",
        "  title: str\n",
        "      Chart title\n",
        "  xlabel: str\n",
        "      Label for the X axis\n",
        "  ylabel: str\n",
        "      Label for the y axis\n",
        "  Returns\n",
        "  -------\n",
        "  Plot of learning curves\n",
        "  \"\"\"\n",
        "\n",
        "  # create lists to store train and validation scores\n",
        "  train_score = []\n",
        "  val_score = []\n",
        "  std_train= []\n",
        "  std_val=[]\n",
        "\n",
        "  training_set_sizes = np.linspace(5,24,19,dtype=int).tolist()\n",
        "\n",
        "  for i in training_set_sizes:\n",
        "    meanAccuracyValid = np.zeros((len(users),1))\n",
        "    meanAccuracyTrain = np.zeros((len(users),1))\n",
        "    meanStdValid = np.zeros((len(users),1))\n",
        "    meanStdTrain = np.zeros((len(users),1))\n",
        "\n",
        "    for u in range(0,len(users)):\n",
        "      data = users[u]\n",
        "      Xtrain_original = data[:,0:22]\n",
        "      Ytrain_original = data[:,23]\n",
        "      Ytrain_original = Ytrain_original.astype(int)\n",
        "\n",
        "      dataI = impostors[u]\n",
        "      Xtest_original = dataI[:,0:22]\n",
        "      Ytest_original = dataI[:,23]\n",
        "      Ytest_original=Ytest_original.astype(int)\n",
        "\n",
        "      X=Xtrain_original\n",
        "      Y=Ytrain_original\n",
        "        \n",
        "      meanAccuracyTrain[u] , meanAccuracyValid[u] , meanStdTrain[u], meanStdValid[u] = build_model(model, best_parameters, i, X,Y)\n",
        "    EfficiencyTrain, EfficiencyVal, stdTrain, stdVal = np.mean(meanAccuracyTrain), np.mean(meanAccuracyValid), np.mean(meanStdTrain), np.mean(meanStdValid)\n",
        "\n",
        "    # store the scores in their respective lists\n",
        "    train_score.append(EfficiencyTrain)\n",
        "    val_score.append(EfficiencyVal)\n",
        "    std_train.append(stdTrain)\n",
        "    std_val.append(stdVal)\n",
        "\n",
        "  train_score =np.array(train_score)\n",
        "  val_score =np.array(val_score)\n",
        "  std_train =np.array(std_train)\n",
        "  std_val =np.array(std_val)\n",
        "\n",
        "\n",
        "  # plot learning curves\n",
        "  fig, ax = plt.subplots(figsize=(14, 9))\n",
        "  ax.plot(training_set_sizes, train_score, c='gold')\n",
        "  ax.plot(training_set_sizes, val_score, c='steelblue')\n",
        "  \n",
        "  ax.fill_between(training_set_sizes,train_score+std_train,train_score-std_train,facecolor='gold',alpha=0.5)\n",
        "  ax.fill_between(training_set_sizes,val_score+std_val,val_score-std_val,facecolor='steelblue',alpha=0.5)\n",
        "\n",
        "  # format the chart to make it look nice\n",
        "  fig.suptitle(suptitle, fontweight='bold', fontsize='20')\n",
        "  ax.set_title(title, size=20)\n",
        "  ax.set_xlabel(xlabel, size=16)\n",
        "  ax.set_ylabel(ylabel, size=16)\n",
        "  ax.legend(['Train set', 'Test set'], fontsize=16)\n",
        "  ax.tick_params(axis='both', labelsize=12)\n",
        "  ax.set_ylim(0, 1)\n",
        "\n",
        "  def percentages(x, pos):\n",
        "      \"\"\"The two args are the value and tick position\"\"\"\n",
        "      if x < 1:\n",
        "          return '{:1.0f}'.format(x*100)\n",
        "      return '{:1.0f}%'.format(x*100)\n",
        "\n",
        "  def numbers(x, pos):\n",
        "      \"\"\"The two args are the value and tick position\"\"\"\n",
        "      if x >= 1000:\n",
        "          return '{:1,.0f}'.format(x)\n",
        "      return '{:1.0f}'.format(x)\n",
        "  data = {'Train_Size':training_set_sizes, 'mean_train_Accuracy':train_score,'mean_test_Accuracy':val_score,'std_train_Accuracy':std_train,'std_test_Accuracy':std_val}\n",
        "  df_split_params = pd.DataFrame(data)\n",
        "  return df_split_params"
      ],
      "execution_count": 0,
      "outputs": []
    },
    {
      "cell_type": "code",
      "metadata": {
        "id": "SNNgHdltu5pV",
        "colab_type": "code",
        "outputId": "fbaa4d03-edb5-48fe-81b7-9f890992e8a4",
        "colab": {
          "base_uri": "https://localhost:8080/",
          "height": 564
        }
      },
      "source": [
        "df_split_all_users_IF = learning_curve_all_users(model=IsolationForest__best_estimator,best_parameters=IsolationForest_best_params, users=listUserPin4,impostors=listUserPin4Impostors)"
      ],
      "execution_count": 0,
      "outputs": [
        {
          "output_type": "display_data",
          "data": {
            "image/png": "[encoded data removed]",
            "text/plain": [
              "<Figure size 1008x648 with 1 Axes>"
            ]
          },
          "metadata": {
            "tags": [],
            "needs_background": "light"
          }
        }
      ]
    },
    {
      "cell_type": "code",
      "metadata": {
        "id": "2FiYXktm5KJN",
        "colab_type": "code",
        "outputId": "ed2b046e-9b2f-45d6-8467-82f3dfd4a0b1",
        "colab": {
          "base_uri": "https://localhost:8080/",
          "height": 631
        }
      },
      "source": [
        "df_split_all_users_IF"
      ],
      "execution_count": 0,
      "outputs": [
        {
          "output_type": "execute_result",
          "data": {
            "text/html": [
              "<div>\n",
              "<style scoped>\n",
              "    .dataframe tbody tr th:only-of-type {\n",
              "        vertical-align: middle;\n",
              "    }\n",
              "\n",
              "    .dataframe tbody tr th {\n",
              "        vertical-align: top;\n",
              "    }\n",
              "\n",
              "    .dataframe thead th {\n",
              "        text-align: right;\n",
              "    }\n",
              "</style>\n",
              "<table border=\"1\" class=\"dataframe\">\n",
              "  <thead>\n",
              "    <tr style=\"text-align: right;\">\n",
              "      <th></th>\n",
              "      <th>Train_Size</th>\n",
              "      <th>mean_train_Accuracy</th>\n",
              "      <th>mean_test_Accuracy</th>\n",
              "      <th>std_train_Accuracy</th>\n",
              "      <th>std_test_Accuracy</th>\n",
              "    </tr>\n",
              "  </thead>\n",
              "  <tbody>\n",
              "    <tr>\n",
              "      <th>0</th>\n",
              "      <td>5</td>\n",
              "      <td>1.0</td>\n",
              "      <td>0.937885</td>\n",
              "      <td>0.0</td>\n",
              "      <td>0.090586</td>\n",
              "    </tr>\n",
              "    <tr>\n",
              "      <th>1</th>\n",
              "      <td>6</td>\n",
              "      <td>1.0</td>\n",
              "      <td>0.919028</td>\n",
              "      <td>0.0</td>\n",
              "      <td>0.116572</td>\n",
              "    </tr>\n",
              "    <tr>\n",
              "      <th>2</th>\n",
              "      <td>7</td>\n",
              "      <td>1.0</td>\n",
              "      <td>0.943376</td>\n",
              "      <td>0.0</td>\n",
              "      <td>0.078342</td>\n",
              "    </tr>\n",
              "    <tr>\n",
              "      <th>3</th>\n",
              "      <td>8</td>\n",
              "      <td>1.0</td>\n",
              "      <td>0.952941</td>\n",
              "      <td>0.0</td>\n",
              "      <td>0.069047</td>\n",
              "    </tr>\n",
              "    <tr>\n",
              "      <th>4</th>\n",
              "      <td>9</td>\n",
              "      <td>1.0</td>\n",
              "      <td>0.947837</td>\n",
              "      <td>0.0</td>\n",
              "      <td>0.070038</td>\n",
              "    </tr>\n",
              "    <tr>\n",
              "      <th>5</th>\n",
              "      <td>10</td>\n",
              "      <td>1.0</td>\n",
              "      <td>0.949744</td>\n",
              "      <td>0.0</td>\n",
              "      <td>0.069734</td>\n",
              "    </tr>\n",
              "    <tr>\n",
              "      <th>6</th>\n",
              "      <td>11</td>\n",
              "      <td>1.0</td>\n",
              "      <td>0.956044</td>\n",
              "      <td>0.0</td>\n",
              "      <td>0.066096</td>\n",
              "    </tr>\n",
              "    <tr>\n",
              "      <th>7</th>\n",
              "      <td>12</td>\n",
              "      <td>1.0</td>\n",
              "      <td>0.955030</td>\n",
              "      <td>0.0</td>\n",
              "      <td>0.069348</td>\n",
              "    </tr>\n",
              "    <tr>\n",
              "      <th>8</th>\n",
              "      <td>13</td>\n",
              "      <td>1.0</td>\n",
              "      <td>0.968269</td>\n",
              "      <td>0.0</td>\n",
              "      <td>0.058497</td>\n",
              "    </tr>\n",
              "    <tr>\n",
              "      <th>9</th>\n",
              "      <td>14</td>\n",
              "      <td>1.0</td>\n",
              "      <td>0.962587</td>\n",
              "      <td>0.0</td>\n",
              "      <td>0.067222</td>\n",
              "    </tr>\n",
              "    <tr>\n",
              "      <th>10</th>\n",
              "      <td>15</td>\n",
              "      <td>1.0</td>\n",
              "      <td>0.964231</td>\n",
              "      <td>0.0</td>\n",
              "      <td>0.056586</td>\n",
              "    </tr>\n",
              "    <tr>\n",
              "      <th>11</th>\n",
              "      <td>16</td>\n",
              "      <td>1.0</td>\n",
              "      <td>0.967094</td>\n",
              "      <td>0.0</td>\n",
              "      <td>0.055284</td>\n",
              "    </tr>\n",
              "    <tr>\n",
              "      <th>12</th>\n",
              "      <td>17</td>\n",
              "      <td>1.0</td>\n",
              "      <td>0.972115</td>\n",
              "      <td>0.0</td>\n",
              "      <td>0.053273</td>\n",
              "    </tr>\n",
              "    <tr>\n",
              "      <th>13</th>\n",
              "      <td>18</td>\n",
              "      <td>1.0</td>\n",
              "      <td>0.968681</td>\n",
              "      <td>0.0</td>\n",
              "      <td>0.062772</td>\n",
              "    </tr>\n",
              "    <tr>\n",
              "      <th>14</th>\n",
              "      <td>19</td>\n",
              "      <td>1.0</td>\n",
              "      <td>0.958974</td>\n",
              "      <td>0.0</td>\n",
              "      <td>0.078062</td>\n",
              "    </tr>\n",
              "    <tr>\n",
              "      <th>15</th>\n",
              "      <td>20</td>\n",
              "      <td>1.0</td>\n",
              "      <td>0.963077</td>\n",
              "      <td>0.0</td>\n",
              "      <td>0.072663</td>\n",
              "    </tr>\n",
              "    <tr>\n",
              "      <th>16</th>\n",
              "      <td>21</td>\n",
              "      <td>1.0</td>\n",
              "      <td>0.972115</td>\n",
              "      <td>0.0</td>\n",
              "      <td>0.063620</td>\n",
              "    </tr>\n",
              "    <tr>\n",
              "      <th>17</th>\n",
              "      <td>22</td>\n",
              "      <td>1.0</td>\n",
              "      <td>0.973077</td>\n",
              "      <td>0.0</td>\n",
              "      <td>0.064314</td>\n",
              "    </tr>\n",
              "    <tr>\n",
              "      <th>18</th>\n",
              "      <td>24</td>\n",
              "      <td>1.0</td>\n",
              "      <td>0.961538</td>\n",
              "      <td>0.0</td>\n",
              "      <td>0.107692</td>\n",
              "    </tr>\n",
              "  </tbody>\n",
              "</table>\n",
              "</div>"
            ],
            "text/plain": [
              "    Train_Size  mean_train_Accuracy  ...  std_train_Accuracy  std_test_Accuracy\n",
              "0            5                  1.0  ...                 0.0           0.090586\n",
              "1            6                  1.0  ...                 0.0           0.116572\n",
              "2            7                  1.0  ...                 0.0           0.078342\n",
              "3            8                  1.0  ...                 0.0           0.069047\n",
              "4            9                  1.0  ...                 0.0           0.070038\n",
              "5           10                  1.0  ...                 0.0           0.069734\n",
              "6           11                  1.0  ...                 0.0           0.066096\n",
              "7           12                  1.0  ...                 0.0           0.069348\n",
              "8           13                  1.0  ...                 0.0           0.058497\n",
              "9           14                  1.0  ...                 0.0           0.067222\n",
              "10          15                  1.0  ...                 0.0           0.056586\n",
              "11          16                  1.0  ...                 0.0           0.055284\n",
              "12          17                  1.0  ...                 0.0           0.053273\n",
              "13          18                  1.0  ...                 0.0           0.062772\n",
              "14          19                  1.0  ...                 0.0           0.078062\n",
              "15          20                  1.0  ...                 0.0           0.072663\n",
              "16          21                  1.0  ...                 0.0           0.063620\n",
              "17          22                  1.0  ...                 0.0           0.064314\n",
              "18          24                  1.0  ...                 0.0           0.107692\n",
              "\n",
              "[19 rows x 5 columns]"
            ]
          },
          "metadata": {
            "tags": []
          },
          "execution_count": 43
        }
      ]
    },
    {
      "cell_type": "code",
      "metadata": {
        "id": "5K0Q-Rim42fV",
        "colab_type": "code",
        "outputId": "35c8b5c8-ce9b-401d-9001-19b3dfed1761",
        "colab": {
          "base_uri": "https://localhost:8080/",
          "height": 564
        }
      },
      "source": [
        "df_split_all_users_SVM = learning_curve_all_users(model=SVM__best_estimator,best_parameters=SVM_best_params, users=listUserPin4,impostors=listUserPin4Impostors)"
      ],
      "execution_count": 0,
      "outputs": [
        {
          "output_type": "display_data",
          "data": {
            "image/png": "[encoded data removed]",
            "text/plain": [
              "<Figure size 1008x648 with 1 Axes>"
            ]
          },
          "metadata": {
            "tags": [],
            "needs_background": "light"
          }
        }
      ]
    },
    {
      "cell_type": "code",
      "metadata": {
        "id": "vaEYNCHL5LzT",
        "colab_type": "code",
        "outputId": "06cbea63-f37e-48be-bbe9-334c4330fba1",
        "colab": {
          "base_uri": "https://localhost:8080/",
          "height": 631
        }
      },
      "source": [
        "df_split_all_users_SVM"
      ],
      "execution_count": 0,
      "outputs": [
        {
          "output_type": "execute_result",
          "data": {
            "text/html": [
              "<div>\n",
              "<style scoped>\n",
              "    .dataframe tbody tr th:only-of-type {\n",
              "        vertical-align: middle;\n",
              "    }\n",
              "\n",
              "    .dataframe tbody tr th {\n",
              "        vertical-align: top;\n",
              "    }\n",
              "\n",
              "    .dataframe thead th {\n",
              "        text-align: right;\n",
              "    }\n",
              "</style>\n",
              "<table border=\"1\" class=\"dataframe\">\n",
              "  <thead>\n",
              "    <tr style=\"text-align: right;\">\n",
              "      <th></th>\n",
              "      <th>Train_Size</th>\n",
              "      <th>mean_train_Accuracy</th>\n",
              "      <th>mean_test_Accuracy</th>\n",
              "      <th>std_train_Accuracy</th>\n",
              "      <th>std_test_Accuracy</th>\n",
              "    </tr>\n",
              "  </thead>\n",
              "  <tbody>\n",
              "    <tr>\n",
              "      <th>0</th>\n",
              "      <td>5</td>\n",
              "      <td>0.345385</td>\n",
              "      <td>0.595769</td>\n",
              "      <td>0.130615</td>\n",
              "      <td>0.199136</td>\n",
              "    </tr>\n",
              "    <tr>\n",
              "      <th>1</th>\n",
              "      <td>6</td>\n",
              "      <td>0.360256</td>\n",
              "      <td>0.547976</td>\n",
              "      <td>0.133747</td>\n",
              "      <td>0.187390</td>\n",
              "    </tr>\n",
              "    <tr>\n",
              "      <th>2</th>\n",
              "      <td>7</td>\n",
              "      <td>0.347253</td>\n",
              "      <td>0.551709</td>\n",
              "      <td>0.133943</td>\n",
              "      <td>0.175690</td>\n",
              "    </tr>\n",
              "    <tr>\n",
              "      <th>3</th>\n",
              "      <td>8</td>\n",
              "      <td>0.382212</td>\n",
              "      <td>0.563122</td>\n",
              "      <td>0.139454</td>\n",
              "      <td>0.190817</td>\n",
              "    </tr>\n",
              "    <tr>\n",
              "      <th>4</th>\n",
              "      <td>9</td>\n",
              "      <td>0.412393</td>\n",
              "      <td>0.603606</td>\n",
              "      <td>0.137562</td>\n",
              "      <td>0.171805</td>\n",
              "    </tr>\n",
              "    <tr>\n",
              "      <th>5</th>\n",
              "      <td>10</td>\n",
              "      <td>0.438077</td>\n",
              "      <td>0.601026</td>\n",
              "      <td>0.127227</td>\n",
              "      <td>0.162955</td>\n",
              "    </tr>\n",
              "    <tr>\n",
              "      <th>6</th>\n",
              "      <td>11</td>\n",
              "      <td>0.474476</td>\n",
              "      <td>0.612912</td>\n",
              "      <td>0.132617</td>\n",
              "      <td>0.168953</td>\n",
              "    </tr>\n",
              "    <tr>\n",
              "      <th>7</th>\n",
              "      <td>12</td>\n",
              "      <td>0.501923</td>\n",
              "      <td>0.623373</td>\n",
              "      <td>0.133632</td>\n",
              "      <td>0.176713</td>\n",
              "    </tr>\n",
              "    <tr>\n",
              "      <th>8</th>\n",
              "      <td>13</td>\n",
              "      <td>0.527515</td>\n",
              "      <td>0.653205</td>\n",
              "      <td>0.130835</td>\n",
              "      <td>0.163124</td>\n",
              "    </tr>\n",
              "    <tr>\n",
              "      <th>9</th>\n",
              "      <td>14</td>\n",
              "      <td>0.553846</td>\n",
              "      <td>0.655245</td>\n",
              "      <td>0.119613</td>\n",
              "      <td>0.162526</td>\n",
              "    </tr>\n",
              "    <tr>\n",
              "      <th>10</th>\n",
              "      <td>15</td>\n",
              "      <td>0.566667</td>\n",
              "      <td>0.668077</td>\n",
              "      <td>0.117309</td>\n",
              "      <td>0.172340</td>\n",
              "    </tr>\n",
              "    <tr>\n",
              "      <th>11</th>\n",
              "      <td>16</td>\n",
              "      <td>0.596154</td>\n",
              "      <td>0.682051</td>\n",
              "      <td>0.114399</td>\n",
              "      <td>0.180187</td>\n",
              "    </tr>\n",
              "    <tr>\n",
              "      <th>12</th>\n",
              "      <td>17</td>\n",
              "      <td>0.624661</td>\n",
              "      <td>0.698077</td>\n",
              "      <td>0.108897</td>\n",
              "      <td>0.166120</td>\n",
              "    </tr>\n",
              "    <tr>\n",
              "      <th>13</th>\n",
              "      <td>18</td>\n",
              "      <td>0.626923</td>\n",
              "      <td>0.701648</td>\n",
              "      <td>0.106265</td>\n",
              "      <td>0.181592</td>\n",
              "    </tr>\n",
              "    <tr>\n",
              "      <th>14</th>\n",
              "      <td>19</td>\n",
              "      <td>0.638664</td>\n",
              "      <td>0.721795</td>\n",
              "      <td>0.104739</td>\n",
              "      <td>0.195538</td>\n",
              "    </tr>\n",
              "    <tr>\n",
              "      <th>15</th>\n",
              "      <td>20</td>\n",
              "      <td>0.666346</td>\n",
              "      <td>0.734615</td>\n",
              "      <td>0.104845</td>\n",
              "      <td>0.209543</td>\n",
              "    </tr>\n",
              "    <tr>\n",
              "      <th>16</th>\n",
              "      <td>21</td>\n",
              "      <td>0.676007</td>\n",
              "      <td>0.735577</td>\n",
              "      <td>0.101624</td>\n",
              "      <td>0.214939</td>\n",
              "    </tr>\n",
              "    <tr>\n",
              "      <th>17</th>\n",
              "      <td>22</td>\n",
              "      <td>0.687937</td>\n",
              "      <td>0.739744</td>\n",
              "      <td>0.095056</td>\n",
              "      <td>0.254527</td>\n",
              "    </tr>\n",
              "    <tr>\n",
              "      <th>18</th>\n",
              "      <td>24</td>\n",
              "      <td>0.712500</td>\n",
              "      <td>0.753846</td>\n",
              "      <td>0.086059</td>\n",
              "      <td>0.384578</td>\n",
              "    </tr>\n",
              "  </tbody>\n",
              "</table>\n",
              "</div>"
            ],
            "text/plain": [
              "    Train_Size  mean_train_Accuracy  ...  std_train_Accuracy  std_test_Accuracy\n",
              "0            5             0.345385  ...            0.130615           0.199136\n",
              "1            6             0.360256  ...            0.133747           0.187390\n",
              "2            7             0.347253  ...            0.133943           0.175690\n",
              "3            8             0.382212  ...            0.139454           0.190817\n",
              "4            9             0.412393  ...            0.137562           0.171805\n",
              "5           10             0.438077  ...            0.127227           0.162955\n",
              "6           11             0.474476  ...            0.132617           0.168953\n",
              "7           12             0.501923  ...            0.133632           0.176713\n",
              "8           13             0.527515  ...            0.130835           0.163124\n",
              "9           14             0.553846  ...            0.119613           0.162526\n",
              "10          15             0.566667  ...            0.117309           0.172340\n",
              "11          16             0.596154  ...            0.114399           0.180187\n",
              "12          17             0.624661  ...            0.108897           0.166120\n",
              "13          18             0.626923  ...            0.106265           0.181592\n",
              "14          19             0.638664  ...            0.104739           0.195538\n",
              "15          20             0.666346  ...            0.104845           0.209543\n",
              "16          21             0.676007  ...            0.101624           0.214939\n",
              "17          22             0.687937  ...            0.095056           0.254527\n",
              "18          24             0.712500  ...            0.086059           0.384578\n",
              "\n",
              "[19 rows x 5 columns]"
            ]
          },
          "metadata": {
            "tags": []
          },
          "execution_count": 45
        }
      ]
    }
  ]
}