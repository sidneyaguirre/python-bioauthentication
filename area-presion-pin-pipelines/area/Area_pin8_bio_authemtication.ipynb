{
  "nbformat": 4,
  "nbformat_minor": 0,
  "metadata": {
    "kernelspec": {
      "display_name": "Python 3",
      "language": "python",
      "name": "python3"
    },
    "language_info": {
      "codemirror_mode": {
        "name": "ipython",
        "version": 3
      },
      "file_extension": ".py",
      "mimetype": "text/x-python",
      "name": "python",
      "nbconvert_exporter": "python",
      "pygments_lexer": "ipython3",
      "version": "3.7.0"
    },
    "colab": {
      "name": "Area-pin8 bio-authemtication.ipynb",
      "provenance": [],
      "collapsed_sections": [],
      "toc_visible": true
    }
  },
  "cells": [
    {
      "cell_type": "code",
      "metadata": {
        "id": "n91bGhxrvrw-",
        "colab_type": "code",
        "outputId": "fac8d150-3806-4943-eeb3-a31cf6c3cc23",
        "colab": {
          "base_uri": "https://localhost:8080/",
          "height": 72
        }
      },
      "source": [
        "from __future__ import division\n",
        "import math\n",
        "import matplotlib.pyplot as plt\n",
        "\n",
        "import pandas as pd # to import csv and for data manipulation\n",
        "import matplotlib.pyplot as plt # to plot graph\n",
        "import seaborn as sns # for intractve graphs\n",
        "import numpy as np # for linear algebra\n",
        "import datetime # to dela with date and time\n",
        "%matplotlib inline\n",
        "from sklearn.preprocessing import StandardScaler # for preprocessing the data\n",
        "from sklearn.ensemble import RandomForestClassifier # Random forest classifier\n",
        "from sklearn.tree import DecisionTreeClassifier # for Decision Tree classifier\n",
        "from sklearn.svm import SVC # for SVM classification\n",
        "from sklearn.linear_model import LogisticRegression\n",
        "from sklearn.model_selection import train_test_split # to split the data\n",
        "from sklearn.model_selection import KFold # For cross vbalidation\n",
        "from sklearn.model_selection import GridSearchCV # for tunnig hyper parameter it will use all combination of given parameters\n",
        "from sklearn.model_selection import RandomizedSearchCV # same for tunning hyper parameter but will use random combinations of parameters\n",
        "from sklearn.metrics import confusion_matrix,recall_score,precision_recall_curve,auc,roc_curve,roc_auc_score,classification_report\n",
        "import time\n",
        "\n",
        "import warnings\n",
        "warnings.filterwarnings('ignore')"
      ],
      "execution_count": 0,
      "outputs": [
        {
          "output_type": "stream",
          "text": [
            "/usr/local/lib/python3.6/dist-packages/statsmodels/tools/_testing.py:19: FutureWarning: pandas.util.testing is deprecated. Use the functions in the public API at pandas.testing instead.\n",
            "  import pandas.util.testing as tm\n"
          ],
          "name": "stderr"
        }
      ]
    },
    {
      "cell_type": "markdown",
      "metadata": {
        "id": "XGnjIIoWLpw8",
        "colab_type": "text"
      },
      "source": [
        "# Load data from Drive"
      ]
    },
    {
      "cell_type": "code",
      "metadata": {
        "id": "Etgr1laOcq6P",
        "colab_type": "code",
        "outputId": "70062dff-62d8-4f9c-ec4a-70bef712e320",
        "colab": {
          "base_uri": "https://localhost:8080/",
          "height": 1000
        }
      },
      "source": [
        "! wget https://raw.githubusercontent.com/sidneyaguirre/python-bioauthentication/master/area/pins-Real-4.csv\n",
        "! wget https://raw.githubusercontent.com/sidneyaguirre/python-bioauthentication/master/area/pins-Real-6.csv\n",
        "! wget https://raw.githubusercontent.com/sidneyaguirre/python-bioauthentication/master/area/pins-Real-8.csv\n",
        "\n",
        "! wget https://raw.githubusercontent.com/sidneyaguirre/python-bioauthentication/master/area/pins-Impostor-4.csv\n",
        "! wget https://raw.githubusercontent.com/sidneyaguirre/python-bioauthentication/master/area/pins-Impostor-6.csv\n",
        "! wget https://raw.githubusercontent.com/sidneyaguirre/python-bioauthentication/master/area/pins-Impostor-8.csv"
      ],
      "execution_count": 0,
      "outputs": [
        {
          "output_type": "stream",
          "text": [
            "--2020-06-01 06:31:05--  https://raw.githubusercontent.com/sidneyaguirre/python-bioauthentication/master/area/pins-Real-4.csv\n",
            "Resolving raw.githubusercontent.com (raw.githubusercontent.com)... 151.101.0.133, 151.101.64.133, 151.101.128.133, ...\n",
            "Connecting to raw.githubusercontent.com (raw.githubusercontent.com)|151.101.0.133|:443... connected.\n",
            "HTTP request sent, awaiting response... 200 OK\n",
            "Length: 129280 (126K) [text/plain]\n",
            "Saving to: ‘pins-Real-4.csv’\n",
            "\n",
            "\rpins-Real-4.csv       0%[                    ]       0  --.-KB/s               \rpins-Real-4.csv     100%[===================>] 126.25K  --.-KB/s    in 0.04s   \n",
            "\n",
            "2020-06-01 06:31:06 (3.30 MB/s) - ‘pins-Real-4.csv’ saved [129280/129280]\n",
            "\n",
            "--2020-06-01 06:31:07--  https://raw.githubusercontent.com/sidneyaguirre/python-bioauthentication/master/area/pins-Real-6.csv\n",
            "Resolving raw.githubusercontent.com (raw.githubusercontent.com)... 151.101.0.133, 151.101.64.133, 151.101.128.133, ...\n",
            "Connecting to raw.githubusercontent.com (raw.githubusercontent.com)|151.101.0.133|:443... connected.\n",
            "HTTP request sent, awaiting response... 200 OK\n",
            "Length: 190273 (186K) [text/plain]\n",
            "Saving to: ‘pins-Real-6.csv’\n",
            "\n",
            "pins-Real-6.csv     100%[===================>] 185.81K  --.-KB/s    in 0.04s   \n",
            "\n",
            "2020-06-01 06:31:07 (4.57 MB/s) - ‘pins-Real-6.csv’ saved [190273/190273]\n",
            "\n",
            "--2020-06-01 06:31:08--  https://raw.githubusercontent.com/sidneyaguirre/python-bioauthentication/master/area/pins-Real-8.csv\n",
            "Resolving raw.githubusercontent.com (raw.githubusercontent.com)... 151.101.0.133, 151.101.64.133, 151.101.128.133, ...\n",
            "Connecting to raw.githubusercontent.com (raw.githubusercontent.com)|151.101.0.133|:443... connected.\n",
            "HTTP request sent, awaiting response... 200 OK\n",
            "Length: 251512 (246K) [text/plain]\n",
            "Saving to: ‘pins-Real-8.csv’\n",
            "\n",
            "pins-Real-8.csv     100%[===================>] 245.62K  --.-KB/s    in 0.05s   \n",
            "\n",
            "2020-06-01 06:31:09 (4.61 MB/s) - ‘pins-Real-8.csv’ saved [251512/251512]\n",
            "\n",
            "--2020-06-01 06:31:10--  https://raw.githubusercontent.com/sidneyaguirre/python-bioauthentication/master/area/pins-Impostor-4.csv\n",
            "Resolving raw.githubusercontent.com (raw.githubusercontent.com)... 151.101.0.133, 151.101.64.133, 151.101.128.133, ...\n",
            "Connecting to raw.githubusercontent.com (raw.githubusercontent.com)|151.101.0.133|:443... connected.\n",
            "HTTP request sent, awaiting response... 200 OK\n",
            "Length: 25510 (25K) [text/plain]\n",
            "Saving to: ‘pins-Impostor-4.csv’\n",
            "\n",
            "pins-Impostor-4.csv 100%[===================>]  24.91K  --.-KB/s    in 0.01s   \n",
            "\n",
            "2020-06-01 06:31:11 (1.89 MB/s) - ‘pins-Impostor-4.csv’ saved [25510/25510]\n",
            "\n",
            "--2020-06-01 06:31:12--  https://raw.githubusercontent.com/sidneyaguirre/python-bioauthentication/master/area/pins-Impostor-6.csv\n",
            "Resolving raw.githubusercontent.com (raw.githubusercontent.com)... 151.101.0.133, 151.101.64.133, 151.101.128.133, ...\n",
            "Connecting to raw.githubusercontent.com (raw.githubusercontent.com)|151.101.0.133|:443... connected.\n",
            "HTTP request sent, awaiting response... 200 OK\n",
            "Length: 36526 (36K) [text/plain]\n",
            "Saving to: ‘pins-Impostor-6.csv’\n",
            "\n",
            "pins-Impostor-6.csv 100%[===================>]  35.67K  --.-KB/s    in 0.02s   \n",
            "\n",
            "2020-06-01 06:31:12 (2.20 MB/s) - ‘pins-Impostor-6.csv’ saved [36526/36526]\n",
            "\n",
            "--2020-06-01 06:31:14--  https://raw.githubusercontent.com/sidneyaguirre/python-bioauthentication/master/area/pins-Impostor-8.csv\n",
            "Resolving raw.githubusercontent.com (raw.githubusercontent.com)... 151.101.0.133, 151.101.64.133, 151.101.128.133, ...\n",
            "Connecting to raw.githubusercontent.com (raw.githubusercontent.com)|151.101.0.133|:443... connected.\n",
            "HTTP request sent, awaiting response... 200 OK\n",
            "Length: 49394 (48K) [text/plain]\n",
            "Saving to: ‘pins-Impostor-8.csv’\n",
            "\n",
            "pins-Impostor-8.csv 100%[===================>]  48.24K  --.-KB/s    in 0.03s   \n",
            "\n",
            "2020-06-01 06:31:14 (1.81 MB/s) - ‘pins-Impostor-8.csv’ saved [49394/49394]\n",
            "\n"
          ],
          "name": "stdout"
        }
      ]
    },
    {
      "cell_type": "code",
      "metadata": {
        "id": "ftXMrVx6Rk8x",
        "colab_type": "code",
        "colab": {}
      },
      "source": [
        "#Data set csv files\n",
        "dataPin4 = pd.read_csv('pins-Real-4.csv')\n",
        "dataPin6 = pd.read_csv('pins-Real-6.csv')\n",
        "dataPin8 = pd.read_csv('pins-Real-8.csv')\n",
        "dataPin4Impostor = pd.read_csv('pins-Impostor-4.csv')\n",
        "dataPin6Impostor  = pd.read_csv('pins-Impostor-6.csv')\n",
        "dataPin8Impostor  = pd.read_csv('pins-Impostor-8.csv')"
      ],
      "execution_count": 0,
      "outputs": []
    },
    {
      "cell_type": "code",
      "metadata": {
        "id": "buFLPJFlCR1C",
        "colab_type": "code",
        "colab": {}
      },
      "source": [
        "listUsers = [4,42]"
      ],
      "execution_count": 0,
      "outputs": []
    },
    {
      "cell_type": "code",
      "metadata": {
        "id": "nmHdbDn66FrY",
        "colab_type": "code",
        "outputId": "1fc2b5d2-4a8d-44f0-e5a0-d98b7284834c",
        "colab": {
          "base_uri": "https://localhost:8080/",
          "height": 35
        }
      },
      "source": [
        "dataPin8.shape"
      ],
      "execution_count": 0,
      "outputs": [
        {
          "output_type": "execute_result",
          "data": {
            "text/plain": [
              "(675, 57)"
            ]
          },
          "metadata": {
            "tags": []
          },
          "execution_count": 5
        }
      ]
    },
    {
      "cell_type": "markdown",
      "metadata": {
        "id": "KD0-Zlh_L3Pg",
        "colab_type": "text"
      },
      "source": [
        "# Cleaning data"
      ]
    },
    {
      "cell_type": "markdown",
      "metadata": {
        "id": "uUC_N7XHvrxH",
        "colab_type": "text"
      },
      "source": [
        "Hence we can see there are 2911 rows and 72 columns"
      ]
    },
    {
      "cell_type": "code",
      "metadata": {
        "id": "LO5gk6fpXwKz",
        "colab_type": "code",
        "colab": {}
      },
      "source": [
        "#dataless-columns in dataPin are taken away\n",
        "def dataCleaning(data):\n",
        "  data = data.dropna(axis = 0, how = 'all')\n",
        "  return data"
      ],
      "execution_count": 0,
      "outputs": []
    },
    {
      "cell_type": "markdown",
      "metadata": {
        "id": "874AbdpovrxN",
        "colab_type": "text"
      },
      "source": [
        "data_new =data.dropna(axis=0,how='all')\n",
        "data_new.head()\n",
        "data_new.columns"
      ]
    },
    {
      "cell_type": "code",
      "metadata": {
        "id": "twa7MR3vl2CD",
        "colab_type": "code",
        "colab": {}
      },
      "source": [
        "def listUser(dataset, listUsers, target=1):\n",
        "\n",
        "  users = list() \n",
        "  cleaned_data = dataCleaning(dataset)\n",
        "  for i in listUsers:\n",
        "\n",
        "    df_user = cleaned_data[cleaned_data['user'] == i]\n",
        "    df_user['target'] = target\n",
        "    df_user.drop(['user','length'],axis=1, inplace=True)\n",
        "    user = df_user.values\n",
        "    users.append(user)\n",
        "      \n",
        "  return users"
      ],
      "execution_count": 0,
      "outputs": []
    },
    {
      "cell_type": "code",
      "metadata": {
        "id": "4xGtEjXe28fb",
        "colab_type": "code",
        "colab": {}
      },
      "source": [
        "listUserPin4 = listUser(dataPin4, listUsers)\n",
        "listUserPin6 = listUser(dataPin6, listUsers)\n",
        "listUserPin8 = listUser(dataPin8, listUsers)\n",
        "\n",
        "listUserPin4Impostors = listUser(dataPin4Impostor, listUsers, target = -1)\n",
        "listUserPin6Impostors = listUser(dataPin6Impostor, listUsers, target = -1)\n",
        "listUserPin8Impostors =listUser(dataPin8Impostor, listUsers, target = -1)"
      ],
      "execution_count": 0,
      "outputs": []
    },
    {
      "cell_type": "code",
      "metadata": {
        "id": "buCgMR03vrxb",
        "colab_type": "code",
        "colab": {}
      },
      "source": [
        "#ROC Curve\n",
        "def plot_roc_curve(fpr, tpr, label=None):\n",
        "    plt.plot(fpr, tpr, linewidth=2, label=label)\n",
        "    plt.plot([0, 1], [0, 1], 'k--')\n",
        "    plt.axis([0, 1, 0, 1])\n",
        "    plt.xlabel('False Positive Rate')\n",
        "    plt.ylabel('True Positive Rate')"
      ],
      "execution_count": 0,
      "outputs": []
    },
    {
      "cell_type": "code",
      "metadata": {
        "id": "ZQrgjHWNvrxk",
        "colab_type": "code",
        "colab": {}
      },
      "source": [
        "#Metrics: precision (precision_score), sensitivity (recall_score), \n",
        "from sklearn.metrics import confusion_matrix, precision_score, recall_score, accuracy_score\n",
        "def metrics(Ytrain,Yval,y_predict_train, y_predict_valid):\n",
        "  #print('Getting metrics...')\n",
        "\n",
        "  accuracyTrain = np.mean(y_predict_train.ravel() == Ytrain.ravel())\n",
        "\n",
        "  accuracyValid =np.mean(y_predict_valid.ravel() == Yval.ravel()) \n",
        "\n",
        "\n",
        "  return accuracyTrain, accuracyValid        "
      ],
      "execution_count": 0,
      "outputs": []
    },
    {
      "cell_type": "markdown",
      "metadata": {
        "id": "F2xLcKR4eApq",
        "colab_type": "text"
      },
      "source": [
        "## Get X and Y sets\n"
      ]
    },
    {
      "cell_type": "code",
      "metadata": {
        "id": "ve2Nx5YahyeM",
        "colab_type": "code",
        "colab": {}
      },
      "source": [
        "s = 1\n",
        "data = listUserPin8[s]\n",
        "Xtrain = data[:,0:54]\n",
        "Ytrain = data[:,55]\n",
        "Ytrain = Ytrain.astype(int)"
      ],
      "execution_count": 0,
      "outputs": []
    },
    {
      "cell_type": "code",
      "metadata": {
        "id": "UmOcu53QkTnm",
        "colab_type": "code",
        "outputId": "65836536-d6c1-4b1d-b113-39133c1ae664",
        "colab": {
          "base_uri": "https://localhost:8080/",
          "height": 52
        }
      },
      "source": [
        "Ytrain"
      ],
      "execution_count": 0,
      "outputs": [
        {
          "output_type": "execute_result",
          "data": {
            "text/plain": [
              "array([1, 1, 1, 1, 1, 1, 1, 1, 1, 1, 1, 1, 1, 1, 1, 1, 1, 1, 1, 1, 1, 1,\n",
              "       1, 1, 1])"
            ]
          },
          "metadata": {
            "tags": []
          },
          "execution_count": 16
        }
      ]
    },
    {
      "cell_type": "code",
      "metadata": {
        "id": "nopWIdWNBICU",
        "colab_type": "code",
        "colab": {}
      },
      "source": [
        "s = 1\n",
        "dataI = listUserPin8Impostors[s]\n",
        "Xtest_Impostors = dataI[:,0:54]\n",
        "Ytest_Impostors = dataI[:,55]\n",
        "Ytest_Impostors = Ytest_Impostors.astype(int)"
      ],
      "execution_count": 0,
      "outputs": []
    },
    {
      "cell_type": "code",
      "metadata": {
        "id": "837HONm292WE",
        "colab_type": "code",
        "colab": {}
      },
      "source": [
        "Xtrain_original, Xtest_original, Ytrain_original, Ytest_original = train_test_split(Xtrain, Ytrain, train_size=20)"
      ],
      "execution_count": 0,
      "outputs": []
    },
    {
      "cell_type": "code",
      "metadata": {
        "id": "he4VVLAkcFE4",
        "colab_type": "code",
        "outputId": "c17396d0-a820-40e7-f0d8-6c058e1bbb2f",
        "colab": {
          "base_uri": "https://localhost:8080/",
          "height": 35
        }
      },
      "source": [
        "Xtest_original = np.concatenate((Xtest_original,Xtest_Impostors)) \n",
        "Xtest_original.shape"
      ],
      "execution_count": 0,
      "outputs": [
        {
          "output_type": "execute_result",
          "data": {
            "text/plain": [
              "(10, 54)"
            ]
          },
          "metadata": {
            "tags": []
          },
          "execution_count": 19
        }
      ]
    },
    {
      "cell_type": "code",
      "metadata": {
        "id": "BdPb9HPWjB7a",
        "colab_type": "code",
        "outputId": "3b66b5f2-8ab0-4aea-c639-a056a1f83001",
        "colab": {
          "base_uri": "https://localhost:8080/",
          "height": 35
        }
      },
      "source": [
        "Ytest_original = np.concatenate((Ytest_original,Ytest_Impostors)) \n",
        "Ytest_original.shape"
      ],
      "execution_count": 0,
      "outputs": [
        {
          "output_type": "execute_result",
          "data": {
            "text/plain": [
              "(10,)"
            ]
          },
          "metadata": {
            "tags": []
          },
          "execution_count": 20
        }
      ]
    },
    {
      "cell_type": "markdown",
      "metadata": {
        "id": "qS80_cetEBmV",
        "colab_type": "text"
      },
      "source": [
        "# Models"
      ]
    },
    {
      "cell_type": "code",
      "metadata": {
        "id": "uKoF5gvWZwr7",
        "colab_type": "code",
        "colab": {}
      },
      "source": [
        "# MODELS\n",
        "from sklearn.ensemble import IsolationForest\n",
        "from sklearn import svm"
      ],
      "execution_count": 0,
      "outputs": []
    },
    {
      "cell_type": "code",
      "metadata": {
        "id": "Q6RiHXuroAhb",
        "colab_type": "code",
        "colab": {}
      },
      "source": [
        "modelIsoForest = IsolationForest()\n",
        "modelSVM = svm.OneClassSVM()"
      ],
      "execution_count": 0,
      "outputs": []
    },
    {
      "cell_type": "markdown",
      "metadata": {
        "id": "8CqKqvow2KNz",
        "colab_type": "text"
      },
      "source": [
        "## Manual Grid Search"
      ]
    },
    {
      "cell_type": "code",
      "metadata": {
        "id": "u-b0V2Ge1M-T",
        "colab_type": "code",
        "colab": {}
      },
      "source": [
        "from sklearn.model_selection import ParameterGrid\n",
        "\n",
        "gridSVM = {'nu' : [0.00001, 0.0001, 0.001, 0.01, 0.1], 'gamma' : ['scale', 'auto'], 'kernel': ['linear', 'poly', 'rbf', 'sigmoid']}\n",
        "\n",
        "gridIsoForest = {'n_estimators': list(range(5, 25, 4)), \n",
        "                'max_samples': ['auto'], \n",
        "                'contamination': [0, 0.5], \n",
        "                'max_features': [5,10,15,20], \n",
        "                'bootstrap': [True,False], \n",
        "                'n_jobs': [-1]}"
      ],
      "execution_count": 0,
      "outputs": []
    },
    {
      "cell_type": "code",
      "metadata": {
        "id": "9dlQSRQO6GDI",
        "colab_type": "code",
        "outputId": "3284ec7c-2ec4-49ea-9aad-fe171c192d35",
        "colab": {
          "base_uri": "https://localhost:8080/",
          "height": 35
        }
      },
      "source": [
        "list(ParameterGrid(gridSVM))\n",
        "len(list(ParameterGrid(gridSVM)))"
      ],
      "execution_count": 0,
      "outputs": [
        {
          "output_type": "execute_result",
          "data": {
            "text/plain": [
              "40"
            ]
          },
          "metadata": {
            "tags": []
          },
          "execution_count": 24
        }
      ]
    },
    {
      "cell_type": "code",
      "metadata": {
        "id": "BVd02XpotYEp",
        "colab_type": "code",
        "outputId": "0941de55-a8db-4f8b-fbcd-5e4283d707b8",
        "colab": {
          "base_uri": "https://localhost:8080/",
          "height": 35
        }
      },
      "source": [
        "list(ParameterGrid(gridIsoForest))\n",
        "len(list(ParameterGrid(gridIsoForest)))"
      ],
      "execution_count": 0,
      "outputs": [
        {
          "output_type": "execute_result",
          "data": {
            "text/plain": [
              "80"
            ]
          },
          "metadata": {
            "tags": []
          },
          "execution_count": 25
        }
      ]
    },
    {
      "cell_type": "markdown",
      "metadata": {
        "id": "_WsInlo_spaI",
        "colab_type": "text"
      },
      "source": [
        "# GridSearch V1.1"
      ]
    },
    {
      "cell_type": "code",
      "metadata": {
        "id": "z-Sc5PBlsmiL",
        "colab_type": "code",
        "colab": {}
      },
      "source": [
        "modelsAndGrids = [('modelIsoForest ', modelIsoForest, gridIsoForest), ('modelSVM', modelSVM, gridSVM)]"
      ],
      "execution_count": 0,
      "outputs": []
    },
    {
      "cell_type": "code",
      "metadata": {
        "id": "Cg0GUty1s1Gb",
        "colab_type": "code",
        "colab": {}
      },
      "source": [
        "from sklearn.model_selection import KFold\n",
        "from sklearn import preprocessing\n",
        "from sklearn.model_selection import train_test_split\n",
        "from numpy import random\n"
      ],
      "execution_count": 0,
      "outputs": []
    },
    {
      "cell_type": "code",
      "metadata": {
        "id": "n5oPiUzLOfFZ",
        "colab_type": "code",
        "outputId": "4c214a62-661f-4a1c-b9fc-dd5833ce5974",
        "colab": {
          "base_uri": "https://localhost:8080/",
          "height": 35
        }
      },
      "source": [
        "a = [1,2,3,1,1,3,4,3,2]\n",
        "index_sets = [np.argwhere(1==a)]\n",
        "index_sets"
      ],
      "execution_count": 0,
      "outputs": [
        {
          "output_type": "execute_result",
          "data": {
            "text/plain": [
              "[array([], shape=(0, 0), dtype=int64)]"
            ]
          },
          "metadata": {
            "tags": []
          },
          "execution_count": 28
        }
      ]
    },
    {
      "cell_type": "code",
      "metadata": {
        "id": "y35UpmO93lTq",
        "colab_type": "code",
        "colab": {}
      },
      "source": [
        "def GridSearch(Xtrain_original,Ytrain_original,models):\n",
        "  # create lists to store final results\n",
        "  train_score = []\n",
        "  val_score = []\n",
        "  std_train= []\n",
        "  std_val=[]\n",
        "  best_params = []\n",
        "  models_results = []\n",
        "\n",
        "  Folds = 10\n",
        "  results = list()\n",
        "  gsAccuracy = 0\n",
        "  random.seed(19680801)\n",
        "  #Data Normalization\n",
        "  scaler = preprocessing.StandardScaler().fit(Xtrain_original)\n",
        "  Xtrain_original = scaler.transform(Xtrain_original)\n",
        "  \n",
        "  kf = KFold(n_splits=Folds,shuffle=True)\n",
        "  for m in range(0,len(models)):\n",
        "    params = []\n",
        "    meanAccuracyValid = np.zeros((len(list(ParameterGrid(models[m][2]))),1))\n",
        "    meanAccuracyTrain = np.zeros((len(list(ParameterGrid(models[m][2]))),1))\n",
        "    meanStdValid = np.zeros((len(list(ParameterGrid(models[m][2]))),1))\n",
        "    meanStdTrain = np.zeros((len(list(ParameterGrid(models[m][2]))),1))\n",
        "    result = list()\n",
        "    k=0\n",
        "    for z in ParameterGrid(models[m][2]):\n",
        "      params.append(z)\n",
        "      accuracyTrainFolds = np.zeros((Folds,1))\n",
        "      accuracyValidFolds = np.zeros((Folds,1))\n",
        "      stdTrainFolds = np.zeros((Folds,1))\n",
        "      stdValidFolds = np.zeros((Folds,1))\n",
        "      j=0\n",
        "      \n",
        "      models[m][1].set_params(**z)\n",
        "\n",
        "      for train, valid in kf.split(Xtrain_original):\n",
        "        Xtrain = Xtrain_original[train,:]\n",
        "        Ytrain = Ytrain_original[train]\n",
        "        Xvalid = Xtrain_original[valid,:]\n",
        "        Yvalid = Ytrain_original[valid]\n",
        "\n",
        "        models[m][1].fit(Xtrain)\n",
        "\n",
        "        y_predict_train =  models[m][1].predict(Xtrain)\n",
        "        \n",
        "        #Validation\n",
        "        y_predict_valid = models[m][1].predict(Xvalid)\n",
        "\n",
        "\n",
        "\n",
        "        accuracyTrainFolds[j], accuracyValidFolds[j] = metrics(Ytrain,Yvalid,y_predict_train,y_predict_valid )\n",
        "        \n",
        "        j+=1\n",
        "\n",
        "      meanAccuracyTrain[k], meanAccuracyValid[k], meanStdTrain[k], meanStdValid[k] = np.mean(accuracyTrainFolds), np.mean(accuracyValidFolds), np.std(accuracyTrainFolds), np.std(accuracyValidFolds)\n",
        "      k+=1\n",
        "    result.append([models[m][0], meanAccuracyValid[np.argmax(meanAccuracyValid)],meanStdValid[np.argmax(meanAccuracyValid)], params[np.argmax(meanAccuracyValid)]])\n",
        "\n",
        "    results.append(result)\n",
        "\n",
        "  return results"
      ],
      "execution_count": 0,
      "outputs": []
    },
    {
      "cell_type": "code",
      "metadata": {
        "id": "cTDP1iOxs5Hf",
        "colab_type": "code",
        "colab": {}
      },
      "source": [
        "results = GridSearch(Xtrain_original,Ytrain_original,modelsAndGrids)"
      ],
      "execution_count": 0,
      "outputs": []
    },
    {
      "cell_type": "code",
      "metadata": {
        "id": "9i25weTltn3W",
        "colab_type": "code",
        "colab": {}
      },
      "source": [
        "IF = results[0]\n",
        "OC = results[1]\n",
        "OCP = OC[0]\n",
        "IFP = IF[0]\n",
        "IFParams = IFP[3]\n",
        "SVMParams = OCP[3]"
      ],
      "execution_count": 0,
      "outputs": []
    },
    {
      "cell_type": "code",
      "metadata": {
        "id": "Q7wrGF_pZTF1",
        "colab_type": "code",
        "outputId": "71b85473-cfa0-4fa7-ace9-08cc5e2aa975",
        "colab": {
          "base_uri": "https://localhost:8080/",
          "height": 121
        }
      },
      "source": [
        "IFParams"
      ],
      "execution_count": 0,
      "outputs": [
        {
          "output_type": "execute_result",
          "data": {
            "text/plain": [
              "{'bootstrap': True,\n",
              " 'contamination': 0,\n",
              " 'max_features': 5,\n",
              " 'max_samples': 'auto',\n",
              " 'n_estimators': 9,\n",
              " 'n_jobs': -1}"
            ]
          },
          "metadata": {
            "tags": []
          },
          "execution_count": 32
        }
      ]
    },
    {
      "cell_type": "code",
      "metadata": {
        "id": "oj-Vvu6S_LIa",
        "colab_type": "code",
        "colab": {}
      },
      "source": [
        "# IFParams = {'bootstrap': True,\n",
        "#  'contamination': 0,\n",
        "#  'max_features': 22,\n",
        "#  'max_samples': 'auto',\n",
        "#  'n_estimators': 17,\n",
        "#  'n_jobs': -1}"
      ],
      "execution_count": 0,
      "outputs": []
    },
    {
      "cell_type": "code",
      "metadata": {
        "id": "CJi2ct9w3D_b",
        "colab_type": "code",
        "outputId": "448c051a-5d10-44a6-dac2-e2295a9db023",
        "colab": {
          "base_uri": "https://localhost:8080/",
          "height": 35
        }
      },
      "source": [
        "SVMParams"
      ],
      "execution_count": 0,
      "outputs": [
        {
          "output_type": "execute_result",
          "data": {
            "text/plain": [
              "{'gamma': 'auto', 'kernel': 'sigmoid', 'nu': 0.1}"
            ]
          },
          "metadata": {
            "tags": []
          },
          "execution_count": 34
        }
      ]
    },
    {
      "cell_type": "code",
      "metadata": {
        "id": "vk1TG6tIzkp8",
        "colab_type": "code",
        "colab": {}
      },
      "source": [
        "columns=[\"models\",\"mean train Accuracy\",\"CI (+-)\", \"Best params\"]\n",
        "result0 = pd.DataFrame(results[0],columns=columns)\n",
        "result1 = pd.DataFrame(results[1],columns=columns)"
      ],
      "execution_count": 0,
      "outputs": []
    },
    {
      "cell_type": "code",
      "metadata": {
        "id": "pBseeqLS46gz",
        "colab_type": "code",
        "colab": {}
      },
      "source": [
        "resultados_finales = result0.append(result1)"
      ],
      "execution_count": 0,
      "outputs": []
    },
    {
      "cell_type": "code",
      "metadata": {
        "id": "dCgadmDSeYkp",
        "colab_type": "code",
        "outputId": "d9bbba7d-d953-4273-ae7a-af5e25eecae4",
        "colab": {
          "base_uri": "https://localhost:8080/",
          "height": 110
        }
      },
      "source": [
        "resultados_finales"
      ],
      "execution_count": 0,
      "outputs": [
        {
          "output_type": "execute_result",
          "data": {
            "text/html": [
              "<div>\n",
              "<style scoped>\n",
              "    .dataframe tbody tr th:only-of-type {\n",
              "        vertical-align: middle;\n",
              "    }\n",
              "\n",
              "    .dataframe tbody tr th {\n",
              "        vertical-align: top;\n",
              "    }\n",
              "\n",
              "    .dataframe thead th {\n",
              "        text-align: right;\n",
              "    }\n",
              "</style>\n",
              "<table border=\"1\" class=\"dataframe\">\n",
              "  <thead>\n",
              "    <tr style=\"text-align: right;\">\n",
              "      <th></th>\n",
              "      <th>models</th>\n",
              "      <th>mean train Accuracy</th>\n",
              "      <th>CI (+-)</th>\n",
              "      <th>Best params</th>\n",
              "    </tr>\n",
              "  </thead>\n",
              "  <tbody>\n",
              "    <tr>\n",
              "      <th>0</th>\n",
              "      <td>modelIsoForest</td>\n",
              "      <td>[1.0]</td>\n",
              "      <td>[0.0]</td>\n",
              "      <td>{'bootstrap': True, 'contamination': 0, 'max_f...</td>\n",
              "    </tr>\n",
              "    <tr>\n",
              "      <th>0</th>\n",
              "      <td>modelSVM</td>\n",
              "      <td>[0.65]</td>\n",
              "      <td>[0.39051248379533277]</td>\n",
              "      <td>{'gamma': 'auto', 'kernel': 'sigmoid', 'nu': 0.1}</td>\n",
              "    </tr>\n",
              "  </tbody>\n",
              "</table>\n",
              "</div>"
            ],
            "text/plain": [
              "            models  ...                                        Best params\n",
              "0  modelIsoForest   ...  {'bootstrap': True, 'contamination': 0, 'max_f...\n",
              "0         modelSVM  ...  {'gamma': 'auto', 'kernel': 'sigmoid', 'nu': 0.1}\n",
              "\n",
              "[2 rows x 4 columns]"
            ]
          },
          "metadata": {
            "tags": []
          },
          "execution_count": 37
        }
      ]
    },
    {
      "cell_type": "markdown",
      "metadata": {
        "id": "83PgTk8EDeb4",
        "colab_type": "text"
      },
      "source": [
        "# Best model evaluation with all users"
      ]
    },
    {
      "cell_type": "code",
      "metadata": {
        "colab_type": "code",
        "id": "rCUFTL6vDwwg",
        "colab": {}
      },
      "source": [
        "def MetricsBestParamsAllUsers(model, users, impostors):\n",
        "  \n",
        "  # create lists to store train and validation scores\n",
        "  test_score = []\n",
        "  FPR_score = []\n",
        "  TPR_score = []\n",
        "\n",
        "  for u in range(0,len(users)):\n",
        "\n",
        "    data = users[u]\n",
        "    Xtrain = data[:,0:54]\n",
        "    Ytrain = data[:,55]\n",
        "    Ytrain = Ytrain.astype(int)\n",
        "\n",
        "    dataI = impostors[u]\n",
        "    Xtest_Impostors = dataI[:,0:54]\n",
        "    Ytest_Impostors = dataI[:,55]\n",
        "    Ytest_Impostors=Ytest_Impostors.astype(int)\n",
        "\n",
        "    Xtrain_original, Xtest_original, Ytrain_original, Ytest_original = train_test_split(Xtrain, Ytrain, train_size=20)\n",
        "\n",
        "    Xtest_original = np.concatenate((Xtest_original,Xtest_Impostors)) \n",
        "    Ytest_original = np.concatenate((Ytest_original,Ytest_Impostors))\n",
        "\n",
        "    #Data Normalization\n",
        "    scaler = preprocessing.StandardScaler().fit(Xtrain_original)\n",
        "    Xtrain_original = scaler.transform(Xtrain_original)\n",
        "    Xtest_original = scaler.transform(Xtest_original)\n",
        "\n",
        "\n",
        "    model.fit(Xtrain_original)\n",
        "\n",
        "    y_predicted = model.predict(Xtest_original)\n",
        "\n",
        "    accuracy = accuracy_score(Ytest_original, y_predicted)\n",
        "\n",
        "    test_score.append(accuracy)\n",
        "\n",
        "    cm1 = confusion_matrix(Ytest_original,y_predicted)\n",
        "\n",
        "    specificity = cm1[1,1]/(cm1[1,0]+cm1[1,1])\n",
        "\n",
        "    FPR = 1 - specificity\n",
        "\n",
        "    FPR_score.append(FPR)\n",
        "    \n",
        "    TPR = recall_score(Ytest_original, y_predicted) \n",
        "\n",
        "    TPR_score.append(TPR)\n",
        "    \n",
        "  test_score = np.array(test_score)\n",
        "  FPR_score = np.array(FPR_score)\n",
        "  TPR_score = np.array(TPR_score)\n",
        "\n",
        "  meanTestAccuracy, meanFPRScore, meanTPRScore = np.mean(test_score), np.mean(FPR_score), np.mean(TPR_score)\n",
        "\n",
        "\n",
        "\n",
        "  users_index = np.linspace(0,25,26,dtype=int).tolist()\n",
        "  # meanAccuracyTrain[u] , meanAccuracyValid[u] , meanStdTrain[u], meanStdValid[u] = build_model(model, best_parameters, i, X,Y)\n",
        "  # data = {'User':users_index, 'Test_Accuracy':test_score, 'FPR_score': FPR_score , 'TPR_score':TPR_score}\n",
        "  data = {'Mean_Test_Accuracy':meanTestAccuracy, 'Mean_FPR_score': meanFPRScore , 'Mean_TPR_score':meanTPRScore}\n",
        "  df_split_params = pd.DataFrame(data, index=[0])\n",
        "     \n",
        "  return df_split_params"
      ],
      "execution_count": 0,
      "outputs": []
    },
    {
      "cell_type": "markdown",
      "metadata": {
        "id": "Q1lWX944wiup",
        "colab_type": "text"
      },
      "source": [
        "## IsolationForest best parameters"
      ]
    },
    {
      "cell_type": "code",
      "metadata": {
        "id": "nTbcKa03_Be0",
        "colab_type": "code",
        "colab": {}
      },
      "source": [
        "IsolationForest_best_params = IFParams\n",
        "\n",
        "IsolationForest__best_estimator = modelsAndGrids[0][1].set_params(**IsolationForest_best_params)"
      ],
      "execution_count": 0,
      "outputs": []
    },
    {
      "cell_type": "code",
      "metadata": {
        "id": "euzEzhkm_G_a",
        "colab_type": "code",
        "colab": {}
      },
      "source": [
        "metricsIF = MetricsBestParamsAllUsers(IsolationForest__best_estimator, listUserPin8, listUserPin8Impostors )"
      ],
      "execution_count": 0,
      "outputs": []
    },
    {
      "cell_type": "code",
      "metadata": {
        "id": "bDCjCCiJBq41",
        "colab_type": "code",
        "outputId": "7c348bc6-2efb-4908-d4e5-b638b218ef4e",
        "colab": {
          "base_uri": "https://localhost:8080/",
          "height": 79
        }
      },
      "source": [
        "metricsIF"
      ],
      "execution_count": 0,
      "outputs": [
        {
          "output_type": "execute_result",
          "data": {
            "text/html": [
              "<div>\n",
              "<style scoped>\n",
              "    .dataframe tbody tr th:only-of-type {\n",
              "        vertical-align: middle;\n",
              "    }\n",
              "\n",
              "    .dataframe tbody tr th {\n",
              "        vertical-align: top;\n",
              "    }\n",
              "\n",
              "    .dataframe thead th {\n",
              "        text-align: right;\n",
              "    }\n",
              "</style>\n",
              "<table border=\"1\" class=\"dataframe\">\n",
              "  <thead>\n",
              "    <tr style=\"text-align: right;\">\n",
              "      <th></th>\n",
              "      <th>Mean_Test_Accuracy</th>\n",
              "      <th>Mean_FPR_score</th>\n",
              "      <th>Mean_TPR_score</th>\n",
              "    </tr>\n",
              "  </thead>\n",
              "  <tbody>\n",
              "    <tr>\n",
              "      <th>0</th>\n",
              "      <td>0.5</td>\n",
              "      <td>0.0</td>\n",
              "      <td>1.0</td>\n",
              "    </tr>\n",
              "  </tbody>\n",
              "</table>\n",
              "</div>"
            ],
            "text/plain": [
              "   Mean_Test_Accuracy  Mean_FPR_score  Mean_TPR_score\n",
              "0                 0.5             0.0             1.0"
            ]
          },
          "metadata": {
            "tags": []
          },
          "execution_count": 41
        }
      ]
    },
    {
      "cell_type": "markdown",
      "metadata": {
        "id": "rLp4SHu3wnsc",
        "colab_type": "text"
      },
      "source": [
        "## OneClassSVM best parameters"
      ]
    },
    {
      "cell_type": "code",
      "metadata": {
        "id": "DLyscWL8C1eq",
        "colab_type": "code",
        "colab": {}
      },
      "source": [
        "SVM_best_params = SVMParams\n",
        "SVM__best_estimator = modelsAndGrids[1][1].set_params(**SVM_best_params)"
      ],
      "execution_count": 0,
      "outputs": []
    },
    {
      "cell_type": "code",
      "metadata": {
        "id": "Xvc8Q37BC7b7",
        "colab_type": "code",
        "colab": {}
      },
      "source": [
        "metricsSVM = MetricsBestParamsAllUsers(SVM__best_estimator,listUserPin8, listUserPin8Impostors)"
      ],
      "execution_count": 0,
      "outputs": []
    },
    {
      "cell_type": "code",
      "metadata": {
        "id": "UR3bcEK2DFBa",
        "colab_type": "code",
        "outputId": "e9b88526-1a80-488a-a9d2-d4e460415a07",
        "colab": {
          "base_uri": "https://localhost:8080/",
          "height": 79
        }
      },
      "source": [
        "metricsSVM"
      ],
      "execution_count": 0,
      "outputs": [
        {
          "output_type": "execute_result",
          "data": {
            "text/html": [
              "<div>\n",
              "<style scoped>\n",
              "    .dataframe tbody tr th:only-of-type {\n",
              "        vertical-align: middle;\n",
              "    }\n",
              "\n",
              "    .dataframe tbody tr th {\n",
              "        vertical-align: top;\n",
              "    }\n",
              "\n",
              "    .dataframe thead th {\n",
              "        text-align: right;\n",
              "    }\n",
              "</style>\n",
              "<table border=\"1\" class=\"dataframe\">\n",
              "  <thead>\n",
              "    <tr style=\"text-align: right;\">\n",
              "      <th></th>\n",
              "      <th>Mean_Test_Accuracy</th>\n",
              "      <th>Mean_FPR_score</th>\n",
              "      <th>Mean_TPR_score</th>\n",
              "    </tr>\n",
              "  </thead>\n",
              "  <tbody>\n",
              "    <tr>\n",
              "      <th>0</th>\n",
              "      <td>0.35</td>\n",
              "      <td>0.6</td>\n",
              "      <td>0.4</td>\n",
              "    </tr>\n",
              "  </tbody>\n",
              "</table>\n",
              "</div>"
            ],
            "text/plain": [
              "   Mean_Test_Accuracy  Mean_FPR_score  Mean_TPR_score\n",
              "0                0.35             0.6             0.4"
            ]
          },
          "metadata": {
            "tags": []
          },
          "execution_count": 44
        }
      ]
    },
    {
      "cell_type": "markdown",
      "metadata": {
        "id": "hg7h4jK9YS26",
        "colab_type": "text"
      },
      "source": [
        "## Builder model definition All Users"
      ]
    },
    {
      "cell_type": "code",
      "metadata": {
        "id": "VZyKw6b4Xz8w",
        "colab_type": "code",
        "colab": {}
      },
      "source": [
        "#Metrics: precision (precision_score), sensitivity (recall_score), \n",
        "from sklearn.metrics import confusion_matrix, precision_score, recall_score, accuracy_score\n",
        "def metricsAll(Ytrain,Yval,y_predict_train, y_predict_valid):\n",
        "  #print('Getting metrics...')\n",
        "\n",
        "  accuracyTrain = np.mean(y_predict_train.ravel() == Ytrain.ravel())\n",
        "\n",
        "  accuracyValid =np.mean(y_predict_valid.ravel() == Yval.ravel()) \n",
        "\n",
        "  cm1 = confusion_matrix(Yval,y_predict_valid)\n",
        "\n",
        "  specificity = cm1[1,1]/(cm1[1,0]+cm1[1,1])\n",
        "\n",
        "  FPR = 1 - specificity\n",
        "  \n",
        "  TPR = recall_score(Yval, y_predict_valid) \n",
        "\n",
        "  return accuracyTrain, accuracyValid, FPR, TPR  "
      ],
      "execution_count": 0,
      "outputs": []
    },
    {
      "cell_type": "code",
      "metadata": {
        "id": "vZRwEw05PyVn",
        "colab_type": "code",
        "colab": {}
      },
      "source": [
        "def build_model(model, parameters, train_size, X,Y,XImpostors,YImpostors):\n",
        "  # Xtrain_original, Xtest_original, Ytrain_original, Ytest_original = train_test_split(X, Y, train_size=20)\n",
        "  # Xtrain, Xtest, Ytrain, Ytest = train_test_split(X, Y, train_size=train_size)\n",
        "  #Data Normalization\n",
        "\n",
        "  Folds = 10\n",
        "  accuracyTrainFolds = np.zeros((Folds,1))\n",
        "  accuracyValidFolds = np.zeros((Folds,1))\n",
        "  FPRFolds = np.zeros((Folds,1))\n",
        "  TPRFolds = np.zeros((Folds,1))\n",
        "  j=0\n",
        "\n",
        "  for i in range(Folds):\n",
        "\n",
        "    Xtrain, Xtest, Ytrain, Ytest = train_test_split(X, Y, train_size=train_size)\n",
        "\n",
        "    Xtest = np.concatenate((Xtest,XImpostors)) \n",
        "    Ytest = np.concatenate((Ytest,YImpostors))\n",
        "\n",
        "    scaler = preprocessing.StandardScaler().fit(Xtrain)\n",
        "    Xtrain = scaler.transform(Xtrain)\n",
        "    Xtest = scaler.transform(Xtest)\n",
        "\n",
        "    \n",
        "    model.fit(Xtrain)\n",
        "\n",
        "    ypred_train = model.predict(Xtrain)\n",
        "\n",
        "    ypred_valid = model.predict(Xtest)\n",
        "\n",
        "\n",
        "    accuracyTrainFolds[i], accuracyValidFolds[i], FPRFolds[i], TPRFolds[i] = metricsAll(Ytrain,Ytest,ypred_train,ypred_valid)\n",
        "  \n",
        "  accuracyTrain, accuracyValid, stdTrain, stdValid, FPR, TPR = np.mean(accuracyTrainFolds), np.mean(accuracyValidFolds), np.std(accuracyTrainFolds), np.std(accuracyValidFolds), np.mean(FPRFolds), np.mean(TPRFolds)\n",
        "  return accuracyTrain, accuracyValid, stdTrain, stdValid, FPR, TPR\n"
      ],
      "execution_count": 0,
      "outputs": []
    },
    {
      "cell_type": "markdown",
      "metadata": {
        "id": "SDTqLllAbwFc",
        "colab_type": "text"
      },
      "source": [
        "# All users"
      ]
    },
    {
      "cell_type": "code",
      "metadata": {
        "id": "v-bTQ8FPCfy9",
        "colab_type": "code",
        "colab": {}
      },
      "source": [
        "def learning_curve_all_users( model, best_parameters , users, impostors, suptitle='', title='', xlabel='Training Set Size', ylabel='Acurracy'):\n",
        "\n",
        "  \"\"\"\n",
        "  Parameters\n",
        "  ----------\n",
        "  suptitle : str\n",
        "      Chart suptitle\n",
        "  title: str\n",
        "      Chart title\n",
        "  xlabel: str\n",
        "      Label for the X axis\n",
        "  ylabel: str\n",
        "      Label for the y axis\n",
        "  Returns\n",
        "  -------\n",
        "  Plot of learning curves\n",
        "  \"\"\"\n",
        "\n",
        "  # create lists to store train and validation scores\n",
        "  train_score = []\n",
        "  val_score = []\n",
        "  std_train= []\n",
        "  std_val=[]\n",
        "  FPR_score=[]\n",
        "  TPR_score=[]\n",
        "\n",
        "  training_set_sizes = np.linspace(5,24,19,dtype=int).tolist()\n",
        "\n",
        "  for i in training_set_sizes:\n",
        "    meanAccuracyValid = np.zeros((len(users),1))\n",
        "    meanAccuracyTrain = np.zeros((len(users),1))\n",
        "    meanStdValid = np.zeros((len(users),1))\n",
        "    meanStdTrain = np.zeros((len(users),1))\n",
        "    meanFPR = np.zeros((len(users),1))\n",
        "    meanTPR = np.zeros((len(users),1))\n",
        "\n",
        "    for u in range(0,len(users)):\n",
        "      data = users[u]\n",
        "      Xtrain_original = data[:,0:54]\n",
        "      Ytrain_original = data[:,55]\n",
        "      Ytrain_original = Ytrain_original.astype(int)\n",
        "\n",
        "      dataI = impostors[u]\n",
        "      Xtest_original = dataI[:,0:54]\n",
        "      Ytest_original = dataI[:,55]\n",
        "      Ytest_original=Ytest_original.astype(int)\n",
        "\n",
        "      X=Xtrain_original\n",
        "      Y=Ytrain_original\n",
        "        \n",
        "      meanAccuracyTrain[u] , meanAccuracyValid[u] , meanStdTrain[u], meanStdValid[u], meanFPR[u], meanTPR[u] = build_model(model, best_parameters, i, X,Y,Xtest_original,Ytest_original)\n",
        "    EfficiencyTrain, EfficiencyVal, stdTrain, stdVal, FPR, TPR = np.mean(meanAccuracyTrain), np.mean(meanAccuracyValid), np.mean(meanStdTrain), np.mean(meanStdValid), np.mean(meanFPR), np.mean(meanTPR)\n",
        "\n",
        "    # store the scores in their respective lists\n",
        "    train_score.append(EfficiencyTrain)\n",
        "    val_score.append(EfficiencyVal)\n",
        "    std_train.append(stdTrain)\n",
        "    std_val.append(stdVal)\n",
        "    FPR_score.append(FPR)\n",
        "    TPR_score.append(TPR)\n",
        "\n",
        "  train_score =np.array(train_score)\n",
        "  val_score =np.array(val_score)\n",
        "  std_train =np.array(std_train)\n",
        "  std_val =np.array(std_val)\n",
        "  FPR_score =np.array(FPR_score)\n",
        "  TPR_score =np.array(TPR_score)\n",
        "\n",
        "\n",
        "  # plot learning curves\n",
        "  fig, ax = plt.subplots(figsize=(14, 9))\n",
        "  ax.plot(training_set_sizes, train_score, c='gold')\n",
        "  ax.plot(training_set_sizes, val_score, c='steelblue')\n",
        "  \n",
        "  ax.fill_between(training_set_sizes,train_score+std_train,train_score-std_train,facecolor='gold',alpha=0.5)\n",
        "  ax.fill_between(training_set_sizes,val_score+std_val,val_score-std_val,facecolor='steelblue',alpha=0.5)\n",
        "\n",
        "  # format the chart to make it look nice\n",
        "  fig.suptitle(suptitle, fontweight='bold', fontsize='20')\n",
        "  ax.set_title(title, size=20)\n",
        "  ax.set_xlabel(xlabel, size=16)\n",
        "  ax.set_ylabel(ylabel, size=16)\n",
        "  ax.legend(['Train set', 'Test set'], fontsize=16)\n",
        "  ax.tick_params(axis='both', labelsize=12)\n",
        "  ax.set_ylim(0, 1)\n",
        "\n",
        "  def percentages(x, pos):\n",
        "      \"\"\"The two args are the value and tick position\"\"\"\n",
        "      if x < 1:\n",
        "          return '{:1.0f}'.format(x*100)\n",
        "      return '{:1.0f}%'.format(x*100)\n",
        "\n",
        "  def numbers(x, pos):\n",
        "      \"\"\"The two args are the value and tick position\"\"\"\n",
        "      if x >= 1000:\n",
        "          return '{:1,.0f}'.format(x)\n",
        "      return '{:1.0f}'.format(x)\n",
        "\n",
        "  data = {'Train_Size':training_set_sizes, 'mean_train_Accuracy':train_score,'mean_test_Accuracy':val_score,'std_train_Accuracy':std_train,'std_test_Accuracy':std_val, 'FPR_score': FPR_score , 'TPR_score':TPR_score}\n",
        "  df_split_params = pd.DataFrame(data)\n",
        "  return df_split_params"
      ],
      "execution_count": 0,
      "outputs": []
    },
    {
      "cell_type": "code",
      "metadata": {
        "id": "SNNgHdltu5pV",
        "colab_type": "code",
        "outputId": "58d49170-04ca-4b97-ae6a-98c867f7c2b8",
        "colab": {
          "base_uri": "https://localhost:8080/",
          "height": 564
        }
      },
      "source": [
        "df_split_all_users_IF = learning_curve_all_users(model=IsolationForest__best_estimator,best_parameters=IsolationForest_best_params, users=listUserPin8,impostors=listUserPin8Impostors)"
      ],
      "execution_count": 0,
      "outputs": [
        {
          "output_type": "display_data",
          "data": {
            "image/png": "[encoded data removed]",
            "text/plain": [
              "<Figure size 1008x648 with 1 Axes>"
            ]
          },
          "metadata": {
            "tags": [],
            "needs_background": "light"
          }
        }
      ]
    },
    {
      "cell_type": "code",
      "metadata": {
        "id": "2FiYXktm5KJN",
        "colab_type": "code",
        "outputId": "17b3d031-e910-4716-e9c9-099182a18495",
        "colab": {
          "base_uri": "https://localhost:8080/",
          "height": 631
        }
      },
      "source": [
        "df_split_all_users_IF"
      ],
      "execution_count": 0,
      "outputs": [
        {
          "output_type": "execute_result",
          "data": {
            "text/html": [
              "<div>\n",
              "<style scoped>\n",
              "    .dataframe tbody tr th:only-of-type {\n",
              "        vertical-align: middle;\n",
              "    }\n",
              "\n",
              "    .dataframe tbody tr th {\n",
              "        vertical-align: top;\n",
              "    }\n",
              "\n",
              "    .dataframe thead th {\n",
              "        text-align: right;\n",
              "    }\n",
              "</style>\n",
              "<table border=\"1\" class=\"dataframe\">\n",
              "  <thead>\n",
              "    <tr style=\"text-align: right;\">\n",
              "      <th></th>\n",
              "      <th>Train_Size</th>\n",
              "      <th>mean_train_Accuracy</th>\n",
              "      <th>mean_test_Accuracy</th>\n",
              "      <th>std_train_Accuracy</th>\n",
              "      <th>std_test_Accuracy</th>\n",
              "      <th>FPR_score</th>\n",
              "      <th>TPR_score</th>\n",
              "    </tr>\n",
              "  </thead>\n",
              "  <tbody>\n",
              "    <tr>\n",
              "      <th>0</th>\n",
              "      <td>5</td>\n",
              "      <td>1.0</td>\n",
              "      <td>0.776000</td>\n",
              "      <td>0.0</td>\n",
              "      <td>0.057736</td>\n",
              "      <td>0.062500</td>\n",
              "      <td>0.937500</td>\n",
              "    </tr>\n",
              "    <tr>\n",
              "      <th>1</th>\n",
              "      <td>6</td>\n",
              "      <td>1.0</td>\n",
              "      <td>0.710417</td>\n",
              "      <td>0.0</td>\n",
              "      <td>0.090827</td>\n",
              "      <td>0.113158</td>\n",
              "      <td>0.886842</td>\n",
              "    </tr>\n",
              "    <tr>\n",
              "      <th>2</th>\n",
              "      <td>7</td>\n",
              "      <td>1.0</td>\n",
              "      <td>0.765217</td>\n",
              "      <td>0.0</td>\n",
              "      <td>0.029137</td>\n",
              "      <td>0.027778</td>\n",
              "      <td>0.972222</td>\n",
              "    </tr>\n",
              "    <tr>\n",
              "      <th>3</th>\n",
              "      <td>8</td>\n",
              "      <td>1.0</td>\n",
              "      <td>0.738636</td>\n",
              "      <td>0.0</td>\n",
              "      <td>0.057081</td>\n",
              "      <td>0.052941</td>\n",
              "      <td>0.947059</td>\n",
              "    </tr>\n",
              "    <tr>\n",
              "      <th>4</th>\n",
              "      <td>9</td>\n",
              "      <td>1.0</td>\n",
              "      <td>0.702381</td>\n",
              "      <td>0.0</td>\n",
              "      <td>0.078762</td>\n",
              "      <td>0.084375</td>\n",
              "      <td>0.915625</td>\n",
              "    </tr>\n",
              "    <tr>\n",
              "      <th>5</th>\n",
              "      <td>10</td>\n",
              "      <td>1.0</td>\n",
              "      <td>0.690000</td>\n",
              "      <td>0.0</td>\n",
              "      <td>0.065513</td>\n",
              "      <td>0.083333</td>\n",
              "      <td>0.916667</td>\n",
              "    </tr>\n",
              "    <tr>\n",
              "      <th>6</th>\n",
              "      <td>11</td>\n",
              "      <td>1.0</td>\n",
              "      <td>0.723684</td>\n",
              "      <td>0.0</td>\n",
              "      <td>0.060249</td>\n",
              "      <td>0.039286</td>\n",
              "      <td>0.960714</td>\n",
              "    </tr>\n",
              "    <tr>\n",
              "      <th>7</th>\n",
              "      <td>12</td>\n",
              "      <td>1.0</td>\n",
              "      <td>0.694444</td>\n",
              "      <td>0.0</td>\n",
              "      <td>0.054134</td>\n",
              "      <td>0.065385</td>\n",
              "      <td>0.934615</td>\n",
              "    </tr>\n",
              "    <tr>\n",
              "      <th>8</th>\n",
              "      <td>13</td>\n",
              "      <td>1.0</td>\n",
              "      <td>0.682353</td>\n",
              "      <td>0.0</td>\n",
              "      <td>0.071490</td>\n",
              "      <td>0.062500</td>\n",
              "      <td>0.937500</td>\n",
              "    </tr>\n",
              "    <tr>\n",
              "      <th>9</th>\n",
              "      <td>14</td>\n",
              "      <td>1.0</td>\n",
              "      <td>0.671875</td>\n",
              "      <td>0.0</td>\n",
              "      <td>0.086801</td>\n",
              "      <td>0.045455</td>\n",
              "      <td>0.954545</td>\n",
              "    </tr>\n",
              "    <tr>\n",
              "      <th>10</th>\n",
              "      <td>15</td>\n",
              "      <td>1.0</td>\n",
              "      <td>0.663333</td>\n",
              "      <td>0.0</td>\n",
              "      <td>0.044780</td>\n",
              "      <td>0.020000</td>\n",
              "      <td>0.980000</td>\n",
              "    </tr>\n",
              "    <tr>\n",
              "      <th>11</th>\n",
              "      <td>16</td>\n",
              "      <td>1.0</td>\n",
              "      <td>0.635714</td>\n",
              "      <td>0.0</td>\n",
              "      <td>0.041950</td>\n",
              "      <td>0.027778</td>\n",
              "      <td>0.972222</td>\n",
              "    </tr>\n",
              "    <tr>\n",
              "      <th>12</th>\n",
              "      <td>17</td>\n",
              "      <td>1.0</td>\n",
              "      <td>0.592308</td>\n",
              "      <td>0.0</td>\n",
              "      <td>0.042547</td>\n",
              "      <td>0.043750</td>\n",
              "      <td>0.956250</td>\n",
              "    </tr>\n",
              "    <tr>\n",
              "      <th>13</th>\n",
              "      <td>18</td>\n",
              "      <td>1.0</td>\n",
              "      <td>0.566667</td>\n",
              "      <td>0.0</td>\n",
              "      <td>0.046093</td>\n",
              "      <td>0.035714</td>\n",
              "      <td>0.964286</td>\n",
              "    </tr>\n",
              "    <tr>\n",
              "      <th>14</th>\n",
              "      <td>19</td>\n",
              "      <td>1.0</td>\n",
              "      <td>0.540909</td>\n",
              "      <td>0.0</td>\n",
              "      <td>0.033964</td>\n",
              "      <td>0.025000</td>\n",
              "      <td>0.975000</td>\n",
              "    </tr>\n",
              "    <tr>\n",
              "      <th>15</th>\n",
              "      <td>20</td>\n",
              "      <td>1.0</td>\n",
              "      <td>0.485000</td>\n",
              "      <td>0.0</td>\n",
              "      <td>0.068166</td>\n",
              "      <td>0.050000</td>\n",
              "      <td>0.950000</td>\n",
              "    </tr>\n",
              "    <tr>\n",
              "      <th>16</th>\n",
              "      <td>21</td>\n",
              "      <td>1.0</td>\n",
              "      <td>0.433333</td>\n",
              "      <td>0.0</td>\n",
              "      <td>0.042125</td>\n",
              "      <td>0.050000</td>\n",
              "      <td>0.950000</td>\n",
              "    </tr>\n",
              "    <tr>\n",
              "      <th>17</th>\n",
              "      <td>22</td>\n",
              "      <td>1.0</td>\n",
              "      <td>0.387500</td>\n",
              "      <td>0.0</td>\n",
              "      <td>0.037500</td>\n",
              "      <td>0.016667</td>\n",
              "      <td>0.983333</td>\n",
              "    </tr>\n",
              "    <tr>\n",
              "      <th>18</th>\n",
              "      <td>24</td>\n",
              "      <td>1.0</td>\n",
              "      <td>0.166667</td>\n",
              "      <td>0.0</td>\n",
              "      <td>0.037268</td>\n",
              "      <td>0.050000</td>\n",
              "      <td>0.950000</td>\n",
              "    </tr>\n",
              "  </tbody>\n",
              "</table>\n",
              "</div>"
            ],
            "text/plain": [
              "    Train_Size  mean_train_Accuracy  ...  FPR_score  TPR_score\n",
              "0            5                  1.0  ...   0.062500   0.937500\n",
              "1            6                  1.0  ...   0.113158   0.886842\n",
              "2            7                  1.0  ...   0.027778   0.972222\n",
              "3            8                  1.0  ...   0.052941   0.947059\n",
              "4            9                  1.0  ...   0.084375   0.915625\n",
              "5           10                  1.0  ...   0.083333   0.916667\n",
              "6           11                  1.0  ...   0.039286   0.960714\n",
              "7           12                  1.0  ...   0.065385   0.934615\n",
              "8           13                  1.0  ...   0.062500   0.937500\n",
              "9           14                  1.0  ...   0.045455   0.954545\n",
              "10          15                  1.0  ...   0.020000   0.980000\n",
              "11          16                  1.0  ...   0.027778   0.972222\n",
              "12          17                  1.0  ...   0.043750   0.956250\n",
              "13          18                  1.0  ...   0.035714   0.964286\n",
              "14          19                  1.0  ...   0.025000   0.975000\n",
              "15          20                  1.0  ...   0.050000   0.950000\n",
              "16          21                  1.0  ...   0.050000   0.950000\n",
              "17          22                  1.0  ...   0.016667   0.983333\n",
              "18          24                  1.0  ...   0.050000   0.950000\n",
              "\n",
              "[19 rows x 7 columns]"
            ]
          },
          "metadata": {
            "tags": []
          },
          "execution_count": 49
        }
      ]
    },
    {
      "cell_type": "code",
      "metadata": {
        "id": "5K0Q-Rim42fV",
        "colab_type": "code",
        "outputId": "27339690-a730-4c21-852f-c399be835aca",
        "colab": {
          "base_uri": "https://localhost:8080/",
          "height": 564
        }
      },
      "source": [
        "df_split_all_users_SVM = learning_curve_all_users(model=SVM__best_estimator,best_parameters=SVM_best_params, users=listUserPin8,impostors=listUserPin8Impostors)"
      ],
      "execution_count": 0,
      "outputs": [
        {
          "output_type": "display_data",
          "data": {
            "image/png": "[encoded data removed]",
            "text/plain": [
              "<Figure size 1008x648 with 1 Axes>"
            ]
          },
          "metadata": {
            "tags": [],
            "needs_background": "light"
          }
        }
      ]
    },
    {
      "cell_type": "code",
      "metadata": {
        "id": "vaEYNCHL5LzT",
        "colab_type": "code",
        "outputId": "dc66b406-eb5f-430d-c4f1-e62ef54a4119",
        "colab": {
          "base_uri": "https://localhost:8080/",
          "height": 631
        }
      },
      "source": [
        "df_split_all_users_SVM"
      ],
      "execution_count": 0,
      "outputs": [
        {
          "output_type": "execute_result",
          "data": {
            "text/html": [
              "<div>\n",
              "<style scoped>\n",
              "    .dataframe tbody tr th:only-of-type {\n",
              "        vertical-align: middle;\n",
              "    }\n",
              "\n",
              "    .dataframe tbody tr th {\n",
              "        vertical-align: top;\n",
              "    }\n",
              "\n",
              "    .dataframe thead th {\n",
              "        text-align: right;\n",
              "    }\n",
              "</style>\n",
              "<table border=\"1\" class=\"dataframe\">\n",
              "  <thead>\n",
              "    <tr style=\"text-align: right;\">\n",
              "      <th></th>\n",
              "      <th>Train_Size</th>\n",
              "      <th>mean_train_Accuracy</th>\n",
              "      <th>mean_test_Accuracy</th>\n",
              "      <th>std_train_Accuracy</th>\n",
              "      <th>std_test_Accuracy</th>\n",
              "      <th>FPR_score</th>\n",
              "      <th>TPR_score</th>\n",
              "    </tr>\n",
              "  </thead>\n",
              "  <tbody>\n",
              "    <tr>\n",
              "      <th>0</th>\n",
              "      <td>5</td>\n",
              "      <td>0.500000</td>\n",
              "      <td>0.748000</td>\n",
              "      <td>0.140641</td>\n",
              "      <td>0.073502</td>\n",
              "      <td>0.090000</td>\n",
              "      <td>0.910000</td>\n",
              "    </tr>\n",
              "    <tr>\n",
              "      <th>1</th>\n",
              "      <td>6</td>\n",
              "      <td>0.508333</td>\n",
              "      <td>0.739583</td>\n",
              "      <td>0.169904</td>\n",
              "      <td>0.075365</td>\n",
              "      <td>0.097368</td>\n",
              "      <td>0.902632</td>\n",
              "    </tr>\n",
              "    <tr>\n",
              "      <th>2</th>\n",
              "      <td>7</td>\n",
              "      <td>0.514286</td>\n",
              "      <td>0.728261</td>\n",
              "      <td>0.120223</td>\n",
              "      <td>0.069153</td>\n",
              "      <td>0.119444</td>\n",
              "      <td>0.880556</td>\n",
              "    </tr>\n",
              "    <tr>\n",
              "      <th>3</th>\n",
              "      <td>8</td>\n",
              "      <td>0.443750</td>\n",
              "      <td>0.652273</td>\n",
              "      <td>0.123565</td>\n",
              "      <td>0.096690</td>\n",
              "      <td>0.161765</td>\n",
              "      <td>0.838235</td>\n",
              "    </tr>\n",
              "    <tr>\n",
              "      <th>4</th>\n",
              "      <td>9</td>\n",
              "      <td>0.533333</td>\n",
              "      <td>0.623810</td>\n",
              "      <td>0.092407</td>\n",
              "      <td>0.095813</td>\n",
              "      <td>0.228125</td>\n",
              "      <td>0.771875</td>\n",
              "    </tr>\n",
              "    <tr>\n",
              "      <th>5</th>\n",
              "      <td>10</td>\n",
              "      <td>0.550000</td>\n",
              "      <td>0.625000</td>\n",
              "      <td>0.148191</td>\n",
              "      <td>0.104195</td>\n",
              "      <td>0.186667</td>\n",
              "      <td>0.813333</td>\n",
              "    </tr>\n",
              "    <tr>\n",
              "      <th>6</th>\n",
              "      <td>11</td>\n",
              "      <td>0.586364</td>\n",
              "      <td>0.594737</td>\n",
              "      <td>0.084457</td>\n",
              "      <td>0.055394</td>\n",
              "      <td>0.221429</td>\n",
              "      <td>0.778571</td>\n",
              "    </tr>\n",
              "    <tr>\n",
              "      <th>7</th>\n",
              "      <td>12</td>\n",
              "      <td>0.550000</td>\n",
              "      <td>0.580556</td>\n",
              "      <td>0.098591</td>\n",
              "      <td>0.079442</td>\n",
              "      <td>0.253846</td>\n",
              "      <td>0.746154</td>\n",
              "    </tr>\n",
              "    <tr>\n",
              "      <th>8</th>\n",
              "      <td>13</td>\n",
              "      <td>0.584615</td>\n",
              "      <td>0.597059</td>\n",
              "      <td>0.066986</td>\n",
              "      <td>0.087063</td>\n",
              "      <td>0.233333</td>\n",
              "      <td>0.766667</td>\n",
              "    </tr>\n",
              "    <tr>\n",
              "      <th>9</th>\n",
              "      <td>14</td>\n",
              "      <td>0.682143</td>\n",
              "      <td>0.496875</td>\n",
              "      <td>0.091604</td>\n",
              "      <td>0.095355</td>\n",
              "      <td>0.322727</td>\n",
              "      <td>0.677273</td>\n",
              "    </tr>\n",
              "    <tr>\n",
              "      <th>10</th>\n",
              "      <td>15</td>\n",
              "      <td>0.623333</td>\n",
              "      <td>0.496667</td>\n",
              "      <td>0.066327</td>\n",
              "      <td>0.108341</td>\n",
              "      <td>0.315000</td>\n",
              "      <td>0.685000</td>\n",
              "    </tr>\n",
              "    <tr>\n",
              "      <th>11</th>\n",
              "      <td>16</td>\n",
              "      <td>0.653125</td>\n",
              "      <td>0.503571</td>\n",
              "      <td>0.088938</td>\n",
              "      <td>0.149309</td>\n",
              "      <td>0.288889</td>\n",
              "      <td>0.711111</td>\n",
              "    </tr>\n",
              "    <tr>\n",
              "      <th>12</th>\n",
              "      <td>17</td>\n",
              "      <td>0.652941</td>\n",
              "      <td>0.511538</td>\n",
              "      <td>0.056810</td>\n",
              "      <td>0.091179</td>\n",
              "      <td>0.225000</td>\n",
              "      <td>0.775000</td>\n",
              "    </tr>\n",
              "    <tr>\n",
              "      <th>13</th>\n",
              "      <td>18</td>\n",
              "      <td>0.677778</td>\n",
              "      <td>0.470833</td>\n",
              "      <td>0.069328</td>\n",
              "      <td>0.104394</td>\n",
              "      <td>0.300000</td>\n",
              "      <td>0.700000</td>\n",
              "    </tr>\n",
              "    <tr>\n",
              "      <th>14</th>\n",
              "      <td>19</td>\n",
              "      <td>0.715789</td>\n",
              "      <td>0.495455</td>\n",
              "      <td>0.086622</td>\n",
              "      <td>0.118722</td>\n",
              "      <td>0.241667</td>\n",
              "      <td>0.758333</td>\n",
              "    </tr>\n",
              "    <tr>\n",
              "      <th>15</th>\n",
              "      <td>20</td>\n",
              "      <td>0.722500</td>\n",
              "      <td>0.455000</td>\n",
              "      <td>0.077390</td>\n",
              "      <td>0.085235</td>\n",
              "      <td>0.250000</td>\n",
              "      <td>0.750000</td>\n",
              "    </tr>\n",
              "    <tr>\n",
              "      <th>16</th>\n",
              "      <td>21</td>\n",
              "      <td>0.697619</td>\n",
              "      <td>0.411111</td>\n",
              "      <td>0.055233</td>\n",
              "      <td>0.105833</td>\n",
              "      <td>0.262500</td>\n",
              "      <td>0.737500</td>\n",
              "    </tr>\n",
              "    <tr>\n",
              "      <th>17</th>\n",
              "      <td>22</td>\n",
              "      <td>0.738636</td>\n",
              "      <td>0.381250</td>\n",
              "      <td>0.055015</td>\n",
              "      <td>0.123062</td>\n",
              "      <td>0.283333</td>\n",
              "      <td>0.716667</td>\n",
              "    </tr>\n",
              "    <tr>\n",
              "      <th>18</th>\n",
              "      <td>24</td>\n",
              "      <td>0.739583</td>\n",
              "      <td>0.266667</td>\n",
              "      <td>0.054073</td>\n",
              "      <td>0.078359</td>\n",
              "      <td>0.100000</td>\n",
              "      <td>0.900000</td>\n",
              "    </tr>\n",
              "  </tbody>\n",
              "</table>\n",
              "</div>"
            ],
            "text/plain": [
              "    Train_Size  mean_train_Accuracy  ...  FPR_score  TPR_score\n",
              "0            5             0.500000  ...   0.090000   0.910000\n",
              "1            6             0.508333  ...   0.097368   0.902632\n",
              "2            7             0.514286  ...   0.119444   0.880556\n",
              "3            8             0.443750  ...   0.161765   0.838235\n",
              "4            9             0.533333  ...   0.228125   0.771875\n",
              "5           10             0.550000  ...   0.186667   0.813333\n",
              "6           11             0.586364  ...   0.221429   0.778571\n",
              "7           12             0.550000  ...   0.253846   0.746154\n",
              "8           13             0.584615  ...   0.233333   0.766667\n",
              "9           14             0.682143  ...   0.322727   0.677273\n",
              "10          15             0.623333  ...   0.315000   0.685000\n",
              "11          16             0.653125  ...   0.288889   0.711111\n",
              "12          17             0.652941  ...   0.225000   0.775000\n",
              "13          18             0.677778  ...   0.300000   0.700000\n",
              "14          19             0.715789  ...   0.241667   0.758333\n",
              "15          20             0.722500  ...   0.250000   0.750000\n",
              "16          21             0.697619  ...   0.262500   0.737500\n",
              "17          22             0.738636  ...   0.283333   0.716667\n",
              "18          24             0.739583  ...   0.100000   0.900000\n",
              "\n",
              "[19 rows x 7 columns]"
            ]
          },
          "metadata": {
            "tags": []
          },
          "execution_count": 51
        }
      ]
    }
  ]
}