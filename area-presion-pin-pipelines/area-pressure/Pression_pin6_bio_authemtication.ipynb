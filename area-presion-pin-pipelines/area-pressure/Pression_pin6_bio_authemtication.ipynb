{
  "nbformat": 4,
  "nbformat_minor": 0,
  "metadata": {
    "kernelspec": {
      "display_name": "Python 3",
      "language": "python",
      "name": "python3"
    },
    "language_info": {
      "codemirror_mode": {
        "name": "ipython",
        "version": 3
      },
      "file_extension": ".py",
      "mimetype": "text/x-python",
      "name": "python",
      "nbconvert_exporter": "python",
      "pygments_lexer": "ipython3",
      "version": "3.7.0"
    },
    "colab": {
      "name": "Pression-pin6 bio-authemtication.ipynb",
      "provenance": [],
      "collapsed_sections": [],
      "toc_visible": true
    }
  },
  "cells": [
    {
      "cell_type": "code",
      "metadata": {
        "id": "n91bGhxrvrw-",
        "colab_type": "code",
        "outputId": "c637dbe2-b84a-4580-b173-63202284c7cd",
        "colab": {
          "base_uri": "https://localhost:8080/",
          "height": 72
        }
      },
      "source": [
        "from __future__ import division\n",
        "import math\n",
        "import matplotlib.pyplot as plt\n",
        "\n",
        "import pandas as pd # to import csv and for data manipulation\n",
        "import matplotlib.pyplot as plt # to plot graph\n",
        "import seaborn as sns # for intractve graphs\n",
        "import numpy as np # for linear algebra\n",
        "import datetime # to dela with date and time\n",
        "%matplotlib inline\n",
        "from sklearn.preprocessing import StandardScaler # for preprocessing the data\n",
        "from sklearn.ensemble import RandomForestClassifier # Random forest classifier\n",
        "from sklearn.tree import DecisionTreeClassifier # for Decision Tree classifier\n",
        "from sklearn.svm import SVC # for SVM classification\n",
        "from sklearn.linear_model import LogisticRegression\n",
        "from sklearn.model_selection import train_test_split # to split the data\n",
        "from sklearn.model_selection import KFold # For cross vbalidation\n",
        "from sklearn.model_selection import GridSearchCV # for tunnig hyper parameter it will use all combination of given parameters\n",
        "from sklearn.model_selection import RandomizedSearchCV # same for tunning hyper parameter but will use random combinations of parameters\n",
        "from sklearn.metrics import confusion_matrix,recall_score,precision_recall_curve,auc,roc_curve,roc_auc_score,classification_report\n",
        "import time\n",
        "\n",
        "import warnings\n",
        "warnings.filterwarnings('ignore')"
      ],
      "execution_count": 0,
      "outputs": [
        {
          "output_type": "stream",
          "text": [
            "/usr/local/lib/python3.6/dist-packages/statsmodels/tools/_testing.py:19: FutureWarning: pandas.util.testing is deprecated. Use the functions in the public API at pandas.testing instead.\n",
            "  import pandas.util.testing as tm\n"
          ],
          "name": "stderr"
        }
      ]
    },
    {
      "cell_type": "markdown",
      "metadata": {
        "id": "XGnjIIoWLpw8",
        "colab_type": "text"
      },
      "source": [
        "# Load data from Drive"
      ]
    },
    {
      "cell_type": "code",
      "metadata": {
        "id": "Etgr1laOcq6P",
        "colab_type": "code",
        "outputId": "e23d4182-0e4a-4a91-ab79-0106c5ff64ed",
        "colab": {
          "base_uri": "https://localhost:8080/",
          "height": 1000
        }
      },
      "source": [
        "! wget https://raw.githubusercontent.com/sidneyaguirre/python-bioauthentication/master/pressure/pins-Real-4.csv\n",
        "! wget https://raw.githubusercontent.com/sidneyaguirre/python-bioauthentication/master/pressure/pins-Real-6.csv\n",
        "! wget https://raw.githubusercontent.com/sidneyaguirre/python-bioauthentication/master/pressure/pins-Real-8.csv\n",
        "\n",
        "! wget https://raw.githubusercontent.com/sidneyaguirre/python-bioauthentication/master/pressure/pins-Impostor-4.csv\n",
        "! wget https://raw.githubusercontent.com/sidneyaguirre/python-bioauthentication/master/pressure/pins-Impostor-6.csv\n",
        "! wget https://raw.githubusercontent.com/sidneyaguirre/python-bioauthentication/master/pressure/pins-Impostor-8.csv"
      ],
      "execution_count": 0,
      "outputs": [
        {
          "output_type": "stream",
          "text": [
            "--2020-06-01 06:46:53--  https://raw.githubusercontent.com/sidneyaguirre/python-bioauthentication/master/pressure/pins-Real-4.csv\n",
            "Resolving raw.githubusercontent.com (raw.githubusercontent.com)... 151.101.0.133, 151.101.64.133, 151.101.128.133, ...\n",
            "Connecting to raw.githubusercontent.com (raw.githubusercontent.com)|151.101.0.133|:443... connected.\n",
            "HTTP request sent, awaiting response... 200 OK\n",
            "Length: 138507 (135K) [text/plain]\n",
            "Saving to: ‘pins-Real-4.csv’\n",
            "\n",
            "\rpins-Real-4.csv       0%[                    ]       0  --.-KB/s               \rpins-Real-4.csv     100%[===================>] 135.26K  --.-KB/s    in 0.04s   \n",
            "\n",
            "2020-06-01 06:46:53 (3.29 MB/s) - ‘pins-Real-4.csv’ saved [138507/138507]\n",
            "\n",
            "--2020-06-01 06:46:55--  https://raw.githubusercontent.com/sidneyaguirre/python-bioauthentication/master/pressure/pins-Real-6.csv\n",
            "Resolving raw.githubusercontent.com (raw.githubusercontent.com)... 151.101.0.133, 151.101.64.133, 151.101.128.133, ...\n",
            "Connecting to raw.githubusercontent.com (raw.githubusercontent.com)|151.101.0.133|:443... connected.\n",
            "HTTP request sent, awaiting response... 200 OK\n",
            "Length: 204080 (199K) [text/plain]\n",
            "Saving to: ‘pins-Real-6.csv’\n",
            "\n",
            "pins-Real-6.csv     100%[===================>] 199.30K  --.-KB/s    in 0.05s   \n",
            "\n",
            "2020-06-01 06:46:55 (3.96 MB/s) - ‘pins-Real-6.csv’ saved [204080/204080]\n",
            "\n",
            "--2020-06-01 06:46:57--  https://raw.githubusercontent.com/sidneyaguirre/python-bioauthentication/master/pressure/pins-Real-8.csv\n",
            "Resolving raw.githubusercontent.com (raw.githubusercontent.com)... 151.101.0.133, 151.101.64.133, 151.101.128.133, ...\n",
            "Connecting to raw.githubusercontent.com (raw.githubusercontent.com)|151.101.0.133|:443... connected.\n",
            "HTTP request sent, awaiting response... 200 OK\n",
            "Length: 269937 (264K) [text/plain]\n",
            "Saving to: ‘pins-Real-8.csv’\n",
            "\n",
            "pins-Real-8.csv     100%[===================>] 263.61K  --.-KB/s    in 0.05s   \n",
            "\n",
            "2020-06-01 06:46:57 (4.85 MB/s) - ‘pins-Real-8.csv’ saved [269937/269937]\n",
            "\n",
            "--2020-06-01 06:46:59--  https://raw.githubusercontent.com/sidneyaguirre/python-bioauthentication/master/pressure/pins-Impostor-4.csv\n",
            "Resolving raw.githubusercontent.com (raw.githubusercontent.com)... 151.101.0.133, 151.101.64.133, 151.101.128.133, ...\n",
            "Connecting to raw.githubusercontent.com (raw.githubusercontent.com)|151.101.0.133|:443... connected.\n",
            "HTTP request sent, awaiting response... 200 OK\n",
            "Length: 29218 (29K) [text/plain]\n",
            "Saving to: ‘pins-Impostor-4.csv’\n",
            "\n",
            "pins-Impostor-4.csv 100%[===================>]  28.53K  --.-KB/s    in 0.01s   \n",
            "\n",
            "2020-06-01 06:46:59 (2.27 MB/s) - ‘pins-Impostor-4.csv’ saved [29218/29218]\n",
            "\n",
            "--2020-06-01 06:47:00--  https://raw.githubusercontent.com/sidneyaguirre/python-bioauthentication/master/pressure/pins-Impostor-6.csv\n",
            "Resolving raw.githubusercontent.com (raw.githubusercontent.com)... 151.101.0.133, 151.101.64.133, 151.101.128.133, ...\n",
            "Connecting to raw.githubusercontent.com (raw.githubusercontent.com)|151.101.0.133|:443... connected.\n",
            "HTTP request sent, awaiting response... 200 OK\n",
            "Length: 42324 (41K) [text/plain]\n",
            "Saving to: ‘pins-Impostor-6.csv’\n",
            "\n",
            "pins-Impostor-6.csv 100%[===================>]  41.33K  --.-KB/s    in 0.03s   \n",
            "\n",
            "2020-06-01 06:47:00 (1.58 MB/s) - ‘pins-Impostor-6.csv’ saved [42324/42324]\n",
            "\n",
            "--2020-06-01 06:47:02--  https://raw.githubusercontent.com/sidneyaguirre/python-bioauthentication/master/pressure/pins-Impostor-8.csv\n",
            "Resolving raw.githubusercontent.com (raw.githubusercontent.com)... 151.101.0.133, 151.101.64.133, 151.101.128.133, ...\n",
            "Connecting to raw.githubusercontent.com (raw.githubusercontent.com)|151.101.0.133|:443... connected.\n",
            "HTTP request sent, awaiting response... 200 OK\n",
            "Length: 56799 (55K) [text/plain]\n",
            "Saving to: ‘pins-Impostor-8.csv’\n",
            "\n",
            "pins-Impostor-8.csv 100%[===================>]  55.47K  --.-KB/s    in 0.03s   \n",
            "\n",
            "2020-06-01 06:47:02 (2.03 MB/s) - ‘pins-Impostor-8.csv’ saved [56799/56799]\n",
            "\n"
          ],
          "name": "stdout"
        }
      ]
    },
    {
      "cell_type": "code",
      "metadata": {
        "id": "ftXMrVx6Rk8x",
        "colab_type": "code",
        "colab": {}
      },
      "source": [
        "#Data set csv files\n",
        "dataPin4 = pd.read_csv('pins-Real-4.csv')\n",
        "dataPin6 = pd.read_csv('pins-Real-6.csv')\n",
        "dataPin8 = pd.read_csv('pins-Real-8.csv')\n",
        "dataPin4Impostor = pd.read_csv('pins-Impostor-4.csv')\n",
        "dataPin6Impostor  = pd.read_csv('pins-Impostor-6.csv')\n",
        "dataPin8Impostor  = pd.read_csv('pins-Impostor-8.csv')"
      ],
      "execution_count": 0,
      "outputs": []
    },
    {
      "cell_type": "code",
      "metadata": {
        "id": "buFLPJFlCR1C",
        "colab_type": "code",
        "colab": {}
      },
      "source": [
        "listUsers = [19,33,43,44]"
      ],
      "execution_count": 0,
      "outputs": []
    },
    {
      "cell_type": "code",
      "metadata": {
        "id": "jIl8I8TtBeYn",
        "colab_type": "code",
        "outputId": "79040dcb-e75f-40fb-c2fe-e71ac15705d6",
        "colab": {
          "base_uri": "https://localhost:8080/",
          "height": 35
        }
      },
      "source": [
        "dataPin6.shape"
      ],
      "execution_count": 0,
      "outputs": [
        {
          "output_type": "execute_result",
          "data": {
            "text/plain": [
              "(675, 43)"
            ]
          },
          "metadata": {
            "tags": []
          },
          "execution_count": 5
        }
      ]
    },
    {
      "cell_type": "markdown",
      "metadata": {
        "id": "KD0-Zlh_L3Pg",
        "colab_type": "text"
      },
      "source": [
        "# Cleaning data"
      ]
    },
    {
      "cell_type": "markdown",
      "metadata": {
        "id": "uUC_N7XHvrxH",
        "colab_type": "text"
      },
      "source": [
        "Hence we can see there are 2911 rows and 72 columns"
      ]
    },
    {
      "cell_type": "code",
      "metadata": {
        "id": "LO5gk6fpXwKz",
        "colab_type": "code",
        "colab": {}
      },
      "source": [
        "#dataless-columns in dataPin are taken away\n",
        "def dataCleaning(data):\n",
        "  data = data.dropna(axis = 0, how = 'all')\n",
        "  return data"
      ],
      "execution_count": 0,
      "outputs": []
    },
    {
      "cell_type": "markdown",
      "metadata": {
        "id": "874AbdpovrxN",
        "colab_type": "text"
      },
      "source": [
        "data_new =data.dropna(axis=0,how='all')\n",
        "data_new.head()\n",
        "data_new.columns"
      ]
    },
    {
      "cell_type": "code",
      "metadata": {
        "id": "twa7MR3vl2CD",
        "colab_type": "code",
        "colab": {}
      },
      "source": [
        "def listUser(dataset, listUsers, target=1):\n",
        "\n",
        "  users = list() \n",
        "  cleaned_data = dataCleaning(dataset)\n",
        "  for i in listUsers:\n",
        "\n",
        "    df_user = cleaned_data[cleaned_data['user'] == i]\n",
        "    df_user['target'] = target\n",
        "    df_user.drop(['user','length'],axis=1, inplace=True)\n",
        "    user = df_user.values\n",
        "    users.append(user)\n",
        "      \n",
        "  return users"
      ],
      "execution_count": 0,
      "outputs": []
    },
    {
      "cell_type": "code",
      "metadata": {
        "id": "4xGtEjXe28fb",
        "colab_type": "code",
        "colab": {}
      },
      "source": [
        "listUserPin4 = listUser(dataPin4, listUsers)\n",
        "listUserPin6 = listUser(dataPin6, listUsers)\n",
        "listUserPin8 = listUser(dataPin8, listUsers)\n",
        "\n",
        "listUserPin4Impostors = listUser(dataPin4Impostor, listUsers, target = -1)\n",
        "listUserPin6Impostors = listUser(dataPin6Impostor, listUsers, target = -1)\n",
        "listUserPin8Impostors =listUser(dataPin8Impostor, listUsers, target = -1)"
      ],
      "execution_count": 0,
      "outputs": []
    },
    {
      "cell_type": "code",
      "metadata": {
        "id": "buCgMR03vrxb",
        "colab_type": "code",
        "colab": {}
      },
      "source": [
        "#ROC Curve\n",
        "def plot_roc_curve(fpr, tpr, label=None):\n",
        "    plt.plot(fpr, tpr, linewidth=2, label=label)\n",
        "    plt.plot([0, 1], [0, 1], 'k--')\n",
        "    plt.axis([0, 1, 0, 1])\n",
        "    plt.xlabel('False Positive Rate')\n",
        "    plt.ylabel('True Positive Rate')"
      ],
      "execution_count": 0,
      "outputs": []
    },
    {
      "cell_type": "code",
      "metadata": {
        "id": "ZQrgjHWNvrxk",
        "colab_type": "code",
        "colab": {}
      },
      "source": [
        "#Metrics: precision (precision_score), sensitivity (recall_score), \n",
        "from sklearn.metrics import confusion_matrix, precision_score, recall_score, accuracy_score\n",
        "def metrics(Ytrain,Yval,y_predict_train, y_predict_valid):\n",
        "  #print('Getting metrics...')\n",
        "\n",
        "  accuracyTrain = np.mean(y_predict_train.ravel() == Ytrain.ravel())\n",
        "\n",
        "  accuracyValid =np.mean(y_predict_valid.ravel() == Yval.ravel()) \n",
        "\n",
        "\n",
        "  return accuracyTrain, accuracyValid        "
      ],
      "execution_count": 0,
      "outputs": []
    },
    {
      "cell_type": "markdown",
      "metadata": {
        "id": "F2xLcKR4eApq",
        "colab_type": "text"
      },
      "source": [
        "## Get X and Y sets\n"
      ]
    },
    {
      "cell_type": "code",
      "metadata": {
        "id": "ve2Nx5YahyeM",
        "colab_type": "code",
        "colab": {}
      },
      "source": [
        "s = 1\n",
        "data = listUserPin6[s]\n",
        "Xtrain = data[:,0:40]\n",
        "Ytrain = data[:,41]\n",
        "Ytrain = Ytrain.astype(int)"
      ],
      "execution_count": 0,
      "outputs": []
    },
    {
      "cell_type": "code",
      "metadata": {
        "id": "nopWIdWNBICU",
        "colab_type": "code",
        "colab": {}
      },
      "source": [
        "s = 1\n",
        "dataI = listUserPin6Impostors[s]\n",
        "Xtest_Impostors = dataI[:,0:40]\n",
        "Ytest_Impostors = dataI[:,41]\n",
        "Ytest_Impostors = Ytest_Impostors.astype(int)"
      ],
      "execution_count": 0,
      "outputs": []
    },
    {
      "cell_type": "code",
      "metadata": {
        "id": "837HONm292WE",
        "colab_type": "code",
        "colab": {}
      },
      "source": [
        "Xtrain_original, Xtest_original, Ytrain_original, Ytest_original = train_test_split(Xtrain, Ytrain, train_size=20)"
      ],
      "execution_count": 0,
      "outputs": []
    },
    {
      "cell_type": "code",
      "metadata": {
        "id": "he4VVLAkcFE4",
        "colab_type": "code",
        "outputId": "d084f92c-0569-40ae-b23a-5872db94e2f6",
        "colab": {
          "base_uri": "https://localhost:8080/",
          "height": 35
        }
      },
      "source": [
        "Xtest_original = np.concatenate((Xtest_original,Xtest_Impostors)) \n",
        "Xtest_original.shape"
      ],
      "execution_count": 0,
      "outputs": [
        {
          "output_type": "execute_result",
          "data": {
            "text/plain": [
              "(10, 40)"
            ]
          },
          "metadata": {
            "tags": []
          },
          "execution_count": 16
        }
      ]
    },
    {
      "cell_type": "code",
      "metadata": {
        "id": "BdPb9HPWjB7a",
        "colab_type": "code",
        "outputId": "b0790a3c-959b-4c16-d7a4-83a947b37a71",
        "colab": {
          "base_uri": "https://localhost:8080/",
          "height": 35
        }
      },
      "source": [
        "Ytest_original = np.concatenate((Ytest_original,Ytest_Impostors)) \n",
        "Ytest_original.shape"
      ],
      "execution_count": 0,
      "outputs": [
        {
          "output_type": "execute_result",
          "data": {
            "text/plain": [
              "(10,)"
            ]
          },
          "metadata": {
            "tags": []
          },
          "execution_count": 17
        }
      ]
    },
    {
      "cell_type": "markdown",
      "metadata": {
        "id": "qS80_cetEBmV",
        "colab_type": "text"
      },
      "source": [
        "# Models"
      ]
    },
    {
      "cell_type": "code",
      "metadata": {
        "id": "uKoF5gvWZwr7",
        "colab_type": "code",
        "colab": {}
      },
      "source": [
        "# MODELS\n",
        "from sklearn.ensemble import IsolationForest\n",
        "from sklearn import svm"
      ],
      "execution_count": 0,
      "outputs": []
    },
    {
      "cell_type": "code",
      "metadata": {
        "id": "Q6RiHXuroAhb",
        "colab_type": "code",
        "colab": {}
      },
      "source": [
        "modelIsoForest = IsolationForest()\n",
        "modelSVM = svm.OneClassSVM()"
      ],
      "execution_count": 0,
      "outputs": []
    },
    {
      "cell_type": "markdown",
      "metadata": {
        "id": "8CqKqvow2KNz",
        "colab_type": "text"
      },
      "source": [
        "## Manual Grid Search"
      ]
    },
    {
      "cell_type": "code",
      "metadata": {
        "id": "u-b0V2Ge1M-T",
        "colab_type": "code",
        "colab": {}
      },
      "source": [
        "from sklearn.model_selection import ParameterGrid\n",
        "\n",
        "gridSVM = {'nu' : [0.00001, 0.0001, 0.001, 0.01, 0.1], 'gamma' : ['scale', 'auto'], 'kernel': ['linear', 'poly', 'rbf', 'sigmoid']}\n",
        "\n",
        "gridIsoForest = {'n_estimators': list(range(5, 25, 4)), \n",
        "                'max_samples': ['auto'], \n",
        "                'contamination': [0, 0.5], \n",
        "                'max_features': [5,10,15,20], \n",
        "                'bootstrap': [True,False], \n",
        "                'n_jobs': [-1]}"
      ],
      "execution_count": 0,
      "outputs": []
    },
    {
      "cell_type": "code",
      "metadata": {
        "id": "9dlQSRQO6GDI",
        "colab_type": "code",
        "outputId": "62726b66-799a-4851-fc9a-d7b41307b18f",
        "colab": {
          "base_uri": "https://localhost:8080/",
          "height": 35
        }
      },
      "source": [
        "list(ParameterGrid(gridSVM))\n",
        "len(list(ParameterGrid(gridSVM)))"
      ],
      "execution_count": 0,
      "outputs": [
        {
          "output_type": "execute_result",
          "data": {
            "text/plain": [
              "40"
            ]
          },
          "metadata": {
            "tags": []
          },
          "execution_count": 21
        }
      ]
    },
    {
      "cell_type": "code",
      "metadata": {
        "id": "BVd02XpotYEp",
        "colab_type": "code",
        "outputId": "18be19bc-0706-4f16-b322-d0a597d2a63a",
        "colab": {
          "base_uri": "https://localhost:8080/",
          "height": 35
        }
      },
      "source": [
        "list(ParameterGrid(gridIsoForest))\n",
        "len(list(ParameterGrid(gridIsoForest)))"
      ],
      "execution_count": 0,
      "outputs": [
        {
          "output_type": "execute_result",
          "data": {
            "text/plain": [
              "80"
            ]
          },
          "metadata": {
            "tags": []
          },
          "execution_count": 22
        }
      ]
    },
    {
      "cell_type": "markdown",
      "metadata": {
        "id": "_WsInlo_spaI",
        "colab_type": "text"
      },
      "source": [
        "# GridSearch V1.1"
      ]
    },
    {
      "cell_type": "code",
      "metadata": {
        "id": "z-Sc5PBlsmiL",
        "colab_type": "code",
        "colab": {}
      },
      "source": [
        "modelsAndGrids = [('modelIsoForest ', modelIsoForest, gridIsoForest), ('modelSVM', modelSVM, gridSVM)]"
      ],
      "execution_count": 0,
      "outputs": []
    },
    {
      "cell_type": "code",
      "metadata": {
        "id": "Cg0GUty1s1Gb",
        "colab_type": "code",
        "colab": {}
      },
      "source": [
        "from sklearn.model_selection import KFold\n",
        "from sklearn import preprocessing\n",
        "from sklearn.model_selection import train_test_split\n",
        "from numpy import random\n"
      ],
      "execution_count": 0,
      "outputs": []
    },
    {
      "cell_type": "code",
      "metadata": {
        "id": "n5oPiUzLOfFZ",
        "colab_type": "code",
        "outputId": "f44c645d-6d99-4b75-db55-68a02ab11289",
        "colab": {
          "base_uri": "https://localhost:8080/",
          "height": 35
        }
      },
      "source": [
        "a = [1,2,3,1,1,3,4,3,2]\n",
        "index_sets = [np.argwhere(1==a)]\n",
        "index_sets"
      ],
      "execution_count": 0,
      "outputs": [
        {
          "output_type": "execute_result",
          "data": {
            "text/plain": [
              "[array([], shape=(0, 0), dtype=int64)]"
            ]
          },
          "metadata": {
            "tags": []
          },
          "execution_count": 25
        }
      ]
    },
    {
      "cell_type": "code",
      "metadata": {
        "id": "y35UpmO93lTq",
        "colab_type": "code",
        "colab": {}
      },
      "source": [
        "def GridSearch(Xtrain_original,Ytrain_original,models):\n",
        "  # create lists to store final results\n",
        "  train_score = []\n",
        "  val_score = []\n",
        "  std_train= []\n",
        "  std_val=[]\n",
        "  best_params = []\n",
        "  models_results = []\n",
        "\n",
        "  Folds = 10\n",
        "  results = list()\n",
        "  gsAccuracy = 0\n",
        "  random.seed(19680801)\n",
        "  #Data Normalization\n",
        "  scaler = preprocessing.StandardScaler().fit(Xtrain_original)\n",
        "  Xtrain_original = scaler.transform(Xtrain_original)\n",
        "  \n",
        "  kf = KFold(n_splits=Folds,shuffle=True)\n",
        "  for m in range(0,len(models)):\n",
        "    params = []\n",
        "    meanAccuracyValid = np.zeros((len(list(ParameterGrid(models[m][2]))),1))\n",
        "    meanAccuracyTrain = np.zeros((len(list(ParameterGrid(models[m][2]))),1))\n",
        "    meanStdValid = np.zeros((len(list(ParameterGrid(models[m][2]))),1))\n",
        "    meanStdTrain = np.zeros((len(list(ParameterGrid(models[m][2]))),1))\n",
        "    result = list()\n",
        "    k=0\n",
        "    for z in ParameterGrid(models[m][2]):\n",
        "      params.append(z)\n",
        "      accuracyTrainFolds = np.zeros((Folds,1))\n",
        "      accuracyValidFolds = np.zeros((Folds,1))\n",
        "      stdTrainFolds = np.zeros((Folds,1))\n",
        "      stdValidFolds = np.zeros((Folds,1))\n",
        "      j=0\n",
        "      \n",
        "      models[m][1].set_params(**z)\n",
        "\n",
        "      for train, valid in kf.split(Xtrain_original):\n",
        "        Xtrain = Xtrain_original[train,:]\n",
        "        Ytrain = Ytrain_original[train]\n",
        "        Xvalid = Xtrain_original[valid,:]\n",
        "        Yvalid = Ytrain_original[valid]\n",
        "\n",
        "        models[m][1].fit(Xtrain)\n",
        "\n",
        "        y_predict_train =  models[m][1].predict(Xtrain)\n",
        "        \n",
        "        #Validation\n",
        "        y_predict_valid = models[m][1].predict(Xvalid)\n",
        "\n",
        "\n",
        "\n",
        "        accuracyTrainFolds[j], accuracyValidFolds[j] = metrics(Ytrain,Yvalid,y_predict_train,y_predict_valid )\n",
        "        \n",
        "        j+=1\n",
        "\n",
        "      meanAccuracyTrain[k], meanAccuracyValid[k], meanStdTrain[k], meanStdValid[k] = np.mean(accuracyTrainFolds), np.mean(accuracyValidFolds), np.std(accuracyTrainFolds), np.std(accuracyValidFolds)\n",
        "      k+=1\n",
        "    result.append([models[m][0], meanAccuracyValid[np.argmax(meanAccuracyValid)],meanStdValid[np.argmax(meanAccuracyValid)], params[np.argmax(meanAccuracyValid)]])\n",
        "\n",
        "    results.append(result)\n",
        "\n",
        "  return results"
      ],
      "execution_count": 0,
      "outputs": []
    },
    {
      "cell_type": "code",
      "metadata": {
        "id": "cTDP1iOxs5Hf",
        "colab_type": "code",
        "colab": {}
      },
      "source": [
        "results = GridSearch(Xtrain_original,Ytrain_original,modelsAndGrids)"
      ],
      "execution_count": 0,
      "outputs": []
    },
    {
      "cell_type": "code",
      "metadata": {
        "id": "9i25weTltn3W",
        "colab_type": "code",
        "colab": {}
      },
      "source": [
        "IF = results[0]\n",
        "OC = results[1]\n",
        "OCP = OC[0]\n",
        "IFP = IF[0]\n",
        "IFParams = IFP[3]\n",
        "SVMParams = OCP[3]"
      ],
      "execution_count": 0,
      "outputs": []
    },
    {
      "cell_type": "code",
      "metadata": {
        "id": "Q7wrGF_pZTF1",
        "colab_type": "code",
        "outputId": "af8df31b-bcc8-4e93-83c9-30e9eafed9f5",
        "colab": {
          "base_uri": "https://localhost:8080/",
          "height": 121
        }
      },
      "source": [
        "IFParams"
      ],
      "execution_count": 0,
      "outputs": [
        {
          "output_type": "execute_result",
          "data": {
            "text/plain": [
              "{'bootstrap': True,\n",
              " 'contamination': 0,\n",
              " 'max_features': 5,\n",
              " 'max_samples': 'auto',\n",
              " 'n_estimators': 5,\n",
              " 'n_jobs': -1}"
            ]
          },
          "metadata": {
            "tags": []
          },
          "execution_count": 29
        }
      ]
    },
    {
      "cell_type": "code",
      "metadata": {
        "id": "oj-Vvu6S_LIa",
        "colab_type": "code",
        "colab": {}
      },
      "source": [
        "# IFParams = {'bootstrap': True,\n",
        "#  'contamination': 0,\n",
        "#  'max_features': 22,\n",
        "#  'max_samples': 'auto',\n",
        "#  'n_estimators': 17,\n",
        "#  'n_jobs': -1}"
      ],
      "execution_count": 0,
      "outputs": []
    },
    {
      "cell_type": "code",
      "metadata": {
        "id": "CJi2ct9w3D_b",
        "colab_type": "code",
        "outputId": "037dbd18-73f0-413b-ab78-0783a8276af9",
        "colab": {
          "base_uri": "https://localhost:8080/",
          "height": 35
        }
      },
      "source": [
        "SVMParams"
      ],
      "execution_count": 0,
      "outputs": [
        {
          "output_type": "execute_result",
          "data": {
            "text/plain": [
              "{'gamma': 'scale', 'kernel': 'sigmoid', 'nu': 0.01}"
            ]
          },
          "metadata": {
            "tags": []
          },
          "execution_count": 31
        }
      ]
    },
    {
      "cell_type": "code",
      "metadata": {
        "id": "vk1TG6tIzkp8",
        "colab_type": "code",
        "colab": {}
      },
      "source": [
        "columns=[\"models\",\"mean train Accuracy\",\"CI (+-)\", \"Best params\"]\n",
        "result0 = pd.DataFrame(results[0],columns=columns)\n",
        "result1 = pd.DataFrame(results[1],columns=columns)"
      ],
      "execution_count": 0,
      "outputs": []
    },
    {
      "cell_type": "code",
      "metadata": {
        "id": "pBseeqLS46gz",
        "colab_type": "code",
        "colab": {}
      },
      "source": [
        "resultados_finales = result0.append(result1)"
      ],
      "execution_count": 0,
      "outputs": []
    },
    {
      "cell_type": "code",
      "metadata": {
        "id": "dCgadmDSeYkp",
        "colab_type": "code",
        "outputId": "22b08ce7-9a93-47b3-9048-b05ea5fe8a40",
        "colab": {
          "base_uri": "https://localhost:8080/",
          "height": 110
        }
      },
      "source": [
        "resultados_finales"
      ],
      "execution_count": 0,
      "outputs": [
        {
          "output_type": "execute_result",
          "data": {
            "text/html": [
              "<div>\n",
              "<style scoped>\n",
              "    .dataframe tbody tr th:only-of-type {\n",
              "        vertical-align: middle;\n",
              "    }\n",
              "\n",
              "    .dataframe tbody tr th {\n",
              "        vertical-align: top;\n",
              "    }\n",
              "\n",
              "    .dataframe thead th {\n",
              "        text-align: right;\n",
              "    }\n",
              "</style>\n",
              "<table border=\"1\" class=\"dataframe\">\n",
              "  <thead>\n",
              "    <tr style=\"text-align: right;\">\n",
              "      <th></th>\n",
              "      <th>models</th>\n",
              "      <th>mean train Accuracy</th>\n",
              "      <th>CI (+-)</th>\n",
              "      <th>Best params</th>\n",
              "    </tr>\n",
              "  </thead>\n",
              "  <tbody>\n",
              "    <tr>\n",
              "      <th>0</th>\n",
              "      <td>modelIsoForest</td>\n",
              "      <td>[1.0]</td>\n",
              "      <td>[0.0]</td>\n",
              "      <td>{'bootstrap': True, 'contamination': 0, 'max_f...</td>\n",
              "    </tr>\n",
              "    <tr>\n",
              "      <th>0</th>\n",
              "      <td>modelSVM</td>\n",
              "      <td>[0.6]</td>\n",
              "      <td>[0.30000000000000004]</td>\n",
              "      <td>{'gamma': 'scale', 'kernel': 'sigmoid', 'nu': ...</td>\n",
              "    </tr>\n",
              "  </tbody>\n",
              "</table>\n",
              "</div>"
            ],
            "text/plain": [
              "            models  ...                                        Best params\n",
              "0  modelIsoForest   ...  {'bootstrap': True, 'contamination': 0, 'max_f...\n",
              "0         modelSVM  ...  {'gamma': 'scale', 'kernel': 'sigmoid', 'nu': ...\n",
              "\n",
              "[2 rows x 4 columns]"
            ]
          },
          "metadata": {
            "tags": []
          },
          "execution_count": 34
        }
      ]
    },
    {
      "cell_type": "markdown",
      "metadata": {
        "id": "83PgTk8EDeb4",
        "colab_type": "text"
      },
      "source": [
        "# Best model evaluation with all users"
      ]
    },
    {
      "cell_type": "code",
      "metadata": {
        "colab_type": "code",
        "id": "rCUFTL6vDwwg",
        "colab": {}
      },
      "source": [
        "def MetricsBestParamsAllUsers(model, users, impostors):\n",
        "  \n",
        "  # create lists to store train and validation scores\n",
        "  test_score = []\n",
        "  FPR_score = []\n",
        "  TPR_score = []\n",
        "\n",
        "  for u in range(0,len(users)):\n",
        "\n",
        "    data = users[u]\n",
        "    Xtrain = data[:,0:40]\n",
        "    Ytrain = data[:,41]\n",
        "    Ytrain = Ytrain.astype(int)\n",
        "\n",
        "    dataI = impostors[u]\n",
        "    Xtest_Impostors = dataI[:,0:40]\n",
        "    Ytest_Impostors = dataI[:,41]\n",
        "    Ytest_Impostors=Ytest_Impostors.astype(int)\n",
        "\n",
        "    Xtrain_original, Xtest_original, Ytrain_original, Ytest_original = train_test_split(Xtrain, Ytrain, train_size=20)\n",
        "\n",
        "    Xtest_original = np.concatenate((Xtest_original,Xtest_Impostors)) \n",
        "    Ytest_original = np.concatenate((Ytest_original,Ytest_Impostors))\n",
        "\n",
        "    #Data Normalization\n",
        "    scaler = preprocessing.StandardScaler().fit(Xtrain_original)\n",
        "    Xtrain_original = scaler.transform(Xtrain_original)\n",
        "    Xtest_original = scaler.transform(Xtest_original)\n",
        "\n",
        "\n",
        "    model.fit(Xtrain_original)\n",
        "\n",
        "    y_predicted = model.predict(Xtest_original)\n",
        "\n",
        "    accuracy = accuracy_score(Ytest_original, y_predicted)\n",
        "\n",
        "    test_score.append(accuracy)\n",
        "\n",
        "    cm1 = confusion_matrix(Ytest_original,y_predicted)\n",
        "\n",
        "    specificity = cm1[1,1]/(cm1[1,0]+cm1[1,1])\n",
        "\n",
        "    FPR = 1 - specificity\n",
        "\n",
        "    FPR_score.append(FPR)\n",
        "    \n",
        "    TPR = recall_score(Ytest_original, y_predicted) \n",
        "\n",
        "    TPR_score.append(TPR)\n",
        "    \n",
        "  test_score = np.array(test_score)\n",
        "  FPR_score = np.array(FPR_score)\n",
        "  TPR_score = np.array(TPR_score)\n",
        "\n",
        "  meanTestAccuracy, meanFPRScore, meanTPRScore = np.mean(test_score), np.mean(FPR_score), np.mean(TPR_score)\n",
        "\n",
        "\n",
        "\n",
        "  users_index = np.linspace(0,25,26,dtype=int).tolist()\n",
        "  # meanAccuracyTrain[u] , meanAccuracyValid[u] , meanStdTrain[u], meanStdValid[u] = build_model(model, best_parameters, i, X,Y)\n",
        "  # data = {'User':users_index, 'Test_Accuracy':test_score, 'FPR_score': FPR_score , 'TPR_score':TPR_score}\n",
        "  data = {'Mean_Test_Accuracy':meanTestAccuracy, 'Mean_FPR_score': meanFPRScore , 'Mean_TPR_score':meanTPRScore}\n",
        "  df_split_params = pd.DataFrame(data, index=[0])\n",
        "     \n",
        "  return df_split_params"
      ],
      "execution_count": 0,
      "outputs": []
    },
    {
      "cell_type": "markdown",
      "metadata": {
        "id": "Q1lWX944wiup",
        "colab_type": "text"
      },
      "source": [
        "## IsolationForest best parameters"
      ]
    },
    {
      "cell_type": "code",
      "metadata": {
        "id": "nTbcKa03_Be0",
        "colab_type": "code",
        "colab": {}
      },
      "source": [
        "IsolationForest_best_params = IFParams\n",
        "\n",
        "IsolationForest__best_estimator = modelsAndGrids[0][1].set_params(**IsolationForest_best_params)"
      ],
      "execution_count": 0,
      "outputs": []
    },
    {
      "cell_type": "code",
      "metadata": {
        "id": "euzEzhkm_G_a",
        "colab_type": "code",
        "colab": {}
      },
      "source": [
        "metricsIF = MetricsBestParamsAllUsers(IsolationForest__best_estimator, listUserPin6, listUserPin6Impostors )"
      ],
      "execution_count": 0,
      "outputs": []
    },
    {
      "cell_type": "code",
      "metadata": {
        "id": "bDCjCCiJBq41",
        "colab_type": "code",
        "outputId": "2d333813-4be2-4848-9a03-8416a2df2a06",
        "colab": {
          "base_uri": "https://localhost:8080/",
          "height": 79
        }
      },
      "source": [
        "metricsIF"
      ],
      "execution_count": 0,
      "outputs": [
        {
          "output_type": "execute_result",
          "data": {
            "text/html": [
              "<div>\n",
              "<style scoped>\n",
              "    .dataframe tbody tr th:only-of-type {\n",
              "        vertical-align: middle;\n",
              "    }\n",
              "\n",
              "    .dataframe tbody tr th {\n",
              "        vertical-align: top;\n",
              "    }\n",
              "\n",
              "    .dataframe thead th {\n",
              "        text-align: right;\n",
              "    }\n",
              "</style>\n",
              "<table border=\"1\" class=\"dataframe\">\n",
              "  <thead>\n",
              "    <tr style=\"text-align: right;\">\n",
              "      <th></th>\n",
              "      <th>Mean_Test_Accuracy</th>\n",
              "      <th>Mean_FPR_score</th>\n",
              "      <th>Mean_TPR_score</th>\n",
              "    </tr>\n",
              "  </thead>\n",
              "  <tbody>\n",
              "    <tr>\n",
              "      <th>0</th>\n",
              "      <td>0.7</td>\n",
              "      <td>0.1</td>\n",
              "      <td>0.9</td>\n",
              "    </tr>\n",
              "  </tbody>\n",
              "</table>\n",
              "</div>"
            ],
            "text/plain": [
              "   Mean_Test_Accuracy  Mean_FPR_score  Mean_TPR_score\n",
              "0                 0.7             0.1             0.9"
            ]
          },
          "metadata": {
            "tags": []
          },
          "execution_count": 38
        }
      ]
    },
    {
      "cell_type": "markdown",
      "metadata": {
        "id": "rLp4SHu3wnsc",
        "colab_type": "text"
      },
      "source": [
        "## OneClassSVM best parameters"
      ]
    },
    {
      "cell_type": "code",
      "metadata": {
        "id": "DLyscWL8C1eq",
        "colab_type": "code",
        "colab": {}
      },
      "source": [
        "SVM_best_params = SVMParams\n",
        "SVM__best_estimator = modelsAndGrids[1][1].set_params(**SVM_best_params)"
      ],
      "execution_count": 0,
      "outputs": []
    },
    {
      "cell_type": "code",
      "metadata": {
        "id": "Xvc8Q37BC7b7",
        "colab_type": "code",
        "colab": {}
      },
      "source": [
        "metricsSVM = MetricsBestParamsAllUsers(SVM__best_estimator,listUserPin6, listUserPin6Impostors)"
      ],
      "execution_count": 0,
      "outputs": []
    },
    {
      "cell_type": "code",
      "metadata": {
        "id": "UR3bcEK2DFBa",
        "colab_type": "code",
        "outputId": "880af297-7cde-4ef1-b537-b019df4401b4",
        "colab": {
          "base_uri": "https://localhost:8080/",
          "height": 79
        }
      },
      "source": [
        "metricsSVM"
      ],
      "execution_count": 0,
      "outputs": [
        {
          "output_type": "execute_result",
          "data": {
            "text/html": [
              "<div>\n",
              "<style scoped>\n",
              "    .dataframe tbody tr th:only-of-type {\n",
              "        vertical-align: middle;\n",
              "    }\n",
              "\n",
              "    .dataframe tbody tr th {\n",
              "        vertical-align: top;\n",
              "    }\n",
              "\n",
              "    .dataframe thead th {\n",
              "        text-align: right;\n",
              "    }\n",
              "</style>\n",
              "<table border=\"1\" class=\"dataframe\">\n",
              "  <thead>\n",
              "    <tr style=\"text-align: right;\">\n",
              "      <th></th>\n",
              "      <th>Mean_Test_Accuracy</th>\n",
              "      <th>Mean_FPR_score</th>\n",
              "      <th>Mean_TPR_score</th>\n",
              "    </tr>\n",
              "  </thead>\n",
              "  <tbody>\n",
              "    <tr>\n",
              "      <th>0</th>\n",
              "      <td>0.775</td>\n",
              "      <td>0.35</td>\n",
              "      <td>0.65</td>\n",
              "    </tr>\n",
              "  </tbody>\n",
              "</table>\n",
              "</div>"
            ],
            "text/plain": [
              "   Mean_Test_Accuracy  Mean_FPR_score  Mean_TPR_score\n",
              "0               0.775            0.35            0.65"
            ]
          },
          "metadata": {
            "tags": []
          },
          "execution_count": 41
        }
      ]
    },
    {
      "cell_type": "markdown",
      "metadata": {
        "id": "hg7h4jK9YS26",
        "colab_type": "text"
      },
      "source": [
        "## Builder model definition All Users"
      ]
    },
    {
      "cell_type": "code",
      "metadata": {
        "id": "VZyKw6b4Xz8w",
        "colab_type": "code",
        "colab": {}
      },
      "source": [
        "#Metrics: precision (precision_score), sensitivity (recall_score), \n",
        "from sklearn.metrics import confusion_matrix, precision_score, recall_score, accuracy_score\n",
        "def metricsAll(Ytrain,Yval,y_predict_train, y_predict_valid):\n",
        "  #print('Getting metrics...')\n",
        "\n",
        "  accuracyTrain = np.mean(y_predict_train.ravel() == Ytrain.ravel())\n",
        "\n",
        "  accuracyValid =np.mean(y_predict_valid.ravel() == Yval.ravel()) \n",
        "\n",
        "  cm1 = confusion_matrix(Yval,y_predict_valid)\n",
        "\n",
        "  specificity = cm1[1,1]/(cm1[1,0]+cm1[1,1])\n",
        "\n",
        "  FPR = 1 - specificity\n",
        "  \n",
        "  TPR = recall_score(Yval, y_predict_valid) \n",
        "\n",
        "  return accuracyTrain, accuracyValid, FPR, TPR  "
      ],
      "execution_count": 0,
      "outputs": []
    },
    {
      "cell_type": "code",
      "metadata": {
        "id": "vZRwEw05PyVn",
        "colab_type": "code",
        "colab": {}
      },
      "source": [
        "def build_model(model, parameters, train_size, X,Y,XImpostors,YImpostors):\n",
        "  # Xtrain_original, Xtest_original, Ytrain_original, Ytest_original = train_test_split(X, Y, train_size=20)\n",
        "  # Xtrain, Xtest, Ytrain, Ytest = train_test_split(X, Y, train_size=train_size)\n",
        "  #Data Normalization\n",
        "\n",
        "  Folds = 10\n",
        "  accuracyTrainFolds = np.zeros((Folds,1))\n",
        "  accuracyValidFolds = np.zeros((Folds,1))\n",
        "  FPRFolds = np.zeros((Folds,1))\n",
        "  TPRFolds = np.zeros((Folds,1))\n",
        "  j=0\n",
        "\n",
        "  for i in range(Folds):\n",
        "\n",
        "    Xtrain, Xtest, Ytrain, Ytest = train_test_split(X, Y, train_size=train_size)\n",
        "\n",
        "    Xtest = np.concatenate((Xtest,XImpostors)) \n",
        "    Ytest = np.concatenate((Ytest,YImpostors))\n",
        "\n",
        "    scaler = preprocessing.StandardScaler().fit(Xtrain)\n",
        "    Xtrain = scaler.transform(Xtrain)\n",
        "    Xtest = scaler.transform(Xtest)\n",
        "\n",
        "    \n",
        "    model.fit(Xtrain)\n",
        "\n",
        "    ypred_train = model.predict(Xtrain)\n",
        "\n",
        "    ypred_valid = model.predict(Xtest)\n",
        "\n",
        "\n",
        "    accuracyTrainFolds[i], accuracyValidFolds[i], FPRFolds[i], TPRFolds[i] = metricsAll(Ytrain,Ytest,ypred_train,ypred_valid)\n",
        "  \n",
        "  accuracyTrain, accuracyValid, stdTrain, stdValid, FPR, TPR = np.mean(accuracyTrainFolds), np.mean(accuracyValidFolds), np.std(accuracyTrainFolds), np.std(accuracyValidFolds), np.mean(FPRFolds), np.mean(TPRFolds)\n",
        "  return accuracyTrain, accuracyValid, stdTrain, stdValid, FPR, TPR\n"
      ],
      "execution_count": 0,
      "outputs": []
    },
    {
      "cell_type": "markdown",
      "metadata": {
        "id": "SDTqLllAbwFc",
        "colab_type": "text"
      },
      "source": [
        "# All users"
      ]
    },
    {
      "cell_type": "code",
      "metadata": {
        "id": "v-bTQ8FPCfy9",
        "colab_type": "code",
        "colab": {}
      },
      "source": [
        "def learning_curve_all_users( model, best_parameters , users, impostors, suptitle='', title='', xlabel='Training Set Size', ylabel='Acurracy'):\n",
        "\n",
        "  \"\"\"\n",
        "  Parameters\n",
        "  ----------\n",
        "  suptitle : str\n",
        "      Chart suptitle\n",
        "  title: str\n",
        "      Chart title\n",
        "  xlabel: str\n",
        "      Label for the X axis\n",
        "  ylabel: str\n",
        "      Label for the y axis\n",
        "  Returns\n",
        "  -------\n",
        "  Plot of learning curves\n",
        "  \"\"\"\n",
        "\n",
        "  # create lists to store train and validation scores\n",
        "  train_score = []\n",
        "  val_score = []\n",
        "  std_train= []\n",
        "  std_val=[]\n",
        "  FPR_score=[]\n",
        "  TPR_score=[]\n",
        "\n",
        "  training_set_sizes = np.linspace(5,24,19,dtype=int).tolist()\n",
        "\n",
        "  for i in training_set_sizes:\n",
        "    meanAccuracyValid = np.zeros((len(users),1))\n",
        "    meanAccuracyTrain = np.zeros((len(users),1))\n",
        "    meanStdValid = np.zeros((len(users),1))\n",
        "    meanStdTrain = np.zeros((len(users),1))\n",
        "    meanFPR = np.zeros((len(users),1))\n",
        "    meanTPR = np.zeros((len(users),1))\n",
        "\n",
        "    for u in range(0,len(users)):\n",
        "      data = users[u]\n",
        "      Xtrain_original = data[:,0:40]\n",
        "      Ytrain_original = data[:,41]\n",
        "      Ytrain_original = Ytrain_original.astype(int)\n",
        "\n",
        "      dataI = impostors[u]\n",
        "      Xtest_original = dataI[:,0:40]\n",
        "      Ytest_original = dataI[:,41]\n",
        "      Ytest_original=Ytest_original.astype(int)\n",
        "\n",
        "      X=Xtrain_original\n",
        "      Y=Ytrain_original\n",
        "        \n",
        "      meanAccuracyTrain[u] , meanAccuracyValid[u] , meanStdTrain[u], meanStdValid[u], meanFPR[u], meanTPR[u] = build_model(model, best_parameters, i, X,Y,Xtest_original,Ytest_original)\n",
        "    EfficiencyTrain, EfficiencyVal, stdTrain, stdVal, FPR, TPR = np.mean(meanAccuracyTrain), np.mean(meanAccuracyValid), np.mean(meanStdTrain), np.mean(meanStdValid), np.mean(meanFPR), np.mean(meanTPR)\n",
        "\n",
        "    # store the scores in their respective lists\n",
        "    train_score.append(EfficiencyTrain)\n",
        "    val_score.append(EfficiencyVal)\n",
        "    std_train.append(stdTrain)\n",
        "    std_val.append(stdVal)\n",
        "    FPR_score.append(FPR)\n",
        "    TPR_score.append(TPR)\n",
        "\n",
        "  train_score =np.array(train_score)\n",
        "  val_score =np.array(val_score)\n",
        "  std_train =np.array(std_train)\n",
        "  std_val =np.array(std_val)\n",
        "  FPR_score =np.array(FPR_score)\n",
        "  TPR_score =np.array(TPR_score)\n",
        "\n",
        "\n",
        "  # plot learning curves\n",
        "  fig, ax = plt.subplots(figsize=(14, 9))\n",
        "  ax.plot(training_set_sizes, train_score, c='gold')\n",
        "  ax.plot(training_set_sizes, val_score, c='steelblue')\n",
        "  \n",
        "  ax.fill_between(training_set_sizes,train_score+std_train,train_score-std_train,facecolor='gold',alpha=0.5)\n",
        "  ax.fill_between(training_set_sizes,val_score+std_val,val_score-std_val,facecolor='steelblue',alpha=0.5)\n",
        "\n",
        "  # format the chart to make it look nice\n",
        "  fig.suptitle(suptitle, fontweight='bold', fontsize='20')\n",
        "  ax.set_title(title, size=20)\n",
        "  ax.set_xlabel(xlabel, size=16)\n",
        "  ax.set_ylabel(ylabel, size=16)\n",
        "  ax.legend(['Train set', 'Test set'], fontsize=16)\n",
        "  ax.tick_params(axis='both', labelsize=12)\n",
        "  ax.set_ylim(0, 1)\n",
        "\n",
        "  def percentages(x, pos):\n",
        "      \"\"\"The two args are the value and tick position\"\"\"\n",
        "      if x < 1:\n",
        "          return '{:1.0f}'.format(x*100)\n",
        "      return '{:1.0f}%'.format(x*100)\n",
        "\n",
        "  def numbers(x, pos):\n",
        "      \"\"\"The two args are the value and tick position\"\"\"\n",
        "      if x >= 1000:\n",
        "          return '{:1,.0f}'.format(x)\n",
        "      return '{:1.0f}'.format(x)\n",
        "\n",
        "  data = {'Train_Size':training_set_sizes, 'mean_train_Accuracy':train_score,'mean_test_Accuracy':val_score,'std_train_Accuracy':std_train,'std_test_Accuracy':std_val, 'FPR_score': FPR_score , 'TPR_score':TPR_score}\n",
        "  df_split_params = pd.DataFrame(data)\n",
        "  return df_split_params"
      ],
      "execution_count": 0,
      "outputs": []
    },
    {
      "cell_type": "code",
      "metadata": {
        "id": "SNNgHdltu5pV",
        "colab_type": "code",
        "outputId": "ee1a8153-db85-459e-c405-23f33b86a115",
        "colab": {
          "base_uri": "https://localhost:8080/",
          "height": 564
        }
      },
      "source": [
        "df_split_all_users_IF = learning_curve_all_users(model=IsolationForest__best_estimator,best_parameters=IsolationForest_best_params, users=listUserPin6,impostors=listUserPin6Impostors)"
      ],
      "execution_count": 0,
      "outputs": [
        {
          "output_type": "display_data",
          "data": {
            "image/png": "[encoded data removed]",
            "text/plain": [
              "<Figure size 1008x648 with 1 Axes>"
            ]
          },
          "metadata": {
            "tags": [],
            "needs_background": "light"
          }
        }
      ]
    },
    {
      "cell_type": "code",
      "metadata": {
        "id": "2FiYXktm5KJN",
        "colab_type": "code",
        "outputId": "0afb46fd-536e-49d9-c3e5-c17978c36ffe",
        "colab": {
          "base_uri": "https://localhost:8080/",
          "height": 631
        }
      },
      "source": [
        "df_split_all_users_IF"
      ],
      "execution_count": 0,
      "outputs": [
        {
          "output_type": "execute_result",
          "data": {
            "text/html": [
              "<div>\n",
              "<style scoped>\n",
              "    .dataframe tbody tr th:only-of-type {\n",
              "        vertical-align: middle;\n",
              "    }\n",
              "\n",
              "    .dataframe tbody tr th {\n",
              "        vertical-align: top;\n",
              "    }\n",
              "\n",
              "    .dataframe thead th {\n",
              "        text-align: right;\n",
              "    }\n",
              "</style>\n",
              "<table border=\"1\" class=\"dataframe\">\n",
              "  <thead>\n",
              "    <tr style=\"text-align: right;\">\n",
              "      <th></th>\n",
              "      <th>Train_Size</th>\n",
              "      <th>mean_train_Accuracy</th>\n",
              "      <th>mean_test_Accuracy</th>\n",
              "      <th>std_train_Accuracy</th>\n",
              "      <th>std_test_Accuracy</th>\n",
              "      <th>FPR_score</th>\n",
              "      <th>TPR_score</th>\n",
              "    </tr>\n",
              "  </thead>\n",
              "  <tbody>\n",
              "    <tr>\n",
              "      <th>0</th>\n",
              "      <td>5</td>\n",
              "      <td>1.0</td>\n",
              "      <td>0.744000</td>\n",
              "      <td>0.0</td>\n",
              "      <td>0.117912</td>\n",
              "      <td>0.111250</td>\n",
              "      <td>0.888750</td>\n",
              "    </tr>\n",
              "    <tr>\n",
              "      <th>1</th>\n",
              "      <td>6</td>\n",
              "      <td>1.0</td>\n",
              "      <td>0.767708</td>\n",
              "      <td>0.0</td>\n",
              "      <td>0.073054</td>\n",
              "      <td>0.069737</td>\n",
              "      <td>0.930263</td>\n",
              "    </tr>\n",
              "    <tr>\n",
              "      <th>2</th>\n",
              "      <td>7</td>\n",
              "      <td>1.0</td>\n",
              "      <td>0.768478</td>\n",
              "      <td>0.0</td>\n",
              "      <td>0.075120</td>\n",
              "      <td>0.058333</td>\n",
              "      <td>0.941667</td>\n",
              "    </tr>\n",
              "    <tr>\n",
              "      <th>3</th>\n",
              "      <td>8</td>\n",
              "      <td>1.0</td>\n",
              "      <td>0.771591</td>\n",
              "      <td>0.0</td>\n",
              "      <td>0.065418</td>\n",
              "      <td>0.055882</td>\n",
              "      <td>0.944118</td>\n",
              "    </tr>\n",
              "    <tr>\n",
              "      <th>4</th>\n",
              "      <td>9</td>\n",
              "      <td>1.0</td>\n",
              "      <td>0.779762</td>\n",
              "      <td>0.0</td>\n",
              "      <td>0.078043</td>\n",
              "      <td>0.070312</td>\n",
              "      <td>0.929688</td>\n",
              "    </tr>\n",
              "    <tr>\n",
              "      <th>5</th>\n",
              "      <td>10</td>\n",
              "      <td>1.0</td>\n",
              "      <td>0.780000</td>\n",
              "      <td>0.0</td>\n",
              "      <td>0.088401</td>\n",
              "      <td>0.061667</td>\n",
              "      <td>0.938333</td>\n",
              "    </tr>\n",
              "    <tr>\n",
              "      <th>6</th>\n",
              "      <td>11</td>\n",
              "      <td>1.0</td>\n",
              "      <td>0.784211</td>\n",
              "      <td>0.0</td>\n",
              "      <td>0.096229</td>\n",
              "      <td>0.046429</td>\n",
              "      <td>0.953571</td>\n",
              "    </tr>\n",
              "    <tr>\n",
              "      <th>7</th>\n",
              "      <td>12</td>\n",
              "      <td>1.0</td>\n",
              "      <td>0.759722</td>\n",
              "      <td>0.0</td>\n",
              "      <td>0.079611</td>\n",
              "      <td>0.036538</td>\n",
              "      <td>0.963462</td>\n",
              "    </tr>\n",
              "    <tr>\n",
              "      <th>8</th>\n",
              "      <td>13</td>\n",
              "      <td>1.0</td>\n",
              "      <td>0.722059</td>\n",
              "      <td>0.0</td>\n",
              "      <td>0.078433</td>\n",
              "      <td>0.056250</td>\n",
              "      <td>0.943750</td>\n",
              "    </tr>\n",
              "    <tr>\n",
              "      <th>9</th>\n",
              "      <td>14</td>\n",
              "      <td>1.0</td>\n",
              "      <td>0.740625</td>\n",
              "      <td>0.0</td>\n",
              "      <td>0.082473</td>\n",
              "      <td>0.038636</td>\n",
              "      <td>0.961364</td>\n",
              "    </tr>\n",
              "    <tr>\n",
              "      <th>10</th>\n",
              "      <td>15</td>\n",
              "      <td>1.0</td>\n",
              "      <td>0.695000</td>\n",
              "      <td>0.0</td>\n",
              "      <td>0.086832</td>\n",
              "      <td>0.062500</td>\n",
              "      <td>0.937500</td>\n",
              "    </tr>\n",
              "    <tr>\n",
              "      <th>11</th>\n",
              "      <td>16</td>\n",
              "      <td>1.0</td>\n",
              "      <td>0.705357</td>\n",
              "      <td>0.0</td>\n",
              "      <td>0.105771</td>\n",
              "      <td>0.036111</td>\n",
              "      <td>0.963889</td>\n",
              "    </tr>\n",
              "    <tr>\n",
              "      <th>12</th>\n",
              "      <td>17</td>\n",
              "      <td>1.0</td>\n",
              "      <td>0.671154</td>\n",
              "      <td>0.0</td>\n",
              "      <td>0.142859</td>\n",
              "      <td>0.068750</td>\n",
              "      <td>0.931250</td>\n",
              "    </tr>\n",
              "    <tr>\n",
              "      <th>13</th>\n",
              "      <td>18</td>\n",
              "      <td>1.0</td>\n",
              "      <td>0.658333</td>\n",
              "      <td>0.0</td>\n",
              "      <td>0.111381</td>\n",
              "      <td>0.035714</td>\n",
              "      <td>0.964286</td>\n",
              "    </tr>\n",
              "    <tr>\n",
              "      <th>14</th>\n",
              "      <td>19</td>\n",
              "      <td>1.0</td>\n",
              "      <td>0.618182</td>\n",
              "      <td>0.0</td>\n",
              "      <td>0.105740</td>\n",
              "      <td>0.029167</td>\n",
              "      <td>0.970833</td>\n",
              "    </tr>\n",
              "    <tr>\n",
              "      <th>15</th>\n",
              "      <td>20</td>\n",
              "      <td>1.0</td>\n",
              "      <td>0.627500</td>\n",
              "      <td>0.0</td>\n",
              "      <td>0.149925</td>\n",
              "      <td>0.040000</td>\n",
              "      <td>0.960000</td>\n",
              "    </tr>\n",
              "    <tr>\n",
              "      <th>16</th>\n",
              "      <td>21</td>\n",
              "      <td>1.0</td>\n",
              "      <td>0.575000</td>\n",
              "      <td>0.0</td>\n",
              "      <td>0.171219</td>\n",
              "      <td>0.056250</td>\n",
              "      <td>0.943750</td>\n",
              "    </tr>\n",
              "    <tr>\n",
              "      <th>17</th>\n",
              "      <td>22</td>\n",
              "      <td>1.0</td>\n",
              "      <td>0.509375</td>\n",
              "      <td>0.0</td>\n",
              "      <td>0.210871</td>\n",
              "      <td>0.058333</td>\n",
              "      <td>0.941667</td>\n",
              "    </tr>\n",
              "    <tr>\n",
              "      <th>18</th>\n",
              "      <td>24</td>\n",
              "      <td>1.0</td>\n",
              "      <td>0.320833</td>\n",
              "      <td>0.0</td>\n",
              "      <td>0.223361</td>\n",
              "      <td>0.050000</td>\n",
              "      <td>0.950000</td>\n",
              "    </tr>\n",
              "  </tbody>\n",
              "</table>\n",
              "</div>"
            ],
            "text/plain": [
              "    Train_Size  mean_train_Accuracy  ...  FPR_score  TPR_score\n",
              "0            5                  1.0  ...   0.111250   0.888750\n",
              "1            6                  1.0  ...   0.069737   0.930263\n",
              "2            7                  1.0  ...   0.058333   0.941667\n",
              "3            8                  1.0  ...   0.055882   0.944118\n",
              "4            9                  1.0  ...   0.070312   0.929688\n",
              "5           10                  1.0  ...   0.061667   0.938333\n",
              "6           11                  1.0  ...   0.046429   0.953571\n",
              "7           12                  1.0  ...   0.036538   0.963462\n",
              "8           13                  1.0  ...   0.056250   0.943750\n",
              "9           14                  1.0  ...   0.038636   0.961364\n",
              "10          15                  1.0  ...   0.062500   0.937500\n",
              "11          16                  1.0  ...   0.036111   0.963889\n",
              "12          17                  1.0  ...   0.068750   0.931250\n",
              "13          18                  1.0  ...   0.035714   0.964286\n",
              "14          19                  1.0  ...   0.029167   0.970833\n",
              "15          20                  1.0  ...   0.040000   0.960000\n",
              "16          21                  1.0  ...   0.056250   0.943750\n",
              "17          22                  1.0  ...   0.058333   0.941667\n",
              "18          24                  1.0  ...   0.050000   0.950000\n",
              "\n",
              "[19 rows x 7 columns]"
            ]
          },
          "metadata": {
            "tags": []
          },
          "execution_count": 46
        }
      ]
    },
    {
      "cell_type": "code",
      "metadata": {
        "id": "5K0Q-Rim42fV",
        "colab_type": "code",
        "outputId": "3783d265-aa11-4b73-d4ea-355c8c0ecd50",
        "colab": {
          "base_uri": "https://localhost:8080/",
          "height": 564
        }
      },
      "source": [
        "df_split_all_users_SVM = learning_curve_all_users(model=SVM__best_estimator,best_parameters=SVM_best_params, users=listUserPin6,impostors=listUserPin6Impostors)"
      ],
      "execution_count": 0,
      "outputs": [
        {
          "output_type": "display_data",
          "data": {
            "image/png": "[encoded data removed]",
            "text/plain": [
              "<Figure size 1008x648 with 1 Axes>"
            ]
          },
          "metadata": {
            "tags": [],
            "needs_background": "light"
          }
        }
      ]
    },
    {
      "cell_type": "code",
      "metadata": {
        "id": "vaEYNCHL5LzT",
        "colab_type": "code",
        "outputId": "c80299c8-45a3-46ed-8d65-87f12bfe53e9",
        "colab": {
          "base_uri": "https://localhost:8080/",
          "height": 631
        }
      },
      "source": [
        "df_split_all_users_SVM"
      ],
      "execution_count": 0,
      "outputs": [
        {
          "output_type": "execute_result",
          "data": {
            "text/html": [
              "<div>\n",
              "<style scoped>\n",
              "    .dataframe tbody tr th:only-of-type {\n",
              "        vertical-align: middle;\n",
              "    }\n",
              "\n",
              "    .dataframe tbody tr th {\n",
              "        vertical-align: top;\n",
              "    }\n",
              "\n",
              "    .dataframe thead th {\n",
              "        text-align: right;\n",
              "    }\n",
              "</style>\n",
              "<table border=\"1\" class=\"dataframe\">\n",
              "  <thead>\n",
              "    <tr style=\"text-align: right;\">\n",
              "      <th></th>\n",
              "      <th>Train_Size</th>\n",
              "      <th>mean_train_Accuracy</th>\n",
              "      <th>mean_test_Accuracy</th>\n",
              "      <th>std_train_Accuracy</th>\n",
              "      <th>std_test_Accuracy</th>\n",
              "      <th>FPR_score</th>\n",
              "      <th>TPR_score</th>\n",
              "    </tr>\n",
              "  </thead>\n",
              "  <tbody>\n",
              "    <tr>\n",
              "      <th>0</th>\n",
              "      <td>5</td>\n",
              "      <td>0.510000</td>\n",
              "      <td>0.815000</td>\n",
              "      <td>0.140903</td>\n",
              "      <td>0.098133</td>\n",
              "      <td>0.128750</td>\n",
              "      <td>0.871250</td>\n",
              "    </tr>\n",
              "    <tr>\n",
              "      <th>1</th>\n",
              "      <td>6</td>\n",
              "      <td>0.516667</td>\n",
              "      <td>0.818750</td>\n",
              "      <td>0.128258</td>\n",
              "      <td>0.105270</td>\n",
              "      <td>0.140789</td>\n",
              "      <td>0.859211</td>\n",
              "    </tr>\n",
              "    <tr>\n",
              "      <th>2</th>\n",
              "      <td>7</td>\n",
              "      <td>0.482143</td>\n",
              "      <td>0.777174</td>\n",
              "      <td>0.131773</td>\n",
              "      <td>0.103694</td>\n",
              "      <td>0.175000</td>\n",
              "      <td>0.825000</td>\n",
              "    </tr>\n",
              "    <tr>\n",
              "      <th>3</th>\n",
              "      <td>8</td>\n",
              "      <td>0.521875</td>\n",
              "      <td>0.787500</td>\n",
              "      <td>0.115134</td>\n",
              "      <td>0.113490</td>\n",
              "      <td>0.179412</td>\n",
              "      <td>0.820588</td>\n",
              "    </tr>\n",
              "    <tr>\n",
              "      <th>4</th>\n",
              "      <td>9</td>\n",
              "      <td>0.569444</td>\n",
              "      <td>0.741667</td>\n",
              "      <td>0.127493</td>\n",
              "      <td>0.115564</td>\n",
              "      <td>0.235937</td>\n",
              "      <td>0.764062</td>\n",
              "    </tr>\n",
              "    <tr>\n",
              "      <th>5</th>\n",
              "      <td>10</td>\n",
              "      <td>0.572500</td>\n",
              "      <td>0.740000</td>\n",
              "      <td>0.085263</td>\n",
              "      <td>0.119462</td>\n",
              "      <td>0.215000</td>\n",
              "      <td>0.785000</td>\n",
              "    </tr>\n",
              "    <tr>\n",
              "      <th>6</th>\n",
              "      <td>11</td>\n",
              "      <td>0.565909</td>\n",
              "      <td>0.781579</td>\n",
              "      <td>0.098327</td>\n",
              "      <td>0.104488</td>\n",
              "      <td>0.207143</td>\n",
              "      <td>0.792857</td>\n",
              "    </tr>\n",
              "    <tr>\n",
              "      <th>7</th>\n",
              "      <td>12</td>\n",
              "      <td>0.606250</td>\n",
              "      <td>0.748611</td>\n",
              "      <td>0.108862</td>\n",
              "      <td>0.099759</td>\n",
              "      <td>0.240385</td>\n",
              "      <td>0.759615</td>\n",
              "    </tr>\n",
              "    <tr>\n",
              "      <th>8</th>\n",
              "      <td>13</td>\n",
              "      <td>0.623077</td>\n",
              "      <td>0.733824</td>\n",
              "      <td>0.088424</td>\n",
              "      <td>0.135500</td>\n",
              "      <td>0.256250</td>\n",
              "      <td>0.743750</td>\n",
              "    </tr>\n",
              "    <tr>\n",
              "      <th>9</th>\n",
              "      <td>14</td>\n",
              "      <td>0.651786</td>\n",
              "      <td>0.757812</td>\n",
              "      <td>0.071263</td>\n",
              "      <td>0.112321</td>\n",
              "      <td>0.206818</td>\n",
              "      <td>0.793182</td>\n",
              "    </tr>\n",
              "    <tr>\n",
              "      <th>10</th>\n",
              "      <td>15</td>\n",
              "      <td>0.656667</td>\n",
              "      <td>0.735000</td>\n",
              "      <td>0.064567</td>\n",
              "      <td>0.149331</td>\n",
              "      <td>0.270000</td>\n",
              "      <td>0.730000</td>\n",
              "    </tr>\n",
              "    <tr>\n",
              "      <th>11</th>\n",
              "      <td>16</td>\n",
              "      <td>0.685937</td>\n",
              "      <td>0.728571</td>\n",
              "      <td>0.067925</td>\n",
              "      <td>0.140279</td>\n",
              "      <td>0.255556</td>\n",
              "      <td>0.744444</td>\n",
              "    </tr>\n",
              "    <tr>\n",
              "      <th>12</th>\n",
              "      <td>17</td>\n",
              "      <td>0.672059</td>\n",
              "      <td>0.730769</td>\n",
              "      <td>0.065464</td>\n",
              "      <td>0.142259</td>\n",
              "      <td>0.243750</td>\n",
              "      <td>0.756250</td>\n",
              "    </tr>\n",
              "    <tr>\n",
              "      <th>13</th>\n",
              "      <td>18</td>\n",
              "      <td>0.695833</td>\n",
              "      <td>0.750000</td>\n",
              "      <td>0.071357</td>\n",
              "      <td>0.124602</td>\n",
              "      <td>0.239286</td>\n",
              "      <td>0.760714</td>\n",
              "    </tr>\n",
              "    <tr>\n",
              "      <th>14</th>\n",
              "      <td>19</td>\n",
              "      <td>0.726316</td>\n",
              "      <td>0.743182</td>\n",
              "      <td>0.072726</td>\n",
              "      <td>0.142427</td>\n",
              "      <td>0.212500</td>\n",
              "      <td>0.787500</td>\n",
              "    </tr>\n",
              "    <tr>\n",
              "      <th>15</th>\n",
              "      <td>20</td>\n",
              "      <td>0.746250</td>\n",
              "      <td>0.727500</td>\n",
              "      <td>0.055260</td>\n",
              "      <td>0.144309</td>\n",
              "      <td>0.210000</td>\n",
              "      <td>0.790000</td>\n",
              "    </tr>\n",
              "    <tr>\n",
              "      <th>16</th>\n",
              "      <td>21</td>\n",
              "      <td>0.751190</td>\n",
              "      <td>0.794444</td>\n",
              "      <td>0.065734</td>\n",
              "      <td>0.160088</td>\n",
              "      <td>0.212500</td>\n",
              "      <td>0.787500</td>\n",
              "    </tr>\n",
              "    <tr>\n",
              "      <th>17</th>\n",
              "      <td>22</td>\n",
              "      <td>0.770455</td>\n",
              "      <td>0.734375</td>\n",
              "      <td>0.044137</td>\n",
              "      <td>0.168437</td>\n",
              "      <td>0.208333</td>\n",
              "      <td>0.791667</td>\n",
              "    </tr>\n",
              "    <tr>\n",
              "      <th>18</th>\n",
              "      <td>24</td>\n",
              "      <td>0.769792</td>\n",
              "      <td>0.712500</td>\n",
              "      <td>0.055703</td>\n",
              "      <td>0.196357</td>\n",
              "      <td>0.125000</td>\n",
              "      <td>0.875000</td>\n",
              "    </tr>\n",
              "  </tbody>\n",
              "</table>\n",
              "</div>"
            ],
            "text/plain": [
              "    Train_Size  mean_train_Accuracy  ...  FPR_score  TPR_score\n",
              "0            5             0.510000  ...   0.128750   0.871250\n",
              "1            6             0.516667  ...   0.140789   0.859211\n",
              "2            7             0.482143  ...   0.175000   0.825000\n",
              "3            8             0.521875  ...   0.179412   0.820588\n",
              "4            9             0.569444  ...   0.235937   0.764062\n",
              "5           10             0.572500  ...   0.215000   0.785000\n",
              "6           11             0.565909  ...   0.207143   0.792857\n",
              "7           12             0.606250  ...   0.240385   0.759615\n",
              "8           13             0.623077  ...   0.256250   0.743750\n",
              "9           14             0.651786  ...   0.206818   0.793182\n",
              "10          15             0.656667  ...   0.270000   0.730000\n",
              "11          16             0.685937  ...   0.255556   0.744444\n",
              "12          17             0.672059  ...   0.243750   0.756250\n",
              "13          18             0.695833  ...   0.239286   0.760714\n",
              "14          19             0.726316  ...   0.212500   0.787500\n",
              "15          20             0.746250  ...   0.210000   0.790000\n",
              "16          21             0.751190  ...   0.212500   0.787500\n",
              "17          22             0.770455  ...   0.208333   0.791667\n",
              "18          24             0.769792  ...   0.125000   0.875000\n",
              "\n",
              "[19 rows x 7 columns]"
            ]
          },
          "metadata": {
            "tags": []
          },
          "execution_count": 48
        }
      ]
    }
  ]
}